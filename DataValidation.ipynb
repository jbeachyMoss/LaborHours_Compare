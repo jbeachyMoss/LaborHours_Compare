{
  "cells": [
    {
      "cell_type": "code",
      "source": [
        "# azureml-core of version 1.0.72 or higher is required\n",
        "# azureml-dataprep[pandas] of version 1.1.34 or higher is required\n",
        "from azureml.core import Workspace, Dataset\n",
        "import pandas as pd\n",
        "from datetime import date, datetime, timedelta\n",
        "import numpy as np\n",
        "from azure.storage.blob import BlobServiceClient\n",
        "\n",
        "subscription_id = '96599b9b-0d9b-4577-9163-418d2c6cd411'\n",
        "resource_group = 'rg-datasci-ml-dev-001'\n",
        "workspace_name = 'ml-moss-dev-001'\n",
        "\n",
        "workspace = Workspace(subscription_id, resource_group, workspace_name)\n",
        "\n",
        "dataset_hourly_compare_cmic = Dataset.get_by_name(workspace, name='Hourly_Employee_Time_prod')\n",
        "cmic_pr_df_dev = dataset_hourly_compare_cmic.to_pandas_dataframe()\n",
        "\n",
        "dataset_hourly_compare_wd = Dataset.get_by_name(workspace, name='WD_Hourly_Employee_Time_prod')\n",
        "wd_pr_df_dev = dataset_hourly_compare_wd.to_pandas_dataframe()\n",
        "\n",
        "tcp_dataset = Dataset.get_by_name(workspace, name='WorkSegments_Timesheet_prod')\n",
        "tcp_df_dev = tcp_dataset.to_pandas_dataframe()\n",
        "\n",
        "jcjob_dataset = Dataset.get_by_name(workspace, name='JCJOB_TABLE_TN_prod')\n",
        "jcjob_df = jcjob_dataset.to_pandas_dataframe()"
      ],
      "outputs": [
        {
          "output_type": "stream",
          "name": "stderr",
          "text": "thread 'tokio-runtime-worker' panicked at 'send should succeed: SendError { .. }', /src/dataprep/Core/rust_lex/rslex-http-stream/src/http_client/hyper_client/execution.rs:85:37\nnote: run with `RUST_BACKTRACE=1` environment variable to display a backtrace\n"
        }
      ],
      "execution_count": 1,
      "metadata": {
        "gather": {
          "logged": 1698090786185
        }
      }
    },
    {
      "cell_type": "code",
      "source": [
        "##########################\n",
        "\n",
        "week_ending = '2023-10-21'\n",
        "\n",
        "##########################\n",
        "\n",
        "date = datetime.strptime(week_ending, \"%Y-%m-%d\")\n",
        "start_date = date - timedelta(days = 6)\n",
        "end_date = date"
      ],
      "outputs": [],
      "execution_count": 2,
      "metadata": {
        "jupyter": {
          "source_hidden": false,
          "outputs_hidden": false
        },
        "nteract": {
          "transient": {
            "deleting": false
          }
        },
        "gather": {
          "logged": 1698090800511
        }
      }
    },
    {
      "cell_type": "code",
      "source": [
        "tcp_df = tcp_df_dev.copy()"
      ],
      "outputs": [],
      "execution_count": 3,
      "metadata": {
        "jupyter": {
          "source_hidden": false,
          "outputs_hidden": false
        },
        "nteract": {
          "transient": {
            "deleting": false
          }
        },
        "gather": {
          "logged": 1698090802176
        }
      }
    },
    {
      "cell_type": "code",
      "source": [
        "###TCP Data Manipulation\n",
        "#Filter: Solar Jobs only \n",
        "tcp_df = tcp_df.loc[tcp_df['Job_Code'].str.startswith('710')]\n",
        "#Filter: Only Keeping Labor Hourly\n",
        "tcp_df = tcp_df.loc[tcp_df['Task'].isin(['LH','LHA'])]\n",
        "#Filter: Only keeping Moss Labor Hourly - excluding subs\n",
        "tcp_df = tcp_df.loc[tcp_df['Department']=='710']\n",
        "#Creating a total hours column\n",
        "tcp_df['total_hours'] = tcp_df['Regular_Hours'] + tcp_df['Overtime_Hours']\n",
        "#Renaming Relevant Columns\n",
        "tcp_df = tcp_df.rename({'Employee_Number':'EEID','Job_Code':'Job','Activity':'Sub_Job','total_hours':'Hours'},axis='columns')\n",
        "tcp_cols_keep = ['EEID' , 'Date' , 'Job' , 'Sub_Job' , 'Hours']\n",
        "tcp_df_comp = tcp_df.loc[:,tcp_cols_keep]"
      ],
      "outputs": [],
      "execution_count": 4,
      "metadata": {
        "jupyter": {
          "source_hidden": false,
          "outputs_hidden": false
        },
        "nteract": {
          "transient": {
            "deleting": false
          }
        },
        "gather": {
          "logged": 1698090807108
        }
      }
    },
    {
      "cell_type": "code",
      "source": [
        "wd_pr_df = wd_pr_df_dev.copy()"
      ],
      "outputs": [],
      "execution_count": 5,
      "metadata": {
        "jupyter": {
          "source_hidden": false,
          "outputs_hidden": false
        },
        "nteract": {
          "transient": {
            "deleting": false
          }
        },
        "gather": {
          "logged": 1698090808158
        }
      }
    },
    {
      "cell_type": "code",
      "source": [
        "#Workday Data Manipulation\n",
        "#Drop Null values if the employee does not have a job/sub job assignment\n",
        "wd_pr_df = wd_pr_df.loc[~wd_pr_df['billableProject.descriptor'].isna()]\n",
        "#Filter: Solar Jobs Only\n",
        "wd_pr_df = wd_pr_df.loc[wd_pr_df['billableProject.descriptor'].str.startswith('710')]\n",
        "#Extracting Employee ID (EEID) from 'Workers' column: This column also designates employees as Terminated so the substring '(Terminated)' is being removed for a clean creation of EEID from Workers\n",
        "wd_pr_df['Workers'] = wd_pr_df['Workers'].str.replace('(Terminated)' , '')\n",
        "wd_pr_df['EEID'] = wd_pr_df['Workers'].str.split('(').str[1]\n",
        "wd_pr_df['EEID'] = wd_pr_df['EEID'].str.split(')').str[0]\n",
        "#This isolates the 2 digit sub job, also accomodates the sub jobs that have a letter in them like Claims (C) and Warranty (W)\n",
        "wd_pr_df['billableProject.descriptor'] = wd_pr_df['billableProject.descriptor'].str.replace('C' , '.C')\n",
        "wd_pr_df['billableProject.descriptor'] = wd_pr_df['billableProject.descriptor'].str.replace('W' , '.W')\n",
        "wd_pr_df['sub_job'] = wd_pr_df['billableProject.descriptor'].str.split('.').str[1]\n",
        "wd_pr_df['sub_job'] = wd_pr_df['sub_job'].str.split(' ').str[0]\n",
        "#Leaves behind Job ONLY\n",
        "wd_pr_df['job'] = wd_pr_df.loc[:,'billableProject.descriptor'].str[0:7]\n",
        "#Renaming Relevant Columns\n",
        "wd_pr_df = wd_pr_df.rename({'calculatedDate':'Date','job':'Job','sub_job':'Sub_Job','amount':'Hours'},axis='columns')\n",
        "wd_cols_keep = ['EEID' , 'Date' , 'Job' , 'Sub_Job' , 'Hours']\n",
        "wd_pr_df_comp = wd_pr_df.loc[:,wd_cols_keep]\n",
        "#excluding these employees from Workday because they will not be present in the TCP data\n",
        "wd_eeid_exclude = ['6423','6525','9633','9647','9686','11780','13401','13757','14452','14523','14587','14594','15312','15358','15681','15912']\n",
        "wd_pr_df_comp = wd_pr_df_comp.loc[~wd_pr_df_comp['EEID'].isin(wd_eeid_exclude)]"
      ],
      "outputs": [],
      "execution_count": 6,
      "metadata": {
        "jupyter": {
          "source_hidden": false,
          "outputs_hidden": false
        },
        "nteract": {
          "transient": {
            "deleting": false
          }
        },
        "gather": {
          "logged": 1698090817033
        }
      }
    },
    {
      "cell_type": "code",
      "source": [
        "cmic_pr_df = cmic_pr_df_dev.copy()"
      ],
      "outputs": [],
      "execution_count": 7,
      "metadata": {
        "jupyter": {
          "source_hidden": false,
          "outputs_hidden": false
        },
        "nteract": {
          "transient": {
            "deleting": false
          }
        },
        "gather": {
          "logged": 1698090817178
        }
      }
    },
    {
      "cell_type": "code",
      "source": [
        "#CMiC Data Manipulation\n",
        "#Re-casting this column as a Date data type\n",
        "cmic_pr_df[\"Date\"] = pd.to_datetime(cmic_pr_df[\"Date\"])\n",
        "#Filter: Only Keeping Labor Hourly\n",
        "cmic_pr_df = cmic_pr_df.loc[cmic_pr_df['Task'].isin(['LH','LHA'])]\n",
        "#Renaming Relevant Columns\n",
        "cmic_pr_df = cmic_pr_df.rename({'Employee Number':'EEID','Job Code':'Job','Sub Job Code':'Sub_Job','Regular Hours':'Hours'},axis='columns')\n",
        "cmic_cols_keep = ['EEID' , 'Date' , 'Job' , 'Sub_Job' , 'Hours']\n",
        "cmic_pr_df_comp = cmic_pr_df.loc[:,cmic_cols_keep]"
      ],
      "outputs": [],
      "execution_count": 8,
      "metadata": {
        "jupyter": {
          "source_hidden": false,
          "outputs_hidden": false
        },
        "nteract": {
          "transient": {
            "deleting": false
          }
        },
        "gather": {
          "logged": 1698090820025
        }
      }
    },
    {
      "cell_type": "code",
      "source": [
        "#Date Filters\n",
        "tcp_filter = (tcp_df_comp['Date']>=start_date)&(tcp_df_comp['Date']<=end_date)\n",
        "cmic_filter = (cmic_pr_df_comp['Date']>=start_date)&(cmic_pr_df_comp['Date']<=end_date)\n",
        "wd_filter = (wd_pr_df_comp['Date']>=start_date)&(wd_pr_df_comp['Date']<=end_date)"
      ],
      "outputs": [],
      "execution_count": 9,
      "metadata": {
        "jupyter": {
          "source_hidden": false,
          "outputs_hidden": false
        },
        "nteract": {
          "transient": {
            "deleting": false
          }
        },
        "gather": {
          "logged": 1698090820160
        }
      }
    },
    {
      "cell_type": "markdown",
      "source": [
        "#### Grouping the Data by Different Levels"
      ],
      "metadata": {
        "nteract": {
          "transient": {
            "deleting": false
          }
        }
      }
    },
    {
      "cell_type": "code",
      "source": [
        "#Grouping by Job\n",
        "tcp_grouped_job = tcp_df_comp.loc[tcp_filter].groupby(['Job']).agg(TotalHours_TCP = pd.NamedAgg(column='Hours',aggfunc='sum'))\n",
        "tcp_grouped_job = tcp_grouped_job.reset_index()\n",
        "cmic_grouped_job = cmic_pr_df_comp.loc[cmic_filter].groupby(['Job']).agg(TotalHours_CMiC = pd.NamedAgg(column='Hours',aggfunc='sum'))\n",
        "cmic_grouped_job = cmic_grouped_job.reset_index()\n",
        "wd_grouped_job = wd_pr_df_comp.loc[wd_filter].groupby(['Job']).agg(TotalHours_WD = pd.NamedAgg(column='Hours',aggfunc='sum'))\n",
        "wd_grouped_job = wd_grouped_job.reset_index()"
      ],
      "outputs": [],
      "execution_count": 10,
      "metadata": {
        "jupyter": {
          "source_hidden": false,
          "outputs_hidden": false
        },
        "nteract": {
          "transient": {
            "deleting": false
          }
        },
        "gather": {
          "logged": 1698090821141
        }
      }
    },
    {
      "cell_type": "code",
      "source": [
        "#Grouping by Job, Sub Job\n",
        "tcp_grouped_subjob = tcp_df_comp.loc[tcp_filter].groupby(['Job','Sub_Job']).agg(TotalHours_TCP = pd.NamedAgg(column='Hours',aggfunc='sum'))\n",
        "tcp_grouped_subjob = tcp_grouped_subjob.reset_index()\n",
        "cmic_grouped_subjob = cmic_pr_df_comp.loc[cmic_filter].groupby(['Job','Sub_Job']).agg(TotalHours_CMiC = pd.NamedAgg(column='Hours',aggfunc='sum'))\n",
        "cmic_grouped_subjob = cmic_grouped_subjob.reset_index()\n",
        "wd_grouped_subjob = wd_pr_df_comp.loc[wd_filter].groupby(['Job','Sub_Job']).agg(TotalHours_WD = pd.NamedAgg(column='Hours',aggfunc='sum'))\n",
        "wd_grouped_subjob = wd_grouped_subjob.reset_index()"
      ],
      "outputs": [],
      "execution_count": 11,
      "metadata": {
        "jupyter": {
          "source_hidden": false,
          "outputs_hidden": false
        },
        "nteract": {
          "transient": {
            "deleting": false
          }
        },
        "gather": {
          "logged": 1698090821371
        }
      }
    },
    {
      "cell_type": "code",
      "source": [
        "#Grouping by Job, Sub Job, EEID\n",
        "tcp_grouped_ee = tcp_df_comp.loc[tcp_filter].groupby(['EEID']).agg(TotalHours_TCP = pd.NamedAgg(column='Hours',aggfunc='sum'))\n",
        "tcp_grouped_ee = tcp_grouped_ee.reset_index()\n",
        "cmic_grouped_ee = cmic_pr_df_comp.loc[cmic_filter].groupby(['EEID']).agg(TotalHours_CMiC = pd.NamedAgg(column='Hours',aggfunc='sum'))\n",
        "cmic_grouped_ee = cmic_grouped_ee.reset_index()\n",
        "wd_grouped_ee = wd_pr_df_comp.loc[wd_filter].groupby(['EEID']).agg(TotalHours_WD = pd.NamedAgg(column='Hours',aggfunc='sum'))\n",
        "wd_grouped_ee = wd_grouped_ee.reset_index()"
      ],
      "outputs": [],
      "execution_count": 12,
      "metadata": {
        "jupyter": {
          "source_hidden": false,
          "outputs_hidden": false
        },
        "nteract": {
          "transient": {
            "deleting": false
          }
        },
        "gather": {
          "logged": 1698090822381
        }
      }
    },
    {
      "cell_type": "markdown",
      "source": [
        "#### Unique Column Creation for the Joins"
      ],
      "metadata": {
        "nteract": {
          "transient": {
            "deleting": false
          }
        }
      }
    },
    {
      "cell_type": "code",
      "source": [
        "#Unique Columns to Join On for Sub Job Comparison\n",
        "tcp_grouped_subjob['unique'] = tcp_grouped_subjob[['Job','Sub_Job']].apply(lambda x: ' - '.join(str(value) for value in x), axis=1)\n",
        "cmic_grouped_subjob['unique'] = cmic_grouped_subjob[['Job','Sub_Job']].apply(lambda x: ' - '.join(str(value) for value in x), axis=1)\n",
        "wd_grouped_subjob['unique'] = wd_grouped_subjob[['Job','Sub_Job']].apply(lambda x: ' - '.join(str(value) for value in x), axis=1)"
      ],
      "outputs": [],
      "execution_count": 13,
      "metadata": {
        "jupyter": {
          "source_hidden": false,
          "outputs_hidden": false
        },
        "nteract": {
          "transient": {
            "deleting": false
          }
        },
        "gather": {
          "logged": 1698090823434
        }
      }
    },
    {
      "cell_type": "markdown",
      "source": [
        "#### TCP vs. Workday Comparison"
      ],
      "metadata": {
        "nteract": {
          "transient": {
            "deleting": false
          }
        }
      }
    },
    {
      "cell_type": "code",
      "source": [
        "#TCP v. WD Job\n",
        "tcp_v_wd_job = tcp_grouped_job.merge(wd_grouped_job , how = 'left' , on = 'Job' , suffixes = ['_TCP','_WD'])\n",
        "#NaN Hours will be filled with 0\n",
        "tcp_v_wd_job['TotalHours_WD'] = tcp_v_wd_job['TotalHours_WD'].fillna(0)\n",
        "tcp_v_wd_job['TotalHours_TCP'] = tcp_v_wd_job['TotalHours_TCP'].fillna(0)\n",
        "tcp_v_wd_job['Hours_Variance (TCP - WD)'] = tcp_v_wd_job['TotalHours_TCP'] - tcp_v_wd_job['TotalHours_WD']\n",
        "tcp_v_wd_job = tcp_v_wd_job.sort_values(['Job'  , 'Hours_Variance (TCP - WD)'] , ascending=[False,False])"
      ],
      "outputs": [],
      "execution_count": 14,
      "metadata": {
        "jupyter": {
          "source_hidden": false,
          "outputs_hidden": false
        },
        "nteract": {
          "transient": {
            "deleting": false
          }
        },
        "gather": {
          "logged": 1698090824221
        }
      }
    },
    {
      "cell_type": "code",
      "source": [
        "#TCP v. WD Job, Sub Job\n",
        "tcp_v_wd_subjob = tcp_grouped_subjob.merge(wd_grouped_subjob , how = 'left' , on = 'unique' , suffixes = ['_TCP','_WD']).drop(columns =['unique'])\n",
        "#NaN Hours will be filled with 0\n",
        "tcp_v_wd_subjob['TotalHours_WD'] = tcp_v_wd_subjob['TotalHours_WD'].fillna(0)\n",
        "tcp_v_wd_subjob['TotalHours_TCP'] = tcp_v_wd_subjob['TotalHours_TCP'].fillna(0)\n",
        "tcp_v_wd_subjob['Hours_Variance (TCP - WD)'] = tcp_v_wd_subjob['TotalHours_TCP'] - tcp_v_wd_subjob['TotalHours_WD']\n",
        "tcp_v_wd_subjob = tcp_v_wd_subjob.sort_values(['Job_TCP' , 'Sub_Job_TCP' , 'Hours_Variance (TCP - WD)'] , ascending=[False,True,False])"
      ],
      "outputs": [],
      "execution_count": 15,
      "metadata": {
        "jupyter": {
          "source_hidden": false,
          "outputs_hidden": false
        },
        "nteract": {
          "transient": {
            "deleting": false
          }
        },
        "gather": {
          "logged": 1698090825104
        }
      }
    },
    {
      "cell_type": "code",
      "source": [
        "#TCP v. WD Job, Sub Job, EEID\n",
        "### Commented out for EEID Comparison Only - uncomment out to compare EEID by Job and Sub Job\n",
        "#tcp_v_wd_ee = tcp_grouped_ee.merge(wd_grouped_ee , how = 'outer' , on = 'unique' , suffixes = ['_TCP','_WD']).drop(columns =['unique'])\n",
        "tcp_v_wd_ee = tcp_grouped_ee.merge(wd_grouped_ee , how = 'left' , on = 'EEID' , suffixes = ['_TCP','_WD'])\n",
        "#NaN Hours will be filled with 0\n",
        "tcp_v_wd_ee['TotalHours_WD'] = tcp_v_wd_ee['TotalHours_WD'].fillna(0)\n",
        "tcp_v_wd_ee['TotalHours_TCP'] = tcp_v_wd_ee['TotalHours_TCP'].fillna(0)\n",
        "tcp_v_wd_ee['Hours_Variance (TCP - WD)'] = tcp_v_wd_ee['TotalHours_TCP'] - tcp_v_wd_ee['TotalHours_WD']\n",
        "tcp_v_wd_ee = tcp_v_wd_ee.sort_values('Hours_Variance (TCP - WD)' , ascending=False, key=abs)\n",
        "#Removing Variances that are 0 - excluding EEIDs that match\n",
        "tcp_v_wd_ee_xl = tcp_v_wd_ee.loc[tcp_v_wd_ee['Hours_Variance (TCP - WD)'] != 0.0]"
      ],
      "outputs": [],
      "execution_count": 16,
      "metadata": {
        "jupyter": {
          "source_hidden": false,
          "outputs_hidden": false
        },
        "nteract": {
          "transient": {
            "deleting": false
          }
        },
        "gather": {
          "logged": 1698090825243
        }
      }
    },
    {
      "cell_type": "markdown",
      "source": [
        "#### TCP vs. CMiC Comparison"
      ],
      "metadata": {
        "nteract": {
          "transient": {
            "deleting": false
          }
        }
      }
    },
    {
      "cell_type": "code",
      "source": [
        "#TCP v CMiC Job\n",
        "tcp_v_cmic_job = tcp_grouped_job.merge(cmic_grouped_job , how = 'outer' , on = 'Job' , suffixes = ['','_CMiC'])\n",
        "#NaN Hours will be filled with 0\n",
        "tcp_v_cmic_job['TotalHours_CMiC'] = tcp_v_cmic_job['TotalHours_CMiC'].fillna(0)\n",
        "tcp_v_cmic_job['TotalHours_TCP'] = tcp_v_cmic_job['TotalHours_TCP'].fillna(0)\n",
        "tcp_v_cmic_job['Hours_Variance (TCP - CMiC)'] = tcp_v_cmic_job['TotalHours_TCP'] - tcp_v_cmic_job['TotalHours_CMiC']\n",
        "tcp_v_cmic_job = tcp_v_cmic_job.sort_values(['Job' , 'Hours_Variance (TCP - CMiC)'], ascending=[False, False])"
      ],
      "outputs": [],
      "execution_count": 17,
      "metadata": {
        "jupyter": {
          "source_hidden": false,
          "outputs_hidden": false
        },
        "nteract": {
          "transient": {
            "deleting": false
          }
        },
        "gather": {
          "logged": 1698090826212
        }
      }
    },
    {
      "cell_type": "code",
      "source": [
        "#TCP v CMiC Job, Sub Job\n",
        "tcp_v_cmic_subjob = tcp_grouped_subjob.merge(cmic_grouped_subjob , how = 'outer' , on = 'unique' , suffixes = ['','_CMiC']).drop(columns =['unique'])\n",
        "#NaN Hours will be filled with 0\n",
        "tcp_v_cmic_subjob['TotalHours_CMiC'] = tcp_v_cmic_subjob['TotalHours_CMiC'].fillna(0)\n",
        "tcp_v_cmic_subjob['TotalHours_TCP'] = tcp_v_cmic_subjob['TotalHours_TCP'].fillna(0)\n",
        "tcp_v_cmic_subjob['Hours_Variance (TCP - CMiC)'] = tcp_v_cmic_subjob['TotalHours_TCP'] - tcp_v_cmic_subjob['TotalHours_CMiC']\n",
        "tcp_v_cmic_subjob = tcp_v_cmic_subjob.sort_values(['Job' , 'Sub_Job', 'Hours_Variance (TCP - CMiC)'], ascending=[False, True, False])"
      ],
      "outputs": [],
      "execution_count": 18,
      "metadata": {
        "jupyter": {
          "source_hidden": false,
          "outputs_hidden": false
        },
        "nteract": {
          "transient": {
            "deleting": false
          }
        },
        "gather": {
          "logged": 1698090826346
        }
      }
    },
    {
      "cell_type": "code",
      "source": [
        "#TCP v CMiC Job, Sub Job, EEID\n",
        "### Commented out for EEID Comparison Only - uncomment out to compare EEID by Job and Sub Job\n",
        "#tcp_v_cmic_ee = tcp_grouped_ee.merge(cmic_grouped_ee , how = 'outer' , on = 'unique' , suffixes = ['','_CMiC']).drop(columns =['unique'])\n",
        "tcp_v_cmic_ee = tcp_grouped_ee.merge(cmic_grouped_ee , how = 'outer' , on = 'EEID' , suffixes = ['','_CMiC'])\n",
        "#NaN Hours will be filled with 0\n",
        "tcp_v_cmic_ee['TotalHours_CMiC'] = tcp_v_cmic_ee['TotalHours_CMiC'].fillna(0)\n",
        "tcp_v_cmic_ee['TotalHours_TCP'] = tcp_v_cmic_ee['TotalHours_TCP'].fillna(0)\n",
        "tcp_v_cmic_ee['Hours_Variance (TCP - CMiC)'] = tcp_v_cmic_ee['TotalHours_TCP'] - tcp_v_cmic_ee['TotalHours_CMiC']\n",
        "tcp_v_cmic_ee = tcp_v_cmic_ee.sort_values('Hours_Variance (TCP - CMiC)', ascending=False, key=abs)\n",
        "#Filter down to relevant columns only"
      ],
      "outputs": [],
      "execution_count": 19,
      "metadata": {
        "jupyter": {
          "source_hidden": false,
          "outputs_hidden": false
        },
        "nteract": {
          "transient": {
            "deleting": false
          }
        },
        "gather": {
          "logged": 1698090827169
        }
      }
    },
    {
      "cell_type": "markdown",
      "source": [
        "#### Workday vs. CMiC Comparison"
      ],
      "metadata": {
        "nteract": {
          "transient": {
            "deleting": false
          }
        }
      }
    },
    {
      "cell_type": "code",
      "source": [
        "#WD v. CMiC EEID\n",
        "wd_v_cmic_job = wd_grouped_job.merge(cmic_grouped_job , how = 'outer' , on = 'Job' , suffixes = ['_WD','_CMiC'])\n",
        "#NaN Hours will be filled with 0\n",
        "wd_v_cmic_job['TotalHours_CMiC'] = wd_v_cmic_job['TotalHours_CMiC'].fillna(0)\n",
        "wd_v_cmic_job['TotalHours_WD'] = wd_v_cmic_job['TotalHours_WD'].fillna(0)\n",
        "wd_v_cmic_job['Hours_Variance (WD - CMiC)'] = wd_v_cmic_job['TotalHours_WD'] - wd_v_cmic_job['TotalHours_CMiC']\n",
        "wd_v_cmic_job = wd_v_cmic_job.sort_values(['Job' , 'Hours_Variance (WD - CMiC)'], ascending=[False,False])"
      ],
      "outputs": [],
      "execution_count": 20,
      "metadata": {
        "jupyter": {
          "source_hidden": false,
          "outputs_hidden": false
        },
        "nteract": {
          "transient": {
            "deleting": false
          }
        },
        "gather": {
          "logged": 1698090827487
        }
      }
    },
    {
      "cell_type": "code",
      "source": [
        "#WD v. CMiC Job, Sub Job\n",
        "wd_v_cmic_subjob = wd_grouped_subjob.merge(cmic_grouped_subjob , how = 'outer' , on = 'unique' , suffixes = ['_WD','_CMiC']).drop(columns =['unique'])\n",
        "#NaN Hours will be filled with 0\n",
        "wd_v_cmic_subjob['TotalHours_CMiC'] = wd_v_cmic_subjob['TotalHours_CMiC'].fillna(0)\n",
        "wd_v_cmic_subjob['TotalHours_WD'] = wd_v_cmic_subjob['TotalHours_WD'].fillna(0)\n",
        "wd_v_cmic_subjob['Hours_Variance (WD - CMiC)'] = wd_v_cmic_subjob['TotalHours_WD'] - wd_v_cmic_subjob['TotalHours_CMiC']\n",
        "wd_v_cmic_subjob = wd_v_cmic_subjob.sort_values(['Job_WD' , 'Sub_Job_WD' , 'Hours_Variance (WD - CMiC)'], ascending=[False,True,False])"
      ],
      "outputs": [],
      "execution_count": 21,
      "metadata": {
        "jupyter": {
          "source_hidden": false,
          "outputs_hidden": false
        },
        "nteract": {
          "transient": {
            "deleting": false
          }
        },
        "gather": {
          "logged": 1698090828106
        }
      }
    },
    {
      "cell_type": "code",
      "source": [
        "#WD v. CMiC Job, Sub Job, EEID\n",
        "### Commented out for EEID Comparison Only - uncomment out to compare EEID by Job and Sub Job\n",
        "#wd_v_cmic_ee = wd_grouped_ee.merge(cmic_grouped_ee , how = 'outer' , on = 'unique' , suffixes = ['_WD','_CMiC']).drop(columns =['unique'])\n",
        "wd_v_cmic_ee = wd_grouped_ee.merge(cmic_grouped_ee , how = 'outer' , on = 'EEID' , suffixes = ['_WD','_CMiC'])\n",
        "#NaN Hours will be filled with 0\n",
        "wd_v_cmic_ee['TotalHours_CMiC'] = wd_v_cmic_ee['TotalHours_CMiC'].fillna(0)\n",
        "wd_v_cmic_ee['TotalHours_WD'] = wd_v_cmic_ee['TotalHours_WD'].fillna(0)\n",
        "wd_v_cmic_ee['Hours_Variance (WD - CMiC)'] = wd_v_cmic_ee['TotalHours_WD'] - wd_v_cmic_ee['TotalHours_CMiC']\n",
        "wd_v_cmic_ee = wd_v_cmic_ee.sort_values('Hours_Variance (WD - CMiC)', ascending=False , key=abs)\n",
        "#Filter down to relevant columns only"
      ],
      "outputs": [],
      "execution_count": 22,
      "metadata": {
        "jupyter": {
          "source_hidden": false,
          "outputs_hidden": false
        },
        "nteract": {
          "transient": {
            "deleting": false
          }
        },
        "gather": {
          "logged": 1698090828406
        }
      }
    },
    {
      "cell_type": "code",
      "source": [
        "file_path = os.getcwd() + '/excel_output'\n",
        "file_path"
      ],
      "outputs": [
        {
          "output_type": "execute_result",
          "execution_count": 23,
          "data": {
            "text/plain": "'/mnt/batch/tasks/shared/LS_root/mounts/clusters/jbeachy2/code/Users/JBeachy/Project_DataDomain/Payroll/git_LaborHours_Compare/excel_output'"
          },
          "metadata": {}
        }
      ],
      "execution_count": 23,
      "metadata": {
        "jupyter": {
          "source_hidden": false,
          "outputs_hidden": false
        },
        "nteract": {
          "transient": {
            "deleting": false
          }
        },
        "gather": {
          "logged": 1698090829111
        }
      }
    },
    {
      "cell_type": "code",
      "source": [
        "#File Path in AMLS\n",
        "file_name = f'Hours_Comparison_WeekEnding_{week_ending}'\n",
        "#Writing to AMLS File Directory\n",
        "with pd.ExcelWriter(f'{file_path}/{file_name}.xlsx') as writer:\n",
        "    tcp_v_wd_job.to_excel(writer , sheet_name = 'TCPvWD_Hours_byJob' , index = False)\n",
        "    tcp_v_wd_subjob.to_excel(writer , sheet_name = 'TCPvWD_Hours_bySubJob' , index = False)\n",
        "    tcp_v_wd_ee_xl.to_excel(writer , sheet_name = 'TCPvWD_Hours_byEE' , index = False)\n",
        "    tcp_v_cmic_job.to_excel(writer , sheet_name = 'TCPvCMiC_Hours_byJob' , index = False)\n",
        "    tcp_v_cmic_subjob.to_excel(writer , sheet_name = 'TCPvCMiC_Hours_bySubJob' , index = False)\n",
        "    tcp_v_cmic_ee.to_excel(writer , sheet_name = 'TCPvCMiC_Hours_byEE' , index = False)\n",
        "    wd_v_cmic_job.to_excel(writer , sheet_name = 'WDvCMiC_Hours_byJob' , index = False)\n",
        "    wd_v_cmic_subjob.to_excel(writer , sheet_name = 'WDvCMiC_Hours_bySubJob' , index = False)\n",
        "    wd_v_cmic_ee.to_excel(writer , sheet_name = 'WDvCMiC_Hours_byEE' , index = False)"
      ],
      "outputs": [],
      "execution_count": 24,
      "metadata": {
        "jupyter": {
          "source_hidden": false,
          "outputs_hidden": false
        },
        "nteract": {
          "transient": {
            "deleting": false
          }
        },
        "gather": {
          "logged": 1698090831142
        }
      }
    },
    {
      "cell_type": "code",
      "source": [
        "#Blob Storage Info\n",
        "storage_account_key = 'u46QXBaayH/rWljcqPTWZTNgFdGHo9zH4I0OLWgDi4oa2inkpjVwTbp74C+ISDC2oWtNlrcr69Ec+ASt5wV1PA=='\n",
        "storage_account_name = 'mossdatalakesource'\n",
        "connection_string = 'DefaultEndpointsProtocol=https;AccountName=mossdatalakesource;AccountKey=u46QXBaayH/rWljcqPTWZTNgFdGHo9zH4I0OLWgDi4oa2inkpjVwTbp74C+ISDC2oWtNlrcr69Ec+ASt5wV1PA==;EndpointSuffix=core.windows.net'\n",
        "container_name = 'cmic'\n",
        "#Defininng Blob Storage Uplpoad#\n",
        "def uploadtoblobstorage(file_path,file_name):\n",
        "    blob_service_client = BlobServiceClient.from_connection_string(connection_string)\n",
        "    blob_client = blob_service_client.get_blob_client(container = container_name , blob = file_name)\n",
        "\n",
        "    with open(file_path , 'rb') as data:\n",
        "        blob_client.upload_blob(data)\n",
        "    print(f'Uploaded {file_name}.')"
      ],
      "outputs": [],
      "execution_count": 25,
      "metadata": {
        "jupyter": {
          "source_hidden": false,
          "outputs_hidden": false
        },
        "nteract": {
          "transient": {
            "deleting": false
          }
        },
        "gather": {
          "logged": 1698090831287
        }
      }
    },
    {
      "cell_type": "code",
      "source": [
        "file_name_exp = f'{file_name}.xlsx'\n",
        "uploadtoblobstorage(f'{file_path}/{file_name}.xlsx', file_name_exp)"
      ],
      "outputs": [
        {
          "output_type": "stream",
          "name": "stdout",
          "text": "Uploaded Hours_Comparison_WeekEnding_2023-10-21.xlsx.\n"
        }
      ],
      "execution_count": 26,
      "metadata": {
        "jupyter": {
          "source_hidden": false,
          "outputs_hidden": false
        },
        "nteract": {
          "transient": {
            "deleting": false
          }
        },
        "gather": {
          "logged": 1698090831448
        }
      }
    },
    {
      "cell_type": "markdown",
      "source": [
        "#### Run Statistics "
      ],
      "metadata": {
        "nteract": {
          "transient": {
            "deleting": false
          }
        }
      }
    },
    {
      "cell_type": "code",
      "source": [
        "#### TCP vs. Workday Stats\n",
        "today = date.today()\n",
        "today_timechange = today - timedelta(hours=4)\n",
        "today_for_text = today_timechange.strftime(\"%m-%d-%Y %H:%M:%S\")\n",
        "print(\"TCP vs. Workday\")\n",
        "print(\"Count of EEIDs that are showing Zero Hours Worked in Workday: \" , len(tcp_v_wd_ee.loc[tcp_v_wd_ee['TotalHours_WD'] == 0]))\n",
        "print(\"Count of EEIDs that are showing Zero Hours Worked in TCP: \" , len(tcp_v_wd_ee.loc[tcp_v_wd_ee['TotalHours_TCP'] == 0]))\n",
        "print(\"Count of EEIDs with a variance less than 10 hours(ABS), not including 0: \", len(tcp_v_wd_ee.loc[(tcp_v_wd_ee['Hours_Variance (TCP - WD)']< 10)&(tcp_v_wd_ee['Hours_Variance (TCP - WD)'] >-10)&(tcp_v_wd_ee['Hours_Variance (TCP - WD)'] != 0)]))\n",
        "print(\"Count of EEIDs with no variance in Hours Worked: \" , len(tcp_v_wd_ee.loc[tcp_v_wd_ee['Hours_Variance (TCP - WD)'] == 0]))\n",
        "print(\"Count of EEIDs with variance greater than or equal to 10(ABS): \",len(tcp_v_wd_ee.loc[(tcp_v_wd_ee['Hours_Variance (TCP - WD)']>=10)|(tcp_v_wd_ee['Hours_Variance (TCP - WD)']<=-10)]))\n",
        "print(f\"Ran on {today_for_text} for Week Ending {week_ending}\")"
      ],
      "outputs": [
        {
          "output_type": "stream",
          "name": "stdout",
          "text": "TCP vs. Workday\nCount of EEIDs that are showing Zero Hours Worked in Workday:  55\nCount of EEIDs that are showing Zero Hours Worked in TCP:  19\nCount of EEIDs with a variance less than 10 hours(ABS), not including 0:  721\nCount of EEIDs with no variance in Hours Worked:  1581\nCount of EEIDs with variance greater than or equal to 10(ABS):  353\nRan on 10-23-2023 15:53:47 for Week Ending 2023-10-21\n"
        }
      ],
      "execution_count": 27,
      "metadata": {
        "jupyter": {
          "source_hidden": false,
          "outputs_hidden": false
        },
        "nteract": {
          "transient": {
            "deleting": false
          }
        },
        "gather": {
          "logged": 1698090834096
        }
      }
    },
    {
      "cell_type": "code",
      "source": [
        "wd_pr_df_dev.loc[wd_pr_df_dev['Workers'].str.contains('13035')]"
      ],
      "outputs": [
        {
          "output_type": "execute_result",
          "execution_count": 32,
          "data": {
            "text/plain": "                               workdayID EmployeeID Employee_FullName  \\\n4503    dcd88da845b59000bd19f3d467d00000      13035   Shannon Chason    \n14159   babe2cdd23cd9000b6f3e8c912070000      13035   Shannon Chason    \n14160   babe2cdd23cd9000b6f3e962c9f80000      13035   Shannon Chason    \n14161   babe2cdd23cd9000b6f3e9fd0e610000      13035   Shannon Chason    \n14162   babe2cdd23cd9000b6f3ea96b1eb0000      13035   Shannon Chason    \n14163   babe2cdd23cd9000b6f3eb31b24d0000      13035   Shannon Chason    \n14164   babe2cdd23cd9000b6f3ebcc6e130000      13035   Shannon Chason    \n35130   1abc577aeaea9000c44008e792d60000      13035   Shannon Chason    \n35131   1abc577aeaea9000c4400981ab970000      13035   Shannon Chason    \n35132   1abc577aeaea9000c4400a1cbb4a0000      13035   Shannon Chason    \n35133   1abc577aeaea9000c4400ab664760000      13035   Shannon Chason    \n35134   1abc577aeaea9000c4400b5069820000      13035   Shannon Chason    \n35135   1abc577aeaea9000c4400bea45be0000      13035   Shannon Chason    \n35192   1abc577aeaea9000c44229e673370000      13035   Shannon Chason    \n77177   dcd88da845b59000bd1833a555d60000      13035   Shannon Chason    \n77178   dcd88da845b59000bd18343f3b6f0000      13035   Shannon Chason    \n77179   dcd88da845b59000bd1834d8d80a0000      13035   Shannon Chason    \n77180   dcd88da845b59000bd1835726d070000      13035   Shannon Chason    \n77181   dcd88da845b59000bd18360d91490000      13035   Shannon Chason    \n77182   dcd88da845b59000bd1836a8764d0000      13035   Shannon Chason    \n100799  777cfa7da12c9000b588e1d52d9c0000      13035   Shannon Chason    \n100800  777cfa7da12c9000b588e26f38fb0000      13035   Shannon Chason    \n100801  777cfa7da12c9000b588e30923c10000      13035   Shannon Chason    \n100802  777cfa7da12c9000b588e43ceda60000      13035   Shannon Chason    \n100803  777cfa7da12c9000b588e4d6ecde0000      13035   Shannon Chason    \n100804  777cfa7da12c9000b588e57113d20000      13035   Shannon Chason    \n101206  777cfa7da12c9000b5b6d8f39b630000      13035   Shannon Chason    \n101215  777cfa7da12c9000b69fc11b98de0000      13035   Shannon Chason    \n102991  777cfa7da12c9000b58ceeaa896b0000      13035   Shannon Chason    \n103942  777cfa7da12c9000b5b3a32cc77d0000      13035   Shannon Chason    \n103943  777cfa7da12c9000b5b3a3c6cedc0000      13035   Shannon Chason    \n103944  777cfa7da12c9000b5b3a4609c660000      13035   Shannon Chason    \n103945  777cfa7da12c9000b5b3a4face920000      13035   Shannon Chason    \n103946  777cfa7da12c9000b5b3a594bdb80000      13035   Shannon Chason    \n103947  777cfa7da12c9000b5b3a62e8f420000      13035   Shannon Chason    \n\n                       Workers Employee_BillTransaction_Descriptor  \\\n4503    Shannon Chason (13035)                               3.5     \n14159   Shannon Chason (13035)                         10.5 Hours    \n14160   Shannon Chason (13035)                          9.5 Hours    \n14161   Shannon Chason (13035)                          9.5 Hours    \n14162   Shannon Chason (13035)                          9.5 Hours    \n14163   Shannon Chason (13035)                            1 Hours    \n14164   Shannon Chason (13035)                         8.25 Hours    \n35130   Shannon Chason (13035)                            9 Hours    \n35131   Shannon Chason (13035)                          8.5 Hours    \n35132   Shannon Chason (13035)                          8.5 Hours    \n35133   Shannon Chason (13035)                          8.5 Hours    \n35134   Shannon Chason (13035)                          5.5 Hours    \n35135   Shannon Chason (13035)                            3 Hours    \n35192   Shannon Chason (13035)                                 3     \n77177   Shannon Chason (13035)                            9 Hours    \n77178   Shannon Chason (13035)                            9 Hours    \n77179   Shannon Chason (13035)                            9 Hours    \n77180   Shannon Chason (13035)                            8 Hours    \n77181   Shannon Chason (13035)                            5 Hours    \n77182   Shannon Chason (13035)                          3.5 Hours    \n100799  Shannon Chason (13035)                          9.5 Hours    \n100800  Shannon Chason (13035)                          9.5 Hours    \n100801  Shannon Chason (13035)                          8.5 Hours    \n100802  Shannon Chason (13035)                            8 Hours    \n100803  Shannon Chason (13035)                          4.5 Hours    \n100804  Shannon Chason (13035)                          3.5 Hours    \n101206  Shannon Chason (13035)                               6.5     \n101215  Shannon Chason (13035)                               3.5     \n102991  Shannon Chason (13035)                               3.5     \n103942  Shannon Chason (13035)                          9.5 Hours    \n103943  Shannon Chason (13035)                          9.5 Hours    \n103944  Shannon Chason (13035)                          8.5 Hours    \n103945  Shannon Chason (13035)                            8 Hours    \n103946  Shannon Chason (13035)                          4.5 Hours    \n103947  Shannon Chason (13035)                          3.5 Hours    \n\n       billableTransaction.descriptor Employee_BillTransactionDate  amount  \\\n4503               3.5  on 10/06/2023                      06/2023    3.50   \n14159        10.5 Hours on 09/25/2023                on 09/25/2023   10.50   \n14160         9.5 Hours on 09/26/2023                 n 09/26/2023    9.50   \n14161         9.5 Hours on 09/27/2023                 n 09/27/2023    9.50   \n14162         9.5 Hours on 09/28/2023                 n 09/28/2023    9.50   \n14163           1 Hours on 09/29/2023                   09/29/2023    1.00   \n14164        8.25 Hours on 09/29/2023                on 09/29/2023    8.25   \n35130           9 Hours on 10/09/2023                   10/09/2023    9.00   \n35131         8.5 Hours on 10/10/2023                 n 10/10/2023    8.50   \n35132         8.5 Hours on 10/11/2023                 n 10/11/2023    8.50   \n35133         8.5 Hours on 10/12/2023                 n 10/12/2023    8.50   \n35134         5.5 Hours on 10/13/2023                 n 10/13/2023    2.50   \n35135           3 Hours on 10/13/2023                   10/13/2023    3.00   \n35192                3  on 10/13/2023                        /2023    3.00   \n77177           9 Hours on 10/02/2023                   10/02/2023    9.00   \n77178           9 Hours on 10/03/2023                   10/03/2023    9.00   \n77179           9 Hours on 10/04/2023                   10/04/2023    9.00   \n77180           8 Hours on 10/05/2023                   10/05/2023    8.00   \n77181           5 Hours on 10/06/2023                   10/06/2023    1.50   \n77182         3.5 Hours on 10/06/2023                 n 10/06/2023    3.50   \n100799        9.5 Hours on 10/16/2023                 n 10/16/2023    9.50   \n100800        9.5 Hours on 10/17/2023                 n 10/17/2023    9.50   \n100801        8.5 Hours on 10/18/2023                 n 10/18/2023    8.50   \n100802          8 Hours on 10/19/2023                   10/19/2023    8.00   \n100803        4.5 Hours on 10/20/2023                 n 10/20/2023    1.00   \n100804        3.5 Hours on 10/20/2023                 n 10/20/2023    3.50   \n101206             6.5  on 10/18/2023                      18/2023    6.50   \n101215             3.5  on 10/20/2023                      20/2023    3.50   \n102991             3.5  on 10/20/2023                      20/2023    3.50   \n103942        9.5 Hours on 10/16/2023                 n 10/16/2023    9.50   \n103943        9.5 Hours on 10/17/2023                 n 10/17/2023    9.50   \n103944        8.5 Hours on 10/18/2023                 n 10/18/2023    2.00   \n103945          8 Hours on 10/19/2023                   10/19/2023    8.00   \n103946        4.5 Hours on 10/20/2023                 n 10/20/2023    4.50   \n103947        3.5 Hours on 10/20/2023                 n 10/20/2023    3.50   \n\n       dayOfTheWeek FrequencySalary  ...                      timeType1.id  \\\n4503         Friday   Weekly Hourly  ...  88572bc8f2d81000d31bc5206cdf0000   \n14159        Monday   Weekly Hourly  ...  88572bc8f2d81000d31bc5206cdf0000   \n14160       Tuesday   Weekly Hourly  ...  88572bc8f2d81000d31bc5206cdf0000   \n14161     Wednesday   Weekly Hourly  ...  88572bc8f2d81000d31bc5206cdf0000   \n14162      Thursday   Weekly Hourly  ...  88572bc8f2d81000d31bc5206cdf0000   \n14163        Friday   Weekly Hourly  ...  88572bc8f2d81000d31bc5206cdf0000   \n14164        Friday   Weekly Hourly  ...  88572bc8f2d81000d31bc5206cdf0000   \n35130        Monday   Weekly Hourly  ...  88572bc8f2d81000d31bc5206cdf0000   \n35131       Tuesday   Weekly Hourly  ...  88572bc8f2d81000d31bc5206cdf0000   \n35132     Wednesday   Weekly Hourly  ...  88572bc8f2d81000d31bc5206cdf0000   \n35133      Thursday   Weekly Hourly  ...  88572bc8f2d81000d31bc5206cdf0000   \n35134        Friday   Weekly Hourly  ...  88572bc8f2d81000d31bc5206cdf0000   \n35135        Friday   Weekly Hourly  ...  88572bc8f2d81000d31bc5206cdf0000   \n35192        Friday   Weekly Hourly  ...  88572bc8f2d81000d31bc5206cdf0000   \n77177        Monday   Weekly Hourly  ...  88572bc8f2d81000d31bc5206cdf0000   \n77178       Tuesday   Weekly Hourly  ...  88572bc8f2d81000d31bc5206cdf0000   \n77179     Wednesday   Weekly Hourly  ...  88572bc8f2d81000d31bc5206cdf0000   \n77180      Thursday   Weekly Hourly  ...  88572bc8f2d81000d31bc5206cdf0000   \n77181        Friday   Weekly Hourly  ...  88572bc8f2d81000d31bc5206cdf0000   \n77182        Friday   Weekly Hourly  ...  88572bc8f2d81000d31bc5206cdf0000   \n100799       Monday   Weekly Hourly  ...  88572bc8f2d81000d31bc5206cdf0000   \n100800      Tuesday   Weekly Hourly  ...  88572bc8f2d81000d31bc5206cdf0000   \n100801    Wednesday   Weekly Hourly  ...  88572bc8f2d81000d31bc5206cdf0000   \n100802     Thursday   Weekly Hourly  ...  88572bc8f2d81000d31bc5206cdf0000   \n100803       Friday   Weekly Hourly  ...  88572bc8f2d81000d31bc5206cdf0000   \n100804       Friday   Weekly Hourly  ...  88572bc8f2d81000d31bc5206cdf0000   \n101206    Wednesday   Weekly Hourly  ...  88572bc8f2d81000d31bc5206cdf0000   \n101215       Friday   Weekly Hourly  ...  88572bc8f2d81000d31bc5206cdf0000   \n102991       Friday   Weekly Hourly  ...  88572bc8f2d81000d31bc5206cdf0000   \n103942       Monday   Weekly Hourly  ...  88572bc8f2d81000d31bc5206cdf0000   \n103943      Tuesday   Weekly Hourly  ...  88572bc8f2d81000d31bc5206cdf0000   \n103944    Wednesday   Weekly Hourly  ...  88572bc8f2d81000d31bc5206cdf0000   \n103945     Thursday   Weekly Hourly  ...  88572bc8f2d81000d31bc5206cdf0000   \n103946       Friday   Weekly Hourly  ...  88572bc8f2d81000d31bc5206cdf0000   \n103947       Friday   Weekly Hourly  ...  88572bc8f2d81000d31bc5206cdf0000   \n\n       totalHoursTimeTracking transactionDate2 transactionSource.descriptor  \\\n4503                     3.50       2023-10-06                         Time   \n14159                   10.50       2023-09-25                         Time   \n14160                    9.50       2023-09-26                         Time   \n14161                    9.50       2023-09-27                         Time   \n14162                    9.50       2023-09-28                         Time   \n14163                    1.00       2023-09-29                         Time   \n14164                    8.25       2023-09-29                         Time   \n35130                    9.00       2023-10-09                         Time   \n35131                    8.50       2023-10-10                         Time   \n35132                    8.50       2023-10-11                         Time   \n35133                    8.50       2023-10-12                         Time   \n35134                    2.50       2023-10-13                         Time   \n35135                    3.00       2023-10-13                         Time   \n35192                    3.00       2023-10-13                         Time   \n77177                    9.00       2023-10-02                         Time   \n77178                    9.00       2023-10-03                         Time   \n77179                    9.00       2023-10-04                         Time   \n77180                    8.00       2023-10-05                         Time   \n77181                    1.50       2023-10-06                         Time   \n77182                    3.50       2023-10-06                         Time   \n100799                   9.50       2023-10-16                         Time   \n100800                   9.50       2023-10-17                         Time   \n100801                   8.50       2023-10-18                         Time   \n100802                   8.00       2023-10-19                         Time   \n100803                   1.00       2023-10-20                         Time   \n100804                   3.50       2023-10-20                         Time   \n101206                   6.50       2023-10-18                         Time   \n101215                   3.50       2023-10-20                         Time   \n102991                   3.50       2023-10-20                         Time   \n103942                   9.50       2023-10-16                         Time   \n103943                   9.50       2023-10-17                         Time   \n103944                   2.00       2023-10-18                         Time   \n103945                   8.00       2023-10-19                         Time   \n103946                   4.50       2023-10-20                         Time   \n103947                   3.50       2023-10-20                         Time   \n\n                    transactionSource.id unit.descriptor  \\\n4503    7a55a775b63b4b9b8a5b3722fc1e4556            None   \n14159   7a55a775b63b4b9b8a5b3722fc1e4556           Hours   \n14160   7a55a775b63b4b9b8a5b3722fc1e4556           Hours   \n14161   7a55a775b63b4b9b8a5b3722fc1e4556           Hours   \n14162   7a55a775b63b4b9b8a5b3722fc1e4556           Hours   \n14163   7a55a775b63b4b9b8a5b3722fc1e4556           Hours   \n14164   7a55a775b63b4b9b8a5b3722fc1e4556           Hours   \n35130   7a55a775b63b4b9b8a5b3722fc1e4556           Hours   \n35131   7a55a775b63b4b9b8a5b3722fc1e4556           Hours   \n35132   7a55a775b63b4b9b8a5b3722fc1e4556           Hours   \n35133   7a55a775b63b4b9b8a5b3722fc1e4556           Hours   \n35134   7a55a775b63b4b9b8a5b3722fc1e4556           Hours   \n35135   7a55a775b63b4b9b8a5b3722fc1e4556           Hours   \n35192   7a55a775b63b4b9b8a5b3722fc1e4556            None   \n77177   7a55a775b63b4b9b8a5b3722fc1e4556           Hours   \n77178   7a55a775b63b4b9b8a5b3722fc1e4556           Hours   \n77179   7a55a775b63b4b9b8a5b3722fc1e4556           Hours   \n77180   7a55a775b63b4b9b8a5b3722fc1e4556           Hours   \n77181   7a55a775b63b4b9b8a5b3722fc1e4556           Hours   \n77182   7a55a775b63b4b9b8a5b3722fc1e4556           Hours   \n100799  7a55a775b63b4b9b8a5b3722fc1e4556           Hours   \n100800  7a55a775b63b4b9b8a5b3722fc1e4556           Hours   \n100801  7a55a775b63b4b9b8a5b3722fc1e4556           Hours   \n100802  7a55a775b63b4b9b8a5b3722fc1e4556           Hours   \n100803  7a55a775b63b4b9b8a5b3722fc1e4556           Hours   \n100804  7a55a775b63b4b9b8a5b3722fc1e4556           Hours   \n101206  7a55a775b63b4b9b8a5b3722fc1e4556            None   \n101215  7a55a775b63b4b9b8a5b3722fc1e4556            None   \n102991  7a55a775b63b4b9b8a5b3722fc1e4556            None   \n103942  7a55a775b63b4b9b8a5b3722fc1e4556           Hours   \n103943  7a55a775b63b4b9b8a5b3722fc1e4556           Hours   \n103944  7a55a775b63b4b9b8a5b3722fc1e4556           Hours   \n103945  7a55a775b63b4b9b8a5b3722fc1e4556           Hours   \n103946  7a55a775b63b4b9b8a5b3722fc1e4556           Hours   \n103947  7a55a775b63b4b9b8a5b3722fc1e4556           Hours   \n\n                                 unit.id  unit1 unitOfTimeIsHours  \\\n4503                                None   None             False   \n14159   c4dacbd56bca4a9a8950e8d3ed21bbdb  Hours              True   \n14160   c4dacbd56bca4a9a8950e8d3ed21bbdb  Hours              True   \n14161   c4dacbd56bca4a9a8950e8d3ed21bbdb  Hours              True   \n14162   c4dacbd56bca4a9a8950e8d3ed21bbdb  Hours              True   \n14163   c4dacbd56bca4a9a8950e8d3ed21bbdb  Hours              True   \n14164   c4dacbd56bca4a9a8950e8d3ed21bbdb  Hours              True   \n35130   c4dacbd56bca4a9a8950e8d3ed21bbdb  Hours              True   \n35131   c4dacbd56bca4a9a8950e8d3ed21bbdb  Hours              True   \n35132   c4dacbd56bca4a9a8950e8d3ed21bbdb  Hours              True   \n35133   c4dacbd56bca4a9a8950e8d3ed21bbdb  Hours              True   \n35134   c4dacbd56bca4a9a8950e8d3ed21bbdb  Hours              True   \n35135   c4dacbd56bca4a9a8950e8d3ed21bbdb  Hours              True   \n35192                               None   None             False   \n77177   c4dacbd56bca4a9a8950e8d3ed21bbdb  Hours              True   \n77178   c4dacbd56bca4a9a8950e8d3ed21bbdb  Hours              True   \n77179   c4dacbd56bca4a9a8950e8d3ed21bbdb  Hours              True   \n77180   c4dacbd56bca4a9a8950e8d3ed21bbdb  Hours              True   \n77181   c4dacbd56bca4a9a8950e8d3ed21bbdb  Hours              True   \n77182   c4dacbd56bca4a9a8950e8d3ed21bbdb  Hours              True   \n100799  c4dacbd56bca4a9a8950e8d3ed21bbdb  Hours              True   \n100800  c4dacbd56bca4a9a8950e8d3ed21bbdb  Hours              True   \n100801  c4dacbd56bca4a9a8950e8d3ed21bbdb  Hours              True   \n100802  c4dacbd56bca4a9a8950e8d3ed21bbdb  Hours              True   \n100803  c4dacbd56bca4a9a8950e8d3ed21bbdb  Hours              True   \n100804  c4dacbd56bca4a9a8950e8d3ed21bbdb  Hours              True   \n101206                              None   None             False   \n101215                              None   None             False   \n102991                              None   None             False   \n103942  c4dacbd56bca4a9a8950e8d3ed21bbdb  Hours              True   \n103943  c4dacbd56bca4a9a8950e8d3ed21bbdb  Hours              True   \n103944  c4dacbd56bca4a9a8950e8d3ed21bbdb  Hours              True   \n103945  c4dacbd56bca4a9a8950e8d3ed21bbdb  Hours              True   \n103946  c4dacbd56bca4a9a8950e8d3ed21bbdb  Hours              True   \n103947  c4dacbd56bca4a9a8950e8d3ed21bbdb  Hours              True   \n\n       unroundedDuration  \n4503                 0.0  \n14159                0.0  \n14160                0.0  \n14161                0.0  \n14162                0.0  \n14163                0.0  \n14164                0.0  \n35130                0.0  \n35131                0.0  \n35132                0.0  \n35133                0.0  \n35134                0.0  \n35135                0.0  \n35192                0.0  \n77177                0.0  \n77178                0.0  \n77179                0.0  \n77180                0.0  \n77181                0.0  \n77182                0.0  \n100799               0.0  \n100800               0.0  \n100801               0.0  \n100802               0.0  \n100803               0.0  \n100804               0.0  \n101206               0.0  \n101215               0.0  \n102991               0.0  \n103942               0.0  \n103943               0.0  \n103944               0.0  \n103945               0.0  \n103946               0.0  \n103947               0.0  \n\n[35 rows x 338 columns]",
            "text/html": "<div>\n<style scoped>\n    .dataframe tbody tr th:only-of-type {\n        vertical-align: middle;\n    }\n\n    .dataframe tbody tr th {\n        vertical-align: top;\n    }\n\n    .dataframe thead th {\n        text-align: right;\n    }\n</style>\n<table border=\"1\" class=\"dataframe\">\n  <thead>\n    <tr style=\"text-align: right;\">\n      <th></th>\n      <th>workdayID</th>\n      <th>EmployeeID</th>\n      <th>Employee_FullName</th>\n      <th>Workers</th>\n      <th>Employee_BillTransaction_Descriptor</th>\n      <th>billableTransaction.descriptor</th>\n      <th>Employee_BillTransactionDate</th>\n      <th>amount</th>\n      <th>dayOfTheWeek</th>\n      <th>FrequencySalary</th>\n      <th>...</th>\n      <th>timeType1.id</th>\n      <th>totalHoursTimeTracking</th>\n      <th>transactionDate2</th>\n      <th>transactionSource.descriptor</th>\n      <th>transactionSource.id</th>\n      <th>unit.descriptor</th>\n      <th>unit.id</th>\n      <th>unit1</th>\n      <th>unitOfTimeIsHours</th>\n      <th>unroundedDuration</th>\n    </tr>\n  </thead>\n  <tbody>\n    <tr>\n      <th>4503</th>\n      <td>dcd88da845b59000bd19f3d467d00000</td>\n      <td>13035</td>\n      <td>Shannon Chason</td>\n      <td>Shannon Chason (13035)</td>\n      <td>3.5</td>\n      <td>3.5  on 10/06/2023</td>\n      <td>06/2023</td>\n      <td>3.50</td>\n      <td>Friday</td>\n      <td>Weekly Hourly</td>\n      <td>...</td>\n      <td>88572bc8f2d81000d31bc5206cdf0000</td>\n      <td>3.50</td>\n      <td>2023-10-06</td>\n      <td>Time</td>\n      <td>7a55a775b63b4b9b8a5b3722fc1e4556</td>\n      <td>None</td>\n      <td>None</td>\n      <td>None</td>\n      <td>False</td>\n      <td>0.0</td>\n    </tr>\n    <tr>\n      <th>14159</th>\n      <td>babe2cdd23cd9000b6f3e8c912070000</td>\n      <td>13035</td>\n      <td>Shannon Chason</td>\n      <td>Shannon Chason (13035)</td>\n      <td>10.5 Hours</td>\n      <td>10.5 Hours on 09/25/2023</td>\n      <td>on 09/25/2023</td>\n      <td>10.50</td>\n      <td>Monday</td>\n      <td>Weekly Hourly</td>\n      <td>...</td>\n      <td>88572bc8f2d81000d31bc5206cdf0000</td>\n      <td>10.50</td>\n      <td>2023-09-25</td>\n      <td>Time</td>\n      <td>7a55a775b63b4b9b8a5b3722fc1e4556</td>\n      <td>Hours</td>\n      <td>c4dacbd56bca4a9a8950e8d3ed21bbdb</td>\n      <td>Hours</td>\n      <td>True</td>\n      <td>0.0</td>\n    </tr>\n    <tr>\n      <th>14160</th>\n      <td>babe2cdd23cd9000b6f3e962c9f80000</td>\n      <td>13035</td>\n      <td>Shannon Chason</td>\n      <td>Shannon Chason (13035)</td>\n      <td>9.5 Hours</td>\n      <td>9.5 Hours on 09/26/2023</td>\n      <td>n 09/26/2023</td>\n      <td>9.50</td>\n      <td>Tuesday</td>\n      <td>Weekly Hourly</td>\n      <td>...</td>\n      <td>88572bc8f2d81000d31bc5206cdf0000</td>\n      <td>9.50</td>\n      <td>2023-09-26</td>\n      <td>Time</td>\n      <td>7a55a775b63b4b9b8a5b3722fc1e4556</td>\n      <td>Hours</td>\n      <td>c4dacbd56bca4a9a8950e8d3ed21bbdb</td>\n      <td>Hours</td>\n      <td>True</td>\n      <td>0.0</td>\n    </tr>\n    <tr>\n      <th>14161</th>\n      <td>babe2cdd23cd9000b6f3e9fd0e610000</td>\n      <td>13035</td>\n      <td>Shannon Chason</td>\n      <td>Shannon Chason (13035)</td>\n      <td>9.5 Hours</td>\n      <td>9.5 Hours on 09/27/2023</td>\n      <td>n 09/27/2023</td>\n      <td>9.50</td>\n      <td>Wednesday</td>\n      <td>Weekly Hourly</td>\n      <td>...</td>\n      <td>88572bc8f2d81000d31bc5206cdf0000</td>\n      <td>9.50</td>\n      <td>2023-09-27</td>\n      <td>Time</td>\n      <td>7a55a775b63b4b9b8a5b3722fc1e4556</td>\n      <td>Hours</td>\n      <td>c4dacbd56bca4a9a8950e8d3ed21bbdb</td>\n      <td>Hours</td>\n      <td>True</td>\n      <td>0.0</td>\n    </tr>\n    <tr>\n      <th>14162</th>\n      <td>babe2cdd23cd9000b6f3ea96b1eb0000</td>\n      <td>13035</td>\n      <td>Shannon Chason</td>\n      <td>Shannon Chason (13035)</td>\n      <td>9.5 Hours</td>\n      <td>9.5 Hours on 09/28/2023</td>\n      <td>n 09/28/2023</td>\n      <td>9.50</td>\n      <td>Thursday</td>\n      <td>Weekly Hourly</td>\n      <td>...</td>\n      <td>88572bc8f2d81000d31bc5206cdf0000</td>\n      <td>9.50</td>\n      <td>2023-09-28</td>\n      <td>Time</td>\n      <td>7a55a775b63b4b9b8a5b3722fc1e4556</td>\n      <td>Hours</td>\n      <td>c4dacbd56bca4a9a8950e8d3ed21bbdb</td>\n      <td>Hours</td>\n      <td>True</td>\n      <td>0.0</td>\n    </tr>\n    <tr>\n      <th>14163</th>\n      <td>babe2cdd23cd9000b6f3eb31b24d0000</td>\n      <td>13035</td>\n      <td>Shannon Chason</td>\n      <td>Shannon Chason (13035)</td>\n      <td>1 Hours</td>\n      <td>1 Hours on 09/29/2023</td>\n      <td>09/29/2023</td>\n      <td>1.00</td>\n      <td>Friday</td>\n      <td>Weekly Hourly</td>\n      <td>...</td>\n      <td>88572bc8f2d81000d31bc5206cdf0000</td>\n      <td>1.00</td>\n      <td>2023-09-29</td>\n      <td>Time</td>\n      <td>7a55a775b63b4b9b8a5b3722fc1e4556</td>\n      <td>Hours</td>\n      <td>c4dacbd56bca4a9a8950e8d3ed21bbdb</td>\n      <td>Hours</td>\n      <td>True</td>\n      <td>0.0</td>\n    </tr>\n    <tr>\n      <th>14164</th>\n      <td>babe2cdd23cd9000b6f3ebcc6e130000</td>\n      <td>13035</td>\n      <td>Shannon Chason</td>\n      <td>Shannon Chason (13035)</td>\n      <td>8.25 Hours</td>\n      <td>8.25 Hours on 09/29/2023</td>\n      <td>on 09/29/2023</td>\n      <td>8.25</td>\n      <td>Friday</td>\n      <td>Weekly Hourly</td>\n      <td>...</td>\n      <td>88572bc8f2d81000d31bc5206cdf0000</td>\n      <td>8.25</td>\n      <td>2023-09-29</td>\n      <td>Time</td>\n      <td>7a55a775b63b4b9b8a5b3722fc1e4556</td>\n      <td>Hours</td>\n      <td>c4dacbd56bca4a9a8950e8d3ed21bbdb</td>\n      <td>Hours</td>\n      <td>True</td>\n      <td>0.0</td>\n    </tr>\n    <tr>\n      <th>35130</th>\n      <td>1abc577aeaea9000c44008e792d60000</td>\n      <td>13035</td>\n      <td>Shannon Chason</td>\n      <td>Shannon Chason (13035)</td>\n      <td>9 Hours</td>\n      <td>9 Hours on 10/09/2023</td>\n      <td>10/09/2023</td>\n      <td>9.00</td>\n      <td>Monday</td>\n      <td>Weekly Hourly</td>\n      <td>...</td>\n      <td>88572bc8f2d81000d31bc5206cdf0000</td>\n      <td>9.00</td>\n      <td>2023-10-09</td>\n      <td>Time</td>\n      <td>7a55a775b63b4b9b8a5b3722fc1e4556</td>\n      <td>Hours</td>\n      <td>c4dacbd56bca4a9a8950e8d3ed21bbdb</td>\n      <td>Hours</td>\n      <td>True</td>\n      <td>0.0</td>\n    </tr>\n    <tr>\n      <th>35131</th>\n      <td>1abc577aeaea9000c4400981ab970000</td>\n      <td>13035</td>\n      <td>Shannon Chason</td>\n      <td>Shannon Chason (13035)</td>\n      <td>8.5 Hours</td>\n      <td>8.5 Hours on 10/10/2023</td>\n      <td>n 10/10/2023</td>\n      <td>8.50</td>\n      <td>Tuesday</td>\n      <td>Weekly Hourly</td>\n      <td>...</td>\n      <td>88572bc8f2d81000d31bc5206cdf0000</td>\n      <td>8.50</td>\n      <td>2023-10-10</td>\n      <td>Time</td>\n      <td>7a55a775b63b4b9b8a5b3722fc1e4556</td>\n      <td>Hours</td>\n      <td>c4dacbd56bca4a9a8950e8d3ed21bbdb</td>\n      <td>Hours</td>\n      <td>True</td>\n      <td>0.0</td>\n    </tr>\n    <tr>\n      <th>35132</th>\n      <td>1abc577aeaea9000c4400a1cbb4a0000</td>\n      <td>13035</td>\n      <td>Shannon Chason</td>\n      <td>Shannon Chason (13035)</td>\n      <td>8.5 Hours</td>\n      <td>8.5 Hours on 10/11/2023</td>\n      <td>n 10/11/2023</td>\n      <td>8.50</td>\n      <td>Wednesday</td>\n      <td>Weekly Hourly</td>\n      <td>...</td>\n      <td>88572bc8f2d81000d31bc5206cdf0000</td>\n      <td>8.50</td>\n      <td>2023-10-11</td>\n      <td>Time</td>\n      <td>7a55a775b63b4b9b8a5b3722fc1e4556</td>\n      <td>Hours</td>\n      <td>c4dacbd56bca4a9a8950e8d3ed21bbdb</td>\n      <td>Hours</td>\n      <td>True</td>\n      <td>0.0</td>\n    </tr>\n    <tr>\n      <th>35133</th>\n      <td>1abc577aeaea9000c4400ab664760000</td>\n      <td>13035</td>\n      <td>Shannon Chason</td>\n      <td>Shannon Chason (13035)</td>\n      <td>8.5 Hours</td>\n      <td>8.5 Hours on 10/12/2023</td>\n      <td>n 10/12/2023</td>\n      <td>8.50</td>\n      <td>Thursday</td>\n      <td>Weekly Hourly</td>\n      <td>...</td>\n      <td>88572bc8f2d81000d31bc5206cdf0000</td>\n      <td>8.50</td>\n      <td>2023-10-12</td>\n      <td>Time</td>\n      <td>7a55a775b63b4b9b8a5b3722fc1e4556</td>\n      <td>Hours</td>\n      <td>c4dacbd56bca4a9a8950e8d3ed21bbdb</td>\n      <td>Hours</td>\n      <td>True</td>\n      <td>0.0</td>\n    </tr>\n    <tr>\n      <th>35134</th>\n      <td>1abc577aeaea9000c4400b5069820000</td>\n      <td>13035</td>\n      <td>Shannon Chason</td>\n      <td>Shannon Chason (13035)</td>\n      <td>5.5 Hours</td>\n      <td>5.5 Hours on 10/13/2023</td>\n      <td>n 10/13/2023</td>\n      <td>2.50</td>\n      <td>Friday</td>\n      <td>Weekly Hourly</td>\n      <td>...</td>\n      <td>88572bc8f2d81000d31bc5206cdf0000</td>\n      <td>2.50</td>\n      <td>2023-10-13</td>\n      <td>Time</td>\n      <td>7a55a775b63b4b9b8a5b3722fc1e4556</td>\n      <td>Hours</td>\n      <td>c4dacbd56bca4a9a8950e8d3ed21bbdb</td>\n      <td>Hours</td>\n      <td>True</td>\n      <td>0.0</td>\n    </tr>\n    <tr>\n      <th>35135</th>\n      <td>1abc577aeaea9000c4400bea45be0000</td>\n      <td>13035</td>\n      <td>Shannon Chason</td>\n      <td>Shannon Chason (13035)</td>\n      <td>3 Hours</td>\n      <td>3 Hours on 10/13/2023</td>\n      <td>10/13/2023</td>\n      <td>3.00</td>\n      <td>Friday</td>\n      <td>Weekly Hourly</td>\n      <td>...</td>\n      <td>88572bc8f2d81000d31bc5206cdf0000</td>\n      <td>3.00</td>\n      <td>2023-10-13</td>\n      <td>Time</td>\n      <td>7a55a775b63b4b9b8a5b3722fc1e4556</td>\n      <td>Hours</td>\n      <td>c4dacbd56bca4a9a8950e8d3ed21bbdb</td>\n      <td>Hours</td>\n      <td>True</td>\n      <td>0.0</td>\n    </tr>\n    <tr>\n      <th>35192</th>\n      <td>1abc577aeaea9000c44229e673370000</td>\n      <td>13035</td>\n      <td>Shannon Chason</td>\n      <td>Shannon Chason (13035)</td>\n      <td>3</td>\n      <td>3  on 10/13/2023</td>\n      <td>/2023</td>\n      <td>3.00</td>\n      <td>Friday</td>\n      <td>Weekly Hourly</td>\n      <td>...</td>\n      <td>88572bc8f2d81000d31bc5206cdf0000</td>\n      <td>3.00</td>\n      <td>2023-10-13</td>\n      <td>Time</td>\n      <td>7a55a775b63b4b9b8a5b3722fc1e4556</td>\n      <td>None</td>\n      <td>None</td>\n      <td>None</td>\n      <td>False</td>\n      <td>0.0</td>\n    </tr>\n    <tr>\n      <th>77177</th>\n      <td>dcd88da845b59000bd1833a555d60000</td>\n      <td>13035</td>\n      <td>Shannon Chason</td>\n      <td>Shannon Chason (13035)</td>\n      <td>9 Hours</td>\n      <td>9 Hours on 10/02/2023</td>\n      <td>10/02/2023</td>\n      <td>9.00</td>\n      <td>Monday</td>\n      <td>Weekly Hourly</td>\n      <td>...</td>\n      <td>88572bc8f2d81000d31bc5206cdf0000</td>\n      <td>9.00</td>\n      <td>2023-10-02</td>\n      <td>Time</td>\n      <td>7a55a775b63b4b9b8a5b3722fc1e4556</td>\n      <td>Hours</td>\n      <td>c4dacbd56bca4a9a8950e8d3ed21bbdb</td>\n      <td>Hours</td>\n      <td>True</td>\n      <td>0.0</td>\n    </tr>\n    <tr>\n      <th>77178</th>\n      <td>dcd88da845b59000bd18343f3b6f0000</td>\n      <td>13035</td>\n      <td>Shannon Chason</td>\n      <td>Shannon Chason (13035)</td>\n      <td>9 Hours</td>\n      <td>9 Hours on 10/03/2023</td>\n      <td>10/03/2023</td>\n      <td>9.00</td>\n      <td>Tuesday</td>\n      <td>Weekly Hourly</td>\n      <td>...</td>\n      <td>88572bc8f2d81000d31bc5206cdf0000</td>\n      <td>9.00</td>\n      <td>2023-10-03</td>\n      <td>Time</td>\n      <td>7a55a775b63b4b9b8a5b3722fc1e4556</td>\n      <td>Hours</td>\n      <td>c4dacbd56bca4a9a8950e8d3ed21bbdb</td>\n      <td>Hours</td>\n      <td>True</td>\n      <td>0.0</td>\n    </tr>\n    <tr>\n      <th>77179</th>\n      <td>dcd88da845b59000bd1834d8d80a0000</td>\n      <td>13035</td>\n      <td>Shannon Chason</td>\n      <td>Shannon Chason (13035)</td>\n      <td>9 Hours</td>\n      <td>9 Hours on 10/04/2023</td>\n      <td>10/04/2023</td>\n      <td>9.00</td>\n      <td>Wednesday</td>\n      <td>Weekly Hourly</td>\n      <td>...</td>\n      <td>88572bc8f2d81000d31bc5206cdf0000</td>\n      <td>9.00</td>\n      <td>2023-10-04</td>\n      <td>Time</td>\n      <td>7a55a775b63b4b9b8a5b3722fc1e4556</td>\n      <td>Hours</td>\n      <td>c4dacbd56bca4a9a8950e8d3ed21bbdb</td>\n      <td>Hours</td>\n      <td>True</td>\n      <td>0.0</td>\n    </tr>\n    <tr>\n      <th>77180</th>\n      <td>dcd88da845b59000bd1835726d070000</td>\n      <td>13035</td>\n      <td>Shannon Chason</td>\n      <td>Shannon Chason (13035)</td>\n      <td>8 Hours</td>\n      <td>8 Hours on 10/05/2023</td>\n      <td>10/05/2023</td>\n      <td>8.00</td>\n      <td>Thursday</td>\n      <td>Weekly Hourly</td>\n      <td>...</td>\n      <td>88572bc8f2d81000d31bc5206cdf0000</td>\n      <td>8.00</td>\n      <td>2023-10-05</td>\n      <td>Time</td>\n      <td>7a55a775b63b4b9b8a5b3722fc1e4556</td>\n      <td>Hours</td>\n      <td>c4dacbd56bca4a9a8950e8d3ed21bbdb</td>\n      <td>Hours</td>\n      <td>True</td>\n      <td>0.0</td>\n    </tr>\n    <tr>\n      <th>77181</th>\n      <td>dcd88da845b59000bd18360d91490000</td>\n      <td>13035</td>\n      <td>Shannon Chason</td>\n      <td>Shannon Chason (13035)</td>\n      <td>5 Hours</td>\n      <td>5 Hours on 10/06/2023</td>\n      <td>10/06/2023</td>\n      <td>1.50</td>\n      <td>Friday</td>\n      <td>Weekly Hourly</td>\n      <td>...</td>\n      <td>88572bc8f2d81000d31bc5206cdf0000</td>\n      <td>1.50</td>\n      <td>2023-10-06</td>\n      <td>Time</td>\n      <td>7a55a775b63b4b9b8a5b3722fc1e4556</td>\n      <td>Hours</td>\n      <td>c4dacbd56bca4a9a8950e8d3ed21bbdb</td>\n      <td>Hours</td>\n      <td>True</td>\n      <td>0.0</td>\n    </tr>\n    <tr>\n      <th>77182</th>\n      <td>dcd88da845b59000bd1836a8764d0000</td>\n      <td>13035</td>\n      <td>Shannon Chason</td>\n      <td>Shannon Chason (13035)</td>\n      <td>3.5 Hours</td>\n      <td>3.5 Hours on 10/06/2023</td>\n      <td>n 10/06/2023</td>\n      <td>3.50</td>\n      <td>Friday</td>\n      <td>Weekly Hourly</td>\n      <td>...</td>\n      <td>88572bc8f2d81000d31bc5206cdf0000</td>\n      <td>3.50</td>\n      <td>2023-10-06</td>\n      <td>Time</td>\n      <td>7a55a775b63b4b9b8a5b3722fc1e4556</td>\n      <td>Hours</td>\n      <td>c4dacbd56bca4a9a8950e8d3ed21bbdb</td>\n      <td>Hours</td>\n      <td>True</td>\n      <td>0.0</td>\n    </tr>\n    <tr>\n      <th>100799</th>\n      <td>777cfa7da12c9000b588e1d52d9c0000</td>\n      <td>13035</td>\n      <td>Shannon Chason</td>\n      <td>Shannon Chason (13035)</td>\n      <td>9.5 Hours</td>\n      <td>9.5 Hours on 10/16/2023</td>\n      <td>n 10/16/2023</td>\n      <td>9.50</td>\n      <td>Monday</td>\n      <td>Weekly Hourly</td>\n      <td>...</td>\n      <td>88572bc8f2d81000d31bc5206cdf0000</td>\n      <td>9.50</td>\n      <td>2023-10-16</td>\n      <td>Time</td>\n      <td>7a55a775b63b4b9b8a5b3722fc1e4556</td>\n      <td>Hours</td>\n      <td>c4dacbd56bca4a9a8950e8d3ed21bbdb</td>\n      <td>Hours</td>\n      <td>True</td>\n      <td>0.0</td>\n    </tr>\n    <tr>\n      <th>100800</th>\n      <td>777cfa7da12c9000b588e26f38fb0000</td>\n      <td>13035</td>\n      <td>Shannon Chason</td>\n      <td>Shannon Chason (13035)</td>\n      <td>9.5 Hours</td>\n      <td>9.5 Hours on 10/17/2023</td>\n      <td>n 10/17/2023</td>\n      <td>9.50</td>\n      <td>Tuesday</td>\n      <td>Weekly Hourly</td>\n      <td>...</td>\n      <td>88572bc8f2d81000d31bc5206cdf0000</td>\n      <td>9.50</td>\n      <td>2023-10-17</td>\n      <td>Time</td>\n      <td>7a55a775b63b4b9b8a5b3722fc1e4556</td>\n      <td>Hours</td>\n      <td>c4dacbd56bca4a9a8950e8d3ed21bbdb</td>\n      <td>Hours</td>\n      <td>True</td>\n      <td>0.0</td>\n    </tr>\n    <tr>\n      <th>100801</th>\n      <td>777cfa7da12c9000b588e30923c10000</td>\n      <td>13035</td>\n      <td>Shannon Chason</td>\n      <td>Shannon Chason (13035)</td>\n      <td>8.5 Hours</td>\n      <td>8.5 Hours on 10/18/2023</td>\n      <td>n 10/18/2023</td>\n      <td>8.50</td>\n      <td>Wednesday</td>\n      <td>Weekly Hourly</td>\n      <td>...</td>\n      <td>88572bc8f2d81000d31bc5206cdf0000</td>\n      <td>8.50</td>\n      <td>2023-10-18</td>\n      <td>Time</td>\n      <td>7a55a775b63b4b9b8a5b3722fc1e4556</td>\n      <td>Hours</td>\n      <td>c4dacbd56bca4a9a8950e8d3ed21bbdb</td>\n      <td>Hours</td>\n      <td>True</td>\n      <td>0.0</td>\n    </tr>\n    <tr>\n      <th>100802</th>\n      <td>777cfa7da12c9000b588e43ceda60000</td>\n      <td>13035</td>\n      <td>Shannon Chason</td>\n      <td>Shannon Chason (13035)</td>\n      <td>8 Hours</td>\n      <td>8 Hours on 10/19/2023</td>\n      <td>10/19/2023</td>\n      <td>8.00</td>\n      <td>Thursday</td>\n      <td>Weekly Hourly</td>\n      <td>...</td>\n      <td>88572bc8f2d81000d31bc5206cdf0000</td>\n      <td>8.00</td>\n      <td>2023-10-19</td>\n      <td>Time</td>\n      <td>7a55a775b63b4b9b8a5b3722fc1e4556</td>\n      <td>Hours</td>\n      <td>c4dacbd56bca4a9a8950e8d3ed21bbdb</td>\n      <td>Hours</td>\n      <td>True</td>\n      <td>0.0</td>\n    </tr>\n    <tr>\n      <th>100803</th>\n      <td>777cfa7da12c9000b588e4d6ecde0000</td>\n      <td>13035</td>\n      <td>Shannon Chason</td>\n      <td>Shannon Chason (13035)</td>\n      <td>4.5 Hours</td>\n      <td>4.5 Hours on 10/20/2023</td>\n      <td>n 10/20/2023</td>\n      <td>1.00</td>\n      <td>Friday</td>\n      <td>Weekly Hourly</td>\n      <td>...</td>\n      <td>88572bc8f2d81000d31bc5206cdf0000</td>\n      <td>1.00</td>\n      <td>2023-10-20</td>\n      <td>Time</td>\n      <td>7a55a775b63b4b9b8a5b3722fc1e4556</td>\n      <td>Hours</td>\n      <td>c4dacbd56bca4a9a8950e8d3ed21bbdb</td>\n      <td>Hours</td>\n      <td>True</td>\n      <td>0.0</td>\n    </tr>\n    <tr>\n      <th>100804</th>\n      <td>777cfa7da12c9000b588e57113d20000</td>\n      <td>13035</td>\n      <td>Shannon Chason</td>\n      <td>Shannon Chason (13035)</td>\n      <td>3.5 Hours</td>\n      <td>3.5 Hours on 10/20/2023</td>\n      <td>n 10/20/2023</td>\n      <td>3.50</td>\n      <td>Friday</td>\n      <td>Weekly Hourly</td>\n      <td>...</td>\n      <td>88572bc8f2d81000d31bc5206cdf0000</td>\n      <td>3.50</td>\n      <td>2023-10-20</td>\n      <td>Time</td>\n      <td>7a55a775b63b4b9b8a5b3722fc1e4556</td>\n      <td>Hours</td>\n      <td>c4dacbd56bca4a9a8950e8d3ed21bbdb</td>\n      <td>Hours</td>\n      <td>True</td>\n      <td>0.0</td>\n    </tr>\n    <tr>\n      <th>101206</th>\n      <td>777cfa7da12c9000b5b6d8f39b630000</td>\n      <td>13035</td>\n      <td>Shannon Chason</td>\n      <td>Shannon Chason (13035)</td>\n      <td>6.5</td>\n      <td>6.5  on 10/18/2023</td>\n      <td>18/2023</td>\n      <td>6.50</td>\n      <td>Wednesday</td>\n      <td>Weekly Hourly</td>\n      <td>...</td>\n      <td>88572bc8f2d81000d31bc5206cdf0000</td>\n      <td>6.50</td>\n      <td>2023-10-18</td>\n      <td>Time</td>\n      <td>7a55a775b63b4b9b8a5b3722fc1e4556</td>\n      <td>None</td>\n      <td>None</td>\n      <td>None</td>\n      <td>False</td>\n      <td>0.0</td>\n    </tr>\n    <tr>\n      <th>101215</th>\n      <td>777cfa7da12c9000b69fc11b98de0000</td>\n      <td>13035</td>\n      <td>Shannon Chason</td>\n      <td>Shannon Chason (13035)</td>\n      <td>3.5</td>\n      <td>3.5  on 10/20/2023</td>\n      <td>20/2023</td>\n      <td>3.50</td>\n      <td>Friday</td>\n      <td>Weekly Hourly</td>\n      <td>...</td>\n      <td>88572bc8f2d81000d31bc5206cdf0000</td>\n      <td>3.50</td>\n      <td>2023-10-20</td>\n      <td>Time</td>\n      <td>7a55a775b63b4b9b8a5b3722fc1e4556</td>\n      <td>None</td>\n      <td>None</td>\n      <td>None</td>\n      <td>False</td>\n      <td>0.0</td>\n    </tr>\n    <tr>\n      <th>102991</th>\n      <td>777cfa7da12c9000b58ceeaa896b0000</td>\n      <td>13035</td>\n      <td>Shannon Chason</td>\n      <td>Shannon Chason (13035)</td>\n      <td>3.5</td>\n      <td>3.5  on 10/20/2023</td>\n      <td>20/2023</td>\n      <td>3.50</td>\n      <td>Friday</td>\n      <td>Weekly Hourly</td>\n      <td>...</td>\n      <td>88572bc8f2d81000d31bc5206cdf0000</td>\n      <td>3.50</td>\n      <td>2023-10-20</td>\n      <td>Time</td>\n      <td>7a55a775b63b4b9b8a5b3722fc1e4556</td>\n      <td>None</td>\n      <td>None</td>\n      <td>None</td>\n      <td>False</td>\n      <td>0.0</td>\n    </tr>\n    <tr>\n      <th>103942</th>\n      <td>777cfa7da12c9000b5b3a32cc77d0000</td>\n      <td>13035</td>\n      <td>Shannon Chason</td>\n      <td>Shannon Chason (13035)</td>\n      <td>9.5 Hours</td>\n      <td>9.5 Hours on 10/16/2023</td>\n      <td>n 10/16/2023</td>\n      <td>9.50</td>\n      <td>Monday</td>\n      <td>Weekly Hourly</td>\n      <td>...</td>\n      <td>88572bc8f2d81000d31bc5206cdf0000</td>\n      <td>9.50</td>\n      <td>2023-10-16</td>\n      <td>Time</td>\n      <td>7a55a775b63b4b9b8a5b3722fc1e4556</td>\n      <td>Hours</td>\n      <td>c4dacbd56bca4a9a8950e8d3ed21bbdb</td>\n      <td>Hours</td>\n      <td>True</td>\n      <td>0.0</td>\n    </tr>\n    <tr>\n      <th>103943</th>\n      <td>777cfa7da12c9000b5b3a3c6cedc0000</td>\n      <td>13035</td>\n      <td>Shannon Chason</td>\n      <td>Shannon Chason (13035)</td>\n      <td>9.5 Hours</td>\n      <td>9.5 Hours on 10/17/2023</td>\n      <td>n 10/17/2023</td>\n      <td>9.50</td>\n      <td>Tuesday</td>\n      <td>Weekly Hourly</td>\n      <td>...</td>\n      <td>88572bc8f2d81000d31bc5206cdf0000</td>\n      <td>9.50</td>\n      <td>2023-10-17</td>\n      <td>Time</td>\n      <td>7a55a775b63b4b9b8a5b3722fc1e4556</td>\n      <td>Hours</td>\n      <td>c4dacbd56bca4a9a8950e8d3ed21bbdb</td>\n      <td>Hours</td>\n      <td>True</td>\n      <td>0.0</td>\n    </tr>\n    <tr>\n      <th>103944</th>\n      <td>777cfa7da12c9000b5b3a4609c660000</td>\n      <td>13035</td>\n      <td>Shannon Chason</td>\n      <td>Shannon Chason (13035)</td>\n      <td>8.5 Hours</td>\n      <td>8.5 Hours on 10/18/2023</td>\n      <td>n 10/18/2023</td>\n      <td>2.00</td>\n      <td>Wednesday</td>\n      <td>Weekly Hourly</td>\n      <td>...</td>\n      <td>88572bc8f2d81000d31bc5206cdf0000</td>\n      <td>2.00</td>\n      <td>2023-10-18</td>\n      <td>Time</td>\n      <td>7a55a775b63b4b9b8a5b3722fc1e4556</td>\n      <td>Hours</td>\n      <td>c4dacbd56bca4a9a8950e8d3ed21bbdb</td>\n      <td>Hours</td>\n      <td>True</td>\n      <td>0.0</td>\n    </tr>\n    <tr>\n      <th>103945</th>\n      <td>777cfa7da12c9000b5b3a4face920000</td>\n      <td>13035</td>\n      <td>Shannon Chason</td>\n      <td>Shannon Chason (13035)</td>\n      <td>8 Hours</td>\n      <td>8 Hours on 10/19/2023</td>\n      <td>10/19/2023</td>\n      <td>8.00</td>\n      <td>Thursday</td>\n      <td>Weekly Hourly</td>\n      <td>...</td>\n      <td>88572bc8f2d81000d31bc5206cdf0000</td>\n      <td>8.00</td>\n      <td>2023-10-19</td>\n      <td>Time</td>\n      <td>7a55a775b63b4b9b8a5b3722fc1e4556</td>\n      <td>Hours</td>\n      <td>c4dacbd56bca4a9a8950e8d3ed21bbdb</td>\n      <td>Hours</td>\n      <td>True</td>\n      <td>0.0</td>\n    </tr>\n    <tr>\n      <th>103946</th>\n      <td>777cfa7da12c9000b5b3a594bdb80000</td>\n      <td>13035</td>\n      <td>Shannon Chason</td>\n      <td>Shannon Chason (13035)</td>\n      <td>4.5 Hours</td>\n      <td>4.5 Hours on 10/20/2023</td>\n      <td>n 10/20/2023</td>\n      <td>4.50</td>\n      <td>Friday</td>\n      <td>Weekly Hourly</td>\n      <td>...</td>\n      <td>88572bc8f2d81000d31bc5206cdf0000</td>\n      <td>4.50</td>\n      <td>2023-10-20</td>\n      <td>Time</td>\n      <td>7a55a775b63b4b9b8a5b3722fc1e4556</td>\n      <td>Hours</td>\n      <td>c4dacbd56bca4a9a8950e8d3ed21bbdb</td>\n      <td>Hours</td>\n      <td>True</td>\n      <td>0.0</td>\n    </tr>\n    <tr>\n      <th>103947</th>\n      <td>777cfa7da12c9000b5b3a62e8f420000</td>\n      <td>13035</td>\n      <td>Shannon Chason</td>\n      <td>Shannon Chason (13035)</td>\n      <td>3.5 Hours</td>\n      <td>3.5 Hours on 10/20/2023</td>\n      <td>n 10/20/2023</td>\n      <td>3.50</td>\n      <td>Friday</td>\n      <td>Weekly Hourly</td>\n      <td>...</td>\n      <td>88572bc8f2d81000d31bc5206cdf0000</td>\n      <td>3.50</td>\n      <td>2023-10-20</td>\n      <td>Time</td>\n      <td>7a55a775b63b4b9b8a5b3722fc1e4556</td>\n      <td>Hours</td>\n      <td>c4dacbd56bca4a9a8950e8d3ed21bbdb</td>\n      <td>Hours</td>\n      <td>True</td>\n      <td>0.0</td>\n    </tr>\n  </tbody>\n</table>\n<p>35 rows × 338 columns</p>\n</div>"
          },
          "metadata": {}
        }
      ],
      "execution_count": 32,
      "metadata": {
        "jupyter": {
          "source_hidden": false,
          "outputs_hidden": false
        },
        "nteract": {
          "transient": {
            "deleting": false
          }
        },
        "gather": {
          "logged": 1698091654171
        }
      }
    },
    {
      "cell_type": "code",
      "source": [
        "wd_pr_df_comp.loc[(wd_pr_df_comp['EEID']=='10931')&wd_filter].sort_values('Date')"
      ],
      "outputs": [
        {
          "output_type": "execute_result",
          "execution_count": 30,
          "data": {
            "text/plain": "         EEID       Date      Job Sub_Job  Hours\n100287  10931 2023-10-16  7102230      50  10.00\n100728  10931 2023-10-16  7102230      50  10.00\n100288  10931 2023-10-17  7102230      50   6.75\n100729  10931 2023-10-17  7102230      50   6.75\n100289  10931 2023-10-19  7102230      50   6.50\n100730  10931 2023-10-19  7102230      50  10.00\n101214  10931 2023-10-19  7102230      50   3.50\n100290  10931 2023-10-20  7102230      50   5.25\n100731  10931 2023-10-20  7102230      50   5.25",
            "text/html": "<div>\n<style scoped>\n    .dataframe tbody tr th:only-of-type {\n        vertical-align: middle;\n    }\n\n    .dataframe tbody tr th {\n        vertical-align: top;\n    }\n\n    .dataframe thead th {\n        text-align: right;\n    }\n</style>\n<table border=\"1\" class=\"dataframe\">\n  <thead>\n    <tr style=\"text-align: right;\">\n      <th></th>\n      <th>EEID</th>\n      <th>Date</th>\n      <th>Job</th>\n      <th>Sub_Job</th>\n      <th>Hours</th>\n    </tr>\n  </thead>\n  <tbody>\n    <tr>\n      <th>100287</th>\n      <td>10931</td>\n      <td>2023-10-16</td>\n      <td>7102230</td>\n      <td>50</td>\n      <td>10.00</td>\n    </tr>\n    <tr>\n      <th>100728</th>\n      <td>10931</td>\n      <td>2023-10-16</td>\n      <td>7102230</td>\n      <td>50</td>\n      <td>10.00</td>\n    </tr>\n    <tr>\n      <th>100288</th>\n      <td>10931</td>\n      <td>2023-10-17</td>\n      <td>7102230</td>\n      <td>50</td>\n      <td>6.75</td>\n    </tr>\n    <tr>\n      <th>100729</th>\n      <td>10931</td>\n      <td>2023-10-17</td>\n      <td>7102230</td>\n      <td>50</td>\n      <td>6.75</td>\n    </tr>\n    <tr>\n      <th>100289</th>\n      <td>10931</td>\n      <td>2023-10-19</td>\n      <td>7102230</td>\n      <td>50</td>\n      <td>6.50</td>\n    </tr>\n    <tr>\n      <th>100730</th>\n      <td>10931</td>\n      <td>2023-10-19</td>\n      <td>7102230</td>\n      <td>50</td>\n      <td>10.00</td>\n    </tr>\n    <tr>\n      <th>101214</th>\n      <td>10931</td>\n      <td>2023-10-19</td>\n      <td>7102230</td>\n      <td>50</td>\n      <td>3.50</td>\n    </tr>\n    <tr>\n      <th>100290</th>\n      <td>10931</td>\n      <td>2023-10-20</td>\n      <td>7102230</td>\n      <td>50</td>\n      <td>5.25</td>\n    </tr>\n    <tr>\n      <th>100731</th>\n      <td>10931</td>\n      <td>2023-10-20</td>\n      <td>7102230</td>\n      <td>50</td>\n      <td>5.25</td>\n    </tr>\n  </tbody>\n</table>\n</div>"
          },
          "metadata": {}
        }
      ],
      "execution_count": 30,
      "metadata": {
        "jupyter": {
          "source_hidden": false,
          "outputs_hidden": false
        },
        "nteract": {
          "transient": {
            "deleting": false
          }
        },
        "gather": {
          "logged": 1698091108362
        }
      }
    },
    {
      "cell_type": "code",
      "source": [
        "wd_pr_df_dev.loc[wd_pr_df_dev['Workers'].str.contains('4082'),['Workers','FrequencySalary',]]"
      ],
      "outputs": [
        {
          "output_type": "execute_result",
          "execution_count": 190,
          "data": {
            "text/plain": "                              workdayID EmployeeID Employee_FullName  \\\n43021  7c8f1553b88990011947d733e8c20000       4082    Aisoli Vitale    \n43022  7c8f1553b88990011947d86850e10000       4082    Aisoli Vitale    \n43023  7c8f1553b88990011947d9029b6b0000       4082    Aisoli Vitale    \n43024  7c8f1553b88990011947d99d041c0000       4082    Aisoli Vitale    \n50602  7c8f1553b8899002172e24b276f40000       4082    Aisoli Vitale    \n50603  7c8f1553b8899002172e254d60670000       4082    Aisoli Vitale    \n50604  7c8f1553b8899002172e25e719c70000       4082    Aisoli Vitale    \n50605  7c8f1553b8899002172e268098770000       4082    Aisoli Vitale    \n51896  dcd88da845b59002168f57a38a360000       4082    Aisoli Vitale    \n51897  dcd88da845b59002168f583e79ab0000       4082    Aisoli Vitale    \n51898  dcd88da845b59002168f58d85e170000       4082    Aisoli Vitale    \n51899  dcd88da845b59002168f59729f310000       4082    Aisoli Vitale    \n75424  e70ba2f2f4839000ca26f01c511c0000       4082    Aisoli Vitale    \n75425  e70ba2f2f4839000ca26f0b778a70000       4082    Aisoli Vitale    \n75426  e70ba2f2f4839000ca26f15282190000       4082    Aisoli Vitale    \n75427  e70ba2f2f4839000ca26f1ec3af30000       4082    Aisoli Vitale    \n75428  e70ba2f2f4839000ca26f28753f80000       4082    Aisoli Vitale    \n\n                    Workers Employee_BillTransaction_Descriptor  \\\n43021  Aisoli Vitale (4082)                           10 Hours    \n43022  Aisoli Vitale (4082)                           10 Hours    \n43023  Aisoli Vitale (4082)                           10 Hours    \n43024  Aisoli Vitale (4082)                           10 Hours    \n50602  Aisoli Vitale (4082)                           10 Hours    \n50603  Aisoli Vitale (4082)                           10 Hours    \n50604  Aisoli Vitale (4082)                           10 Hours    \n50605  Aisoli Vitale (4082)                           10 Hours    \n51896  Aisoli Vitale (4082)                           10 Hours    \n51897  Aisoli Vitale (4082)                           10 Hours    \n51898  Aisoli Vitale (4082)                           10 Hours    \n51899  Aisoli Vitale (4082)                           10 Hours    \n75424  Aisoli Vitale (4082)                           10 Hours    \n75425  Aisoli Vitale (4082)                           10 Hours    \n75426  Aisoli Vitale (4082)                          8.5 Hours    \n75427  Aisoli Vitale (4082)                           10 Hours    \n75428  Aisoli Vitale (4082)                            8 Hours    \n\n      billableTransaction.descriptor Employee_BillTransactionDate  amount  \\\n43021         10 Hours on 10/02/2023                   10/02/2023    10.0   \n43022         10 Hours on 10/03/2023                   10/03/2023    10.0   \n43023         10 Hours on 10/04/2023                   10/04/2023    10.0   \n43024         10 Hours on 10/05/2023                   10/05/2023    10.0   \n50602         10 Hours on 10/09/2023                   10/09/2023    10.0   \n50603         10 Hours on 10/10/2023                   10/10/2023    10.0   \n50604         10 Hours on 10/11/2023                   10/11/2023    10.0   \n50605         10 Hours on 10/12/2023                   10/12/2023    10.0   \n51896         10 Hours on 10/09/2023                   10/09/2023    10.0   \n51897         10 Hours on 10/10/2023                   10/10/2023    10.0   \n51898         10 Hours on 10/11/2023                   10/11/2023    10.0   \n51899         10 Hours on 10/12/2023                   10/12/2023    10.0   \n75424         10 Hours on 09/25/2023                   09/25/2023    10.0   \n75425         10 Hours on 09/26/2023                   09/26/2023    10.0   \n75426        8.5 Hours on 09/27/2023                 n 09/27/2023     8.5   \n75427         10 Hours on 09/28/2023                   09/28/2023    10.0   \n75428          8 Hours on 09/29/2023                   09/29/2023     8.0   \n\n      dayOfTheWeek FrequencySalary  ...                      timeType1.id  \\\n43021       Monday   Weekly Unions  ...  88572bc8f2d81000d2eb4ff7cc130000   \n43022      Tuesday   Weekly Unions  ...  88572bc8f2d81000d2eb4ff7cc130000   \n43023    Wednesday   Weekly Unions  ...  88572bc8f2d81000d2eb4ff7cc130000   \n43024     Thursday   Weekly Unions  ...  88572bc8f2d81000d2eb4ff7cc130000   \n50602       Monday   Weekly Unions  ...  98e25664125510010c8407187b230000   \n50603      Tuesday   Weekly Unions  ...  88572bc8f2d81000d2eb4ff7cc130000   \n50604    Wednesday   Weekly Unions  ...  98e25664125510010c8407187b230000   \n50605     Thursday   Weekly Unions  ...  88572bc8f2d81000d2eb4ff7cc130000   \n51896       Monday   Weekly Unions  ...  98e25664125510010c8407187b230000   \n51897      Tuesday   Weekly Unions  ...  88572bc8f2d81000d2eb4ff7cc130000   \n51898    Wednesday   Weekly Unions  ...  98e25664125510010c8407187b230000   \n51899     Thursday   Weekly Unions  ...  88572bc8f2d81000d2eb4ff7cc130000   \n75424       Monday   Weekly Unions  ...  aa485b7fc50c10002b7db5fcac960000   \n75425      Tuesday   Weekly Unions  ...  88572bc8f2d81000d2eb4ff7cc130000   \n75426    Wednesday   Weekly Unions  ...  88572bc8f2d81000d2eb4ff7cc130000   \n75427     Thursday   Weekly Unions  ...  88572bc8f2d81000d2eb4ff7cc130000   \n75428       Friday   Weekly Unions  ...  88572bc8f2d81000d2eb4ff7cc130000   \n\n      totalHoursTimeTracking transactionDate2 transactionSource.descriptor  \\\n43021                   10.0       2023-10-02                         Time   \n43022                   10.0       2023-10-03                         Time   \n43023                   10.0       2023-10-04                         Time   \n43024                   10.0       2023-10-05                         Time   \n50602                   10.0       2023-10-09                         Time   \n50603                   10.0       2023-10-10                         Time   \n50604                   10.0       2023-10-11                         Time   \n50605                   10.0       2023-10-12                         Time   \n51896                   10.0       2023-10-09                         Time   \n51897                   10.0       2023-10-10                         Time   \n51898                   10.0       2023-10-11                         Time   \n51899                   10.0       2023-10-12                         Time   \n75424                   10.0       2023-09-25                         Time   \n75425                   10.0       2023-09-26                         Time   \n75426                    8.5       2023-09-27                         Time   \n75427                   10.0       2023-09-28                         Time   \n75428                    8.0       2023-09-29                         Time   \n\n                   transactionSource.id unit.descriptor  \\\n43021  7a55a775b63b4b9b8a5b3722fc1e4556           Hours   \n43022  7a55a775b63b4b9b8a5b3722fc1e4556           Hours   \n43023  7a55a775b63b4b9b8a5b3722fc1e4556           Hours   \n43024  7a55a775b63b4b9b8a5b3722fc1e4556           Hours   \n50602  7a55a775b63b4b9b8a5b3722fc1e4556           Hours   \n50603  7a55a775b63b4b9b8a5b3722fc1e4556           Hours   \n50604  7a55a775b63b4b9b8a5b3722fc1e4556           Hours   \n50605  7a55a775b63b4b9b8a5b3722fc1e4556           Hours   \n51896  7a55a775b63b4b9b8a5b3722fc1e4556           Hours   \n51897  7a55a775b63b4b9b8a5b3722fc1e4556           Hours   \n51898  7a55a775b63b4b9b8a5b3722fc1e4556           Hours   \n51899  7a55a775b63b4b9b8a5b3722fc1e4556           Hours   \n75424  7a55a775b63b4b9b8a5b3722fc1e4556           Hours   \n75425  7a55a775b63b4b9b8a5b3722fc1e4556           Hours   \n75426  7a55a775b63b4b9b8a5b3722fc1e4556           Hours   \n75427  7a55a775b63b4b9b8a5b3722fc1e4556           Hours   \n75428  7a55a775b63b4b9b8a5b3722fc1e4556           Hours   \n\n                                unit.id  unit1 unitOfTimeIsHours  \\\n43021  c4dacbd56bca4a9a8950e8d3ed21bbdb  Hours              True   \n43022  c4dacbd56bca4a9a8950e8d3ed21bbdb  Hours              True   \n43023  c4dacbd56bca4a9a8950e8d3ed21bbdb  Hours              True   \n43024  c4dacbd56bca4a9a8950e8d3ed21bbdb  Hours              True   \n50602  c4dacbd56bca4a9a8950e8d3ed21bbdb  Hours              True   \n50603  c4dacbd56bca4a9a8950e8d3ed21bbdb  Hours              True   \n50604  c4dacbd56bca4a9a8950e8d3ed21bbdb  Hours              True   \n50605  c4dacbd56bca4a9a8950e8d3ed21bbdb  Hours              True   \n51896  c4dacbd56bca4a9a8950e8d3ed21bbdb  Hours              True   \n51897  c4dacbd56bca4a9a8950e8d3ed21bbdb  Hours              True   \n51898  c4dacbd56bca4a9a8950e8d3ed21bbdb  Hours              True   \n51899  c4dacbd56bca4a9a8950e8d3ed21bbdb  Hours              True   \n75424  c4dacbd56bca4a9a8950e8d3ed21bbdb  Hours              True   \n75425  c4dacbd56bca4a9a8950e8d3ed21bbdb  Hours              True   \n75426  c4dacbd56bca4a9a8950e8d3ed21bbdb  Hours              True   \n75427  c4dacbd56bca4a9a8950e8d3ed21bbdb  Hours              True   \n75428  c4dacbd56bca4a9a8950e8d3ed21bbdb  Hours              True   \n\n      unroundedDuration  \n43021               0.0  \n43022               0.0  \n43023               0.0  \n43024               0.0  \n50602               0.0  \n50603               0.0  \n50604               0.0  \n50605               0.0  \n51896               0.0  \n51897               0.0  \n51898               0.0  \n51899               0.0  \n75424               0.0  \n75425               0.0  \n75426               0.0  \n75427               0.0  \n75428               0.0  \n\n[17 rows x 338 columns]",
            "text/html": "<div>\n<style scoped>\n    .dataframe tbody tr th:only-of-type {\n        vertical-align: middle;\n    }\n\n    .dataframe tbody tr th {\n        vertical-align: top;\n    }\n\n    .dataframe thead th {\n        text-align: right;\n    }\n</style>\n<table border=\"1\" class=\"dataframe\">\n  <thead>\n    <tr style=\"text-align: right;\">\n      <th></th>\n      <th>workdayID</th>\n      <th>EmployeeID</th>\n      <th>Employee_FullName</th>\n      <th>Workers</th>\n      <th>Employee_BillTransaction_Descriptor</th>\n      <th>billableTransaction.descriptor</th>\n      <th>Employee_BillTransactionDate</th>\n      <th>amount</th>\n      <th>dayOfTheWeek</th>\n      <th>FrequencySalary</th>\n      <th>...</th>\n      <th>timeType1.id</th>\n      <th>totalHoursTimeTracking</th>\n      <th>transactionDate2</th>\n      <th>transactionSource.descriptor</th>\n      <th>transactionSource.id</th>\n      <th>unit.descriptor</th>\n      <th>unit.id</th>\n      <th>unit1</th>\n      <th>unitOfTimeIsHours</th>\n      <th>unroundedDuration</th>\n    </tr>\n  </thead>\n  <tbody>\n    <tr>\n      <th>43021</th>\n      <td>7c8f1553b88990011947d733e8c20000</td>\n      <td>4082</td>\n      <td>Aisoli Vitale</td>\n      <td>Aisoli Vitale (4082)</td>\n      <td>10 Hours</td>\n      <td>10 Hours on 10/02/2023</td>\n      <td>10/02/2023</td>\n      <td>10.0</td>\n      <td>Monday</td>\n      <td>Weekly Unions</td>\n      <td>...</td>\n      <td>88572bc8f2d81000d2eb4ff7cc130000</td>\n      <td>10.0</td>\n      <td>2023-10-02</td>\n      <td>Time</td>\n      <td>7a55a775b63b4b9b8a5b3722fc1e4556</td>\n      <td>Hours</td>\n      <td>c4dacbd56bca4a9a8950e8d3ed21bbdb</td>\n      <td>Hours</td>\n      <td>True</td>\n      <td>0.0</td>\n    </tr>\n    <tr>\n      <th>43022</th>\n      <td>7c8f1553b88990011947d86850e10000</td>\n      <td>4082</td>\n      <td>Aisoli Vitale</td>\n      <td>Aisoli Vitale (4082)</td>\n      <td>10 Hours</td>\n      <td>10 Hours on 10/03/2023</td>\n      <td>10/03/2023</td>\n      <td>10.0</td>\n      <td>Tuesday</td>\n      <td>Weekly Unions</td>\n      <td>...</td>\n      <td>88572bc8f2d81000d2eb4ff7cc130000</td>\n      <td>10.0</td>\n      <td>2023-10-03</td>\n      <td>Time</td>\n      <td>7a55a775b63b4b9b8a5b3722fc1e4556</td>\n      <td>Hours</td>\n      <td>c4dacbd56bca4a9a8950e8d3ed21bbdb</td>\n      <td>Hours</td>\n      <td>True</td>\n      <td>0.0</td>\n    </tr>\n    <tr>\n      <th>43023</th>\n      <td>7c8f1553b88990011947d9029b6b0000</td>\n      <td>4082</td>\n      <td>Aisoli Vitale</td>\n      <td>Aisoli Vitale (4082)</td>\n      <td>10 Hours</td>\n      <td>10 Hours on 10/04/2023</td>\n      <td>10/04/2023</td>\n      <td>10.0</td>\n      <td>Wednesday</td>\n      <td>Weekly Unions</td>\n      <td>...</td>\n      <td>88572bc8f2d81000d2eb4ff7cc130000</td>\n      <td>10.0</td>\n      <td>2023-10-04</td>\n      <td>Time</td>\n      <td>7a55a775b63b4b9b8a5b3722fc1e4556</td>\n      <td>Hours</td>\n      <td>c4dacbd56bca4a9a8950e8d3ed21bbdb</td>\n      <td>Hours</td>\n      <td>True</td>\n      <td>0.0</td>\n    </tr>\n    <tr>\n      <th>43024</th>\n      <td>7c8f1553b88990011947d99d041c0000</td>\n      <td>4082</td>\n      <td>Aisoli Vitale</td>\n      <td>Aisoli Vitale (4082)</td>\n      <td>10 Hours</td>\n      <td>10 Hours on 10/05/2023</td>\n      <td>10/05/2023</td>\n      <td>10.0</td>\n      <td>Thursday</td>\n      <td>Weekly Unions</td>\n      <td>...</td>\n      <td>88572bc8f2d81000d2eb4ff7cc130000</td>\n      <td>10.0</td>\n      <td>2023-10-05</td>\n      <td>Time</td>\n      <td>7a55a775b63b4b9b8a5b3722fc1e4556</td>\n      <td>Hours</td>\n      <td>c4dacbd56bca4a9a8950e8d3ed21bbdb</td>\n      <td>Hours</td>\n      <td>True</td>\n      <td>0.0</td>\n    </tr>\n    <tr>\n      <th>50602</th>\n      <td>7c8f1553b8899002172e24b276f40000</td>\n      <td>4082</td>\n      <td>Aisoli Vitale</td>\n      <td>Aisoli Vitale (4082)</td>\n      <td>10 Hours</td>\n      <td>10 Hours on 10/09/2023</td>\n      <td>10/09/2023</td>\n      <td>10.0</td>\n      <td>Monday</td>\n      <td>Weekly Unions</td>\n      <td>...</td>\n      <td>98e25664125510010c8407187b230000</td>\n      <td>10.0</td>\n      <td>2023-10-09</td>\n      <td>Time</td>\n      <td>7a55a775b63b4b9b8a5b3722fc1e4556</td>\n      <td>Hours</td>\n      <td>c4dacbd56bca4a9a8950e8d3ed21bbdb</td>\n      <td>Hours</td>\n      <td>True</td>\n      <td>0.0</td>\n    </tr>\n    <tr>\n      <th>50603</th>\n      <td>7c8f1553b8899002172e254d60670000</td>\n      <td>4082</td>\n      <td>Aisoli Vitale</td>\n      <td>Aisoli Vitale (4082)</td>\n      <td>10 Hours</td>\n      <td>10 Hours on 10/10/2023</td>\n      <td>10/10/2023</td>\n      <td>10.0</td>\n      <td>Tuesday</td>\n      <td>Weekly Unions</td>\n      <td>...</td>\n      <td>88572bc8f2d81000d2eb4ff7cc130000</td>\n      <td>10.0</td>\n      <td>2023-10-10</td>\n      <td>Time</td>\n      <td>7a55a775b63b4b9b8a5b3722fc1e4556</td>\n      <td>Hours</td>\n      <td>c4dacbd56bca4a9a8950e8d3ed21bbdb</td>\n      <td>Hours</td>\n      <td>True</td>\n      <td>0.0</td>\n    </tr>\n    <tr>\n      <th>50604</th>\n      <td>7c8f1553b8899002172e25e719c70000</td>\n      <td>4082</td>\n      <td>Aisoli Vitale</td>\n      <td>Aisoli Vitale (4082)</td>\n      <td>10 Hours</td>\n      <td>10 Hours on 10/11/2023</td>\n      <td>10/11/2023</td>\n      <td>10.0</td>\n      <td>Wednesday</td>\n      <td>Weekly Unions</td>\n      <td>...</td>\n      <td>98e25664125510010c8407187b230000</td>\n      <td>10.0</td>\n      <td>2023-10-11</td>\n      <td>Time</td>\n      <td>7a55a775b63b4b9b8a5b3722fc1e4556</td>\n      <td>Hours</td>\n      <td>c4dacbd56bca4a9a8950e8d3ed21bbdb</td>\n      <td>Hours</td>\n      <td>True</td>\n      <td>0.0</td>\n    </tr>\n    <tr>\n      <th>50605</th>\n      <td>7c8f1553b8899002172e268098770000</td>\n      <td>4082</td>\n      <td>Aisoli Vitale</td>\n      <td>Aisoli Vitale (4082)</td>\n      <td>10 Hours</td>\n      <td>10 Hours on 10/12/2023</td>\n      <td>10/12/2023</td>\n      <td>10.0</td>\n      <td>Thursday</td>\n      <td>Weekly Unions</td>\n      <td>...</td>\n      <td>88572bc8f2d81000d2eb4ff7cc130000</td>\n      <td>10.0</td>\n      <td>2023-10-12</td>\n      <td>Time</td>\n      <td>7a55a775b63b4b9b8a5b3722fc1e4556</td>\n      <td>Hours</td>\n      <td>c4dacbd56bca4a9a8950e8d3ed21bbdb</td>\n      <td>Hours</td>\n      <td>True</td>\n      <td>0.0</td>\n    </tr>\n    <tr>\n      <th>51896</th>\n      <td>dcd88da845b59002168f57a38a360000</td>\n      <td>4082</td>\n      <td>Aisoli Vitale</td>\n      <td>Aisoli Vitale (4082)</td>\n      <td>10 Hours</td>\n      <td>10 Hours on 10/09/2023</td>\n      <td>10/09/2023</td>\n      <td>10.0</td>\n      <td>Monday</td>\n      <td>Weekly Unions</td>\n      <td>...</td>\n      <td>98e25664125510010c8407187b230000</td>\n      <td>10.0</td>\n      <td>2023-10-09</td>\n      <td>Time</td>\n      <td>7a55a775b63b4b9b8a5b3722fc1e4556</td>\n      <td>Hours</td>\n      <td>c4dacbd56bca4a9a8950e8d3ed21bbdb</td>\n      <td>Hours</td>\n      <td>True</td>\n      <td>0.0</td>\n    </tr>\n    <tr>\n      <th>51897</th>\n      <td>dcd88da845b59002168f583e79ab0000</td>\n      <td>4082</td>\n      <td>Aisoli Vitale</td>\n      <td>Aisoli Vitale (4082)</td>\n      <td>10 Hours</td>\n      <td>10 Hours on 10/10/2023</td>\n      <td>10/10/2023</td>\n      <td>10.0</td>\n      <td>Tuesday</td>\n      <td>Weekly Unions</td>\n      <td>...</td>\n      <td>88572bc8f2d81000d2eb4ff7cc130000</td>\n      <td>10.0</td>\n      <td>2023-10-10</td>\n      <td>Time</td>\n      <td>7a55a775b63b4b9b8a5b3722fc1e4556</td>\n      <td>Hours</td>\n      <td>c4dacbd56bca4a9a8950e8d3ed21bbdb</td>\n      <td>Hours</td>\n      <td>True</td>\n      <td>0.0</td>\n    </tr>\n    <tr>\n      <th>51898</th>\n      <td>dcd88da845b59002168f58d85e170000</td>\n      <td>4082</td>\n      <td>Aisoli Vitale</td>\n      <td>Aisoli Vitale (4082)</td>\n      <td>10 Hours</td>\n      <td>10 Hours on 10/11/2023</td>\n      <td>10/11/2023</td>\n      <td>10.0</td>\n      <td>Wednesday</td>\n      <td>Weekly Unions</td>\n      <td>...</td>\n      <td>98e25664125510010c8407187b230000</td>\n      <td>10.0</td>\n      <td>2023-10-11</td>\n      <td>Time</td>\n      <td>7a55a775b63b4b9b8a5b3722fc1e4556</td>\n      <td>Hours</td>\n      <td>c4dacbd56bca4a9a8950e8d3ed21bbdb</td>\n      <td>Hours</td>\n      <td>True</td>\n      <td>0.0</td>\n    </tr>\n    <tr>\n      <th>51899</th>\n      <td>dcd88da845b59002168f59729f310000</td>\n      <td>4082</td>\n      <td>Aisoli Vitale</td>\n      <td>Aisoli Vitale (4082)</td>\n      <td>10 Hours</td>\n      <td>10 Hours on 10/12/2023</td>\n      <td>10/12/2023</td>\n      <td>10.0</td>\n      <td>Thursday</td>\n      <td>Weekly Unions</td>\n      <td>...</td>\n      <td>88572bc8f2d81000d2eb4ff7cc130000</td>\n      <td>10.0</td>\n      <td>2023-10-12</td>\n      <td>Time</td>\n      <td>7a55a775b63b4b9b8a5b3722fc1e4556</td>\n      <td>Hours</td>\n      <td>c4dacbd56bca4a9a8950e8d3ed21bbdb</td>\n      <td>Hours</td>\n      <td>True</td>\n      <td>0.0</td>\n    </tr>\n    <tr>\n      <th>75424</th>\n      <td>e70ba2f2f4839000ca26f01c511c0000</td>\n      <td>4082</td>\n      <td>Aisoli Vitale</td>\n      <td>Aisoli Vitale (4082)</td>\n      <td>10 Hours</td>\n      <td>10 Hours on 09/25/2023</td>\n      <td>09/25/2023</td>\n      <td>10.0</td>\n      <td>Monday</td>\n      <td>Weekly Unions</td>\n      <td>...</td>\n      <td>aa485b7fc50c10002b7db5fcac960000</td>\n      <td>10.0</td>\n      <td>2023-09-25</td>\n      <td>Time</td>\n      <td>7a55a775b63b4b9b8a5b3722fc1e4556</td>\n      <td>Hours</td>\n      <td>c4dacbd56bca4a9a8950e8d3ed21bbdb</td>\n      <td>Hours</td>\n      <td>True</td>\n      <td>0.0</td>\n    </tr>\n    <tr>\n      <th>75425</th>\n      <td>e70ba2f2f4839000ca26f0b778a70000</td>\n      <td>4082</td>\n      <td>Aisoli Vitale</td>\n      <td>Aisoli Vitale (4082)</td>\n      <td>10 Hours</td>\n      <td>10 Hours on 09/26/2023</td>\n      <td>09/26/2023</td>\n      <td>10.0</td>\n      <td>Tuesday</td>\n      <td>Weekly Unions</td>\n      <td>...</td>\n      <td>88572bc8f2d81000d2eb4ff7cc130000</td>\n      <td>10.0</td>\n      <td>2023-09-26</td>\n      <td>Time</td>\n      <td>7a55a775b63b4b9b8a5b3722fc1e4556</td>\n      <td>Hours</td>\n      <td>c4dacbd56bca4a9a8950e8d3ed21bbdb</td>\n      <td>Hours</td>\n      <td>True</td>\n      <td>0.0</td>\n    </tr>\n    <tr>\n      <th>75426</th>\n      <td>e70ba2f2f4839000ca26f15282190000</td>\n      <td>4082</td>\n      <td>Aisoli Vitale</td>\n      <td>Aisoli Vitale (4082)</td>\n      <td>8.5 Hours</td>\n      <td>8.5 Hours on 09/27/2023</td>\n      <td>n 09/27/2023</td>\n      <td>8.5</td>\n      <td>Wednesday</td>\n      <td>Weekly Unions</td>\n      <td>...</td>\n      <td>88572bc8f2d81000d2eb4ff7cc130000</td>\n      <td>8.5</td>\n      <td>2023-09-27</td>\n      <td>Time</td>\n      <td>7a55a775b63b4b9b8a5b3722fc1e4556</td>\n      <td>Hours</td>\n      <td>c4dacbd56bca4a9a8950e8d3ed21bbdb</td>\n      <td>Hours</td>\n      <td>True</td>\n      <td>0.0</td>\n    </tr>\n    <tr>\n      <th>75427</th>\n      <td>e70ba2f2f4839000ca26f1ec3af30000</td>\n      <td>4082</td>\n      <td>Aisoli Vitale</td>\n      <td>Aisoli Vitale (4082)</td>\n      <td>10 Hours</td>\n      <td>10 Hours on 09/28/2023</td>\n      <td>09/28/2023</td>\n      <td>10.0</td>\n      <td>Thursday</td>\n      <td>Weekly Unions</td>\n      <td>...</td>\n      <td>88572bc8f2d81000d2eb4ff7cc130000</td>\n      <td>10.0</td>\n      <td>2023-09-28</td>\n      <td>Time</td>\n      <td>7a55a775b63b4b9b8a5b3722fc1e4556</td>\n      <td>Hours</td>\n      <td>c4dacbd56bca4a9a8950e8d3ed21bbdb</td>\n      <td>Hours</td>\n      <td>True</td>\n      <td>0.0</td>\n    </tr>\n    <tr>\n      <th>75428</th>\n      <td>e70ba2f2f4839000ca26f28753f80000</td>\n      <td>4082</td>\n      <td>Aisoli Vitale</td>\n      <td>Aisoli Vitale (4082)</td>\n      <td>8 Hours</td>\n      <td>8 Hours on 09/29/2023</td>\n      <td>09/29/2023</td>\n      <td>8.0</td>\n      <td>Friday</td>\n      <td>Weekly Unions</td>\n      <td>...</td>\n      <td>88572bc8f2d81000d2eb4ff7cc130000</td>\n      <td>8.0</td>\n      <td>2023-09-29</td>\n      <td>Time</td>\n      <td>7a55a775b63b4b9b8a5b3722fc1e4556</td>\n      <td>Hours</td>\n      <td>c4dacbd56bca4a9a8950e8d3ed21bbdb</td>\n      <td>Hours</td>\n      <td>True</td>\n      <td>0.0</td>\n    </tr>\n  </tbody>\n</table>\n<p>17 rows × 338 columns</p>\n</div>"
          },
          "metadata": {}
        }
      ],
      "execution_count": 190,
      "metadata": {
        "jupyter": {
          "source_hidden": false,
          "outputs_hidden": false
        },
        "nteract": {
          "transient": {
            "deleting": false
          }
        },
        "gather": {
          "logged": 1697649244524
        }
      }
    },
    {
      "cell_type": "code",
      "source": [
        "#Are these employees all Hawaii Union?\n",
        "double_eeid = tcp_v_wd_ee_xl.loc[tcp_v_wd_ee_xl['Hours_Variance (TCP - WD)'] < -11.5 , 'EEID'].unique()"
      ],
      "outputs": [],
      "execution_count": 196,
      "metadata": {
        "jupyter": {
          "source_hidden": false,
          "outputs_hidden": false
        },
        "nteract": {
          "transient": {
            "deleting": false
          }
        },
        "gather": {
          "logged": 1697649860042
        }
      }
    },
    {
      "cell_type": "code",
      "source": [
        "\n",
        "wd_pr_df.loc[wd_pr_df['EEID'].isin(double_eeid) , 'FrequencySalary'].unique()"
      ],
      "outputs": [
        {
          "output_type": "execute_result",
          "execution_count": 203,
          "data": {
            "text/plain": "array(['Weekly Unions'], dtype=object)"
          },
          "metadata": {}
        }
      ],
      "execution_count": 203,
      "metadata": {
        "jupyter": {
          "source_hidden": false,
          "outputs_hidden": false
        },
        "nteract": {
          "transient": {
            "deleting": false
          }
        },
        "gather": {
          "logged": 1697649999520
        }
      }
    },
    {
      "cell_type": "code",
      "source": [
        "tcp_v_wd_ee_xl #.loc[tcp_v_wd_ee_xl['Hours_Variance (TCP - WD)'] < -11.5]"
      ],
      "outputs": [
        {
          "output_type": "execute_result",
          "execution_count": 27,
          "data": {
            "text/plain": "       EEID  TotalHours_TCP  TotalHours_WD  Hours_Variance (TCP - WD)\n2466   8185           40.00           80.0                     -40.00\n919   15339           40.00           80.0                     -40.00\n2048   4082           40.00           80.0                     -40.00\n2046   3943           50.00           90.0                     -40.00\n2045   3912           60.00          100.0                     -40.00\n2044   3859           50.00           90.0                     -40.00\n2043   3817           40.00           80.0                     -40.00\n2042   3811           40.00           80.0                     -40.00\n584   14422           40.00           80.0                     -40.00\n2251   6652           50.00           90.0                     -40.00\n1705  20360           40.00           80.0                     -40.00\n1847  20550           40.00           80.0                     -40.00\n1382  16127           40.00           80.0                     -40.00\n1850  20554           40.00           80.0                     -40.00\n1386  16133           40.00           80.0                     -40.00\n2031   2472           50.00           90.0                     -40.00\n1391  16139           40.00           80.0                     -40.00\n925   15351           40.00           80.0                     -40.00\n560   14331           40.00           80.0                     -40.00\n172   11564           40.00           80.0                     -40.00\n2134   5649           40.00           80.0                     -40.00\n674   14788           40.00           80.0                     -40.00\n259   12200           40.00           80.0                     -40.00\n1479  16273           40.00           80.0                     -40.00\n559   14329           40.00           80.0                     -40.00\n1854  20558           37.50           75.0                     -37.50\n1708  20363           30.00           60.0                     -30.00\n747   14990           40.00           70.0                     -30.00\n1855  20559           30.00           60.0                     -30.00\n1851  20555           30.00           60.0                     -30.00\n917   15336           30.00           60.0                     -30.00\n1709  20364           30.00           60.0                     -30.00\n2422   7811           26.50            0.0                      26.50\n2020  20761           22.00           48.0                     -26.00\n2019  20760           22.00           48.0                     -26.00\n2016  20757           22.00           48.0                     -26.00\n2018  20759           22.00           48.0                     -26.00\n2021  20762           20.00           40.0                     -20.00\n2014  20748           20.00           40.0                     -20.00\n1707  20362           20.00           40.0                     -20.00\n420   13219           20.00           40.0                     -20.00\n2047   4039           20.00           40.0                     -20.00\n1856  20561           20.00           40.0                     -20.00\n609   14610           20.00           40.0                     -20.00\n2017  20758           12.00           24.0                     -12.00\n682   14822           36.00           44.5                      -8.50\n1294  15990            8.25            0.0                       8.25",
            "text/html": "<div>\n<style scoped>\n    .dataframe tbody tr th:only-of-type {\n        vertical-align: middle;\n    }\n\n    .dataframe tbody tr th {\n        vertical-align: top;\n    }\n\n    .dataframe thead th {\n        text-align: right;\n    }\n</style>\n<table border=\"1\" class=\"dataframe\">\n  <thead>\n    <tr style=\"text-align: right;\">\n      <th></th>\n      <th>EEID</th>\n      <th>TotalHours_TCP</th>\n      <th>TotalHours_WD</th>\n      <th>Hours_Variance (TCP - WD)</th>\n    </tr>\n  </thead>\n  <tbody>\n    <tr>\n      <th>2466</th>\n      <td>8185</td>\n      <td>40.00</td>\n      <td>80.0</td>\n      <td>-40.00</td>\n    </tr>\n    <tr>\n      <th>919</th>\n      <td>15339</td>\n      <td>40.00</td>\n      <td>80.0</td>\n      <td>-40.00</td>\n    </tr>\n    <tr>\n      <th>2048</th>\n      <td>4082</td>\n      <td>40.00</td>\n      <td>80.0</td>\n      <td>-40.00</td>\n    </tr>\n    <tr>\n      <th>2046</th>\n      <td>3943</td>\n      <td>50.00</td>\n      <td>90.0</td>\n      <td>-40.00</td>\n    </tr>\n    <tr>\n      <th>2045</th>\n      <td>3912</td>\n      <td>60.00</td>\n      <td>100.0</td>\n      <td>-40.00</td>\n    </tr>\n    <tr>\n      <th>2044</th>\n      <td>3859</td>\n      <td>50.00</td>\n      <td>90.0</td>\n      <td>-40.00</td>\n    </tr>\n    <tr>\n      <th>2043</th>\n      <td>3817</td>\n      <td>40.00</td>\n      <td>80.0</td>\n      <td>-40.00</td>\n    </tr>\n    <tr>\n      <th>2042</th>\n      <td>3811</td>\n      <td>40.00</td>\n      <td>80.0</td>\n      <td>-40.00</td>\n    </tr>\n    <tr>\n      <th>584</th>\n      <td>14422</td>\n      <td>40.00</td>\n      <td>80.0</td>\n      <td>-40.00</td>\n    </tr>\n    <tr>\n      <th>2251</th>\n      <td>6652</td>\n      <td>50.00</td>\n      <td>90.0</td>\n      <td>-40.00</td>\n    </tr>\n    <tr>\n      <th>1705</th>\n      <td>20360</td>\n      <td>40.00</td>\n      <td>80.0</td>\n      <td>-40.00</td>\n    </tr>\n    <tr>\n      <th>1847</th>\n      <td>20550</td>\n      <td>40.00</td>\n      <td>80.0</td>\n      <td>-40.00</td>\n    </tr>\n    <tr>\n      <th>1382</th>\n      <td>16127</td>\n      <td>40.00</td>\n      <td>80.0</td>\n      <td>-40.00</td>\n    </tr>\n    <tr>\n      <th>1850</th>\n      <td>20554</td>\n      <td>40.00</td>\n      <td>80.0</td>\n      <td>-40.00</td>\n    </tr>\n    <tr>\n      <th>1386</th>\n      <td>16133</td>\n      <td>40.00</td>\n      <td>80.0</td>\n      <td>-40.00</td>\n    </tr>\n    <tr>\n      <th>2031</th>\n      <td>2472</td>\n      <td>50.00</td>\n      <td>90.0</td>\n      <td>-40.00</td>\n    </tr>\n    <tr>\n      <th>1391</th>\n      <td>16139</td>\n      <td>40.00</td>\n      <td>80.0</td>\n      <td>-40.00</td>\n    </tr>\n    <tr>\n      <th>925</th>\n      <td>15351</td>\n      <td>40.00</td>\n      <td>80.0</td>\n      <td>-40.00</td>\n    </tr>\n    <tr>\n      <th>560</th>\n      <td>14331</td>\n      <td>40.00</td>\n      <td>80.0</td>\n      <td>-40.00</td>\n    </tr>\n    <tr>\n      <th>172</th>\n      <td>11564</td>\n      <td>40.00</td>\n      <td>80.0</td>\n      <td>-40.00</td>\n    </tr>\n    <tr>\n      <th>2134</th>\n      <td>5649</td>\n      <td>40.00</td>\n      <td>80.0</td>\n      <td>-40.00</td>\n    </tr>\n    <tr>\n      <th>674</th>\n      <td>14788</td>\n      <td>40.00</td>\n      <td>80.0</td>\n      <td>-40.00</td>\n    </tr>\n    <tr>\n      <th>259</th>\n      <td>12200</td>\n      <td>40.00</td>\n      <td>80.0</td>\n      <td>-40.00</td>\n    </tr>\n    <tr>\n      <th>1479</th>\n      <td>16273</td>\n      <td>40.00</td>\n      <td>80.0</td>\n      <td>-40.00</td>\n    </tr>\n    <tr>\n      <th>559</th>\n      <td>14329</td>\n      <td>40.00</td>\n      <td>80.0</td>\n      <td>-40.00</td>\n    </tr>\n    <tr>\n      <th>1854</th>\n      <td>20558</td>\n      <td>37.50</td>\n      <td>75.0</td>\n      <td>-37.50</td>\n    </tr>\n    <tr>\n      <th>1708</th>\n      <td>20363</td>\n      <td>30.00</td>\n      <td>60.0</td>\n      <td>-30.00</td>\n    </tr>\n    <tr>\n      <th>747</th>\n      <td>14990</td>\n      <td>40.00</td>\n      <td>70.0</td>\n      <td>-30.00</td>\n    </tr>\n    <tr>\n      <th>1855</th>\n      <td>20559</td>\n      <td>30.00</td>\n      <td>60.0</td>\n      <td>-30.00</td>\n    </tr>\n    <tr>\n      <th>1851</th>\n      <td>20555</td>\n      <td>30.00</td>\n      <td>60.0</td>\n      <td>-30.00</td>\n    </tr>\n    <tr>\n      <th>917</th>\n      <td>15336</td>\n      <td>30.00</td>\n      <td>60.0</td>\n      <td>-30.00</td>\n    </tr>\n    <tr>\n      <th>1709</th>\n      <td>20364</td>\n      <td>30.00</td>\n      <td>60.0</td>\n      <td>-30.00</td>\n    </tr>\n    <tr>\n      <th>2422</th>\n      <td>7811</td>\n      <td>26.50</td>\n      <td>0.0</td>\n      <td>26.50</td>\n    </tr>\n    <tr>\n      <th>2020</th>\n      <td>20761</td>\n      <td>22.00</td>\n      <td>48.0</td>\n      <td>-26.00</td>\n    </tr>\n    <tr>\n      <th>2019</th>\n      <td>20760</td>\n      <td>22.00</td>\n      <td>48.0</td>\n      <td>-26.00</td>\n    </tr>\n    <tr>\n      <th>2016</th>\n      <td>20757</td>\n      <td>22.00</td>\n      <td>48.0</td>\n      <td>-26.00</td>\n    </tr>\n    <tr>\n      <th>2018</th>\n      <td>20759</td>\n      <td>22.00</td>\n      <td>48.0</td>\n      <td>-26.00</td>\n    </tr>\n    <tr>\n      <th>2021</th>\n      <td>20762</td>\n      <td>20.00</td>\n      <td>40.0</td>\n      <td>-20.00</td>\n    </tr>\n    <tr>\n      <th>2014</th>\n      <td>20748</td>\n      <td>20.00</td>\n      <td>40.0</td>\n      <td>-20.00</td>\n    </tr>\n    <tr>\n      <th>1707</th>\n      <td>20362</td>\n      <td>20.00</td>\n      <td>40.0</td>\n      <td>-20.00</td>\n    </tr>\n    <tr>\n      <th>420</th>\n      <td>13219</td>\n      <td>20.00</td>\n      <td>40.0</td>\n      <td>-20.00</td>\n    </tr>\n    <tr>\n      <th>2047</th>\n      <td>4039</td>\n      <td>20.00</td>\n      <td>40.0</td>\n      <td>-20.00</td>\n    </tr>\n    <tr>\n      <th>1856</th>\n      <td>20561</td>\n      <td>20.00</td>\n      <td>40.0</td>\n      <td>-20.00</td>\n    </tr>\n    <tr>\n      <th>609</th>\n      <td>14610</td>\n      <td>20.00</td>\n      <td>40.0</td>\n      <td>-20.00</td>\n    </tr>\n    <tr>\n      <th>2017</th>\n      <td>20758</td>\n      <td>12.00</td>\n      <td>24.0</td>\n      <td>-12.00</td>\n    </tr>\n    <tr>\n      <th>682</th>\n      <td>14822</td>\n      <td>36.00</td>\n      <td>44.5</td>\n      <td>-8.50</td>\n    </tr>\n    <tr>\n      <th>1294</th>\n      <td>15990</td>\n      <td>8.25</td>\n      <td>0.0</td>\n      <td>8.25</td>\n    </tr>\n  </tbody>\n</table>\n</div>"
          },
          "metadata": {}
        }
      ],
      "execution_count": 27,
      "metadata": {
        "jupyter": {
          "source_hidden": false,
          "outputs_hidden": false
        },
        "nteract": {
          "transient": {
            "deleting": false
          }
        },
        "gather": {
          "logged": 1697652533976
        }
      }
    },
    {
      "cell_type": "code",
      "source": [
        "#Check this after truncate and reload\n",
        "wd_pr_df.loc[wd_pr_df['EEID']=='15990']"
      ],
      "outputs": [
        {
          "output_type": "execute_result",
          "execution_count": 28,
          "data": {
            "text/plain": "                              workdayID EmployeeID  Employee_FullName  \\\n29794  e70ba2f2f4839000b46c3ac88fb80000      15990  Kenneth Simmions    \n29795  e70ba2f2f4839000b46c3b6443430000      15990  Kenneth Simmions    \n29796  e70ba2f2f4839000b46c3c989fec0000      15990  Kenneth Simmions    \n29797  e70ba2f2f4839000b46c3d32b4510000      15990  Kenneth Simmions    \n29798  e70ba2f2f4839000b46c3dcc82430000      15990  Kenneth Simmions    \n52565  7c8f1553b8899000bc03a0e39ef70000      15990  Kenneth Simmions    \n52566  7c8f1553b8899000bc03a17d8c5c0000      15990  Kenneth Simmions    \n52567  7c8f1553b8899000bc03a2b117ba0000      15990  Kenneth Simmions    \n\n                         Workers Employee_BillTransaction_Descriptor  \\\n29794  Kenneth Simmions  (15990)                            8 Hours    \n29795  Kenneth Simmions  (15990)                            5 Hours    \n29796  Kenneth Simmions  (15990)                            8 Hours    \n29797  Kenneth Simmions  (15990)                            8 Hours    \n29798  Kenneth Simmions  (15990)                            2 Hours    \n52565  Kenneth Simmions  (15990)                            8 Hours    \n52566  Kenneth Simmions  (15990)                            8 Hours    \n52567  Kenneth Simmions  (15990)                            5 Hours    \n\n      billableTransaction.descriptor Employee_BillTransactionDate  Hours  \\\n29794          8 Hours on 09/25/2023                   09/25/2023    8.0   \n29795          5 Hours on 09/26/2023                   09/26/2023    5.0   \n29796          8 Hours on 09/27/2023                   09/27/2023    8.0   \n29797          8 Hours on 09/28/2023                   09/28/2023    8.0   \n29798          2 Hours on 09/29/2023                   09/29/2023    2.0   \n52565          8 Hours on 10/03/2023                   10/03/2023    8.0   \n52566          8 Hours on 10/04/2023                   10/04/2023    8.0   \n52567          5 Hours on 10/05/2023                   10/05/2023    5.0   \n\n      dayOfTheWeek FrequencySalary  ... transactionSource.descriptor  \\\n29794       Monday            None  ...                         Time   \n29795      Tuesday            None  ...                         Time   \n29796    Wednesday            None  ...                         Time   \n29797     Thursday            None  ...                         Time   \n29798       Friday            None  ...                         Time   \n52565      Tuesday            None  ...                         Time   \n52566    Wednesday            None  ...                         Time   \n52567     Thursday            None  ...                         Time   \n\n                   transactionSource.id unit.descriptor  \\\n29794  7a55a775b63b4b9b8a5b3722fc1e4556           Hours   \n29795  7a55a775b63b4b9b8a5b3722fc1e4556           Hours   \n29796  7a55a775b63b4b9b8a5b3722fc1e4556           Hours   \n29797  7a55a775b63b4b9b8a5b3722fc1e4556           Hours   \n29798  7a55a775b63b4b9b8a5b3722fc1e4556           Hours   \n52565  7a55a775b63b4b9b8a5b3722fc1e4556           Hours   \n52566  7a55a775b63b4b9b8a5b3722fc1e4556           Hours   \n52567  7a55a775b63b4b9b8a5b3722fc1e4556           Hours   \n\n                                unit.id  unit1 unitOfTimeIsHours  \\\n29794  c4dacbd56bca4a9a8950e8d3ed21bbdb  Hours              True   \n29795  c4dacbd56bca4a9a8950e8d3ed21bbdb  Hours              True   \n29796  c4dacbd56bca4a9a8950e8d3ed21bbdb  Hours              True   \n29797  c4dacbd56bca4a9a8950e8d3ed21bbdb  Hours              True   \n29798  c4dacbd56bca4a9a8950e8d3ed21bbdb  Hours              True   \n52565  c4dacbd56bca4a9a8950e8d3ed21bbdb  Hours              True   \n52566  c4dacbd56bca4a9a8950e8d3ed21bbdb  Hours              True   \n52567  c4dacbd56bca4a9a8950e8d3ed21bbdb  Hours              True   \n\n      unroundedDuration   EEID Sub_Job      Job  \n29794               0.0  15990      15  7102235  \n29795               0.0  15990      15  7102235  \n29796               0.0  15990      15  7102235  \n29797               0.0  15990      15  7102235  \n29798               0.0  15990      15  7102235  \n52565               0.0  15990      15  7102235  \n52566               0.0  15990      15  7102235  \n52567               0.0  15990      15  7102235  \n\n[8 rows x 341 columns]",
            "text/html": "<div>\n<style scoped>\n    .dataframe tbody tr th:only-of-type {\n        vertical-align: middle;\n    }\n\n    .dataframe tbody tr th {\n        vertical-align: top;\n    }\n\n    .dataframe thead th {\n        text-align: right;\n    }\n</style>\n<table border=\"1\" class=\"dataframe\">\n  <thead>\n    <tr style=\"text-align: right;\">\n      <th></th>\n      <th>workdayID</th>\n      <th>EmployeeID</th>\n      <th>Employee_FullName</th>\n      <th>Workers</th>\n      <th>Employee_BillTransaction_Descriptor</th>\n      <th>billableTransaction.descriptor</th>\n      <th>Employee_BillTransactionDate</th>\n      <th>Hours</th>\n      <th>dayOfTheWeek</th>\n      <th>FrequencySalary</th>\n      <th>...</th>\n      <th>transactionSource.descriptor</th>\n      <th>transactionSource.id</th>\n      <th>unit.descriptor</th>\n      <th>unit.id</th>\n      <th>unit1</th>\n      <th>unitOfTimeIsHours</th>\n      <th>unroundedDuration</th>\n      <th>EEID</th>\n      <th>Sub_Job</th>\n      <th>Job</th>\n    </tr>\n  </thead>\n  <tbody>\n    <tr>\n      <th>29794</th>\n      <td>e70ba2f2f4839000b46c3ac88fb80000</td>\n      <td>15990</td>\n      <td>Kenneth Simmions</td>\n      <td>Kenneth Simmions  (15990)</td>\n      <td>8 Hours</td>\n      <td>8 Hours on 09/25/2023</td>\n      <td>09/25/2023</td>\n      <td>8.0</td>\n      <td>Monday</td>\n      <td>None</td>\n      <td>...</td>\n      <td>Time</td>\n      <td>7a55a775b63b4b9b8a5b3722fc1e4556</td>\n      <td>Hours</td>\n      <td>c4dacbd56bca4a9a8950e8d3ed21bbdb</td>\n      <td>Hours</td>\n      <td>True</td>\n      <td>0.0</td>\n      <td>15990</td>\n      <td>15</td>\n      <td>7102235</td>\n    </tr>\n    <tr>\n      <th>29795</th>\n      <td>e70ba2f2f4839000b46c3b6443430000</td>\n      <td>15990</td>\n      <td>Kenneth Simmions</td>\n      <td>Kenneth Simmions  (15990)</td>\n      <td>5 Hours</td>\n      <td>5 Hours on 09/26/2023</td>\n      <td>09/26/2023</td>\n      <td>5.0</td>\n      <td>Tuesday</td>\n      <td>None</td>\n      <td>...</td>\n      <td>Time</td>\n      <td>7a55a775b63b4b9b8a5b3722fc1e4556</td>\n      <td>Hours</td>\n      <td>c4dacbd56bca4a9a8950e8d3ed21bbdb</td>\n      <td>Hours</td>\n      <td>True</td>\n      <td>0.0</td>\n      <td>15990</td>\n      <td>15</td>\n      <td>7102235</td>\n    </tr>\n    <tr>\n      <th>29796</th>\n      <td>e70ba2f2f4839000b46c3c989fec0000</td>\n      <td>15990</td>\n      <td>Kenneth Simmions</td>\n      <td>Kenneth Simmions  (15990)</td>\n      <td>8 Hours</td>\n      <td>8 Hours on 09/27/2023</td>\n      <td>09/27/2023</td>\n      <td>8.0</td>\n      <td>Wednesday</td>\n      <td>None</td>\n      <td>...</td>\n      <td>Time</td>\n      <td>7a55a775b63b4b9b8a5b3722fc1e4556</td>\n      <td>Hours</td>\n      <td>c4dacbd56bca4a9a8950e8d3ed21bbdb</td>\n      <td>Hours</td>\n      <td>True</td>\n      <td>0.0</td>\n      <td>15990</td>\n      <td>15</td>\n      <td>7102235</td>\n    </tr>\n    <tr>\n      <th>29797</th>\n      <td>e70ba2f2f4839000b46c3d32b4510000</td>\n      <td>15990</td>\n      <td>Kenneth Simmions</td>\n      <td>Kenneth Simmions  (15990)</td>\n      <td>8 Hours</td>\n      <td>8 Hours on 09/28/2023</td>\n      <td>09/28/2023</td>\n      <td>8.0</td>\n      <td>Thursday</td>\n      <td>None</td>\n      <td>...</td>\n      <td>Time</td>\n      <td>7a55a775b63b4b9b8a5b3722fc1e4556</td>\n      <td>Hours</td>\n      <td>c4dacbd56bca4a9a8950e8d3ed21bbdb</td>\n      <td>Hours</td>\n      <td>True</td>\n      <td>0.0</td>\n      <td>15990</td>\n      <td>15</td>\n      <td>7102235</td>\n    </tr>\n    <tr>\n      <th>29798</th>\n      <td>e70ba2f2f4839000b46c3dcc82430000</td>\n      <td>15990</td>\n      <td>Kenneth Simmions</td>\n      <td>Kenneth Simmions  (15990)</td>\n      <td>2 Hours</td>\n      <td>2 Hours on 09/29/2023</td>\n      <td>09/29/2023</td>\n      <td>2.0</td>\n      <td>Friday</td>\n      <td>None</td>\n      <td>...</td>\n      <td>Time</td>\n      <td>7a55a775b63b4b9b8a5b3722fc1e4556</td>\n      <td>Hours</td>\n      <td>c4dacbd56bca4a9a8950e8d3ed21bbdb</td>\n      <td>Hours</td>\n      <td>True</td>\n      <td>0.0</td>\n      <td>15990</td>\n      <td>15</td>\n      <td>7102235</td>\n    </tr>\n    <tr>\n      <th>52565</th>\n      <td>7c8f1553b8899000bc03a0e39ef70000</td>\n      <td>15990</td>\n      <td>Kenneth Simmions</td>\n      <td>Kenneth Simmions  (15990)</td>\n      <td>8 Hours</td>\n      <td>8 Hours on 10/03/2023</td>\n      <td>10/03/2023</td>\n      <td>8.0</td>\n      <td>Tuesday</td>\n      <td>None</td>\n      <td>...</td>\n      <td>Time</td>\n      <td>7a55a775b63b4b9b8a5b3722fc1e4556</td>\n      <td>Hours</td>\n      <td>c4dacbd56bca4a9a8950e8d3ed21bbdb</td>\n      <td>Hours</td>\n      <td>True</td>\n      <td>0.0</td>\n      <td>15990</td>\n      <td>15</td>\n      <td>7102235</td>\n    </tr>\n    <tr>\n      <th>52566</th>\n      <td>7c8f1553b8899000bc03a17d8c5c0000</td>\n      <td>15990</td>\n      <td>Kenneth Simmions</td>\n      <td>Kenneth Simmions  (15990)</td>\n      <td>8 Hours</td>\n      <td>8 Hours on 10/04/2023</td>\n      <td>10/04/2023</td>\n      <td>8.0</td>\n      <td>Wednesday</td>\n      <td>None</td>\n      <td>...</td>\n      <td>Time</td>\n      <td>7a55a775b63b4b9b8a5b3722fc1e4556</td>\n      <td>Hours</td>\n      <td>c4dacbd56bca4a9a8950e8d3ed21bbdb</td>\n      <td>Hours</td>\n      <td>True</td>\n      <td>0.0</td>\n      <td>15990</td>\n      <td>15</td>\n      <td>7102235</td>\n    </tr>\n    <tr>\n      <th>52567</th>\n      <td>7c8f1553b8899000bc03a2b117ba0000</td>\n      <td>15990</td>\n      <td>Kenneth Simmions</td>\n      <td>Kenneth Simmions  (15990)</td>\n      <td>5 Hours</td>\n      <td>5 Hours on 10/05/2023</td>\n      <td>10/05/2023</td>\n      <td>5.0</td>\n      <td>Thursday</td>\n      <td>None</td>\n      <td>...</td>\n      <td>Time</td>\n      <td>7a55a775b63b4b9b8a5b3722fc1e4556</td>\n      <td>Hours</td>\n      <td>c4dacbd56bca4a9a8950e8d3ed21bbdb</td>\n      <td>Hours</td>\n      <td>True</td>\n      <td>0.0</td>\n      <td>15990</td>\n      <td>15</td>\n      <td>7102235</td>\n    </tr>\n  </tbody>\n</table>\n<p>8 rows × 341 columns</p>\n</div>"
          },
          "metadata": {}
        }
      ],
      "execution_count": 28,
      "metadata": {
        "jupyter": {
          "source_hidden": false,
          "outputs_hidden": false
        },
        "nteract": {
          "transient": {
            "deleting": false
          }
        },
        "gather": {
          "logged": 1697652578886
        }
      }
    },
    {
      "cell_type": "code",
      "source": [],
      "outputs": [],
      "execution_count": null,
      "metadata": {
        "jupyter": {
          "source_hidden": false,
          "outputs_hidden": false
        },
        "nteract": {
          "transient": {
            "deleting": false
          }
        }
      }
    }
  ],
  "metadata": {
    "kernelspec": {
      "name": "python310-sdkv2",
      "language": "python",
      "display_name": "Python 3.10 - SDK v2"
    },
    "language_info": {
      "name": "python",
      "version": "3.10.11",
      "mimetype": "text/x-python",
      "codemirror_mode": {
        "name": "ipython",
        "version": 3
      },
      "pygments_lexer": "ipython3",
      "nbconvert_exporter": "python",
      "file_extension": ".py"
    },
    "microsoft": {
      "ms_spell_check": {
        "ms_spell_check_language": "en"
      },
      "host": {
        "AzureML": {
          "notebookHasBeenCompleted": true
        }
      }
    },
    "kernel_info": {
      "name": "python310-sdkv2"
    },
    "nteract": {
      "version": "nteract-front-end@1.0.0"
    }
  },
  "nbformat": 4,
  "nbformat_minor": 2
}