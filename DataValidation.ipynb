{
  "cells": [
    {
      "cell_type": "code",
      "source": [
        "# azureml-core of version 1.0.72 or higher is required\n",
        "# azureml-dataprep[pandas] of version 1.1.34 or higher is required\n",
        "from azureml.core import Workspace, Dataset\n",
        "import pandas as pd\n",
        "from datetime import date, datetime, timedelta\n",
        "import numpy as np\n",
        "from azure.storage.blob import BlobServiceClient\n",
        "\n",
        "subscription_id = '96599b9b-0d9b-4577-9163-418d2c6cd411'\n",
        "resource_group = 'rg-datasci-ml-dev-001'\n",
        "workspace_name = 'ml-moss-dev-001'\n",
        "\n",
        "workspace = Workspace(subscription_id, resource_group, workspace_name)\n",
        "\n",
        "dataset_hourly_compare_cmic = Dataset.get_by_name(workspace, name='Hourly_Employee_Time_prod')\n",
        "cmic_pr_df_dev = dataset_hourly_compare_cmic.to_pandas_dataframe()\n",
        "\n",
        "dataset_hourly_compare_wd = Dataset.get_by_name(workspace, name='WD_Hourly_Employee_Time_prod')\n",
        "wd_pr_df_dev = dataset_hourly_compare_wd.to_pandas_dataframe()\n",
        "\n",
        "tcp_dataset = Dataset.get_by_name(workspace, name='WorkSegments_Timesheet_prod')\n",
        "tcp_df_dev = tcp_dataset.to_pandas_dataframe()\n",
        "\n",
        "jcjob_dataset = Dataset.get_by_name(workspace, name='JCJOB_TABLE_TN_prod')\n",
        "jcjob_df = jcjob_dataset.to_pandas_dataframe()"
      ],
      "outputs": [],
      "execution_count": 79,
      "metadata": {
        "gather": {
          "logged": 1697499912677
        }
      }
    },
    {
      "cell_type": "code",
      "source": [
        "###Step 1\n",
        "#Filter Data Sets\n",
        "#Data Manipulate Data Sets\n",
        "#Narrow down to necessary columns only"
      ],
      "outputs": [],
      "execution_count": 38,
      "metadata": {
        "jupyter": {
          "source_hidden": false,
          "outputs_hidden": false
        },
        "nteract": {
          "transient": {
            "deleting": false
          }
        },
        "gather": {
          "logged": 1697497353752
        }
      }
    },
    {
      "cell_type": "code",
      "source": [
        "##########################\n",
        "\n",
        "week_ending = '2023-10-14'\n",
        "\n",
        "##########################\n",
        "\n",
        "date = datetime.strptime(week_ending, \"%Y-%m-%d\")\n",
        "start_date = date - timedelta(days = 6)\n",
        "end_date = date"
      ],
      "outputs": [],
      "execution_count": 39,
      "metadata": {
        "jupyter": {
          "source_hidden": false,
          "outputs_hidden": false
        },
        "nteract": {
          "transient": {
            "deleting": false
          }
        },
        "gather": {
          "logged": 1697497354216
        }
      }
    },
    {
      "cell_type": "code",
      "source": [
        "tcp_df = tcp_df_dev.copy()"
      ],
      "outputs": [],
      "execution_count": 40,
      "metadata": {
        "jupyter": {
          "source_hidden": false,
          "outputs_hidden": false
        },
        "nteract": {
          "transient": {
            "deleting": false
          }
        },
        "gather": {
          "logged": 1697497355153
        }
      }
    },
    {
      "cell_type": "code",
      "source": [
        "###TCP Data Manipulation\n",
        "#Filter: Solar Jobs only \n",
        "tcp_df = tcp_df.loc[tcp_df['Job_Code'].str.startswith('710')]\n",
        "#Filter: Only Keeping Labor Hourly\n",
        "tcp_df = tcp_df.loc[tcp_df['Task'].isin(['LH','LHA'])]\n",
        "#Creating a total hours column\n",
        "tcp_df['total_hours'] = tcp_df['Regular_Hours'] + tcp_df['Overtime_Hours']\n",
        "#Renaming Relevant Columns\n",
        "tcp_df = tcp_df.rename({'Employee_Number':'EEID','Job_Code':'Job','Activity':'Sub_Job','total_hours':'Hours'},axis='columns')\n",
        "tcp_cols_keep = ['EEID' , 'Date' , 'Job' , 'Sub_Job' , 'Hours']\n",
        "tcp_df_comp = tcp_df.loc[:,tcp_cols_keep]"
      ],
      "outputs": [],
      "execution_count": 41,
      "metadata": {
        "jupyter": {
          "source_hidden": false,
          "outputs_hidden": false
        },
        "nteract": {
          "transient": {
            "deleting": false
          }
        },
        "gather": {
          "logged": 1697497356288
        }
      }
    },
    {
      "cell_type": "code",
      "source": [
        "wd_pr_df = wd_pr_df_dev.copy()"
      ],
      "outputs": [],
      "execution_count": 42,
      "metadata": {
        "jupyter": {
          "source_hidden": false,
          "outputs_hidden": false
        },
        "nteract": {
          "transient": {
            "deleting": false
          }
        },
        "gather": {
          "logged": 1697497357076
        }
      }
    },
    {
      "cell_type": "code",
      "source": [
        "#Workday Data Manipulation\n",
        "#Drop Null values if the employee does not have a job/sub job assignment\n",
        "wd_pr_df = wd_pr_df.loc[~wd_pr_df['cf_INTLRVCalculatedProjectFromTimeBlock.descriptor'].isna()]\n",
        "#Filter: Solar Jobs Only\n",
        "wd_pr_df = wd_pr_df.loc[wd_pr_df['cf_INTLRVCalculatedProjectFromTimeBlock.descriptor'].str.startswith('710')]\n",
        "#This isolates the 2 digit sub job, also accomodates the sub jobs that have a letter in them like Claims (C) and Warranty (W)\n",
        "wd_pr_df['cf_INTLRVCalculatedProjectFromTimeBlock.descriptor'] = wd_pr_df['cf_INTLRVCalculatedProjectFromTimeBlock.descriptor'].str.replace('C' , '.C')\n",
        "wd_pr_df['cf_INTLRVCalculatedProjectFromTimeBlock.descriptor'] = wd_pr_df['cf_INTLRVCalculatedProjectFromTimeBlock.descriptor'].str.replace('W' , '.W')\n",
        "wd_pr_df['sub_job'] = wd_pr_df['cf_INTLRVCalculatedProjectFromTimeBlock.descriptor'].str.split('.').str[1]\n",
        "wd_pr_df['sub_job'] = wd_pr_df['sub_job'].str.split(' ').str[0]\n",
        "#Leaves behind Job ONLY\n",
        "wd_pr_df['job'] = wd_pr_df.loc[:,'cf_INTLRVCalculatedProjectFromTimeBlock.descriptor'].str[0:7]\n",
        "#Renaming Relevant Columns\n",
        "wd_pr_df = wd_pr_df.rename({'EmployeeID':'EEID','calculatedDate':'Date','job':'Job','sub_job':'Sub_Job','amount':'Hours'},axis='columns')\n",
        "wd_cols_keep = ['EEID' , 'Date' , 'Job' , 'Sub_Job' , 'Hours']\n",
        "wd_pr_df_comp = wd_pr_df.loc[:,wd_cols_keep]"
      ],
      "outputs": [],
      "execution_count": 43,
      "metadata": {
        "jupyter": {
          "source_hidden": false,
          "outputs_hidden": false
        },
        "nteract": {
          "transient": {
            "deleting": false
          }
        },
        "gather": {
          "logged": 1697497358310
        }
      }
    },
    {
      "cell_type": "code",
      "source": [
        "wd_pr_df_dev.head(1)"
      ],
      "outputs": [
        {
          "output_type": "execute_result",
          "execution_count": 59,
          "data": {
            "text/plain": "                          workdayID EmployeeID Employee_FullName  \\\n0  1abc577aeaea9000c204fbb36b590000      10569    WILLIAM BROWN    \n\n                 Workers Employee_BillTransaction_Descriptor  \\\n0  WILLIAM BROWN (10569)                           10 Hours    \n\n  billableTransaction.descriptor Employee_BillTransactionDate  amount  \\\n0         10 Hours on 10/12/2023                   10/12/2023    10.0   \n\n  dayOfTheWeek FrequencySalary  ...                      timeType1.id  \\\n0     Thursday   Weekly Hourly  ...  88572bc8f2d81000d2da8beacaec0000   \n\n  totalHoursTimeTracking transactionDate2 transactionSource.descriptor  \\\n0                   10.0       2023-10-12                         Time   \n\n               transactionSource.id unit.descriptor  \\\n0  7a55a775b63b4b9b8a5b3722fc1e4556           Hours   \n\n                            unit.id  unit1 unitOfTimeIsHours unroundedDuration  \n0  c4dacbd56bca4a9a8950e8d3ed21bbdb  Hours              True               0.0  \n\n[1 rows x 338 columns]",
            "text/html": "<div>\n<style scoped>\n    .dataframe tbody tr th:only-of-type {\n        vertical-align: middle;\n    }\n\n    .dataframe tbody tr th {\n        vertical-align: top;\n    }\n\n    .dataframe thead th {\n        text-align: right;\n    }\n</style>\n<table border=\"1\" class=\"dataframe\">\n  <thead>\n    <tr style=\"text-align: right;\">\n      <th></th>\n      <th>workdayID</th>\n      <th>EmployeeID</th>\n      <th>Employee_FullName</th>\n      <th>Workers</th>\n      <th>Employee_BillTransaction_Descriptor</th>\n      <th>billableTransaction.descriptor</th>\n      <th>Employee_BillTransactionDate</th>\n      <th>amount</th>\n      <th>dayOfTheWeek</th>\n      <th>FrequencySalary</th>\n      <th>...</th>\n      <th>timeType1.id</th>\n      <th>totalHoursTimeTracking</th>\n      <th>transactionDate2</th>\n      <th>transactionSource.descriptor</th>\n      <th>transactionSource.id</th>\n      <th>unit.descriptor</th>\n      <th>unit.id</th>\n      <th>unit1</th>\n      <th>unitOfTimeIsHours</th>\n      <th>unroundedDuration</th>\n    </tr>\n  </thead>\n  <tbody>\n    <tr>\n      <th>0</th>\n      <td>1abc577aeaea9000c204fbb36b590000</td>\n      <td>10569</td>\n      <td>WILLIAM BROWN</td>\n      <td>WILLIAM BROWN (10569)</td>\n      <td>10 Hours</td>\n      <td>10 Hours on 10/12/2023</td>\n      <td>10/12/2023</td>\n      <td>10.0</td>\n      <td>Thursday</td>\n      <td>Weekly Hourly</td>\n      <td>...</td>\n      <td>88572bc8f2d81000d2da8beacaec0000</td>\n      <td>10.0</td>\n      <td>2023-10-12</td>\n      <td>Time</td>\n      <td>7a55a775b63b4b9b8a5b3722fc1e4556</td>\n      <td>Hours</td>\n      <td>c4dacbd56bca4a9a8950e8d3ed21bbdb</td>\n      <td>Hours</td>\n      <td>True</td>\n      <td>0.0</td>\n    </tr>\n  </tbody>\n</table>\n<p>1 rows × 338 columns</p>\n</div>"
          },
          "metadata": {}
        }
      ],
      "execution_count": 59,
      "metadata": {
        "jupyter": {
          "source_hidden": false,
          "outputs_hidden": false
        },
        "nteract": {
          "transient": {
            "deleting": false
          }
        },
        "gather": {
          "logged": 1697498085316
        }
      }
    },
    {
      "cell_type": "code",
      "source": [
        "#QC Work for Leanne on 10/16/2023 - Teams Chat\n",
        "### EEID == '12713' showing zero in WD, 61 in TCP\n",
        "#wd_pr_df_dev.loc[(wd_pr_df_dev['EmployeeID'] == '12713')]\n",
        "#wd_pr_df_comp.loc[wd_filter&(wd_pr_df_comp['EEID'] == '12713')]\n",
        "wd_pr_df_dev['id_dev'] = wd_pr_df_dev['Workers'].str.split('(').str[1]\n",
        "wd_pr_df_dev['test_id'] = wd_pr_df_dev['id_dev'].str.split(')').str[0]"
      ],
      "outputs": [],
      "execution_count": 80,
      "metadata": {
        "jupyter": {
          "source_hidden": false,
          "outputs_hidden": false
        },
        "nteract": {
          "transient": {
            "deleting": false
          }
        },
        "gather": {
          "logged": 1697499928634
        }
      }
    },
    {
      "cell_type": "code",
      "source": [
        "#Roberto Hernandez: issue with hours or ID?\n",
        "wd_pr_df_dev.loc[wd_pr_df_dev['Employee_FullName'].str.contains('Roberto Hern')]"
      ],
      "outputs": [
        {
          "output_type": "execute_result",
          "execution_count": 86,
          "data": {
            "text/plain": "                              workdayID EmployeeID   Employee_FullName  \\\n597    1abc577aeaea9000c2873119607f0000      20305  Roberto Hernandez    \n598    1abc577aeaea9000c28731b3b7f10000      20305  Roberto Hernandez    \n599    1abc577aeaea9000c28732e7c0ce0000      20305  Roberto Hernandez    \n600    1abc577aeaea9000c2873381f1c20000      20305  Roberto Hernandez    \n601    1abc577aeaea9000c287341ba89d0000      20305  Roberto Hernandez    \n602    1abc577aeaea9000c28734b564c70000      20305  Roberto Hernandez    \n32657  dcd88da845b59000ca299c94a9950000      20305  Roberto Hernandez    \n32658  dcd88da845b59000ca299d2eb4ab0000      20305  Roberto Hernandez    \n32659  dcd88da845b59000ca299e6433e80000      20305  Roberto Hernandez    \n32660  dcd88da845b59000ca299efead310000      20305  Roberto Hernandez    \n32661  dcd88da845b59000ca299f990cb90000      20305  Roberto Hernandez    \n37699  babe2cdd23cd9000b9dfa1c1eaec0000      20305  Roberto Hernandez    \n37700  babe2cdd23cd9000b9dfa25bd5180000      20305  Roberto Hernandez    \n\n                         Workers Employee_BillTransaction_Descriptor  \\\n597    Roberto Hernandez (20305)                           10 Hours    \n598    Roberto Hernandez (20305)                           10 Hours    \n599    Roberto Hernandez (20305)                           10 Hours    \n600    Roberto Hernandez (20305)                           10 Hours    \n601    Roberto Hernandez (20305)                           10 Hours    \n602    Roberto Hernandez (20305)                           10 Hours    \n32657  Roberto Hernandez (20305)                           10 Hours    \n32658  Roberto Hernandez (20305)                           10 Hours    \n32659  Roberto Hernandez (20305)                           10 Hours    \n32660  Roberto Hernandez (20305)                            2 Hours    \n32661  Roberto Hernandez (20305)                            7 Hours    \n37699  Roberto Hernandez (20305)                           10 Hours    \n37700  Roberto Hernandez (20305)                            9 Hours    \n\n      billableTransaction.descriptor Employee_BillTransactionDate  amount  \\\n597           10 Hours on 10/09/2023                   10/09/2023    10.0   \n598           10 Hours on 10/10/2023                   10/10/2023    10.0   \n599           10 Hours on 10/11/2023                   10/11/2023    10.0   \n600           10 Hours on 10/12/2023                   10/12/2023    10.0   \n601           10 Hours on 10/13/2023                   10/13/2023    10.0   \n602           10 Hours on 10/14/2023                   10/14/2023    10.0   \n32657         10 Hours on 10/02/2023                   10/02/2023    10.0   \n32658         10 Hours on 10/03/2023                   10/03/2023    10.0   \n32659         10 Hours on 10/04/2023                   10/04/2023    10.0   \n32660          2 Hours on 10/05/2023                   10/05/2023     2.0   \n32661          7 Hours on 10/06/2023                   10/06/2023     7.0   \n37699         10 Hours on 09/28/2023                   09/28/2023    10.0   \n37700          9 Hours on 09/29/2023                   09/29/2023     9.0   \n\n      dayOfTheWeek FrequencySalary  ... transactionDate2  \\\n597         Monday   Weekly Hourly  ...       2023-10-09   \n598        Tuesday   Weekly Hourly  ...       2023-10-10   \n599      Wednesday   Weekly Hourly  ...       2023-10-11   \n600       Thursday   Weekly Hourly  ...       2023-10-12   \n601         Friday   Weekly Hourly  ...       2023-10-13   \n602       Saturday   Weekly Hourly  ...       2023-10-14   \n32657       Monday   Weekly Hourly  ...       2023-10-02   \n32658      Tuesday   Weekly Hourly  ...       2023-10-03   \n32659    Wednesday   Weekly Hourly  ...       2023-10-04   \n32660     Thursday   Weekly Hourly  ...       2023-10-05   \n32661       Friday   Weekly Hourly  ...       2023-10-06   \n37699     Thursday   Weekly Hourly  ...       2023-09-28   \n37700       Friday   Weekly Hourly  ...       2023-09-29   \n\n      transactionSource.descriptor              transactionSource.id  \\\n597                           Time  7a55a775b63b4b9b8a5b3722fc1e4556   \n598                           Time  7a55a775b63b4b9b8a5b3722fc1e4556   \n599                           Time  7a55a775b63b4b9b8a5b3722fc1e4556   \n600                           Time  7a55a775b63b4b9b8a5b3722fc1e4556   \n601                           Time  7a55a775b63b4b9b8a5b3722fc1e4556   \n602                           Time  7a55a775b63b4b9b8a5b3722fc1e4556   \n32657                         Time  7a55a775b63b4b9b8a5b3722fc1e4556   \n32658                         Time  7a55a775b63b4b9b8a5b3722fc1e4556   \n32659                         Time  7a55a775b63b4b9b8a5b3722fc1e4556   \n32660                         Time  7a55a775b63b4b9b8a5b3722fc1e4556   \n32661                         Time  7a55a775b63b4b9b8a5b3722fc1e4556   \n37699                         Time  7a55a775b63b4b9b8a5b3722fc1e4556   \n37700                         Time  7a55a775b63b4b9b8a5b3722fc1e4556   \n\n      unit.descriptor                           unit.id  unit1  \\\n597             Hours  c4dacbd56bca4a9a8950e8d3ed21bbdb  Hours   \n598             Hours  c4dacbd56bca4a9a8950e8d3ed21bbdb  Hours   \n599             Hours  c4dacbd56bca4a9a8950e8d3ed21bbdb  Hours   \n600             Hours  c4dacbd56bca4a9a8950e8d3ed21bbdb  Hours   \n601             Hours  c4dacbd56bca4a9a8950e8d3ed21bbdb  Hours   \n602             Hours  c4dacbd56bca4a9a8950e8d3ed21bbdb  Hours   \n32657           Hours  c4dacbd56bca4a9a8950e8d3ed21bbdb  Hours   \n32658           Hours  c4dacbd56bca4a9a8950e8d3ed21bbdb  Hours   \n32659           Hours  c4dacbd56bca4a9a8950e8d3ed21bbdb  Hours   \n32660           Hours  c4dacbd56bca4a9a8950e8d3ed21bbdb  Hours   \n32661           Hours  c4dacbd56bca4a9a8950e8d3ed21bbdb  Hours   \n37699           Hours  c4dacbd56bca4a9a8950e8d3ed21bbdb  Hours   \n37700           Hours  c4dacbd56bca4a9a8950e8d3ed21bbdb  Hours   \n\n      unitOfTimeIsHours unroundedDuration  id_dev test_id  \n597                True               0.0  20305)   20305  \n598                True               0.0  20305)   20305  \n599                True               0.0  20305)   20305  \n600                True               0.0  20305)   20305  \n601                True               0.0  20305)   20305  \n602                True               0.0  20305)   20305  \n32657              True               0.0  20305)   20305  \n32658              True               0.0  20305)   20305  \n32659              True               0.0  20305)   20305  \n32660              True               0.0  20305)   20305  \n32661              True               0.0  20305)   20305  \n37699              True               0.0  20305)   20305  \n37700              True               0.0  20305)   20305  \n\n[13 rows x 340 columns]",
            "text/html": "<div>\n<style scoped>\n    .dataframe tbody tr th:only-of-type {\n        vertical-align: middle;\n    }\n\n    .dataframe tbody tr th {\n        vertical-align: top;\n    }\n\n    .dataframe thead th {\n        text-align: right;\n    }\n</style>\n<table border=\"1\" class=\"dataframe\">\n  <thead>\n    <tr style=\"text-align: right;\">\n      <th></th>\n      <th>workdayID</th>\n      <th>EmployeeID</th>\n      <th>Employee_FullName</th>\n      <th>Workers</th>\n      <th>Employee_BillTransaction_Descriptor</th>\n      <th>billableTransaction.descriptor</th>\n      <th>Employee_BillTransactionDate</th>\n      <th>amount</th>\n      <th>dayOfTheWeek</th>\n      <th>FrequencySalary</th>\n      <th>...</th>\n      <th>transactionDate2</th>\n      <th>transactionSource.descriptor</th>\n      <th>transactionSource.id</th>\n      <th>unit.descriptor</th>\n      <th>unit.id</th>\n      <th>unit1</th>\n      <th>unitOfTimeIsHours</th>\n      <th>unroundedDuration</th>\n      <th>id_dev</th>\n      <th>test_id</th>\n    </tr>\n  </thead>\n  <tbody>\n    <tr>\n      <th>597</th>\n      <td>1abc577aeaea9000c2873119607f0000</td>\n      <td>20305</td>\n      <td>Roberto Hernandez</td>\n      <td>Roberto Hernandez (20305)</td>\n      <td>10 Hours</td>\n      <td>10 Hours on 10/09/2023</td>\n      <td>10/09/2023</td>\n      <td>10.0</td>\n      <td>Monday</td>\n      <td>Weekly Hourly</td>\n      <td>...</td>\n      <td>2023-10-09</td>\n      <td>Time</td>\n      <td>7a55a775b63b4b9b8a5b3722fc1e4556</td>\n      <td>Hours</td>\n      <td>c4dacbd56bca4a9a8950e8d3ed21bbdb</td>\n      <td>Hours</td>\n      <td>True</td>\n      <td>0.0</td>\n      <td>20305)</td>\n      <td>20305</td>\n    </tr>\n    <tr>\n      <th>598</th>\n      <td>1abc577aeaea9000c28731b3b7f10000</td>\n      <td>20305</td>\n      <td>Roberto Hernandez</td>\n      <td>Roberto Hernandez (20305)</td>\n      <td>10 Hours</td>\n      <td>10 Hours on 10/10/2023</td>\n      <td>10/10/2023</td>\n      <td>10.0</td>\n      <td>Tuesday</td>\n      <td>Weekly Hourly</td>\n      <td>...</td>\n      <td>2023-10-10</td>\n      <td>Time</td>\n      <td>7a55a775b63b4b9b8a5b3722fc1e4556</td>\n      <td>Hours</td>\n      <td>c4dacbd56bca4a9a8950e8d3ed21bbdb</td>\n      <td>Hours</td>\n      <td>True</td>\n      <td>0.0</td>\n      <td>20305)</td>\n      <td>20305</td>\n    </tr>\n    <tr>\n      <th>599</th>\n      <td>1abc577aeaea9000c28732e7c0ce0000</td>\n      <td>20305</td>\n      <td>Roberto Hernandez</td>\n      <td>Roberto Hernandez (20305)</td>\n      <td>10 Hours</td>\n      <td>10 Hours on 10/11/2023</td>\n      <td>10/11/2023</td>\n      <td>10.0</td>\n      <td>Wednesday</td>\n      <td>Weekly Hourly</td>\n      <td>...</td>\n      <td>2023-10-11</td>\n      <td>Time</td>\n      <td>7a55a775b63b4b9b8a5b3722fc1e4556</td>\n      <td>Hours</td>\n      <td>c4dacbd56bca4a9a8950e8d3ed21bbdb</td>\n      <td>Hours</td>\n      <td>True</td>\n      <td>0.0</td>\n      <td>20305)</td>\n      <td>20305</td>\n    </tr>\n    <tr>\n      <th>600</th>\n      <td>1abc577aeaea9000c2873381f1c20000</td>\n      <td>20305</td>\n      <td>Roberto Hernandez</td>\n      <td>Roberto Hernandez (20305)</td>\n      <td>10 Hours</td>\n      <td>10 Hours on 10/12/2023</td>\n      <td>10/12/2023</td>\n      <td>10.0</td>\n      <td>Thursday</td>\n      <td>Weekly Hourly</td>\n      <td>...</td>\n      <td>2023-10-12</td>\n      <td>Time</td>\n      <td>7a55a775b63b4b9b8a5b3722fc1e4556</td>\n      <td>Hours</td>\n      <td>c4dacbd56bca4a9a8950e8d3ed21bbdb</td>\n      <td>Hours</td>\n      <td>True</td>\n      <td>0.0</td>\n      <td>20305)</td>\n      <td>20305</td>\n    </tr>\n    <tr>\n      <th>601</th>\n      <td>1abc577aeaea9000c287341ba89d0000</td>\n      <td>20305</td>\n      <td>Roberto Hernandez</td>\n      <td>Roberto Hernandez (20305)</td>\n      <td>10 Hours</td>\n      <td>10 Hours on 10/13/2023</td>\n      <td>10/13/2023</td>\n      <td>10.0</td>\n      <td>Friday</td>\n      <td>Weekly Hourly</td>\n      <td>...</td>\n      <td>2023-10-13</td>\n      <td>Time</td>\n      <td>7a55a775b63b4b9b8a5b3722fc1e4556</td>\n      <td>Hours</td>\n      <td>c4dacbd56bca4a9a8950e8d3ed21bbdb</td>\n      <td>Hours</td>\n      <td>True</td>\n      <td>0.0</td>\n      <td>20305)</td>\n      <td>20305</td>\n    </tr>\n    <tr>\n      <th>602</th>\n      <td>1abc577aeaea9000c28734b564c70000</td>\n      <td>20305</td>\n      <td>Roberto Hernandez</td>\n      <td>Roberto Hernandez (20305)</td>\n      <td>10 Hours</td>\n      <td>10 Hours on 10/14/2023</td>\n      <td>10/14/2023</td>\n      <td>10.0</td>\n      <td>Saturday</td>\n      <td>Weekly Hourly</td>\n      <td>...</td>\n      <td>2023-10-14</td>\n      <td>Time</td>\n      <td>7a55a775b63b4b9b8a5b3722fc1e4556</td>\n      <td>Hours</td>\n      <td>c4dacbd56bca4a9a8950e8d3ed21bbdb</td>\n      <td>Hours</td>\n      <td>True</td>\n      <td>0.0</td>\n      <td>20305)</td>\n      <td>20305</td>\n    </tr>\n    <tr>\n      <th>32657</th>\n      <td>dcd88da845b59000ca299c94a9950000</td>\n      <td>20305</td>\n      <td>Roberto Hernandez</td>\n      <td>Roberto Hernandez (20305)</td>\n      <td>10 Hours</td>\n      <td>10 Hours on 10/02/2023</td>\n      <td>10/02/2023</td>\n      <td>10.0</td>\n      <td>Monday</td>\n      <td>Weekly Hourly</td>\n      <td>...</td>\n      <td>2023-10-02</td>\n      <td>Time</td>\n      <td>7a55a775b63b4b9b8a5b3722fc1e4556</td>\n      <td>Hours</td>\n      <td>c4dacbd56bca4a9a8950e8d3ed21bbdb</td>\n      <td>Hours</td>\n      <td>True</td>\n      <td>0.0</td>\n      <td>20305)</td>\n      <td>20305</td>\n    </tr>\n    <tr>\n      <th>32658</th>\n      <td>dcd88da845b59000ca299d2eb4ab0000</td>\n      <td>20305</td>\n      <td>Roberto Hernandez</td>\n      <td>Roberto Hernandez (20305)</td>\n      <td>10 Hours</td>\n      <td>10 Hours on 10/03/2023</td>\n      <td>10/03/2023</td>\n      <td>10.0</td>\n      <td>Tuesday</td>\n      <td>Weekly Hourly</td>\n      <td>...</td>\n      <td>2023-10-03</td>\n      <td>Time</td>\n      <td>7a55a775b63b4b9b8a5b3722fc1e4556</td>\n      <td>Hours</td>\n      <td>c4dacbd56bca4a9a8950e8d3ed21bbdb</td>\n      <td>Hours</td>\n      <td>True</td>\n      <td>0.0</td>\n      <td>20305)</td>\n      <td>20305</td>\n    </tr>\n    <tr>\n      <th>32659</th>\n      <td>dcd88da845b59000ca299e6433e80000</td>\n      <td>20305</td>\n      <td>Roberto Hernandez</td>\n      <td>Roberto Hernandez (20305)</td>\n      <td>10 Hours</td>\n      <td>10 Hours on 10/04/2023</td>\n      <td>10/04/2023</td>\n      <td>10.0</td>\n      <td>Wednesday</td>\n      <td>Weekly Hourly</td>\n      <td>...</td>\n      <td>2023-10-04</td>\n      <td>Time</td>\n      <td>7a55a775b63b4b9b8a5b3722fc1e4556</td>\n      <td>Hours</td>\n      <td>c4dacbd56bca4a9a8950e8d3ed21bbdb</td>\n      <td>Hours</td>\n      <td>True</td>\n      <td>0.0</td>\n      <td>20305)</td>\n      <td>20305</td>\n    </tr>\n    <tr>\n      <th>32660</th>\n      <td>dcd88da845b59000ca299efead310000</td>\n      <td>20305</td>\n      <td>Roberto Hernandez</td>\n      <td>Roberto Hernandez (20305)</td>\n      <td>2 Hours</td>\n      <td>2 Hours on 10/05/2023</td>\n      <td>10/05/2023</td>\n      <td>2.0</td>\n      <td>Thursday</td>\n      <td>Weekly Hourly</td>\n      <td>...</td>\n      <td>2023-10-05</td>\n      <td>Time</td>\n      <td>7a55a775b63b4b9b8a5b3722fc1e4556</td>\n      <td>Hours</td>\n      <td>c4dacbd56bca4a9a8950e8d3ed21bbdb</td>\n      <td>Hours</td>\n      <td>True</td>\n      <td>0.0</td>\n      <td>20305)</td>\n      <td>20305</td>\n    </tr>\n    <tr>\n      <th>32661</th>\n      <td>dcd88da845b59000ca299f990cb90000</td>\n      <td>20305</td>\n      <td>Roberto Hernandez</td>\n      <td>Roberto Hernandez (20305)</td>\n      <td>7 Hours</td>\n      <td>7 Hours on 10/06/2023</td>\n      <td>10/06/2023</td>\n      <td>7.0</td>\n      <td>Friday</td>\n      <td>Weekly Hourly</td>\n      <td>...</td>\n      <td>2023-10-06</td>\n      <td>Time</td>\n      <td>7a55a775b63b4b9b8a5b3722fc1e4556</td>\n      <td>Hours</td>\n      <td>c4dacbd56bca4a9a8950e8d3ed21bbdb</td>\n      <td>Hours</td>\n      <td>True</td>\n      <td>0.0</td>\n      <td>20305)</td>\n      <td>20305</td>\n    </tr>\n    <tr>\n      <th>37699</th>\n      <td>babe2cdd23cd9000b9dfa1c1eaec0000</td>\n      <td>20305</td>\n      <td>Roberto Hernandez</td>\n      <td>Roberto Hernandez (20305)</td>\n      <td>10 Hours</td>\n      <td>10 Hours on 09/28/2023</td>\n      <td>09/28/2023</td>\n      <td>10.0</td>\n      <td>Thursday</td>\n      <td>Weekly Hourly</td>\n      <td>...</td>\n      <td>2023-09-28</td>\n      <td>Time</td>\n      <td>7a55a775b63b4b9b8a5b3722fc1e4556</td>\n      <td>Hours</td>\n      <td>c4dacbd56bca4a9a8950e8d3ed21bbdb</td>\n      <td>Hours</td>\n      <td>True</td>\n      <td>0.0</td>\n      <td>20305)</td>\n      <td>20305</td>\n    </tr>\n    <tr>\n      <th>37700</th>\n      <td>babe2cdd23cd9000b9dfa25bd5180000</td>\n      <td>20305</td>\n      <td>Roberto Hernandez</td>\n      <td>Roberto Hernandez (20305)</td>\n      <td>9 Hours</td>\n      <td>9 Hours on 09/29/2023</td>\n      <td>09/29/2023</td>\n      <td>9.0</td>\n      <td>Friday</td>\n      <td>Weekly Hourly</td>\n      <td>...</td>\n      <td>2023-09-29</td>\n      <td>Time</td>\n      <td>7a55a775b63b4b9b8a5b3722fc1e4556</td>\n      <td>Hours</td>\n      <td>c4dacbd56bca4a9a8950e8d3ed21bbdb</td>\n      <td>Hours</td>\n      <td>True</td>\n      <td>0.0</td>\n      <td>20305)</td>\n      <td>20305</td>\n    </tr>\n  </tbody>\n</table>\n<p>13 rows × 340 columns</p>\n</div>"
          },
          "metadata": {}
        }
      ],
      "execution_count": 86,
      "metadata": {
        "jupyter": {
          "source_hidden": false,
          "outputs_hidden": false
        },
        "nteract": {
          "transient": {
            "deleting": false
          }
        },
        "gather": {
          "logged": 1697500080256
        }
      }
    },
    {
      "cell_type": "code",
      "source": [
        "tcp_df_comp.loc[tcp_filter&(tcp_df_comp['EEID'] == '12713')]"
      ],
      "outputs": [
        {
          "output_type": "execute_result",
          "execution_count": 52,
          "data": {
            "text/plain": "         EEID       Date      Job Sub_Job  Hours\n184421  12713 2023-10-09  7102120      25   10.5\n188984  12713 2023-10-08  7102120      25    8.5\n188988  12713 2023-10-10  7102120      25   10.5\n189007  12713 2023-10-13  7102120      25   10.5\n216072  12713 2023-10-12  7102120      25   10.5\n217634  12713 2023-10-11  7102120      25   10.5",
            "text/html": "<div>\n<style scoped>\n    .dataframe tbody tr th:only-of-type {\n        vertical-align: middle;\n    }\n\n    .dataframe tbody tr th {\n        vertical-align: top;\n    }\n\n    .dataframe thead th {\n        text-align: right;\n    }\n</style>\n<table border=\"1\" class=\"dataframe\">\n  <thead>\n    <tr style=\"text-align: right;\">\n      <th></th>\n      <th>EEID</th>\n      <th>Date</th>\n      <th>Job</th>\n      <th>Sub_Job</th>\n      <th>Hours</th>\n    </tr>\n  </thead>\n  <tbody>\n    <tr>\n      <th>184421</th>\n      <td>12713</td>\n      <td>2023-10-09</td>\n      <td>7102120</td>\n      <td>25</td>\n      <td>10.5</td>\n    </tr>\n    <tr>\n      <th>188984</th>\n      <td>12713</td>\n      <td>2023-10-08</td>\n      <td>7102120</td>\n      <td>25</td>\n      <td>8.5</td>\n    </tr>\n    <tr>\n      <th>188988</th>\n      <td>12713</td>\n      <td>2023-10-10</td>\n      <td>7102120</td>\n      <td>25</td>\n      <td>10.5</td>\n    </tr>\n    <tr>\n      <th>189007</th>\n      <td>12713</td>\n      <td>2023-10-13</td>\n      <td>7102120</td>\n      <td>25</td>\n      <td>10.5</td>\n    </tr>\n    <tr>\n      <th>216072</th>\n      <td>12713</td>\n      <td>2023-10-12</td>\n      <td>7102120</td>\n      <td>25</td>\n      <td>10.5</td>\n    </tr>\n    <tr>\n      <th>217634</th>\n      <td>12713</td>\n      <td>2023-10-11</td>\n      <td>7102120</td>\n      <td>25</td>\n      <td>10.5</td>\n    </tr>\n  </tbody>\n</table>\n</div>"
          },
          "metadata": {}
        }
      ],
      "execution_count": 52,
      "metadata": {
        "jupyter": {
          "source_hidden": false,
          "outputs_hidden": false
        },
        "nteract": {
          "transient": {
            "deleting": false
          }
        },
        "gather": {
          "logged": 1697497752828
        }
      }
    },
    {
      "cell_type": "code",
      "source": [
        "#QC Work for Leanne on 10/16/2023 - Teams Chat\n",
        "### ['EEID'] == '98050' showing 52 in TCP, \n",
        "wd_pr_df_comp.loc[wd_pr_df_comp['EEID'] == '98050']"
      ],
      "outputs": [
        {
          "output_type": "execute_result",
          "execution_count": 48,
          "data": {
            "text/plain": "Empty DataFrame\nColumns: [EEID, Date, Job, Sub_Job, Hours]\nIndex: []",
            "text/html": "<div>\n<style scoped>\n    .dataframe tbody tr th:only-of-type {\n        vertical-align: middle;\n    }\n\n    .dataframe tbody tr th {\n        vertical-align: top;\n    }\n\n    .dataframe thead th {\n        text-align: right;\n    }\n</style>\n<table border=\"1\" class=\"dataframe\">\n  <thead>\n    <tr style=\"text-align: right;\">\n      <th></th>\n      <th>EEID</th>\n      <th>Date</th>\n      <th>Job</th>\n      <th>Sub_Job</th>\n      <th>Hours</th>\n    </tr>\n  </thead>\n  <tbody>\n  </tbody>\n</table>\n</div>"
          },
          "metadata": {}
        }
      ],
      "execution_count": 48,
      "metadata": {
        "jupyter": {
          "source_hidden": false,
          "outputs_hidden": false
        },
        "nteract": {
          "transient": {
            "deleting": false
          }
        },
        "gather": {
          "logged": 1697497696143
        }
      }
    },
    {
      "cell_type": "code",
      "source": [
        "#QC Work for Leanne on 10/16/2023 - Teams Chat\n",
        "### ['EEID'] == '98050' showing 52 in TCP, \n",
        "tcp_df_comp.loc[(tcp_filter)&(tcp_df_comp['EEID']=='98050')]"
      ],
      "outputs": [
        {
          "output_type": "execute_result",
          "execution_count": 47,
          "data": {
            "text/plain": "         EEID       Date      Job Sub_Job  Hours\n727467  98050 2023-10-09  7102115      10   10.0\n727473  98050 2023-10-14  7102115      10    2.0\n812963  98050 2023-10-12  7102115      10   10.0\n818942  98050 2023-10-10  7102115      10   10.0\n818943  98050 2023-10-13  7102115      10   10.0\n828880  98050 2023-10-11  7102115      10   10.0",
            "text/html": "<div>\n<style scoped>\n    .dataframe tbody tr th:only-of-type {\n        vertical-align: middle;\n    }\n\n    .dataframe tbody tr th {\n        vertical-align: top;\n    }\n\n    .dataframe thead th {\n        text-align: right;\n    }\n</style>\n<table border=\"1\" class=\"dataframe\">\n  <thead>\n    <tr style=\"text-align: right;\">\n      <th></th>\n      <th>EEID</th>\n      <th>Date</th>\n      <th>Job</th>\n      <th>Sub_Job</th>\n      <th>Hours</th>\n    </tr>\n  </thead>\n  <tbody>\n    <tr>\n      <th>727467</th>\n      <td>98050</td>\n      <td>2023-10-09</td>\n      <td>7102115</td>\n      <td>10</td>\n      <td>10.0</td>\n    </tr>\n    <tr>\n      <th>727473</th>\n      <td>98050</td>\n      <td>2023-10-14</td>\n      <td>7102115</td>\n      <td>10</td>\n      <td>2.0</td>\n    </tr>\n    <tr>\n      <th>812963</th>\n      <td>98050</td>\n      <td>2023-10-12</td>\n      <td>7102115</td>\n      <td>10</td>\n      <td>10.0</td>\n    </tr>\n    <tr>\n      <th>818942</th>\n      <td>98050</td>\n      <td>2023-10-10</td>\n      <td>7102115</td>\n      <td>10</td>\n      <td>10.0</td>\n    </tr>\n    <tr>\n      <th>818943</th>\n      <td>98050</td>\n      <td>2023-10-13</td>\n      <td>7102115</td>\n      <td>10</td>\n      <td>10.0</td>\n    </tr>\n    <tr>\n      <th>828880</th>\n      <td>98050</td>\n      <td>2023-10-11</td>\n      <td>7102115</td>\n      <td>10</td>\n      <td>10.0</td>\n    </tr>\n  </tbody>\n</table>\n</div>"
          },
          "metadata": {}
        }
      ],
      "execution_count": 47,
      "metadata": {
        "jupyter": {
          "source_hidden": false,
          "outputs_hidden": false
        },
        "nteract": {
          "transient": {
            "deleting": false
          }
        },
        "gather": {
          "logged": 1697497675682
        }
      }
    },
    {
      "cell_type": "code",
      "source": [
        "#QC Work for Leanne on 10/16/2023 - Teams Chat\n",
        "### ['EEID'] == '10069' showing 44.75 in WD\n",
        "wd_pr_df_comp.loc[wd_filter&(wd_pr_df_comp['EEID']=='10069')] "
      ],
      "outputs": [
        {
          "output_type": "execute_result",
          "execution_count": 63,
          "data": {
            "text/plain": "        EEID       Date      Job Sub_Job  Hours\n9677   10069 2023-10-13  7102216      25   4.75\n12767  10069 2023-10-09  7102216      25   7.75\n12768  10069 2023-10-10  7102216      25   7.50\n12771  10069 2023-10-11  7102216      25  10.50\n12773  10069 2023-10-12  7102216      25   9.00\n12775  10069 2023-10-13  7102216      25   0.50\n12777  10069 2023-10-13  7102216      25   4.75",
            "text/html": "<div>\n<style scoped>\n    .dataframe tbody tr th:only-of-type {\n        vertical-align: middle;\n    }\n\n    .dataframe tbody tr th {\n        vertical-align: top;\n    }\n\n    .dataframe thead th {\n        text-align: right;\n    }\n</style>\n<table border=\"1\" class=\"dataframe\">\n  <thead>\n    <tr style=\"text-align: right;\">\n      <th></th>\n      <th>EEID</th>\n      <th>Date</th>\n      <th>Job</th>\n      <th>Sub_Job</th>\n      <th>Hours</th>\n    </tr>\n  </thead>\n  <tbody>\n    <tr>\n      <th>9677</th>\n      <td>10069</td>\n      <td>2023-10-13</td>\n      <td>7102216</td>\n      <td>25</td>\n      <td>4.75</td>\n    </tr>\n    <tr>\n      <th>12767</th>\n      <td>10069</td>\n      <td>2023-10-09</td>\n      <td>7102216</td>\n      <td>25</td>\n      <td>7.75</td>\n    </tr>\n    <tr>\n      <th>12768</th>\n      <td>10069</td>\n      <td>2023-10-10</td>\n      <td>7102216</td>\n      <td>25</td>\n      <td>7.50</td>\n    </tr>\n    <tr>\n      <th>12771</th>\n      <td>10069</td>\n      <td>2023-10-11</td>\n      <td>7102216</td>\n      <td>25</td>\n      <td>10.50</td>\n    </tr>\n    <tr>\n      <th>12773</th>\n      <td>10069</td>\n      <td>2023-10-12</td>\n      <td>7102216</td>\n      <td>25</td>\n      <td>9.00</td>\n    </tr>\n    <tr>\n      <th>12775</th>\n      <td>10069</td>\n      <td>2023-10-13</td>\n      <td>7102216</td>\n      <td>25</td>\n      <td>0.50</td>\n    </tr>\n    <tr>\n      <th>12777</th>\n      <td>10069</td>\n      <td>2023-10-13</td>\n      <td>7102216</td>\n      <td>25</td>\n      <td>4.75</td>\n    </tr>\n  </tbody>\n</table>\n</div>"
          },
          "metadata": {}
        }
      ],
      "execution_count": 63,
      "metadata": {
        "jupyter": {
          "source_hidden": false,
          "outputs_hidden": false
        },
        "nteract": {
          "transient": {
            "deleting": false
          }
        },
        "gather": {
          "logged": 1697498639176
        }
      }
    },
    {
      "cell_type": "code",
      "source": [],
      "outputs": [],
      "execution_count": null,
      "metadata": {
        "jupyter": {
          "source_hidden": false,
          "outputs_hidden": false
        },
        "nteract": {
          "transient": {
            "deleting": false
          }
        }
      }
    },
    {
      "cell_type": "code",
      "source": [],
      "outputs": [],
      "execution_count": null,
      "metadata": {
        "jupyter": {
          "source_hidden": false,
          "outputs_hidden": false
        },
        "nteract": {
          "transient": {
            "deleting": false
          }
        }
      }
    },
    {
      "cell_type": "code",
      "source": [
        "cmic_pr_df = cmic_pr_df_dev.copy()"
      ],
      "outputs": [],
      "execution_count": 59,
      "metadata": {
        "jupyter": {
          "source_hidden": false,
          "outputs_hidden": false
        },
        "nteract": {
          "transient": {
            "deleting": false
          }
        },
        "gather": {
          "logged": 1697465951061
        }
      }
    },
    {
      "cell_type": "code",
      "source": [
        "#CMiC Data Manipulation\n",
        "#Re-casting this column as a Date data type\n",
        "cmic_pr_df[\"Date\"] = pd.to_datetime(cmic_pr_df[\"Date\"])\n",
        "#Filter: Only Keeping Labor Hourly\n",
        "cmic_pr_df = cmic_pr_df.loc[cmic_pr_df['Task'].isin(['LH','LHA'])]\n",
        "#Renaming Relevant Columns\n",
        "cmic_pr_df = cmic_pr_df.rename({'Employee Number':'EEID','Job Code':'Job','Sub Job Code':'Sub_Job','Regular Hours':'Hours'},axis='columns')\n",
        "cmic_cols_keep = ['EEID' , 'Date' , 'Job' , 'Sub_Job' , 'Hours']\n",
        "cmic_pr_df_comp = cmic_pr_df.loc[:,cmic_cols_keep]"
      ],
      "outputs": [],
      "execution_count": 60,
      "metadata": {
        "jupyter": {
          "source_hidden": false,
          "outputs_hidden": false
        },
        "nteract": {
          "transient": {
            "deleting": false
          }
        },
        "gather": {
          "logged": 1697465952568
        }
      }
    },
    {
      "cell_type": "code",
      "source": [
        "###Step 2\n",
        "#Create filter that works for all 3 data sets\n",
        "#Group by data \n",
        "#join data for comparison (3 joins)(suffixes on columns)(Outer Join)\n",
        "#Missing EEIDs\n",
        "\n",
        "###Step 3\n",
        "#Add Job Names\n",
        "#Job Total Comparisons\n",
        "#Job and Sub Job Total Comparisons\n",
        "#Create separate DFs for missing Jobs/EEIDs paired with subjob - TBD"
      ],
      "outputs": [],
      "execution_count": 61,
      "metadata": {
        "jupyter": {
          "source_hidden": false,
          "outputs_hidden": false
        },
        "nteract": {
          "transient": {
            "deleting": false
          }
        },
        "gather": {
          "logged": 1697465953522
        }
      }
    },
    {
      "cell_type": "code",
      "source": [
        "#Date Filters\n",
        "tcp_filter = (tcp_df_comp['Date']>=start_date)&(tcp_df_comp['Date']<=end_date)\n",
        "cmic_filter = (cmic_pr_df_comp['Date']>=start_date)&(cmic_pr_df_comp['Date']<=end_date)\n",
        "wd_filter = (wd_pr_df_comp['Date']>=start_date)&(wd_pr_df_comp['Date']<=end_date)"
      ],
      "outputs": [],
      "execution_count": 107,
      "metadata": {
        "jupyter": {
          "source_hidden": false,
          "outputs_hidden": false
        },
        "nteract": {
          "transient": {
            "deleting": false
          }
        },
        "gather": {
          "logged": 1697475337289
        }
      }
    },
    {
      "cell_type": "markdown",
      "source": [
        "# FIGURE OUT CMIC DATE FILTER - MAX DATE ISSUE"
      ],
      "metadata": {
        "nteract": {
          "transient": {
            "deleting": false
          }
        }
      }
    },
    {
      "cell_type": "code",
      "source": [
        "#cmic_pr_df_comp.loc[cmic_pr_df_comp['Date']>='2023-09-23']\n",
        "#cmic_pr_df_comp.loc[cmic_filter]\n",
        "#wd_pr_df_comp.loc[wd_pr_df_comp['Date']>='2023-10-01']\n",
        "#wd_pr_df_comp.loc[wd_filter]\n",
        "#tcp_df_comp.loc[tcp_filter]\n",
        "cmic_pr_df_comp.Date.max()"
      ],
      "outputs": [
        {
          "output_type": "execute_result",
          "execution_count": 63,
          "data": {
            "text/plain": "Timestamp('2023-09-29 00:00:00')"
          },
          "metadata": {}
        }
      ],
      "execution_count": 63,
      "metadata": {
        "jupyter": {
          "source_hidden": false,
          "outputs_hidden": false
        },
        "nteract": {
          "transient": {
            "deleting": false
          }
        },
        "gather": {
          "logged": 1697465955560
        }
      }
    },
    {
      "cell_type": "markdown",
      "source": [
        "#### Grouping the Data by Different Levels"
      ],
      "metadata": {
        "nteract": {
          "transient": {
            "deleting": false
          }
        }
      }
    },
    {
      "cell_type": "code",
      "source": [
        "#Grouping by Job\n",
        "tcp_grouped_job = tcp_df_comp.loc[tcp_filter].groupby(['Job']).agg(TotalHours_TCP = pd.NamedAgg(column='Hours',aggfunc='sum'))\n",
        "tcp_grouped_job = tcp_grouped_job.reset_index()\n",
        "cmic_grouped_job = cmic_pr_df_comp.loc[cmic_filter].groupby(['Job']).agg(TotalHours_CMiC = pd.NamedAgg(column='Hours',aggfunc='sum'))\n",
        "cmic_grouped_job = cmic_grouped_job.reset_index()\n",
        "wd_grouped_job = wd_pr_df_comp.loc[wd_filter].groupby(['Job']).agg(TotalHours_WD = pd.NamedAgg(column='Hours',aggfunc='sum'))\n",
        "wd_grouped_job = wd_grouped_job.reset_index()"
      ],
      "outputs": [],
      "execution_count": 64,
      "metadata": {
        "jupyter": {
          "source_hidden": false,
          "outputs_hidden": false
        },
        "nteract": {
          "transient": {
            "deleting": false
          }
        },
        "gather": {
          "logged": 1697465956989
        }
      }
    },
    {
      "cell_type": "code",
      "source": [
        "#Grouping by Job, Sub Job\n",
        "tcp_grouped_subjob = tcp_df_comp.loc[tcp_filter].groupby(['Job','Sub_Job']).agg(TotalHours_TCP = pd.NamedAgg(column='Hours',aggfunc='sum'))\n",
        "tcp_grouped_subjob = tcp_grouped_subjob.reset_index()\n",
        "cmic_grouped_subjob = cmic_pr_df_comp.loc[cmic_filter].groupby(['Job','Sub_Job']).agg(TotalHours_CMiC = pd.NamedAgg(column='Hours',aggfunc='sum'))\n",
        "cmic_grouped_subjob = cmic_grouped_subjob.reset_index()\n",
        "wd_grouped_subjob = wd_pr_df_comp.loc[wd_filter].groupby(['Job','Sub_Job']).agg(TotalHours_WD = pd.NamedAgg(column='Hours',aggfunc='sum'))\n",
        "wd_grouped_subjob = wd_grouped_subjob.reset_index()"
      ],
      "outputs": [],
      "execution_count": 65,
      "metadata": {
        "jupyter": {
          "source_hidden": false,
          "outputs_hidden": false
        },
        "nteract": {
          "transient": {
            "deleting": false
          }
        },
        "gather": {
          "logged": 1697465957854
        }
      }
    },
    {
      "cell_type": "code",
      "source": [
        "#Grouping by Job, Sub Job, EEID\n",
        "### Commented out for EEID Comparison Only - uncomment out to compare EEID by Job and Sub Job\n",
        "#tcp_grouped_ee = tcp_df_comp.loc[tcp_filter].groupby(['Job','Sub_Job','EEID']).agg(TotalHours_TCP = pd.NamedAgg(column='Hours',aggfunc='sum'))\n",
        "tcp_grouped_ee = tcp_df_comp.loc[tcp_filter].groupby(['EEID']).agg(TotalHours_TCP = pd.NamedAgg(column='Hours',aggfunc='sum'))\n",
        "tcp_grouped_ee = tcp_grouped_ee.reset_index()\n",
        "### Commented out for EEID Comparison Only - uncomment out to compare EEID by Job and Sub Job\n",
        "#cmic_grouped_ee = cmic_pr_df_comp.loc[cmic_filter].groupby(['Job','Sub_Job','EEID']).agg(TotalHours_CMiC = pd.NamedAgg(column='Hours',aggfunc='sum'))\n",
        "cmic_grouped_ee = cmic_pr_df_comp.loc[cmic_filter].groupby(['EEID']).agg(TotalHours_CMiC = pd.NamedAgg(column='Hours',aggfunc='sum'))\n",
        "cmic_grouped_ee = cmic_grouped_ee.reset_index()\n",
        "### Commented out for EEID Comparison Only - uncomment out to compare EEID by Job and Sub Job\n",
        "#wd_grouped_ee = wd_pr_df_comp.loc[wd_filter].groupby(['Job','Sub_Job','EEID']).agg(TotalHours_WD = pd.NamedAgg(column='Hours',aggfunc='sum'))\n",
        "wd_grouped_ee = wd_pr_df_comp.loc[wd_filter].groupby(['EEID']).agg(TotalHours_WD = pd.NamedAgg(column='Hours',aggfunc='sum'))\n",
        "wd_grouped_ee = wd_grouped_ee.reset_index()"
      ],
      "outputs": [],
      "execution_count": 66,
      "metadata": {
        "jupyter": {
          "source_hidden": false,
          "outputs_hidden": false
        },
        "nteract": {
          "transient": {
            "deleting": false
          }
        },
        "gather": {
          "logged": 1697465958502
        }
      }
    },
    {
      "cell_type": "markdown",
      "source": [
        "#### Unique Column Creation for the Joins"
      ],
      "metadata": {
        "nteract": {
          "transient": {
            "deleting": false
          }
        }
      }
    },
    {
      "cell_type": "code",
      "source": [
        "#Unique Columns to Join On for Sub Job Comparison\n",
        "tcp_grouped_subjob['unique'] = tcp_grouped_subjob[['Job','Sub_Job']].apply(lambda x: ' - '.join(str(value) for value in x), axis=1)\n",
        "cmic_grouped_subjob['unique'] = cmic_grouped_subjob[['Job','Sub_Job']].apply(lambda x: ' - '.join(str(value) for value in x), axis=1)\n",
        "wd_grouped_subjob['unique'] = wd_grouped_subjob[['Job','Sub_Job']].apply(lambda x: ' - '.join(str(value) for value in x), axis=1)"
      ],
      "outputs": [],
      "execution_count": 67,
      "metadata": {
        "jupyter": {
          "source_hidden": false,
          "outputs_hidden": false
        },
        "nteract": {
          "transient": {
            "deleting": false
          }
        },
        "gather": {
          "logged": 1697465959664
        }
      }
    },
    {
      "cell_type": "code",
      "source": [
        "#Unique Columns to Join On for EEID Comparison\n",
        "### Commented out for EEID Comparison Only - uncomment out to compare EEID by Job and Sub Job\n",
        "#tcp_grouped_ee['unique'] = tcp_grouped_ee[['EEID','Job','Sub_Job']].apply(lambda x: ' - '.join(str(value) for value in x), axis=1)\n",
        "#cmic_grouped_ee['unique'] = cmic_grouped_ee[['EEID','Job','Sub_Job']].apply(lambda x: ' - '.join(str(value) for value in x), axis=1)\n",
        "#wd_grouped_ee['unique'] = wd_grouped_ee[['EEID','Job','Sub_Job']].apply(lambda x: ' - '.join(str(value) for value in x), axis=1)"
      ],
      "outputs": [],
      "execution_count": 68,
      "metadata": {
        "jupyter": {
          "source_hidden": false,
          "outputs_hidden": false
        },
        "nteract": {
          "transient": {
            "deleting": false
          }
        },
        "gather": {
          "logged": 1697465960296
        }
      }
    },
    {
      "cell_type": "markdown",
      "source": [
        "#### TCP vs. Workday Comparison"
      ],
      "metadata": {
        "nteract": {
          "transient": {
            "deleting": false
          }
        }
      }
    },
    {
      "cell_type": "code",
      "source": [
        "#TCP v. WD Job\n",
        "tcp_v_wd_job = tcp_grouped_job.merge(wd_grouped_job , how = 'outer' , on = 'Job' , suffixes = ['_TCP','_WD'])\n",
        "#NaN Hours will be filled with 0\n",
        "tcp_v_wd_job['TotalHours_WD'] = tcp_v_wd_job['TotalHours_WD'].fillna(0)\n",
        "tcp_v_wd_job['TotalHours_TCP'] = tcp_v_wd_job['TotalHours_TCP'].fillna(0)\n",
        "tcp_v_wd_job['Hours_Variance (TCP - WD)'] = tcp_v_wd_job['TotalHours_TCP'] - tcp_v_wd_job['TotalHours_WD']\n",
        "tcp_v_wd_job = tcp_v_wd_job.sort_values(['Job'  , 'Hours_Variance (TCP - WD)'] , ascending=[False,False])"
      ],
      "outputs": [],
      "execution_count": 70,
      "metadata": {
        "jupyter": {
          "source_hidden": false,
          "outputs_hidden": false
        },
        "nteract": {
          "transient": {
            "deleting": false
          }
        },
        "gather": {
          "logged": 1697465970678
        }
      }
    },
    {
      "cell_type": "code",
      "source": [
        "#TCP v. WD Job, Sub Job\n",
        "tcp_v_wd_subjob = tcp_grouped_subjob.merge(wd_grouped_subjob , how = 'outer' , on = 'unique' , suffixes = ['_TCP','_WD']).drop(columns =['unique'])\n",
        "#NaN Hours will be filled with 0\n",
        "tcp_v_wd_subjob['TotalHours_WD'] = tcp_v_wd_subjob['TotalHours_WD'].fillna(0)\n",
        "tcp_v_wd_subjob['TotalHours_TCP'] = tcp_v_wd_subjob['TotalHours_TCP'].fillna(0)\n",
        "tcp_v_wd_subjob['Hours_Variance (TCP - WD)'] = tcp_v_wd_subjob['TotalHours_TCP'] - tcp_v_wd_subjob['TotalHours_WD']\n",
        "tcp_v_wd_subjob = tcp_v_wd_subjob.sort_values(['Job_TCP' , 'Sub_Job_TCP' , 'Hours_Variance (TCP - WD)'] , ascending=[False,True,False])"
      ],
      "outputs": [],
      "execution_count": 71,
      "metadata": {
        "jupyter": {
          "source_hidden": false,
          "outputs_hidden": false
        },
        "nteract": {
          "transient": {
            "deleting": false
          }
        },
        "gather": {
          "logged": 1697465972361
        }
      }
    },
    {
      "cell_type": "code",
      "source": [
        "#TCP v. WD Job, Sub Job, EEID\n",
        "### Commented out for EEID Comparison Only - uncomment out to compare EEID by Job and Sub Job\n",
        "#tcp_v_wd_ee = tcp_grouped_ee.merge(wd_grouped_ee , how = 'outer' , on = 'unique' , suffixes = ['_TCP','_WD']).drop(columns =['unique'])\n",
        "tcp_v_wd_ee = tcp_grouped_ee.merge(wd_grouped_ee , how = 'outer' , on = 'EEID' , suffixes = ['_TCP','_WD'])\n",
        "#NaN Hours will be filled with 0\n",
        "tcp_v_wd_ee['TotalHours_WD'] = tcp_v_wd_ee['TotalHours_WD'].fillna(0)\n",
        "tcp_v_wd_ee['TotalHours_TCP'] = tcp_v_wd_ee['TotalHours_TCP'].fillna(0)\n",
        "tcp_v_wd_ee['Hours_Variance (TCP - WD)'] = tcp_v_wd_ee['TotalHours_TCP'] - tcp_v_wd_ee['TotalHours_WD']\n",
        "tcp_v_wd_ee = tcp_v_wd_ee.sort_values('Hours_Variance (TCP - WD)' , ascending=False, key=abs)\n",
        "#Wait for direction from stakeholder\n",
        "\n",
        "#Filter for 0s OR Nulls in columns and create new DF: Missing_In_WD_df, Missing_In_TCP_df \n",
        "#Filter down to relevant columns only\n",
        "#tcp_v_wd_ee = tcp_v_wd_ee.loc[:,['Job_TCP','Sub_Job_TCP','EEID_TCP','TotalHours_TCP','TotalHours_WD','Hours_Variance (TCP - WD)']]\n",
        "#Fill NaNs with Text: \"Job Missing in Workday\" or \"EEID Missing in Workday\""
      ],
      "outputs": [],
      "execution_count": 72,
      "metadata": {
        "jupyter": {
          "source_hidden": false,
          "outputs_hidden": false
        },
        "nteract": {
          "transient": {
            "deleting": false
          }
        },
        "gather": {
          "logged": 1697465973133
        }
      }
    },
    {
      "cell_type": "markdown",
      "source": [
        "#### TCP vs. CMiC Comparison"
      ],
      "metadata": {
        "nteract": {
          "transient": {
            "deleting": false
          }
        }
      }
    },
    {
      "cell_type": "code",
      "source": [
        "#TCP v CMiC Job\n",
        "tcp_v_cmic_job = tcp_grouped_job.merge(cmic_grouped_job , how = 'outer' , on = 'Job' , suffixes = ['','_CMiC'])\n",
        "#NaN Hours will be filled with 0\n",
        "tcp_v_cmic_job['TotalHours_CMiC'] = tcp_v_cmic_job['TotalHours_CMiC'].fillna(0)\n",
        "tcp_v_cmic_job['TotalHours_TCP'] = tcp_v_cmic_job['TotalHours_TCP'].fillna(0)\n",
        "tcp_v_cmic_job['Hours_Variance (TCP - CMiC)'] = tcp_v_cmic_job['TotalHours_TCP'] - tcp_v_cmic_job['TotalHours_CMiC']\n",
        "tcp_v_cmic_job = tcp_v_cmic_job.sort_values(['Job' , 'Hours_Variance (TCP - CMiC)'], ascending=[False, False])"
      ],
      "outputs": [],
      "execution_count": 73,
      "metadata": {
        "jupyter": {
          "source_hidden": false,
          "outputs_hidden": false
        },
        "nteract": {
          "transient": {
            "deleting": false
          }
        },
        "gather": {
          "logged": 1697465974173
        }
      }
    },
    {
      "cell_type": "code",
      "source": [
        "#TCP v CMiC Job, Sub Job\n",
        "tcp_v_cmic_subjob = tcp_grouped_subjob.merge(cmic_grouped_subjob , how = 'outer' , on = 'unique' , suffixes = ['','_CMiC']).drop(columns =['unique'])\n",
        "#NaN Hours will be filled with 0\n",
        "tcp_v_cmic_subjob['TotalHours_CMiC'] = tcp_v_cmic_subjob['TotalHours_CMiC'].fillna(0)\n",
        "tcp_v_cmic_subjob['TotalHours_TCP'] = tcp_v_cmic_subjob['TotalHours_TCP'].fillna(0)\n",
        "tcp_v_cmic_subjob['Hours_Variance (TCP - CMiC)'] = tcp_v_cmic_subjob['TotalHours_TCP'] - tcp_v_cmic_subjob['TotalHours_CMiC']\n",
        "tcp_v_cmic_subjob = tcp_v_cmic_subjob.sort_values(['Job' , 'Sub_Job', 'Hours_Variance (TCP - CMiC)'], ascending=[False, True, False])"
      ],
      "outputs": [],
      "execution_count": 74,
      "metadata": {
        "jupyter": {
          "source_hidden": false,
          "outputs_hidden": false
        },
        "nteract": {
          "transient": {
            "deleting": false
          }
        },
        "gather": {
          "logged": 1697465974853
        }
      }
    },
    {
      "cell_type": "code",
      "source": [
        "#TCP v CMiC Job, Sub Job, EEID\n",
        "### Commented out for EEID Comparison Only - uncomment out to compare EEID by Job and Sub Job\n",
        "#tcp_v_cmic_ee = tcp_grouped_ee.merge(cmic_grouped_ee , how = 'outer' , on = 'unique' , suffixes = ['','_CMiC']).drop(columns =['unique'])\n",
        "tcp_v_cmic_ee = tcp_grouped_ee.merge(cmic_grouped_ee , how = 'outer' , on = 'EEID' , suffixes = ['','_CMiC'])\n",
        "#NaN Hours will be filled with 0\n",
        "tcp_v_cmic_ee['TotalHours_CMiC'] = tcp_v_cmic_ee['TotalHours_CMiC'].fillna(0)\n",
        "tcp_v_cmic_ee['TotalHours_TCP'] = tcp_v_cmic_ee['TotalHours_TCP'].fillna(0)\n",
        "tcp_v_cmic_ee['Hours_Variance (TCP - CMiC)'] = tcp_v_cmic_ee['TotalHours_TCP'] - tcp_v_cmic_ee['TotalHours_CMiC']\n",
        "tcp_v_cmic_ee = tcp_v_cmic_ee.sort_values('Hours_Variance (TCP - CMiC)', ascending=False, key=abs)\n",
        "#Filter down to relevant columns only"
      ],
      "outputs": [],
      "execution_count": 75,
      "metadata": {
        "jupyter": {
          "source_hidden": false,
          "outputs_hidden": false
        },
        "nteract": {
          "transient": {
            "deleting": false
          }
        },
        "gather": {
          "logged": 1697465975522
        }
      }
    },
    {
      "cell_type": "markdown",
      "source": [
        "#### Workday vs. CMiC Comparison"
      ],
      "metadata": {
        "nteract": {
          "transient": {
            "deleting": false
          }
        }
      }
    },
    {
      "cell_type": "code",
      "source": [
        "#WD v. CMiC EEID\n",
        "wd_v_cmic_job = wd_grouped_job.merge(cmic_grouped_job , how = 'outer' , on = 'Job' , suffixes = ['_WD','_CMiC'])\n",
        "#NaN Hours will be filled with 0\n",
        "wd_v_cmic_job['TotalHours_CMiC'] = wd_v_cmic_job['TotalHours_CMiC'].fillna(0)\n",
        "wd_v_cmic_job['TotalHours_WD'] = wd_v_cmic_job['TotalHours_WD'].fillna(0)\n",
        "wd_v_cmic_job['Hours_Variance (WD - CMiC)'] = wd_v_cmic_job['TotalHours_WD'] - wd_v_cmic_job['TotalHours_CMiC']\n",
        "wd_v_cmic_job = wd_v_cmic_job.sort_values(['Job' , 'Hours_Variance (WD - CMiC)'], ascending=[False,False])"
      ],
      "outputs": [],
      "execution_count": 77,
      "metadata": {
        "jupyter": {
          "source_hidden": false,
          "outputs_hidden": false
        },
        "nteract": {
          "transient": {
            "deleting": false
          }
        },
        "gather": {
          "logged": 1697465982338
        }
      }
    },
    {
      "cell_type": "code",
      "source": [
        "#WD v. CMiC Job, Sub Job\n",
        "wd_v_cmic_subjob = wd_grouped_subjob.merge(cmic_grouped_subjob , how = 'outer' , on = 'unique' , suffixes = ['_WD','_CMiC']).drop(columns =['unique'])\n",
        "#NaN Hours will be filled with 0\n",
        "wd_v_cmic_subjob['TotalHours_CMiC'] = wd_v_cmic_subjob['TotalHours_CMiC'].fillna(0)\n",
        "wd_v_cmic_subjob['TotalHours_WD'] = wd_v_cmic_subjob['TotalHours_WD'].fillna(0)\n",
        "wd_v_cmic_subjob['Hours_Variance (WD - CMiC)'] = wd_v_cmic_subjob['TotalHours_WD'] - wd_v_cmic_subjob['TotalHours_CMiC']\n",
        "wd_v_cmic_subjob = wd_v_cmic_subjob.sort_values(['Job_WD' , 'Sub_Job_WD' , 'Hours_Variance (WD - CMiC)'], ascending=[False,True,False])"
      ],
      "outputs": [],
      "execution_count": 78,
      "metadata": {
        "jupyter": {
          "source_hidden": false,
          "outputs_hidden": false
        },
        "nteract": {
          "transient": {
            "deleting": false
          }
        },
        "gather": {
          "logged": 1697465983513
        }
      }
    },
    {
      "cell_type": "code",
      "source": [
        "#WD v. CMiC Job, Sub Job, EEID\n",
        "### Commented out for EEID Comparison Only - uncomment out to compare EEID by Job and Sub Job\n",
        "#wd_v_cmic_ee = wd_grouped_ee.merge(cmic_grouped_ee , how = 'outer' , on = 'unique' , suffixes = ['_WD','_CMiC']).drop(columns =['unique'])\n",
        "wd_v_cmic_ee = wd_grouped_ee.merge(cmic_grouped_ee , how = 'outer' , on = 'EEID' , suffixes = ['_WD','_CMiC'])\n",
        "#NaN Hours will be filled with 0\n",
        "wd_v_cmic_ee['TotalHours_CMiC'] = wd_v_cmic_ee['TotalHours_CMiC'].fillna(0)\n",
        "wd_v_cmic_ee['TotalHours_WD'] = wd_v_cmic_ee['TotalHours_WD'].fillna(0)\n",
        "wd_v_cmic_ee['Hours_Variance (WD - CMiC)'] = wd_v_cmic_ee['TotalHours_WD'] - wd_v_cmic_ee['TotalHours_CMiC']\n",
        "wd_v_cmic_ee = wd_v_cmic_ee.sort_values('Hours_Variance (WD - CMiC)', ascending=False , key=abs)\n",
        "#Filter down to relevant columns only"
      ],
      "outputs": [],
      "execution_count": 79,
      "metadata": {
        "jupyter": {
          "source_hidden": false,
          "outputs_hidden": false
        },
        "nteract": {
          "transient": {
            "deleting": false
          }
        },
        "gather": {
          "logged": 1697465984151
        }
      }
    },
    {
      "cell_type": "code",
      "source": [
        "file_path = os.getcwd() + '/excel_output'\n",
        "file_path"
      ],
      "outputs": [
        {
          "output_type": "execute_result",
          "execution_count": 80,
          "data": {
            "text/plain": "'/mnt/batch/tasks/shared/LS_root/mounts/clusters/jbeachy2/code/Users/JBeachy/Project_DataDomain/Payroll/DataDelivery_Compare/Hours_Comparison/excel_output'"
          },
          "metadata": {}
        }
      ],
      "execution_count": 80,
      "metadata": {
        "jupyter": {
          "source_hidden": false,
          "outputs_hidden": false
        },
        "nteract": {
          "transient": {
            "deleting": false
          }
        },
        "gather": {
          "logged": 1697465984838
        }
      }
    },
    {
      "cell_type": "code",
      "source": [
        "#File Path in AMLS\n",
        "file_name = f'Hours_Comparison_WeekEnding_{week_ending}'\n",
        "#Writing to AMLS File Directory\n",
        "with pd.ExcelWriter(f'{file_path}/{file_name}.xlsx') as writer:\n",
        "    tcp_v_wd_job.to_excel(writer , sheet_name = 'TCPvWD_Hours_byJob' , index = False)\n",
        "    tcp_v_wd_subjob.to_excel(writer , sheet_name = 'TCPvWD_Hours_bySubJob' , index = False)\n",
        "    tcp_v_wd_ee.to_excel(writer , sheet_name = 'TCPvWD_Hours_byEE' , index = False)\n",
        "    tcp_v_cmic_job.to_excel(writer , sheet_name = 'TCPvCMiC_Hours_byJob' , index = False)\n",
        "    tcp_v_cmic_subjob.to_excel(writer , sheet_name = 'TCPvCMiC_Hours_bySubJob' , index = False)\n",
        "    tcp_v_cmic_ee.to_excel(writer , sheet_name = 'TCPvCMiC_Hours_byEE' , index = False)\n",
        "    wd_v_cmic_job.to_excel(writer , sheet_name = 'WDvCMiC_Hours_byJob' , index = False)\n",
        "    wd_v_cmic_subjob.to_excel(writer , sheet_name = 'WDvCMiC_Hours_bySubJob' , index = False)\n",
        "    wd_v_cmic_ee.to_excel(writer , sheet_name = 'WDvCMiC_Hours_byEE' , index = False)"
      ],
      "outputs": [],
      "execution_count": 81,
      "metadata": {
        "jupyter": {
          "source_hidden": false,
          "outputs_hidden": false
        },
        "nteract": {
          "transient": {
            "deleting": false
          }
        },
        "gather": {
          "logged": 1697465986662
        }
      }
    },
    {
      "cell_type": "code",
      "source": [
        "#Blob Storage Info\n",
        "storage_account_key = 'u46QXBaayH/rWljcqPTWZTNgFdGHo9zH4I0OLWgDi4oa2inkpjVwTbp74C+ISDC2oWtNlrcr69Ec+ASt5wV1PA=='\n",
        "storage_account_name = 'mossdatalakesource'\n",
        "connection_string = 'DefaultEndpointsProtocol=https;AccountName=mossdatalakesource;AccountKey=u46QXBaayH/rWljcqPTWZTNgFdGHo9zH4I0OLWgDi4oa2inkpjVwTbp74C+ISDC2oWtNlrcr69Ec+ASt5wV1PA==;EndpointSuffix=core.windows.net'\n",
        "container_name = 'cmic'\n",
        "#Defininng Blob Storage Uplpoad#\n",
        "def uploadtoblobstorage(file_path,file_name):\n",
        "    blob_service_client = BlobServiceClient.from_connection_string(connection_string)\n",
        "    blob_client = blob_service_client.get_blob_client(container = container_name , blob = file_name)\n",
        "\n",
        "    with open(file_path , 'rb') as data:\n",
        "        blob_client.upload_blob(data)\n",
        "    print(f'Uploaded {file_name}.')"
      ],
      "outputs": [],
      "execution_count": 82,
      "metadata": {
        "jupyter": {
          "source_hidden": false,
          "outputs_hidden": false
        },
        "nteract": {
          "transient": {
            "deleting": false
          }
        },
        "gather": {
          "logged": 1697466032310
        }
      }
    },
    {
      "cell_type": "code",
      "source": [
        "file_name_exp = f'{file_name}.xlsx'\n",
        "uploadtoblobstorage(f'{file_path}/{file_name}.xlsx', file_name_exp)"
      ],
      "outputs": [
        {
          "output_type": "stream",
          "name": "stdout",
          "text": "Uploaded Hours_Comparison_WeekEnding_2023-10-14.xlsx.\n"
        }
      ],
      "execution_count": 83,
      "metadata": {
        "jupyter": {
          "source_hidden": false,
          "outputs_hidden": false
        },
        "nteract": {
          "transient": {
            "deleting": false
          }
        },
        "gather": {
          "logged": 1697466034706
        }
      }
    },
    {
      "cell_type": "code",
      "source": [],
      "outputs": [],
      "execution_count": null,
      "metadata": {
        "jupyter": {
          "source_hidden": false,
          "outputs_hidden": false
        },
        "nteract": {
          "transient": {
            "deleting": false
          }
        }
      }
    }
  ],
  "metadata": {
    "kernelspec": {
      "name": "python310-sdkv2",
      "language": "python",
      "display_name": "Python 3.10 - SDK v2"
    },
    "language_info": {
      "name": "python",
      "version": "3.10.11",
      "mimetype": "text/x-python",
      "codemirror_mode": {
        "name": "ipython",
        "version": 3
      },
      "pygments_lexer": "ipython3",
      "nbconvert_exporter": "python",
      "file_extension": ".py"
    },
    "microsoft": {
      "ms_spell_check": {
        "ms_spell_check_language": "en"
      },
      "host": {
        "AzureML": {
          "notebookHasBeenCompleted": true
        }
      }
    },
    "kernel_info": {
      "name": "python310-sdkv2"
    },
    "nteract": {
      "version": "nteract-front-end@1.0.0"
    }
  },
  "nbformat": 4,
  "nbformat_minor": 2
}