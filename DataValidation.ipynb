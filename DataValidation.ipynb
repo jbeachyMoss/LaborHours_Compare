{
  "cells": [
    {
      "cell_type": "code",
      "source": [
        "# azureml-core of version 1.0.72 or higher is required\n",
        "# azureml-dataprep[pandas] of version 1.1.34 or higher is required\n",
        "from azureml.core import Workspace, Dataset\n",
        "import pandas as pd\n",
        "from datetime import date, datetime, timedelta\n",
        "import numpy as np\n",
        "from azure.storage.blob import BlobServiceClient\n",
        "\n",
        "subscription_id = '96599b9b-0d9b-4577-9163-418d2c6cd411'\n",
        "resource_group = 'rg-datasci-ml-dev-001'\n",
        "workspace_name = 'ml-moss-dev-001'\n",
        "\n",
        "workspace = Workspace(subscription_id, resource_group, workspace_name)\n",
        "\n",
        "dataset_hourly_compare_cmic = Dataset.get_by_name(workspace, name='Hourly_Employee_Time_prod')\n",
        "cmic_pr_df_dev = dataset_hourly_compare_cmic.to_pandas_dataframe()\n",
        "\n",
        "dataset_hourly_compare_wd = Dataset.get_by_name(workspace, name='WD_Hourly_Employee_Time_prod')\n",
        "wd_pr_df_dev = dataset_hourly_compare_wd.to_pandas_dataframe()\n",
        "\n",
        "tcp_dataset = Dataset.get_by_name(workspace, name='WorkSegments_Timesheet_prod')\n",
        "tcp_df_dev = tcp_dataset.to_pandas_dataframe()\n",
        "\n",
        "jcjob_dataset = Dataset.get_by_name(workspace, name='JCJOB_TABLE_TN_prod')\n",
        "jcjob_df = jcjob_dataset.to_pandas_dataframe()"
      ],
      "outputs": [],
      "execution_count": 1,
      "metadata": {
        "gather": {
          "logged": 1697489373369
        }
      }
    },
    {
      "cell_type": "code",
      "source": [
        "###Step 1\n",
        "#Filter Data Sets\n",
        "#Data Manipulate Data Sets\n",
        "#Narrow down to necessary columns only"
      ],
      "outputs": [],
      "execution_count": 2,
      "metadata": {
        "jupyter": {
          "source_hidden": false,
          "outputs_hidden": false
        },
        "nteract": {
          "transient": {
            "deleting": false
          }
        },
        "gather": {
          "logged": 1697489418820
        }
      }
    },
    {
      "cell_type": "code",
      "source": [
        "##########################\n",
        "\n",
        "week_ending = '2023-10-14'\n",
        "\n",
        "##########################\n",
        "\n",
        "date = datetime.strptime(week_ending, \"%Y-%m-%d\")\n",
        "start_date = date - timedelta(days = 6)\n",
        "end_date = date"
      ],
      "outputs": [],
      "execution_count": 3,
      "metadata": {
        "jupyter": {
          "source_hidden": false,
          "outputs_hidden": false
        },
        "nteract": {
          "transient": {
            "deleting": false
          }
        },
        "gather": {
          "logged": 1697489419426
        }
      }
    },
    {
      "cell_type": "code",
      "source": [
        "tcp_df = tcp_df_dev.copy()"
      ],
      "outputs": [],
      "execution_count": 4,
      "metadata": {
        "jupyter": {
          "source_hidden": false,
          "outputs_hidden": false
        },
        "nteract": {
          "transient": {
            "deleting": false
          }
        },
        "gather": {
          "logged": 1697489420026
        }
      }
    },
    {
      "cell_type": "code",
      "source": [
        "###TCP Data Manipulation\n",
        "#Filter: Solar Jobs only \n",
        "tcp_df = tcp_df.loc[tcp_df['Job_Code'].str.startswith('710')]\n",
        "#Filter: Only Keeping Labor Hourly\n",
        "tcp_df = tcp_df.loc[tcp_df['Task'].isin(['LH','LHA'])]\n",
        "#Creating a total hours column\n",
        "tcp_df['total_hours'] = tcp_df['Regular_Hours'] + tcp_df['Overtime_Hours']\n",
        "#Renaming Relevant Columns\n",
        "tcp_df = tcp_df.rename({'Employee_Number':'EEID','Job_Code':'Job','Activity':'Sub_Job','total_hours':'Hours'},axis='columns')\n",
        "tcp_cols_keep = ['EEID' , 'Date' , 'Job' , 'Sub_Job' , 'Hours']\n",
        "tcp_df_comp = tcp_df.loc[:,tcp_cols_keep]"
      ],
      "outputs": [],
      "execution_count": 5,
      "metadata": {
        "jupyter": {
          "source_hidden": false,
          "outputs_hidden": false
        },
        "nteract": {
          "transient": {
            "deleting": false
          }
        },
        "gather": {
          "logged": 1697489421194
        }
      }
    },
    {
      "cell_type": "code",
      "source": [
        "wd_pr_df = wd_pr_df_dev.copy()"
      ],
      "outputs": [],
      "execution_count": 104,
      "metadata": {
        "jupyter": {
          "source_hidden": false,
          "outputs_hidden": false
        },
        "nteract": {
          "transient": {
            "deleting": false
          }
        },
        "gather": {
          "logged": 1697470084183
        }
      }
    },
    {
      "cell_type": "code",
      "source": [
        "#Workday Data Manipulation\n",
        "#Drop Null values if the employee does not have a job/sub job assignment\n",
        "wd_pr_df = wd_pr_df.loc[~wd_pr_df['cf_INTLRVCalculatedProjectFromTimeBlock.descriptor'].isna()]\n",
        "#Filter: Solar Jobs Only\n",
        "wd_pr_df = wd_pr_df.loc[wd_pr_df['cf_INTLRVCalculatedProjectFromTimeBlock.descriptor'].str.startswith('710')]\n",
        "#This isolates the 2 digit sub job, also accomodates the sub jobs that have a letter in them like Claims (C) and Warranty (W)\n",
        "wd_pr_df['cf_INTLRVCalculatedProjectFromTimeBlock.descriptor'] = wd_pr_df['cf_INTLRVCalculatedProjectFromTimeBlock.descriptor'].str.replace('C' , '.C')\n",
        "wd_pr_df['cf_INTLRVCalculatedProjectFromTimeBlock.descriptor'] = wd_pr_df['cf_INTLRVCalculatedProjectFromTimeBlock.descriptor'].str.replace('W' , '.W')\n",
        "wd_pr_df['sub_job'] = wd_pr_df['cf_INTLRVCalculatedProjectFromTimeBlock.descriptor'].str.split('.').str[1]\n",
        "wd_pr_df['sub_job'] = wd_pr_df['sub_job'].str.split(' ').str[0]\n",
        "#Leaves behind Job ONLY\n",
        "wd_pr_df['job'] = wd_pr_df.loc[:,'cf_INTLRVCalculatedProjectFromTimeBlock.descriptor'].str[0:7]\n",
        "#Renaming Relevant Columns\n",
        "wd_pr_df = wd_pr_df.rename({'EmployeeID':'EEID','calculatedDate':'Date','job':'Job','sub_job':'Sub_Job','amount':'Hours'},axis='columns')\n",
        "wd_cols_keep = ['EEID' , 'Date' , 'Job' , 'Sub_Job' , 'Hours']\n",
        "wd_pr_df_comp = wd_pr_df.loc[:,wd_cols_keep]"
      ],
      "outputs": [],
      "execution_count": 58,
      "metadata": {
        "jupyter": {
          "source_hidden": false,
          "outputs_hidden": false
        },
        "nteract": {
          "transient": {
            "deleting": false
          }
        },
        "gather": {
          "logged": 1697465950018
        }
      }
    },
    {
      "cell_type": "code",
      "source": [
        "cmic_pr_df = cmic_pr_df_dev.copy()"
      ],
      "outputs": [],
      "execution_count": 59,
      "metadata": {
        "jupyter": {
          "source_hidden": false,
          "outputs_hidden": false
        },
        "nteract": {
          "transient": {
            "deleting": false
          }
        },
        "gather": {
          "logged": 1697465951061
        }
      }
    },
    {
      "cell_type": "code",
      "source": [
        "#CMiC Data Manipulation\n",
        "#Re-casting this column as a Date data type\n",
        "cmic_pr_df[\"Date\"] = pd.to_datetime(cmic_pr_df[\"Date\"])\n",
        "#Filter: Only Keeping Labor Hourly\n",
        "cmic_pr_df = cmic_pr_df.loc[cmic_pr_df['Task'].isin(['LH','LHA'])]\n",
        "#Renaming Relevant Columns\n",
        "cmic_pr_df = cmic_pr_df.rename({'Employee Number':'EEID','Job Code':'Job','Sub Job Code':'Sub_Job','Regular Hours':'Hours'},axis='columns')\n",
        "cmic_cols_keep = ['EEID' , 'Date' , 'Job' , 'Sub_Job' , 'Hours']\n",
        "cmic_pr_df_comp = cmic_pr_df.loc[:,cmic_cols_keep]"
      ],
      "outputs": [],
      "execution_count": 60,
      "metadata": {
        "jupyter": {
          "source_hidden": false,
          "outputs_hidden": false
        },
        "nteract": {
          "transient": {
            "deleting": false
          }
        },
        "gather": {
          "logged": 1697465952568
        }
      }
    },
    {
      "cell_type": "code",
      "source": [
        "###Step 2\n",
        "#Create filter that works for all 3 data sets\n",
        "#Group by data \n",
        "#join data for comparison (3 joins)(suffixes on columns)(Outer Join)\n",
        "#Missing EEIDs\n",
        "\n",
        "###Step 3\n",
        "#Add Job Names\n",
        "#Job Total Comparisons\n",
        "#Job and Sub Job Total Comparisons\n",
        "#Create separate DFs for missing Jobs/EEIDs paired with subjob - TBD"
      ],
      "outputs": [],
      "execution_count": 61,
      "metadata": {
        "jupyter": {
          "source_hidden": false,
          "outputs_hidden": false
        },
        "nteract": {
          "transient": {
            "deleting": false
          }
        },
        "gather": {
          "logged": 1697465953522
        }
      }
    },
    {
      "cell_type": "code",
      "source": [
        "#Date Filters\n",
        "tcp_filter = (tcp_df_comp['Date']>=start_date)&(tcp_df_comp['Date']<=end_date)\n",
        "cmic_filter = (cmic_pr_df_comp['Date']>=start_date)&(cmic_pr_df_comp['Date']<=end_date)\n",
        "wd_filter = (wd_pr_df_comp['Date']>=start_date)&(wd_pr_df_comp['Date']<=end_date)"
      ],
      "outputs": [],
      "execution_count": 107,
      "metadata": {
        "jupyter": {
          "source_hidden": false,
          "outputs_hidden": false
        },
        "nteract": {
          "transient": {
            "deleting": false
          }
        },
        "gather": {
          "logged": 1697475337289
        }
      }
    },
    {
      "cell_type": "markdown",
      "source": [
        "# FIGURE OUT CMIC DATE FILTER - MAX DATE ISSUE"
      ],
      "metadata": {
        "nteract": {
          "transient": {
            "deleting": false
          }
        }
      }
    },
    {
      "cell_type": "code",
      "source": [
        "#cmic_pr_df_comp.loc[cmic_pr_df_comp['Date']>='2023-09-23']\n",
        "#cmic_pr_df_comp.loc[cmic_filter]\n",
        "#wd_pr_df_comp.loc[wd_pr_df_comp['Date']>='2023-10-01']\n",
        "#wd_pr_df_comp.loc[wd_filter]\n",
        "#tcp_df_comp.loc[tcp_filter]\n",
        "cmic_pr_df_comp.Date.max()"
      ],
      "outputs": [
        {
          "output_type": "execute_result",
          "execution_count": 63,
          "data": {
            "text/plain": "Timestamp('2023-09-29 00:00:00')"
          },
          "metadata": {}
        }
      ],
      "execution_count": 63,
      "metadata": {
        "jupyter": {
          "source_hidden": false,
          "outputs_hidden": false
        },
        "nteract": {
          "transient": {
            "deleting": false
          }
        },
        "gather": {
          "logged": 1697465955560
        }
      }
    },
    {
      "cell_type": "markdown",
      "source": [
        "#### Grouping the Data by Different Levels"
      ],
      "metadata": {
        "nteract": {
          "transient": {
            "deleting": false
          }
        }
      }
    },
    {
      "cell_type": "code",
      "source": [
        "#Grouping by Job\n",
        "tcp_grouped_job = tcp_df_comp.loc[tcp_filter].groupby(['Job']).agg(TotalHours_TCP = pd.NamedAgg(column='Hours',aggfunc='sum'))\n",
        "tcp_grouped_job = tcp_grouped_job.reset_index()\n",
        "cmic_grouped_job = cmic_pr_df_comp.loc[cmic_filter].groupby(['Job']).agg(TotalHours_CMiC = pd.NamedAgg(column='Hours',aggfunc='sum'))\n",
        "cmic_grouped_job = cmic_grouped_job.reset_index()\n",
        "wd_grouped_job = wd_pr_df_comp.loc[wd_filter].groupby(['Job']).agg(TotalHours_WD = pd.NamedAgg(column='Hours',aggfunc='sum'))\n",
        "wd_grouped_job = wd_grouped_job.reset_index()"
      ],
      "outputs": [],
      "execution_count": 64,
      "metadata": {
        "jupyter": {
          "source_hidden": false,
          "outputs_hidden": false
        },
        "nteract": {
          "transient": {
            "deleting": false
          }
        },
        "gather": {
          "logged": 1697465956989
        }
      }
    },
    {
      "cell_type": "code",
      "source": [
        "#Grouping by Job, Sub Job\n",
        "tcp_grouped_subjob = tcp_df_comp.loc[tcp_filter].groupby(['Job','Sub_Job']).agg(TotalHours_TCP = pd.NamedAgg(column='Hours',aggfunc='sum'))\n",
        "tcp_grouped_subjob = tcp_grouped_subjob.reset_index()\n",
        "cmic_grouped_subjob = cmic_pr_df_comp.loc[cmic_filter].groupby(['Job','Sub_Job']).agg(TotalHours_CMiC = pd.NamedAgg(column='Hours',aggfunc='sum'))\n",
        "cmic_grouped_subjob = cmic_grouped_subjob.reset_index()\n",
        "wd_grouped_subjob = wd_pr_df_comp.loc[wd_filter].groupby(['Job','Sub_Job']).agg(TotalHours_WD = pd.NamedAgg(column='Hours',aggfunc='sum'))\n",
        "wd_grouped_subjob = wd_grouped_subjob.reset_index()"
      ],
      "outputs": [],
      "execution_count": 65,
      "metadata": {
        "jupyter": {
          "source_hidden": false,
          "outputs_hidden": false
        },
        "nteract": {
          "transient": {
            "deleting": false
          }
        },
        "gather": {
          "logged": 1697465957854
        }
      }
    },
    {
      "cell_type": "code",
      "source": [
        "#Grouping by Job, Sub Job, EEID\n",
        "### Commented out for EEID Comparison Only - uncomment out to compare EEID by Job and Sub Job\n",
        "#tcp_grouped_ee = tcp_df_comp.loc[tcp_filter].groupby(['Job','Sub_Job','EEID']).agg(TotalHours_TCP = pd.NamedAgg(column='Hours',aggfunc='sum'))\n",
        "tcp_grouped_ee = tcp_df_comp.loc[tcp_filter].groupby(['EEID']).agg(TotalHours_TCP = pd.NamedAgg(column='Hours',aggfunc='sum'))\n",
        "tcp_grouped_ee = tcp_grouped_ee.reset_index()\n",
        "### Commented out for EEID Comparison Only - uncomment out to compare EEID by Job and Sub Job\n",
        "#cmic_grouped_ee = cmic_pr_df_comp.loc[cmic_filter].groupby(['Job','Sub_Job','EEID']).agg(TotalHours_CMiC = pd.NamedAgg(column='Hours',aggfunc='sum'))\n",
        "cmic_grouped_ee = cmic_pr_df_comp.loc[cmic_filter].groupby(['EEID']).agg(TotalHours_CMiC = pd.NamedAgg(column='Hours',aggfunc='sum'))\n",
        "cmic_grouped_ee = cmic_grouped_ee.reset_index()\n",
        "### Commented out for EEID Comparison Only - uncomment out to compare EEID by Job and Sub Job\n",
        "#wd_grouped_ee = wd_pr_df_comp.loc[wd_filter].groupby(['Job','Sub_Job','EEID']).agg(TotalHours_WD = pd.NamedAgg(column='Hours',aggfunc='sum'))\n",
        "wd_grouped_ee = wd_pr_df_comp.loc[wd_filter].groupby(['EEID']).agg(TotalHours_WD = pd.NamedAgg(column='Hours',aggfunc='sum'))\n",
        "wd_grouped_ee = wd_grouped_ee.reset_index()"
      ],
      "outputs": [],
      "execution_count": 66,
      "metadata": {
        "jupyter": {
          "source_hidden": false,
          "outputs_hidden": false
        },
        "nteract": {
          "transient": {
            "deleting": false
          }
        },
        "gather": {
          "logged": 1697465958502
        }
      }
    },
    {
      "cell_type": "markdown",
      "source": [
        "#### Unique Column Creation for the Joins"
      ],
      "metadata": {
        "nteract": {
          "transient": {
            "deleting": false
          }
        }
      }
    },
    {
      "cell_type": "code",
      "source": [
        "#Unique Columns to Join On for Sub Job Comparison\n",
        "tcp_grouped_subjob['unique'] = tcp_grouped_subjob[['Job','Sub_Job']].apply(lambda x: ' - '.join(str(value) for value in x), axis=1)\n",
        "cmic_grouped_subjob['unique'] = cmic_grouped_subjob[['Job','Sub_Job']].apply(lambda x: ' - '.join(str(value) for value in x), axis=1)\n",
        "wd_grouped_subjob['unique'] = wd_grouped_subjob[['Job','Sub_Job']].apply(lambda x: ' - '.join(str(value) for value in x), axis=1)"
      ],
      "outputs": [],
      "execution_count": 67,
      "metadata": {
        "jupyter": {
          "source_hidden": false,
          "outputs_hidden": false
        },
        "nteract": {
          "transient": {
            "deleting": false
          }
        },
        "gather": {
          "logged": 1697465959664
        }
      }
    },
    {
      "cell_type": "code",
      "source": [
        "#Unique Columns to Join On for EEID Comparison\n",
        "### Commented out for EEID Comparison Only - uncomment out to compare EEID by Job and Sub Job\n",
        "#tcp_grouped_ee['unique'] = tcp_grouped_ee[['EEID','Job','Sub_Job']].apply(lambda x: ' - '.join(str(value) for value in x), axis=1)\n",
        "#cmic_grouped_ee['unique'] = cmic_grouped_ee[['EEID','Job','Sub_Job']].apply(lambda x: ' - '.join(str(value) for value in x), axis=1)\n",
        "#wd_grouped_ee['unique'] = wd_grouped_ee[['EEID','Job','Sub_Job']].apply(lambda x: ' - '.join(str(value) for value in x), axis=1)"
      ],
      "outputs": [],
      "execution_count": 68,
      "metadata": {
        "jupyter": {
          "source_hidden": false,
          "outputs_hidden": false
        },
        "nteract": {
          "transient": {
            "deleting": false
          }
        },
        "gather": {
          "logged": 1697465960296
        }
      }
    },
    {
      "cell_type": "markdown",
      "source": [
        "#### TCP vs. Workday Comparison"
      ],
      "metadata": {
        "nteract": {
          "transient": {
            "deleting": false
          }
        }
      }
    },
    {
      "cell_type": "code",
      "source": [
        "#TCP v. WD Job\n",
        "tcp_v_wd_job = tcp_grouped_job.merge(wd_grouped_job , how = 'outer' , on = 'Job' , suffixes = ['_TCP','_WD'])\n",
        "#NaN Hours will be filled with 0\n",
        "tcp_v_wd_job['TotalHours_WD'] = tcp_v_wd_job['TotalHours_WD'].fillna(0)\n",
        "tcp_v_wd_job['TotalHours_TCP'] = tcp_v_wd_job['TotalHours_TCP'].fillna(0)\n",
        "tcp_v_wd_job['Hours_Variance (TCP - WD)'] = tcp_v_wd_job['TotalHours_TCP'] - tcp_v_wd_job['TotalHours_WD']\n",
        "tcp_v_wd_job = tcp_v_wd_job.sort_values(['Job'  , 'Hours_Variance (TCP - WD)'] , ascending=[False,False])"
      ],
      "outputs": [],
      "execution_count": 70,
      "metadata": {
        "jupyter": {
          "source_hidden": false,
          "outputs_hidden": false
        },
        "nteract": {
          "transient": {
            "deleting": false
          }
        },
        "gather": {
          "logged": 1697465970678
        }
      }
    },
    {
      "cell_type": "code",
      "source": [
        "#TCP v. WD Job, Sub Job\n",
        "tcp_v_wd_subjob = tcp_grouped_subjob.merge(wd_grouped_subjob , how = 'outer' , on = 'unique' , suffixes = ['_TCP','_WD']).drop(columns =['unique'])\n",
        "#NaN Hours will be filled with 0\n",
        "tcp_v_wd_subjob['TotalHours_WD'] = tcp_v_wd_subjob['TotalHours_WD'].fillna(0)\n",
        "tcp_v_wd_subjob['TotalHours_TCP'] = tcp_v_wd_subjob['TotalHours_TCP'].fillna(0)\n",
        "tcp_v_wd_subjob['Hours_Variance (TCP - WD)'] = tcp_v_wd_subjob['TotalHours_TCP'] - tcp_v_wd_subjob['TotalHours_WD']\n",
        "tcp_v_wd_subjob = tcp_v_wd_subjob.sort_values(['Job_TCP' , 'Sub_Job_TCP' , 'Hours_Variance (TCP - WD)'] , ascending=[False,True,False])"
      ],
      "outputs": [],
      "execution_count": 71,
      "metadata": {
        "jupyter": {
          "source_hidden": false,
          "outputs_hidden": false
        },
        "nteract": {
          "transient": {
            "deleting": false
          }
        },
        "gather": {
          "logged": 1697465972361
        }
      }
    },
    {
      "cell_type": "code",
      "source": [
        "#TCP v. WD Job, Sub Job, EEID\n",
        "### Commented out for EEID Comparison Only - uncomment out to compare EEID by Job and Sub Job\n",
        "#tcp_v_wd_ee = tcp_grouped_ee.merge(wd_grouped_ee , how = 'outer' , on = 'unique' , suffixes = ['_TCP','_WD']).drop(columns =['unique'])\n",
        "tcp_v_wd_ee = tcp_grouped_ee.merge(wd_grouped_ee , how = 'outer' , on = 'EEID' , suffixes = ['_TCP','_WD'])\n",
        "#NaN Hours will be filled with 0\n",
        "tcp_v_wd_ee['TotalHours_WD'] = tcp_v_wd_ee['TotalHours_WD'].fillna(0)\n",
        "tcp_v_wd_ee['TotalHours_TCP'] = tcp_v_wd_ee['TotalHours_TCP'].fillna(0)\n",
        "tcp_v_wd_ee['Hours_Variance (TCP - WD)'] = tcp_v_wd_ee['TotalHours_TCP'] - tcp_v_wd_ee['TotalHours_WD']\n",
        "tcp_v_wd_ee = tcp_v_wd_ee.sort_values('Hours_Variance (TCP - WD)' , ascending=False, key=abs)\n",
        "#Wait for direction from stakeholder\n",
        "\n",
        "#Filter for 0s OR Nulls in columns and create new DF: Missing_In_WD_df, Missing_In_TCP_df \n",
        "#Filter down to relevant columns only\n",
        "#tcp_v_wd_ee = tcp_v_wd_ee.loc[:,['Job_TCP','Sub_Job_TCP','EEID_TCP','TotalHours_TCP','TotalHours_WD','Hours_Variance (TCP - WD)']]\n",
        "#Fill NaNs with Text: \"Job Missing in Workday\" or \"EEID Missing in Workday\""
      ],
      "outputs": [],
      "execution_count": 72,
      "metadata": {
        "jupyter": {
          "source_hidden": false,
          "outputs_hidden": false
        },
        "nteract": {
          "transient": {
            "deleting": false
          }
        },
        "gather": {
          "logged": 1697465973133
        }
      }
    },
    {
      "cell_type": "markdown",
      "source": [
        "#### TCP vs. CMiC Comparison"
      ],
      "metadata": {
        "nteract": {
          "transient": {
            "deleting": false
          }
        }
      }
    },
    {
      "cell_type": "code",
      "source": [
        "#TCP v CMiC Job\n",
        "tcp_v_cmic_job = tcp_grouped_job.merge(cmic_grouped_job , how = 'outer' , on = 'Job' , suffixes = ['','_CMiC'])\n",
        "#NaN Hours will be filled with 0\n",
        "tcp_v_cmic_job['TotalHours_CMiC'] = tcp_v_cmic_job['TotalHours_CMiC'].fillna(0)\n",
        "tcp_v_cmic_job['TotalHours_TCP'] = tcp_v_cmic_job['TotalHours_TCP'].fillna(0)\n",
        "tcp_v_cmic_job['Hours_Variance (TCP - CMiC)'] = tcp_v_cmic_job['TotalHours_TCP'] - tcp_v_cmic_job['TotalHours_CMiC']\n",
        "tcp_v_cmic_job = tcp_v_cmic_job.sort_values(['Job' , 'Hours_Variance (TCP - CMiC)'], ascending=[False, False])"
      ],
      "outputs": [],
      "execution_count": 73,
      "metadata": {
        "jupyter": {
          "source_hidden": false,
          "outputs_hidden": false
        },
        "nteract": {
          "transient": {
            "deleting": false
          }
        },
        "gather": {
          "logged": 1697465974173
        }
      }
    },
    {
      "cell_type": "code",
      "source": [
        "#TCP v CMiC Job, Sub Job\n",
        "tcp_v_cmic_subjob = tcp_grouped_subjob.merge(cmic_grouped_subjob , how = 'outer' , on = 'unique' , suffixes = ['','_CMiC']).drop(columns =['unique'])\n",
        "#NaN Hours will be filled with 0\n",
        "tcp_v_cmic_subjob['TotalHours_CMiC'] = tcp_v_cmic_subjob['TotalHours_CMiC'].fillna(0)\n",
        "tcp_v_cmic_subjob['TotalHours_TCP'] = tcp_v_cmic_subjob['TotalHours_TCP'].fillna(0)\n",
        "tcp_v_cmic_subjob['Hours_Variance (TCP - CMiC)'] = tcp_v_cmic_subjob['TotalHours_TCP'] - tcp_v_cmic_subjob['TotalHours_CMiC']\n",
        "tcp_v_cmic_subjob = tcp_v_cmic_subjob.sort_values(['Job' , 'Sub_Job', 'Hours_Variance (TCP - CMiC)'], ascending=[False, True, False])"
      ],
      "outputs": [],
      "execution_count": 74,
      "metadata": {
        "jupyter": {
          "source_hidden": false,
          "outputs_hidden": false
        },
        "nteract": {
          "transient": {
            "deleting": false
          }
        },
        "gather": {
          "logged": 1697465974853
        }
      }
    },
    {
      "cell_type": "code",
      "source": [
        "#TCP v CMiC Job, Sub Job, EEID\n",
        "### Commented out for EEID Comparison Only - uncomment out to compare EEID by Job and Sub Job\n",
        "#tcp_v_cmic_ee = tcp_grouped_ee.merge(cmic_grouped_ee , how = 'outer' , on = 'unique' , suffixes = ['','_CMiC']).drop(columns =['unique'])\n",
        "tcp_v_cmic_ee = tcp_grouped_ee.merge(cmic_grouped_ee , how = 'outer' , on = 'EEID' , suffixes = ['','_CMiC'])\n",
        "#NaN Hours will be filled with 0\n",
        "tcp_v_cmic_ee['TotalHours_CMiC'] = tcp_v_cmic_ee['TotalHours_CMiC'].fillna(0)\n",
        "tcp_v_cmic_ee['TotalHours_TCP'] = tcp_v_cmic_ee['TotalHours_TCP'].fillna(0)\n",
        "tcp_v_cmic_ee['Hours_Variance (TCP - CMiC)'] = tcp_v_cmic_ee['TotalHours_TCP'] - tcp_v_cmic_ee['TotalHours_CMiC']\n",
        "tcp_v_cmic_ee = tcp_v_cmic_ee.sort_values('Hours_Variance (TCP - CMiC)', ascending=False, key=abs)\n",
        "#Filter down to relevant columns only"
      ],
      "outputs": [],
      "execution_count": 75,
      "metadata": {
        "jupyter": {
          "source_hidden": false,
          "outputs_hidden": false
        },
        "nteract": {
          "transient": {
            "deleting": false
          }
        },
        "gather": {
          "logged": 1697465975522
        }
      }
    },
    {
      "cell_type": "markdown",
      "source": [
        "#### Workday vs. CMiC Comparison"
      ],
      "metadata": {
        "nteract": {
          "transient": {
            "deleting": false
          }
        }
      }
    },
    {
      "cell_type": "code",
      "source": [
        "#WD v. CMiC EEID\n",
        "wd_v_cmic_job = wd_grouped_job.merge(cmic_grouped_job , how = 'outer' , on = 'Job' , suffixes = ['_WD','_CMiC'])\n",
        "#NaN Hours will be filled with 0\n",
        "wd_v_cmic_job['TotalHours_CMiC'] = wd_v_cmic_job['TotalHours_CMiC'].fillna(0)\n",
        "wd_v_cmic_job['TotalHours_WD'] = wd_v_cmic_job['TotalHours_WD'].fillna(0)\n",
        "wd_v_cmic_job['Hours_Variance (WD - CMiC)'] = wd_v_cmic_job['TotalHours_WD'] - wd_v_cmic_job['TotalHours_CMiC']\n",
        "wd_v_cmic_job = wd_v_cmic_job.sort_values(['Job' , 'Hours_Variance (WD - CMiC)'], ascending=[False,False])"
      ],
      "outputs": [],
      "execution_count": 77,
      "metadata": {
        "jupyter": {
          "source_hidden": false,
          "outputs_hidden": false
        },
        "nteract": {
          "transient": {
            "deleting": false
          }
        },
        "gather": {
          "logged": 1697465982338
        }
      }
    },
    {
      "cell_type": "code",
      "source": [
        "#WD v. CMiC Job, Sub Job\n",
        "wd_v_cmic_subjob = wd_grouped_subjob.merge(cmic_grouped_subjob , how = 'outer' , on = 'unique' , suffixes = ['_WD','_CMiC']).drop(columns =['unique'])\n",
        "#NaN Hours will be filled with 0\n",
        "wd_v_cmic_subjob['TotalHours_CMiC'] = wd_v_cmic_subjob['TotalHours_CMiC'].fillna(0)\n",
        "wd_v_cmic_subjob['TotalHours_WD'] = wd_v_cmic_subjob['TotalHours_WD'].fillna(0)\n",
        "wd_v_cmic_subjob['Hours_Variance (WD - CMiC)'] = wd_v_cmic_subjob['TotalHours_WD'] - wd_v_cmic_subjob['TotalHours_CMiC']\n",
        "wd_v_cmic_subjob = wd_v_cmic_subjob.sort_values(['Job_WD' , 'Sub_Job_WD' , 'Hours_Variance (WD - CMiC)'], ascending=[False,True,False])"
      ],
      "outputs": [],
      "execution_count": 78,
      "metadata": {
        "jupyter": {
          "source_hidden": false,
          "outputs_hidden": false
        },
        "nteract": {
          "transient": {
            "deleting": false
          }
        },
        "gather": {
          "logged": 1697465983513
        }
      }
    },
    {
      "cell_type": "code",
      "source": [
        "#WD v. CMiC Job, Sub Job, EEID\n",
        "### Commented out for EEID Comparison Only - uncomment out to compare EEID by Job and Sub Job\n",
        "#wd_v_cmic_ee = wd_grouped_ee.merge(cmic_grouped_ee , how = 'outer' , on = 'unique' , suffixes = ['_WD','_CMiC']).drop(columns =['unique'])\n",
        "wd_v_cmic_ee = wd_grouped_ee.merge(cmic_grouped_ee , how = 'outer' , on = 'EEID' , suffixes = ['_WD','_CMiC'])\n",
        "#NaN Hours will be filled with 0\n",
        "wd_v_cmic_ee['TotalHours_CMiC'] = wd_v_cmic_ee['TotalHours_CMiC'].fillna(0)\n",
        "wd_v_cmic_ee['TotalHours_WD'] = wd_v_cmic_ee['TotalHours_WD'].fillna(0)\n",
        "wd_v_cmic_ee['Hours_Variance (WD - CMiC)'] = wd_v_cmic_ee['TotalHours_WD'] - wd_v_cmic_ee['TotalHours_CMiC']\n",
        "wd_v_cmic_ee = wd_v_cmic_ee.sort_values('Hours_Variance (WD - CMiC)', ascending=False , key=abs)\n",
        "#Filter down to relevant columns only"
      ],
      "outputs": [],
      "execution_count": 79,
      "metadata": {
        "jupyter": {
          "source_hidden": false,
          "outputs_hidden": false
        },
        "nteract": {
          "transient": {
            "deleting": false
          }
        },
        "gather": {
          "logged": 1697465984151
        }
      }
    },
    {
      "cell_type": "code",
      "source": [
        "file_path = os.getcwd() + '/excel_output'\n",
        "file_path"
      ],
      "outputs": [
        {
          "output_type": "execute_result",
          "execution_count": 80,
          "data": {
            "text/plain": "'/mnt/batch/tasks/shared/LS_root/mounts/clusters/jbeachy2/code/Users/JBeachy/Project_DataDomain/Payroll/DataDelivery_Compare/Hours_Comparison/excel_output'"
          },
          "metadata": {}
        }
      ],
      "execution_count": 80,
      "metadata": {
        "jupyter": {
          "source_hidden": false,
          "outputs_hidden": false
        },
        "nteract": {
          "transient": {
            "deleting": false
          }
        },
        "gather": {
          "logged": 1697465984838
        }
      }
    },
    {
      "cell_type": "code",
      "source": [
        "#File Path in AMLS\n",
        "file_name = f'Hours_Comparison_WeekEnding_{week_ending}'\n",
        "#Writing to AMLS File Directory\n",
        "with pd.ExcelWriter(f'{file_path}/{file_name}.xlsx') as writer:\n",
        "    tcp_v_wd_job.to_excel(writer , sheet_name = 'TCPvWD_Hours_byJob' , index = False)\n",
        "    tcp_v_wd_subjob.to_excel(writer , sheet_name = 'TCPvWD_Hours_bySubJob' , index = False)\n",
        "    tcp_v_wd_ee.to_excel(writer , sheet_name = 'TCPvWD_Hours_byEE' , index = False)\n",
        "    tcp_v_cmic_job.to_excel(writer , sheet_name = 'TCPvCMiC_Hours_byJob' , index = False)\n",
        "    tcp_v_cmic_subjob.to_excel(writer , sheet_name = 'TCPvCMiC_Hours_bySubJob' , index = False)\n",
        "    tcp_v_cmic_ee.to_excel(writer , sheet_name = 'TCPvCMiC_Hours_byEE' , index = False)\n",
        "    wd_v_cmic_job.to_excel(writer , sheet_name = 'WDvCMiC_Hours_byJob' , index = False)\n",
        "    wd_v_cmic_subjob.to_excel(writer , sheet_name = 'WDvCMiC_Hours_bySubJob' , index = False)\n",
        "    wd_v_cmic_ee.to_excel(writer , sheet_name = 'WDvCMiC_Hours_byEE' , index = False)"
      ],
      "outputs": [],
      "execution_count": 81,
      "metadata": {
        "jupyter": {
          "source_hidden": false,
          "outputs_hidden": false
        },
        "nteract": {
          "transient": {
            "deleting": false
          }
        },
        "gather": {
          "logged": 1697465986662
        }
      }
    },
    {
      "cell_type": "code",
      "source": [
        "#Blob Storage Info\n",
        "storage_account_key = 'u46QXBaayH/rWljcqPTWZTNgFdGHo9zH4I0OLWgDi4oa2inkpjVwTbp74C+ISDC2oWtNlrcr69Ec+ASt5wV1PA=='\n",
        "storage_account_name = 'mossdatalakesource'\n",
        "connection_string = 'DefaultEndpointsProtocol=https;AccountName=mossdatalakesource;AccountKey=u46QXBaayH/rWljcqPTWZTNgFdGHo9zH4I0OLWgDi4oa2inkpjVwTbp74C+ISDC2oWtNlrcr69Ec+ASt5wV1PA==;EndpointSuffix=core.windows.net'\n",
        "container_name = 'cmic'\n",
        "#Defininng Blob Storage Uplpoad#\n",
        "def uploadtoblobstorage(file_path,file_name):\n",
        "    blob_service_client = BlobServiceClient.from_connection_string(connection_string)\n",
        "    blob_client = blob_service_client.get_blob_client(container = container_name , blob = file_name)\n",
        "\n",
        "    with open(file_path , 'rb') as data:\n",
        "        blob_client.upload_blob(data)\n",
        "    print(f'Uploaded {file_name}.')"
      ],
      "outputs": [],
      "execution_count": 82,
      "metadata": {
        "jupyter": {
          "source_hidden": false,
          "outputs_hidden": false
        },
        "nteract": {
          "transient": {
            "deleting": false
          }
        },
        "gather": {
          "logged": 1697466032310
        }
      }
    },
    {
      "cell_type": "code",
      "source": [
        "file_name_exp = f'{file_name}.xlsx'\n",
        "uploadtoblobstorage(f'{file_path}/{file_name}.xlsx', file_name_exp)"
      ],
      "outputs": [
        {
          "output_type": "stream",
          "name": "stdout",
          "text": "Uploaded Hours_Comparison_WeekEnding_2023-10-14.xlsx.\n"
        }
      ],
      "execution_count": 83,
      "metadata": {
        "jupyter": {
          "source_hidden": false,
          "outputs_hidden": false
        },
        "nteract": {
          "transient": {
            "deleting": false
          }
        },
        "gather": {
          "logged": 1697466034706
        }
      }
    },
    {
      "cell_type": "code",
      "source": [],
      "outputs": [],
      "execution_count": null,
      "metadata": {
        "jupyter": {
          "source_hidden": false,
          "outputs_hidden": false
        },
        "nteract": {
          "transient": {
            "deleting": false
          }
        }
      }
    }
  ],
  "metadata": {
    "kernelspec": {
      "name": "python310-sdkv2",
      "language": "python",
      "display_name": "Python 3.10 - SDK v2"
    },
    "language_info": {
      "name": "python",
      "version": "3.10.11",
      "mimetype": "text/x-python",
      "codemirror_mode": {
        "name": "ipython",
        "version": 3
      },
      "pygments_lexer": "ipython3",
      "nbconvert_exporter": "python",
      "file_extension": ".py"
    },
    "microsoft": {
      "ms_spell_check": {
        "ms_spell_check_language": "en"
      },
      "host": {
        "AzureML": {
          "notebookHasBeenCompleted": true
        }
      }
    },
    "kernel_info": {
      "name": "python310-sdkv2"
    },
    "nteract": {
      "version": "nteract-front-end@1.0.0"
    }
  },
  "nbformat": 4,
  "nbformat_minor": 2
}