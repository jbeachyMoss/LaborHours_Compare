{
  "cells": [
    {
      "cell_type": "code",
      "source": [
        "# azureml-core of version 1.0.72 or higher is required\n",
        "# azureml-dataprep[pandas] of version 1.1.34 or higher is required\n",
        "from azureml.core import Workspace, Dataset\n",
        "import pandas as pd\n",
        "from datetime import date, datetime, timedelta\n",
        "import numpy as np\n",
        "from azure.storage.blob import BlobServiceClient\n",
        "\n",
        "subscription_id = '96599b9b-0d9b-4577-9163-418d2c6cd411'\n",
        "resource_group = 'rg-datasci-ml-dev-001'\n",
        "workspace_name = 'ml-moss-dev-001'\n",
        "\n",
        "workspace = Workspace(subscription_id, resource_group, workspace_name)\n",
        "\n",
        "dataset_hourly_compare_cmic = Dataset.get_by_name(workspace, name='Hourly_Employee_Time_prod')\n",
        "cmic_pr_df_dev = dataset_hourly_compare_cmic.to_pandas_dataframe()\n",
        "\n",
        "dataset_hourly_compare_wd = Dataset.get_by_name(workspace, name='WD_Hourly_Employee_Time_prod')\n",
        "wd_pr_df_dev = dataset_hourly_compare_wd.to_pandas_dataframe()\n",
        "\n",
        "tcp_dataset = Dataset.get_by_name(workspace, name='WorkSegments_Timesheet_prod')\n",
        "tcp_df_dev = tcp_dataset.to_pandas_dataframe()\n",
        "\n",
        "jcjob_dataset = Dataset.get_by_name(workspace, name='JCJOB_TABLE_TN_prod')\n",
        "jcjob_df = jcjob_dataset.to_pandas_dataframe()"
      ],
      "outputs": [
        {
          "output_type": "stream",
          "name": "stderr",
          "text": "Message: rslex failed, falling back to clex.\nPayload: {\"pid\": 5434, \"source\": \"azureml.dataprep\", \"version\": \"4.11.3\", \"trace\": \"azureml|data|tabular_dataset.py, line 169 in function <lambda>.\\nazureml|data|dataset_error_handling.py, line 107 in function _try_execute.\\nazureml|data|tabular_dataset.py, line 169 in function to_pandas_dataframe.\", \"subscription\": \"\", \"run_id\": \"\", \"resource_group\": \"\", \"workspace_name\": \"\", \"experiment_id\": \"\", \"location\": \"\", \"rslex_version\": \"2.18.3\"}\n"
        }
      ],
      "execution_count": 67,
      "metadata": {
        "gather": {
          "logged": 1697637986918
        }
      }
    },
    {
      "cell_type": "code",
      "source": [
        "##########################\n",
        "\n",
        "week_ending = '2023-10-14'\n",
        "\n",
        "##########################\n",
        "\n",
        "date = datetime.strptime(week_ending, \"%Y-%m-%d\")\n",
        "start_date = date - timedelta(days = 6)\n",
        "end_date = date"
      ],
      "outputs": [],
      "execution_count": 68,
      "metadata": {
        "jupyter": {
          "source_hidden": false,
          "outputs_hidden": false
        },
        "nteract": {
          "transient": {
            "deleting": false
          }
        },
        "gather": {
          "logged": 1697638045468
        }
      }
    },
    {
      "cell_type": "code",
      "source": [
        "tcp_df = tcp_df_dev.copy()"
      ],
      "outputs": [],
      "execution_count": 69,
      "metadata": {
        "jupyter": {
          "source_hidden": false,
          "outputs_hidden": false
        },
        "nteract": {
          "transient": {
            "deleting": false
          }
        },
        "gather": {
          "logged": 1697638046376
        }
      }
    },
    {
      "cell_type": "code",
      "source": [
        "###TCP Data Manipulation\n",
        "#Filter: Solar Jobs only \n",
        "tcp_df = tcp_df.loc[tcp_df['Job_Code'].str.startswith('710')]\n",
        "#Filter: Only Keeping Labor Hourly\n",
        "tcp_df = tcp_df.loc[tcp_df['Task'].isin(['LH','LHA'])]\n",
        "#Filter: Only keeping Moss Labor Hourly - excluding subs\n",
        "tcp_df = tcp_df.loc[tcp_df['Department']=='710']\n",
        "#Creating a total hours column\n",
        "tcp_df['total_hours'] = tcp_df['Regular_Hours'] + tcp_df['Overtime_Hours']\n",
        "#Renaming Relevant Columns\n",
        "tcp_df = tcp_df.rename({'Employee_Number':'EEID','Job_Code':'Job','Activity':'Sub_Job','total_hours':'Hours'},axis='columns')\n",
        "tcp_cols_keep = ['EEID' , 'Date' , 'Job' , 'Sub_Job' , 'Hours']\n",
        "tcp_df_comp = tcp_df.loc[:,tcp_cols_keep]"
      ],
      "outputs": [],
      "execution_count": 70,
      "metadata": {
        "jupyter": {
          "source_hidden": false,
          "outputs_hidden": false
        },
        "nteract": {
          "transient": {
            "deleting": false
          }
        },
        "gather": {
          "logged": 1697638049165
        }
      }
    },
    {
      "cell_type": "code",
      "source": [
        "wd_pr_df = wd_pr_df_dev.copy()"
      ],
      "outputs": [],
      "execution_count": 128,
      "metadata": {
        "jupyter": {
          "source_hidden": false,
          "outputs_hidden": false
        },
        "nteract": {
          "transient": {
            "deleting": false
          }
        },
        "gather": {
          "logged": 1697641166795
        }
      }
    },
    {
      "cell_type": "code",
      "source": [
        "#Workday Data Manipulation\n",
        "#Drop Null values if the employee does not have a job/sub job assignment\n",
        "wd_pr_df = wd_pr_df.loc[~wd_pr_df['billableProject.descriptor'].isna()]\n",
        "#Filter: Solar Jobs Only\n",
        "wd_pr_df = wd_pr_df.loc[wd_pr_df['billableProject.descriptor'].str.startswith('710')]\n",
        "#Extracting Employee ID (EEID) from 'Workers' column: This column also designates employees as Terminated so the substring '(Termin)\n",
        "wd_pr_df['Workers'] = wd_pr_df['Workers'].str.replace('(Terminated)' , '')\n",
        "wd_pr_df['EEID'] = wd_pr_df['Workers'].str.split('(').str[1]\n",
        "wd_pr_df['EEID'] = wd_pr_df['EEID'].str.split(')').str[0]\n",
        "#This isolates the 2 digit sub job, also accomodates the sub jobs that have a letter in them like Claims (C) and Warranty (W)\n",
        "wd_pr_df['billableProject.descriptor'] = wd_pr_df['billableProject.descriptor'].str.replace('C' , '.C')\n",
        "wd_pr_df['billableProject.descriptor'] = wd_pr_df['billableProject.descriptor'].str.replace('W' , '.W')\n",
        "wd_pr_df['sub_job'] = wd_pr_df['billableProject.descriptor'].str.split('.').str[1]\n",
        "wd_pr_df['sub_job'] = wd_pr_df['sub_job'].str.split(' ').str[0]\n",
        "#Leaves behind Job ONLY\n",
        "wd_pr_df['job'] = wd_pr_df.loc[:,'billableProject.descriptor'].str[0:7]\n",
        "#Renaming Relevant Columns\n",
        "wd_pr_df = wd_pr_df.rename({'calculatedDate':'Date','job':'Job','sub_job':'Sub_Job','amount':'Hours'},axis='columns')\n",
        "wd_cols_keep = ['EEID' , 'Date' , 'Job' , 'Sub_Job' , 'Hours']\n",
        "wd_pr_df_comp = wd_pr_df.loc[:,wd_cols_keep]\n",
        "#excluding these employees from Workday because they will not be present in the TCP data\n",
        "wd_eeid_exclude = ['6423','6525','9633','9647','9686','11780','13401','13757','14452','14523','14587','14594','15312','15358','15681','15912']\n",
        "wd_pr_df_comp = wd_pr_df_comp.loc[~wd_pr_df_comp['EEID'].isin(wd_eeid_exclude)]"
      ],
      "outputs": [],
      "execution_count": 123,
      "metadata": {
        "jupyter": {
          "source_hidden": false,
          "outputs_hidden": false
        },
        "nteract": {
          "transient": {
            "deleting": false
          }
        },
        "gather": {
          "logged": 1697640982541
        }
      }
    },
    {
      "cell_type": "code",
      "source": [
        "cmic_pr_df = cmic_pr_df_dev.copy()"
      ],
      "outputs": [],
      "execution_count": 18,
      "metadata": {
        "jupyter": {
          "source_hidden": false,
          "outputs_hidden": false
        },
        "nteract": {
          "transient": {
            "deleting": false
          }
        },
        "gather": {
          "logged": 1697636251292
        }
      }
    },
    {
      "cell_type": "code",
      "source": [
        "#CMiC Data Manipulation\n",
        "#Re-casting this column as a Date data type\n",
        "cmic_pr_df[\"Date\"] = pd.to_datetime(cmic_pr_df[\"Date\"])\n",
        "#Filter: Only Keeping Labor Hourly\n",
        "cmic_pr_df = cmic_pr_df.loc[cmic_pr_df['Task'].isin(['LH','LHA'])]\n",
        "#Renaming Relevant Columns\n",
        "cmic_pr_df = cmic_pr_df.rename({'Employee Number':'EEID','Job Code':'Job','Sub Job Code':'Sub_Job','Regular Hours':'Hours'},axis='columns')\n",
        "cmic_cols_keep = ['EEID' , 'Date' , 'Job' , 'Sub_Job' , 'Hours']\n",
        "cmic_pr_df_comp = cmic_pr_df.loc[:,cmic_cols_keep]"
      ],
      "outputs": [],
      "execution_count": 19,
      "metadata": {
        "jupyter": {
          "source_hidden": false,
          "outputs_hidden": false
        },
        "nteract": {
          "transient": {
            "deleting": false
          }
        },
        "gather": {
          "logged": 1697636252291
        }
      }
    },
    {
      "cell_type": "code",
      "source": [
        "#Date Filters\n",
        "tcp_filter = (tcp_df_comp['Date']>=start_date)&(tcp_df_comp['Date']<=end_date)\n",
        "cmic_filter = (cmic_pr_df_comp['Date']>=start_date)&(cmic_pr_df_comp['Date']<=end_date)\n",
        "wd_filter = (wd_pr_df_comp['Date']>=start_date)&(wd_pr_df_comp['Date']<=end_date)"
      ],
      "outputs": [],
      "execution_count": 36,
      "metadata": {
        "jupyter": {
          "source_hidden": false,
          "outputs_hidden": false
        },
        "nteract": {
          "transient": {
            "deleting": false
          }
        },
        "gather": {
          "logged": 1697636726728
        }
      }
    },
    {
      "cell_type": "markdown",
      "source": [
        "#### Grouping the Data by Different Levels"
      ],
      "metadata": {
        "nteract": {
          "transient": {
            "deleting": false
          }
        }
      }
    },
    {
      "cell_type": "code",
      "source": [
        "#Grouping by Job\n",
        "tcp_grouped_job = tcp_df_comp.loc[tcp_filter].groupby(['Job']).agg(TotalHours_TCP = pd.NamedAgg(column='Hours',aggfunc='sum'))\n",
        "tcp_grouped_job = tcp_grouped_job.reset_index()\n",
        "cmic_grouped_job = cmic_pr_df_comp.loc[cmic_filter].groupby(['Job']).agg(TotalHours_CMiC = pd.NamedAgg(column='Hours',aggfunc='sum'))\n",
        "cmic_grouped_job = cmic_grouped_job.reset_index()\n",
        "wd_grouped_job = wd_pr_df_comp.loc[wd_filter].groupby(['Job']).agg(TotalHours_WD = pd.NamedAgg(column='Hours',aggfunc='sum'))\n",
        "wd_grouped_job = wd_grouped_job.reset_index()"
      ],
      "outputs": [],
      "execution_count": 183,
      "metadata": {
        "jupyter": {
          "source_hidden": false,
          "outputs_hidden": false
        },
        "nteract": {
          "transient": {
            "deleting": false
          }
        },
        "gather": {
          "logged": 1697561382389
        }
      }
    },
    {
      "cell_type": "code",
      "source": [
        "#Grouping by Job, Sub Job\n",
        "tcp_grouped_subjob = tcp_df_comp.loc[tcp_filter].groupby(['Job','Sub_Job']).agg(TotalHours_TCP = pd.NamedAgg(column='Hours',aggfunc='sum'))\n",
        "tcp_grouped_subjob = tcp_grouped_subjob.reset_index()\n",
        "cmic_grouped_subjob = cmic_pr_df_comp.loc[cmic_filter].groupby(['Job','Sub_Job']).agg(TotalHours_CMiC = pd.NamedAgg(column='Hours',aggfunc='sum'))\n",
        "cmic_grouped_subjob = cmic_grouped_subjob.reset_index()\n",
        "wd_grouped_subjob = wd_pr_df_comp.loc[wd_filter].groupby(['Job','Sub_Job']).agg(TotalHours_WD = pd.NamedAgg(column='Hours',aggfunc='sum'))\n",
        "wd_grouped_subjob = wd_grouped_subjob.reset_index()"
      ],
      "outputs": [],
      "execution_count": 184,
      "metadata": {
        "jupyter": {
          "source_hidden": false,
          "outputs_hidden": false
        },
        "nteract": {
          "transient": {
            "deleting": false
          }
        },
        "gather": {
          "logged": 1697561384381
        }
      }
    },
    {
      "cell_type": "code",
      "source": [
        "#Grouping by Job, Sub Job, EEID\n",
        "tcp_grouped_ee = tcp_df_comp.loc[tcp_filter].groupby(['EEID']).agg(TotalHours_TCP = pd.NamedAgg(column='Hours',aggfunc='sum'))\n",
        "tcp_grouped_ee = tcp_grouped_ee.reset_index()\n",
        "cmic_grouped_ee = cmic_pr_df_comp.loc[cmic_filter].groupby(['EEID']).agg(TotalHours_CMiC = pd.NamedAgg(column='Hours',aggfunc='sum'))\n",
        "cmic_grouped_ee = cmic_grouped_ee.reset_index()\n",
        "wd_grouped_ee = wd_pr_df_comp.loc[wd_filter].groupby(['EEID']).agg(TotalHours_WD = pd.NamedAgg(column='Hours',aggfunc='sum'))\n",
        "wd_grouped_ee = wd_grouped_ee.reset_index()"
      ],
      "outputs": [],
      "execution_count": 185,
      "metadata": {
        "jupyter": {
          "source_hidden": false,
          "outputs_hidden": false
        },
        "nteract": {
          "transient": {
            "deleting": false
          }
        },
        "gather": {
          "logged": 1697561386382
        }
      }
    },
    {
      "cell_type": "markdown",
      "source": [
        "#### Unique Column Creation for the Joins"
      ],
      "metadata": {
        "nteract": {
          "transient": {
            "deleting": false
          }
        }
      }
    },
    {
      "cell_type": "code",
      "source": [
        "#Unique Columns to Join On for Sub Job Comparison\n",
        "tcp_grouped_subjob['unique'] = tcp_grouped_subjob[['Job','Sub_Job']].apply(lambda x: ' - '.join(str(value) for value in x), axis=1)\n",
        "cmic_grouped_subjob['unique'] = cmic_grouped_subjob[['Job','Sub_Job']].apply(lambda x: ' - '.join(str(value) for value in x), axis=1)\n",
        "wd_grouped_subjob['unique'] = wd_grouped_subjob[['Job','Sub_Job']].apply(lambda x: ' - '.join(str(value) for value in x), axis=1)"
      ],
      "outputs": [],
      "execution_count": 186,
      "metadata": {
        "jupyter": {
          "source_hidden": false,
          "outputs_hidden": false
        },
        "nteract": {
          "transient": {
            "deleting": false
          }
        },
        "gather": {
          "logged": 1697561388382
        }
      }
    },
    {
      "cell_type": "markdown",
      "source": [
        "#### TCP vs. Workday Comparison"
      ],
      "metadata": {
        "nteract": {
          "transient": {
            "deleting": false
          }
        }
      }
    },
    {
      "cell_type": "code",
      "source": [
        "#TCP v. WD Job\n",
        "tcp_v_wd_job = tcp_grouped_job.merge(wd_grouped_job , how = 'left' , on = 'Job' , suffixes = ['_TCP','_WD'])\n",
        "#NaN Hours will be filled with 0\n",
        "tcp_v_wd_job['TotalHours_WD'] = tcp_v_wd_job['TotalHours_WD'].fillna(0)\n",
        "tcp_v_wd_job['TotalHours_TCP'] = tcp_v_wd_job['TotalHours_TCP'].fillna(0)\n",
        "tcp_v_wd_job['Hours_Variance (TCP - WD)'] = tcp_v_wd_job['TotalHours_TCP'] - tcp_v_wd_job['TotalHours_WD']\n",
        "tcp_v_wd_job = tcp_v_wd_job.sort_values(['Job'  , 'Hours_Variance (TCP - WD)'] , ascending=[False,False])"
      ],
      "outputs": [],
      "execution_count": 187,
      "metadata": {
        "jupyter": {
          "source_hidden": false,
          "outputs_hidden": false
        },
        "nteract": {
          "transient": {
            "deleting": false
          }
        },
        "gather": {
          "logged": 1697561389622
        }
      }
    },
    {
      "cell_type": "code",
      "source": [
        "#TCP v. WD Job, Sub Job\n",
        "tcp_v_wd_subjob = tcp_grouped_subjob.merge(wd_grouped_subjob , how = 'left' , on = 'unique' , suffixes = ['_TCP','_WD']).drop(columns =['unique'])\n",
        "#NaN Hours will be filled with 0\n",
        "tcp_v_wd_subjob['TotalHours_WD'] = tcp_v_wd_subjob['TotalHours_WD'].fillna(0)\n",
        "tcp_v_wd_subjob['TotalHours_TCP'] = tcp_v_wd_subjob['TotalHours_TCP'].fillna(0)\n",
        "tcp_v_wd_subjob['Hours_Variance (TCP - WD)'] = tcp_v_wd_subjob['TotalHours_TCP'] - tcp_v_wd_subjob['TotalHours_WD']\n",
        "tcp_v_wd_subjob = tcp_v_wd_subjob.sort_values(['Job_TCP' , 'Sub_Job_TCP' , 'Hours_Variance (TCP - WD)'] , ascending=[False,True,False])"
      ],
      "outputs": [],
      "execution_count": 188,
      "metadata": {
        "jupyter": {
          "source_hidden": false,
          "outputs_hidden": false
        },
        "nteract": {
          "transient": {
            "deleting": false
          }
        },
        "gather": {
          "logged": 1697561390392
        }
      }
    },
    {
      "cell_type": "code",
      "source": [
        "#TCP v. WD Job, Sub Job, EEID\n",
        "### Commented out for EEID Comparison Only - uncomment out to compare EEID by Job and Sub Job\n",
        "#tcp_v_wd_ee = tcp_grouped_ee.merge(wd_grouped_ee , how = 'outer' , on = 'unique' , suffixes = ['_TCP','_WD']).drop(columns =['unique'])\n",
        "tcp_v_wd_ee = tcp_grouped_ee.merge(wd_grouped_ee , how = 'left' , on = 'EEID' , suffixes = ['_TCP','_WD'])\n",
        "#NaN Hours will be filled with 0\n",
        "tcp_v_wd_ee['TotalHours_WD'] = tcp_v_wd_ee['TotalHours_WD'].fillna(0)\n",
        "tcp_v_wd_ee['TotalHours_TCP'] = tcp_v_wd_ee['TotalHours_TCP'].fillna(0)\n",
        "tcp_v_wd_ee['Hours_Variance (TCP - WD)'] = tcp_v_wd_ee['TotalHours_TCP'] - tcp_v_wd_ee['TotalHours_WD']\n",
        "tcp_v_wd_ee = tcp_v_wd_ee.sort_values('Hours_Variance (TCP - WD)' , ascending=False, key=abs)\n",
        "#Removing Variances that are 0 - excluding EEIDs that match\n",
        "tcp_v_wd_ee = tcp_v_wd_ee.loc[tcp_v_wd_ee['Hours_Variance (TCP - WD)'] != 0.0]"
      ],
      "outputs": [],
      "execution_count": 189,
      "metadata": {
        "jupyter": {
          "source_hidden": false,
          "outputs_hidden": false
        },
        "nteract": {
          "transient": {
            "deleting": false
          }
        },
        "gather": {
          "logged": 1697561391409
        }
      }
    },
    {
      "cell_type": "markdown",
      "source": [
        "#### TCP vs. CMiC Comparison"
      ],
      "metadata": {
        "nteract": {
          "transient": {
            "deleting": false
          }
        }
      }
    },
    {
      "cell_type": "code",
      "source": [
        "#TCP v CMiC Job\n",
        "tcp_v_cmic_job = tcp_grouped_job.merge(cmic_grouped_job , how = 'outer' , on = 'Job' , suffixes = ['','_CMiC'])\n",
        "#NaN Hours will be filled with 0\n",
        "tcp_v_cmic_job['TotalHours_CMiC'] = tcp_v_cmic_job['TotalHours_CMiC'].fillna(0)\n",
        "tcp_v_cmic_job['TotalHours_TCP'] = tcp_v_cmic_job['TotalHours_TCP'].fillna(0)\n",
        "tcp_v_cmic_job['Hours_Variance (TCP - CMiC)'] = tcp_v_cmic_job['TotalHours_TCP'] - tcp_v_cmic_job['TotalHours_CMiC']\n",
        "tcp_v_cmic_job = tcp_v_cmic_job.sort_values(['Job' , 'Hours_Variance (TCP - CMiC)'], ascending=[False, False])"
      ],
      "outputs": [],
      "execution_count": 190,
      "metadata": {
        "jupyter": {
          "source_hidden": false,
          "outputs_hidden": false
        },
        "nteract": {
          "transient": {
            "deleting": false
          }
        },
        "gather": {
          "logged": 1697561393396
        }
      }
    },
    {
      "cell_type": "code",
      "source": [
        "#TCP v CMiC Job, Sub Job\n",
        "tcp_v_cmic_subjob = tcp_grouped_subjob.merge(cmic_grouped_subjob , how = 'outer' , on = 'unique' , suffixes = ['','_CMiC']).drop(columns =['unique'])\n",
        "#NaN Hours will be filled with 0\n",
        "tcp_v_cmic_subjob['TotalHours_CMiC'] = tcp_v_cmic_subjob['TotalHours_CMiC'].fillna(0)\n",
        "tcp_v_cmic_subjob['TotalHours_TCP'] = tcp_v_cmic_subjob['TotalHours_TCP'].fillna(0)\n",
        "tcp_v_cmic_subjob['Hours_Variance (TCP - CMiC)'] = tcp_v_cmic_subjob['TotalHours_TCP'] - tcp_v_cmic_subjob['TotalHours_CMiC']\n",
        "tcp_v_cmic_subjob = tcp_v_cmic_subjob.sort_values(['Job' , 'Sub_Job', 'Hours_Variance (TCP - CMiC)'], ascending=[False, True, False])"
      ],
      "outputs": [],
      "execution_count": 191,
      "metadata": {
        "jupyter": {
          "source_hidden": false,
          "outputs_hidden": false
        },
        "nteract": {
          "transient": {
            "deleting": false
          }
        },
        "gather": {
          "logged": 1697561396393
        }
      }
    },
    {
      "cell_type": "code",
      "source": [
        "#TCP v CMiC Job, Sub Job, EEID\n",
        "### Commented out for EEID Comparison Only - uncomment out to compare EEID by Job and Sub Job\n",
        "#tcp_v_cmic_ee = tcp_grouped_ee.merge(cmic_grouped_ee , how = 'outer' , on = 'unique' , suffixes = ['','_CMiC']).drop(columns =['unique'])\n",
        "tcp_v_cmic_ee = tcp_grouped_ee.merge(cmic_grouped_ee , how = 'outer' , on = 'EEID' , suffixes = ['','_CMiC'])\n",
        "#NaN Hours will be filled with 0\n",
        "tcp_v_cmic_ee['TotalHours_CMiC'] = tcp_v_cmic_ee['TotalHours_CMiC'].fillna(0)\n",
        "tcp_v_cmic_ee['TotalHours_TCP'] = tcp_v_cmic_ee['TotalHours_TCP'].fillna(0)\n",
        "tcp_v_cmic_ee['Hours_Variance (TCP - CMiC)'] = tcp_v_cmic_ee['TotalHours_TCP'] - tcp_v_cmic_ee['TotalHours_CMiC']\n",
        "tcp_v_cmic_ee = tcp_v_cmic_ee.sort_values('Hours_Variance (TCP - CMiC)', ascending=False, key=abs)\n",
        "#Filter down to relevant columns only"
      ],
      "outputs": [],
      "execution_count": 192,
      "metadata": {
        "jupyter": {
          "source_hidden": false,
          "outputs_hidden": false
        },
        "nteract": {
          "transient": {
            "deleting": false
          }
        },
        "gather": {
          "logged": 1697561397389
        }
      }
    },
    {
      "cell_type": "markdown",
      "source": [
        "#### Workday vs. CMiC Comparison"
      ],
      "metadata": {
        "nteract": {
          "transient": {
            "deleting": false
          }
        }
      }
    },
    {
      "cell_type": "code",
      "source": [
        "#WD v. CMiC EEID\n",
        "wd_v_cmic_job = wd_grouped_job.merge(cmic_grouped_job , how = 'outer' , on = 'Job' , suffixes = ['_WD','_CMiC'])\n",
        "#NaN Hours will be filled with 0\n",
        "wd_v_cmic_job['TotalHours_CMiC'] = wd_v_cmic_job['TotalHours_CMiC'].fillna(0)\n",
        "wd_v_cmic_job['TotalHours_WD'] = wd_v_cmic_job['TotalHours_WD'].fillna(0)\n",
        "wd_v_cmic_job['Hours_Variance (WD - CMiC)'] = wd_v_cmic_job['TotalHours_WD'] - wd_v_cmic_job['TotalHours_CMiC']\n",
        "wd_v_cmic_job = wd_v_cmic_job.sort_values(['Job' , 'Hours_Variance (WD - CMiC)'], ascending=[False,False])"
      ],
      "outputs": [],
      "execution_count": 193,
      "metadata": {
        "jupyter": {
          "source_hidden": false,
          "outputs_hidden": false
        },
        "nteract": {
          "transient": {
            "deleting": false
          }
        },
        "gather": {
          "logged": 1697561398384
        }
      }
    },
    {
      "cell_type": "code",
      "source": [
        "#WD v. CMiC Job, Sub Job\n",
        "wd_v_cmic_subjob = wd_grouped_subjob.merge(cmic_grouped_subjob , how = 'outer' , on = 'unique' , suffixes = ['_WD','_CMiC']).drop(columns =['unique'])\n",
        "#NaN Hours will be filled with 0\n",
        "wd_v_cmic_subjob['TotalHours_CMiC'] = wd_v_cmic_subjob['TotalHours_CMiC'].fillna(0)\n",
        "wd_v_cmic_subjob['TotalHours_WD'] = wd_v_cmic_subjob['TotalHours_WD'].fillna(0)\n",
        "wd_v_cmic_subjob['Hours_Variance (WD - CMiC)'] = wd_v_cmic_subjob['TotalHours_WD'] - wd_v_cmic_subjob['TotalHours_CMiC']\n",
        "wd_v_cmic_subjob = wd_v_cmic_subjob.sort_values(['Job_WD' , 'Sub_Job_WD' , 'Hours_Variance (WD - CMiC)'], ascending=[False,True,False])"
      ],
      "outputs": [],
      "execution_count": 194,
      "metadata": {
        "jupyter": {
          "source_hidden": false,
          "outputs_hidden": false
        },
        "nteract": {
          "transient": {
            "deleting": false
          }
        },
        "gather": {
          "logged": 1697561399389
        }
      }
    },
    {
      "cell_type": "code",
      "source": [
        "#WD v. CMiC Job, Sub Job, EEID\n",
        "### Commented out for EEID Comparison Only - uncomment out to compare EEID by Job and Sub Job\n",
        "#wd_v_cmic_ee = wd_grouped_ee.merge(cmic_grouped_ee , how = 'outer' , on = 'unique' , suffixes = ['_WD','_CMiC']).drop(columns =['unique'])\n",
        "wd_v_cmic_ee = wd_grouped_ee.merge(cmic_grouped_ee , how = 'outer' , on = 'EEID' , suffixes = ['_WD','_CMiC'])\n",
        "#NaN Hours will be filled with 0\n",
        "wd_v_cmic_ee['TotalHours_CMiC'] = wd_v_cmic_ee['TotalHours_CMiC'].fillna(0)\n",
        "wd_v_cmic_ee['TotalHours_WD'] = wd_v_cmic_ee['TotalHours_WD'].fillna(0)\n",
        "wd_v_cmic_ee['Hours_Variance (WD - CMiC)'] = wd_v_cmic_ee['TotalHours_WD'] - wd_v_cmic_ee['TotalHours_CMiC']\n",
        "wd_v_cmic_ee = wd_v_cmic_ee.sort_values('Hours_Variance (WD - CMiC)', ascending=False , key=abs)\n",
        "#Filter down to relevant columns only"
      ],
      "outputs": [],
      "execution_count": 195,
      "metadata": {
        "jupyter": {
          "source_hidden": false,
          "outputs_hidden": false
        },
        "nteract": {
          "transient": {
            "deleting": false
          }
        },
        "gather": {
          "logged": 1697561400398
        }
      }
    },
    {
      "cell_type": "code",
      "source": [
        "file_path = os.getcwd() + '/excel_output'\n",
        "file_path"
      ],
      "outputs": [
        {
          "output_type": "execute_result",
          "execution_count": 196,
          "data": {
            "text/plain": "'/mnt/batch/tasks/shared/LS_root/mounts/clusters/jbeachy2/code/Users/JBeachy/Project_DataDomain/Payroll/git_LaborHours_Compare/excel_output'"
          },
          "metadata": {}
        }
      ],
      "execution_count": 196,
      "metadata": {
        "jupyter": {
          "source_hidden": false,
          "outputs_hidden": false
        },
        "nteract": {
          "transient": {
            "deleting": false
          }
        },
        "gather": {
          "logged": 1697561401419
        }
      }
    },
    {
      "cell_type": "code",
      "source": [
        "#File Path in AMLS\n",
        "file_name = f'Hours_Comparison_WeekEnding_{week_ending}'\n",
        "#Writing to AMLS File Directory\n",
        "with pd.ExcelWriter(f'{file_path}/{file_name}.xlsx') as writer:\n",
        "    tcp_v_wd_job.to_excel(writer , sheet_name = 'TCPvWD_Hours_byJob' , index = False)\n",
        "    tcp_v_wd_subjob.to_excel(writer , sheet_name = 'TCPvWD_Hours_bySubJob' , index = False)\n",
        "    tcp_v_wd_ee.to_excel(writer , sheet_name = 'TCPvWD_Hours_byEE' , index = False)\n",
        "    tcp_v_cmic_job.to_excel(writer , sheet_name = 'TCPvCMiC_Hours_byJob' , index = False)\n",
        "    tcp_v_cmic_subjob.to_excel(writer , sheet_name = 'TCPvCMiC_Hours_bySubJob' , index = False)\n",
        "    tcp_v_cmic_ee.to_excel(writer , sheet_name = 'TCPvCMiC_Hours_byEE' , index = False)\n",
        "    wd_v_cmic_job.to_excel(writer , sheet_name = 'WDvCMiC_Hours_byJob' , index = False)\n",
        "    wd_v_cmic_subjob.to_excel(writer , sheet_name = 'WDvCMiC_Hours_bySubJob' , index = False)\n",
        "    wd_v_cmic_ee.to_excel(writer , sheet_name = 'WDvCMiC_Hours_byEE' , index = False)"
      ],
      "outputs": [],
      "execution_count": 197,
      "metadata": {
        "jupyter": {
          "source_hidden": false,
          "outputs_hidden": false
        },
        "nteract": {
          "transient": {
            "deleting": false
          }
        },
        "gather": {
          "logged": 1697561403329
        }
      }
    },
    {
      "cell_type": "code",
      "source": [
        "#Blob Storage Info\n",
        "storage_account_key = 'u46QXBaayH/rWljcqPTWZTNgFdGHo9zH4I0OLWgDi4oa2inkpjVwTbp74C+ISDC2oWtNlrcr69Ec+ASt5wV1PA=='\n",
        "storage_account_name = 'mossdatalakesource'\n",
        "connection_string = 'DefaultEndpointsProtocol=https;AccountName=mossdatalakesource;AccountKey=u46QXBaayH/rWljcqPTWZTNgFdGHo9zH4I0OLWgDi4oa2inkpjVwTbp74C+ISDC2oWtNlrcr69Ec+ASt5wV1PA==;EndpointSuffix=core.windows.net'\n",
        "container_name = 'cmic'\n",
        "#Defininng Blob Storage Uplpoad#\n",
        "def uploadtoblobstorage(file_path,file_name):\n",
        "    blob_service_client = BlobServiceClient.from_connection_string(connection_string)\n",
        "    blob_client = blob_service_client.get_blob_client(container = container_name , blob = file_name)\n",
        "\n",
        "    with open(file_path , 'rb') as data:\n",
        "        blob_client.upload_blob(data)\n",
        "    print(f'Uploaded {file_name}.')"
      ],
      "outputs": [],
      "execution_count": 198,
      "metadata": {
        "jupyter": {
          "source_hidden": false,
          "outputs_hidden": false
        },
        "nteract": {
          "transient": {
            "deleting": false
          }
        },
        "gather": {
          "logged": 1697561404418
        }
      }
    },
    {
      "cell_type": "code",
      "source": [
        "file_name_exp = f'{file_name}.xlsx'\n",
        "uploadtoblobstorage(f'{file_path}/{file_name}.xlsx', file_name_exp)"
      ],
      "outputs": [
        {
          "output_type": "stream",
          "name": "stdout",
          "text": "Uploaded Hours_Comparison_WeekEnding_2023-10-14.xlsx.\n"
        }
      ],
      "execution_count": 199,
      "metadata": {
        "jupyter": {
          "source_hidden": false,
          "outputs_hidden": false
        },
        "nteract": {
          "transient": {
            "deleting": false
          }
        },
        "gather": {
          "logged": 1697561406471
        }
      }
    },
    {
      "cell_type": "markdown",
      "source": [
        "#### Run Statistics "
      ],
      "metadata": {
        "nteract": {
          "transient": {
            "deleting": false
          }
        }
      }
    },
    {
      "cell_type": "code",
      "source": [
        "#### TCP vs. Workday Stats\n",
        "today = date.today()\n",
        "today_timechange = today - timedelta(hours=4)\n",
        "today_for_text = today_timechange.strftime(\"%m-%d-%Y %H:%M:%S\")\n",
        "print(\"TCP vs. Workday\")\n",
        "print(\"Count of EEIDs that are showing Zero Hours Worked in Workday: \" , len(tcp_v_wd_ee.loc[tcp_v_wd_ee['TotalHours_WD'] == 0]))\n",
        "print(\"Count of EEIDs that are showing Zero Hours Worked in TCP: \" , len(tcp_v_wd_ee.loc[tcp_v_wd_ee['TotalHours_TCP'] == 0]))\n",
        "print(\"Count of EEIDs with a variance less than 10 hours(ABS), not including 0: \", len(tcp_v_wd_ee.loc[(tcp_v_wd_ee['Hours_Variance (TCP - WD)']< 10)&(tcp_v_wd_ee['Hours_Variance (TCP - WD)'] >-10)&(tcp_v_wd_ee['Hours_Variance (TCP - WD)'] != 0)]))\n",
        "print(\"Count of EEIDs with no variance in Hours Worked: \" , len(tcp_v_wd_ee.loc[tcp_v_wd_ee['Hours_Variance (TCP - WD)'] == 0]))\n",
        "print(\"Count of EEIDs with variance greater than or equal to 10(ABS): \",len(tcp_v_wd_ee.loc[(tcp_v_wd_ee['Hours_Variance (TCP - WD)']>=10)|(tcp_v_wd_ee['Hours_Variance (TCP - WD)']<=-10)]))\n",
        "print(f\"Ran on {today_for_text} for Week Ending {week_ending}\")"
      ],
      "outputs": [
        {
          "output_type": "stream",
          "name": "stdout",
          "text": "TCP vs. Workday\nCount of EEIDs that are showing Zero Hours Worked in Workday:  76\nCount of EEIDs that are showing Zero Hours Worked in TCP:  0\nCount of EEIDs with a variance less than 10 hours(ABS), not including 0:  5\nCount of EEIDs with no variance in Hours Worked:  0\nCount of EEIDs with variance greater than or equal to 10(ABS):  72\nRan on 10-17-2023 12:50:08 for Week Ending 2023-10-14\n"
        }
      ],
      "execution_count": 200,
      "metadata": {
        "jupyter": {
          "source_hidden": false,
          "outputs_hidden": false
        },
        "nteract": {
          "transient": {
            "deleting": false
          }
        },
        "gather": {
          "logged": 1697561409388
        }
      }
    },
    {
      "cell_type": "code",
      "source": [
        "tcp_df_dev.loc[(tcp_df_dev['Employee_Number']=='20763')&tcp_filter].sort_values('Date',ascending = True)"
      ],
      "outputs": [
        {
          "output_type": "execute_result",
          "execution_count": 209,
          "data": {
            "text/plain": "Empty DataFrame\nColumns: [WorkSegments_Timesheet_ID, Employee_Number, First_Name, Last_Name, Date, Job_Code, Activity, Phase_Code, Task, Regular_Hours, Overtime_Hours, Pay_Rate, Employee_Classification, Department, FileName, Created_Date]\nIndex: []",
            "text/html": "<div>\n<style scoped>\n    .dataframe tbody tr th:only-of-type {\n        vertical-align: middle;\n    }\n\n    .dataframe tbody tr th {\n        vertical-align: top;\n    }\n\n    .dataframe thead th {\n        text-align: right;\n    }\n</style>\n<table border=\"1\" class=\"dataframe\">\n  <thead>\n    <tr style=\"text-align: right;\">\n      <th></th>\n      <th>WorkSegments_Timesheet_ID</th>\n      <th>Employee_Number</th>\n      <th>First_Name</th>\n      <th>Last_Name</th>\n      <th>Date</th>\n      <th>Job_Code</th>\n      <th>Activity</th>\n      <th>Phase_Code</th>\n      <th>Task</th>\n      <th>Regular_Hours</th>\n      <th>Overtime_Hours</th>\n      <th>Pay_Rate</th>\n      <th>Employee_Classification</th>\n      <th>Department</th>\n      <th>FileName</th>\n      <th>Created_Date</th>\n    </tr>\n  </thead>\n  <tbody>\n  </tbody>\n</table>\n</div>"
          },
          "metadata": {}
        }
      ],
      "execution_count": 209,
      "metadata": {
        "jupyter": {
          "source_hidden": false,
          "outputs_hidden": false
        },
        "nteract": {
          "transient": {
            "deleting": false
          }
        },
        "gather": {
          "logged": 1697563300527
        }
      }
    },
    {
      "cell_type": "code",
      "source": [
        "#Date Filters\n",
        "tcp_filter = (tcp_df_comp['Date']>=start_date)&(tcp_df_comp['Date']<=end_date)\n",
        "cmic_filter = (cmic_pr_df_comp['Date']>=start_date)&(cmic_pr_df_comp['Date']<=end_date)\n",
        "wd_filter = (wd_pr_df_comp['Date']>=start_date)&(wd_pr_df_comp['Date']<=end_date)"
      ],
      "outputs": [],
      "execution_count": 106,
      "metadata": {
        "jupyter": {
          "source_hidden": false,
          "outputs_hidden": false
        },
        "nteract": {
          "transient": {
            "deleting": false
          }
        },
        "gather": {
          "logged": 1697638902780
        }
      }
    },
    {
      "cell_type": "code",
      "source": [
        "#['EEID','Date','Job','Sub_Job','Hours']\n",
        "wd_eeid = list(wd_pr_df_comp.loc[wd_filter,'EEID'].unique())\n",
        "tcp_eeid = list(tcp_df.loc[tcp_filter,'EEID'].unique())"
      ],
      "outputs": [],
      "execution_count": 107,
      "metadata": {
        "jupyter": {
          "source_hidden": false,
          "outputs_hidden": false
        },
        "nteract": {
          "transient": {
            "deleting": false
          }
        },
        "gather": {
          "logged": 1697638903477
        }
      }
    },
    {
      "cell_type": "code",
      "source": [
        "eeid_intcp_not_wd = list(set(tcp_eeid) - set(wd_eeid))\n",
        "len(eeid_intcp_not_wd)"
      ],
      "outputs": [
        {
          "output_type": "execute_result",
          "execution_count": 108,
          "data": {
            "text/plain": "34"
          },
          "metadata": {}
        }
      ],
      "execution_count": 108,
      "metadata": {
        "jupyter": {
          "source_hidden": false,
          "outputs_hidden": false
        },
        "nteract": {
          "transient": {
            "deleting": false
          }
        },
        "gather": {
          "logged": 1697638904342
        }
      }
    },
    {
      "cell_type": "code",
      "source": [
        "for x in eeid_intcp_not_wd:\n",
        "    print(x)"
      ],
      "outputs": [
        {
          "output_type": "stream",
          "name": "stdout",
          "text": "6937\n16200\n14705\n5792\n15564\n15033\n15962\n5243000043\n14987\n7811\n16187\n11143\n5962\n11089\n15990\n15454\n16138\n16324\n13279\n15762\n16030\n16165\n16180\n12968\n15369\n14829\n5105\n20500\n13732\n20619\n5243000015\n5869\n16162\n20306\n"
        }
      ],
      "execution_count": 109,
      "metadata": {
        "jupyter": {
          "source_hidden": false,
          "outputs_hidden": false
        },
        "nteract": {
          "transient": {
            "deleting": false
          }
        },
        "gather": {
          "logged": 1697638905842
        }
      }
    },
    {
      "cell_type": "code",
      "source": [
        "wd_eeid_explore = wd_pr_df_dev.copy()"
      ],
      "outputs": [],
      "execution_count": 86,
      "metadata": {
        "jupyter": {
          "source_hidden": false,
          "outputs_hidden": false
        },
        "nteract": {
          "transient": {
            "deleting": false
          }
        },
        "gather": {
          "logged": 1697638247547
        }
      }
    },
    {
      "cell_type": "code",
      "source": [
        "wd_eeid_explore['EEID'] = wd_eeid_explore['Workers'].str.split('(').str[1]\n",
        "wd_eeid_explore['EEID'] = wd_eeid_explore['EEID'].str.split(')').str[0]"
      ],
      "outputs": [],
      "execution_count": 87,
      "metadata": {
        "jupyter": {
          "source_hidden": false,
          "outputs_hidden": false
        },
        "nteract": {
          "transient": {
            "deleting": false
          }
        },
        "gather": {
          "logged": 1697638248923
        }
      }
    },
    {
      "cell_type": "code",
      "source": [
        "wd_pr_df_comp.loc[wd_pr_df_comp['EEID'] == '4082']"
      ],
      "outputs": [
        {
          "output_type": "execute_result",
          "execution_count": 105,
          "data": {
            "text/plain": "       EEID       Date      Job Sub_Job  Hours\n43021  4082 2023-10-02  7102023      15   10.0\n43022  4082 2023-10-03  7102023      15   10.0\n43023  4082 2023-10-04  7102023      15   10.0\n43024  4082 2023-10-05  7102023      15   10.0\n50602  4082 2023-10-09  7102023      20   10.0\n50603  4082 2023-10-10  7102023      15   10.0\n50604  4082 2023-10-11  7102023      20   10.0\n50605  4082 2023-10-12  7102023      15   10.0\n51896  4082 2023-10-09  7102023      20   10.0\n51897  4082 2023-10-10  7102023      15   10.0\n51898  4082 2023-10-11  7102023      20   10.0\n51899  4082 2023-10-12  7102023      15   10.0\n75424  4082 2023-09-25  7102023      10   10.0\n75425  4082 2023-09-26  7102023      15   10.0\n75426  4082 2023-09-27  7102023      15    8.5\n75427  4082 2023-09-28  7102023      15   10.0\n75428  4082 2023-09-29  7102023      15    8.0",
            "text/html": "<div>\n<style scoped>\n    .dataframe tbody tr th:only-of-type {\n        vertical-align: middle;\n    }\n\n    .dataframe tbody tr th {\n        vertical-align: top;\n    }\n\n    .dataframe thead th {\n        text-align: right;\n    }\n</style>\n<table border=\"1\" class=\"dataframe\">\n  <thead>\n    <tr style=\"text-align: right;\">\n      <th></th>\n      <th>EEID</th>\n      <th>Date</th>\n      <th>Job</th>\n      <th>Sub_Job</th>\n      <th>Hours</th>\n    </tr>\n  </thead>\n  <tbody>\n    <tr>\n      <th>43021</th>\n      <td>4082</td>\n      <td>2023-10-02</td>\n      <td>7102023</td>\n      <td>15</td>\n      <td>10.0</td>\n    </tr>\n    <tr>\n      <th>43022</th>\n      <td>4082</td>\n      <td>2023-10-03</td>\n      <td>7102023</td>\n      <td>15</td>\n      <td>10.0</td>\n    </tr>\n    <tr>\n      <th>43023</th>\n      <td>4082</td>\n      <td>2023-10-04</td>\n      <td>7102023</td>\n      <td>15</td>\n      <td>10.0</td>\n    </tr>\n    <tr>\n      <th>43024</th>\n      <td>4082</td>\n      <td>2023-10-05</td>\n      <td>7102023</td>\n      <td>15</td>\n      <td>10.0</td>\n    </tr>\n    <tr>\n      <th>50602</th>\n      <td>4082</td>\n      <td>2023-10-09</td>\n      <td>7102023</td>\n      <td>20</td>\n      <td>10.0</td>\n    </tr>\n    <tr>\n      <th>50603</th>\n      <td>4082</td>\n      <td>2023-10-10</td>\n      <td>7102023</td>\n      <td>15</td>\n      <td>10.0</td>\n    </tr>\n    <tr>\n      <th>50604</th>\n      <td>4082</td>\n      <td>2023-10-11</td>\n      <td>7102023</td>\n      <td>20</td>\n      <td>10.0</td>\n    </tr>\n    <tr>\n      <th>50605</th>\n      <td>4082</td>\n      <td>2023-10-12</td>\n      <td>7102023</td>\n      <td>15</td>\n      <td>10.0</td>\n    </tr>\n    <tr>\n      <th>51896</th>\n      <td>4082</td>\n      <td>2023-10-09</td>\n      <td>7102023</td>\n      <td>20</td>\n      <td>10.0</td>\n    </tr>\n    <tr>\n      <th>51897</th>\n      <td>4082</td>\n      <td>2023-10-10</td>\n      <td>7102023</td>\n      <td>15</td>\n      <td>10.0</td>\n    </tr>\n    <tr>\n      <th>51898</th>\n      <td>4082</td>\n      <td>2023-10-11</td>\n      <td>7102023</td>\n      <td>20</td>\n      <td>10.0</td>\n    </tr>\n    <tr>\n      <th>51899</th>\n      <td>4082</td>\n      <td>2023-10-12</td>\n      <td>7102023</td>\n      <td>15</td>\n      <td>10.0</td>\n    </tr>\n    <tr>\n      <th>75424</th>\n      <td>4082</td>\n      <td>2023-09-25</td>\n      <td>7102023</td>\n      <td>10</td>\n      <td>10.0</td>\n    </tr>\n    <tr>\n      <th>75425</th>\n      <td>4082</td>\n      <td>2023-09-26</td>\n      <td>7102023</td>\n      <td>15</td>\n      <td>10.0</td>\n    </tr>\n    <tr>\n      <th>75426</th>\n      <td>4082</td>\n      <td>2023-09-27</td>\n      <td>7102023</td>\n      <td>15</td>\n      <td>8.5</td>\n    </tr>\n    <tr>\n      <th>75427</th>\n      <td>4082</td>\n      <td>2023-09-28</td>\n      <td>7102023</td>\n      <td>15</td>\n      <td>10.0</td>\n    </tr>\n    <tr>\n      <th>75428</th>\n      <td>4082</td>\n      <td>2023-09-29</td>\n      <td>7102023</td>\n      <td>15</td>\n      <td>8.0</td>\n    </tr>\n  </tbody>\n</table>\n</div>"
          },
          "metadata": {}
        }
      ],
      "execution_count": 105,
      "metadata": {
        "jupyter": {
          "source_hidden": false,
          "outputs_hidden": false
        },
        "nteract": {
          "transient": {
            "deleting": false
          }
        },
        "gather": {
          "logged": 1697638864304
        }
      }
    },
    {
      "cell_type": "code",
      "source": [
        "#payrollStatusForCalculatedTimeBlock\n",
        "wd_pr_df_dev#['billableProject.descriptor'].unique()"
      ],
      "outputs": [
        {
          "output_type": "execute_result",
          "execution_count": 116,
          "data": {
            "text/plain": "                              workdayID EmployeeID Employee_FullName  \\\n0      aa485b7fc50c9001f415ba095fa80000       3619   Pamela Arteaga    \n1      07f132c6a9069001f2beb40701530000       5178      Frank Young    \n2      07f132c6a9069001f2c135643ccd0000       5178      Frank Young    \n3      07f132c6a9069001f2c387709ccf0000       5178      Frank Young    \n4      07f132c6a9069001f2c69db2ab220000       5178      Frank Young    \n...                                 ...        ...               ...   \n76557  07f132c6a9069000cd4715fc58590001       6585  Wayne Stevenson    \n76558  07f132c6a9069000cd471695eeb60000       6585  Wayne Stevenson    \n76559  07f132c6a9069000cd471695eeb60001       6585  Wayne Stevenson    \n76560  07f132c6a9069000cdc0b0922eca0000      14718    Keandra Adams    \n76561  07f132c6a9069000cdd78e7332de0000      14718    Keandra Adams    \n\n                      Workers Employee_BillTransaction_Descriptor  \\\n0       Pamela Arteaga (3619)                               0.5     \n1          Frank Young (5178)                            8 Hours    \n2          Frank Young (5178)                            8 Hours    \n3          Frank Young (5178)                            8 Hours    \n4          Frank Young (5178)                            8 Hours    \n...                       ...                                 ...   \n76557  Wayne Stevenson (6585)                          5.5 Hours    \n76558  Wayne Stevenson (6585)                         5.75 Hours    \n76559  Wayne Stevenson (6585)                          5.5 Hours    \n76560   Keandra Adams (14718)                            2 Hours    \n76561   Keandra Adams (14718)                          1.5 Hours    \n\n      billableTransaction.descriptor Employee_BillTransactionDate  amount  \\\n0                 0.5  on 10/06/2023                      06/2023    0.50   \n1              8 Hours on 10/17/2023                   10/17/2023    8.00   \n2              8 Hours on 10/18/2023                   10/18/2023    8.00   \n3              8 Hours on 10/19/2023                   10/19/2023    8.00   \n4              8 Hours on 10/20/2023                   10/20/2023    8.00   \n...                              ...                          ...     ...   \n76557        5.5 Hours on 09/27/2023                 n 09/27/2023    5.50   \n76558       5.75 Hours on 09/26/2023                on 09/26/2023    5.75   \n76559        5.5 Hours on 09/28/2023                 n 09/28/2023    5.50   \n76560          2 Hours on 09/29/2023                   09/29/2023    2.00   \n76561        1.5 Hours on 09/29/2023                 n 09/29/2023    1.50   \n\n      dayOfTheWeek   FrequencySalary  ...                      timeType1.id  \\\n0           Friday  Bi-Weekly Salary  ...  88572bc8f2d81000d33178c95c170001   \n1          Tuesday  Bi-Weekly Salary  ...  88572bc8f2d81000d2ff785656e20000   \n2        Wednesday  Bi-Weekly Salary  ...  88572bc8f2d81000d2ff785656e20000   \n3         Thursday  Bi-Weekly Salary  ...  88572bc8f2d81000d2ff785656e20000   \n4           Friday  Bi-Weekly Salary  ...  88572bc8f2d81000d2ff785656e20000   \n...            ...               ...  ...                               ...   \n76557    Wednesday     Weekly Hourly  ...  4a99fa1f113e100129b621416cf90001   \n76558      Tuesday     Weekly Hourly  ...  4a99fa1f113e100129b621416cf90001   \n76559     Thursday     Weekly Hourly  ...  4a99fa1f113e100129b621416cf90001   \n76560       Friday  Bi-Weekly Salary  ...  88572bc8f2d81000d2d23d22c2a00001   \n76561       Friday  Bi-Weekly Salary  ...  88572bc8f2d81000d2d5c1acfe6e0001   \n\n      totalHoursTimeTracking transactionDate2 transactionSource.descriptor  \\\n0                       0.50       2023-10-06                         Time   \n1                       8.00       2023-10-17                         Time   \n2                       8.00       2023-10-18                         Time   \n3                       8.00       2023-10-19                         Time   \n4                       8.00       2023-10-20                         Time   \n...                      ...              ...                          ...   \n76557                   5.50       2023-09-27                         Time   \n76558                   5.75       2023-09-26                         Time   \n76559                   5.50       2023-09-28                         Time   \n76560                   2.00       2023-09-29                         Time   \n76561                   1.50       2023-09-29                         Time   \n\n                   transactionSource.id unit.descriptor  \\\n0      7a55a775b63b4b9b8a5b3722fc1e4556            None   \n1      7a55a775b63b4b9b8a5b3722fc1e4556           Hours   \n2      7a55a775b63b4b9b8a5b3722fc1e4556           Hours   \n3      7a55a775b63b4b9b8a5b3722fc1e4556           Hours   \n4      7a55a775b63b4b9b8a5b3722fc1e4556           Hours   \n...                                 ...             ...   \n76557  7a55a775b63b4b9b8a5b3722fc1e4556           Hours   \n76558  7a55a775b63b4b9b8a5b3722fc1e4556           Hours   \n76559  7a55a775b63b4b9b8a5b3722fc1e4556           Hours   \n76560  7a55a775b63b4b9b8a5b3722fc1e4556           Hours   \n76561  7a55a775b63b4b9b8a5b3722fc1e4556           Hours   \n\n                                unit.id  unit1 unitOfTimeIsHours  \\\n0                                  None   None             False   \n1      c4dacbd56bca4a9a8950e8d3ed21bbdb  Hours              True   \n2      c4dacbd56bca4a9a8950e8d3ed21bbdb  Hours              True   \n3      c4dacbd56bca4a9a8950e8d3ed21bbdb  Hours              True   \n4      c4dacbd56bca4a9a8950e8d3ed21bbdb  Hours              True   \n...                                 ...    ...               ...   \n76557  c4dacbd56bca4a9a8950e8d3ed21bbdb  Hours              True   \n76558  c4dacbd56bca4a9a8950e8d3ed21bbdb  Hours              True   \n76559  c4dacbd56bca4a9a8950e8d3ed21bbdb  Hours              True   \n76560  c4dacbd56bca4a9a8950e8d3ed21bbdb  Hours              True   \n76561  c4dacbd56bca4a9a8950e8d3ed21bbdb  Hours              True   \n\n      unroundedDuration  \n0                  0.00  \n1                  0.00  \n2                  0.00  \n3                  0.00  \n4                  0.00  \n...                 ...  \n76557              5.50  \n76558              5.75  \n76559              5.50  \n76560              2.00  \n76561              1.50  \n\n[76562 rows x 338 columns]",
            "text/html": "<div>\n<style scoped>\n    .dataframe tbody tr th:only-of-type {\n        vertical-align: middle;\n    }\n\n    .dataframe tbody tr th {\n        vertical-align: top;\n    }\n\n    .dataframe thead th {\n        text-align: right;\n    }\n</style>\n<table border=\"1\" class=\"dataframe\">\n  <thead>\n    <tr style=\"text-align: right;\">\n      <th></th>\n      <th>workdayID</th>\n      <th>EmployeeID</th>\n      <th>Employee_FullName</th>\n      <th>Workers</th>\n      <th>Employee_BillTransaction_Descriptor</th>\n      <th>billableTransaction.descriptor</th>\n      <th>Employee_BillTransactionDate</th>\n      <th>amount</th>\n      <th>dayOfTheWeek</th>\n      <th>FrequencySalary</th>\n      <th>...</th>\n      <th>timeType1.id</th>\n      <th>totalHoursTimeTracking</th>\n      <th>transactionDate2</th>\n      <th>transactionSource.descriptor</th>\n      <th>transactionSource.id</th>\n      <th>unit.descriptor</th>\n      <th>unit.id</th>\n      <th>unit1</th>\n      <th>unitOfTimeIsHours</th>\n      <th>unroundedDuration</th>\n    </tr>\n  </thead>\n  <tbody>\n    <tr>\n      <th>0</th>\n      <td>aa485b7fc50c9001f415ba095fa80000</td>\n      <td>3619</td>\n      <td>Pamela Arteaga</td>\n      <td>Pamela Arteaga (3619)</td>\n      <td>0.5</td>\n      <td>0.5  on 10/06/2023</td>\n      <td>06/2023</td>\n      <td>0.50</td>\n      <td>Friday</td>\n      <td>Bi-Weekly Salary</td>\n      <td>...</td>\n      <td>88572bc8f2d81000d33178c95c170001</td>\n      <td>0.50</td>\n      <td>2023-10-06</td>\n      <td>Time</td>\n      <td>7a55a775b63b4b9b8a5b3722fc1e4556</td>\n      <td>None</td>\n      <td>None</td>\n      <td>None</td>\n      <td>False</td>\n      <td>0.00</td>\n    </tr>\n    <tr>\n      <th>1</th>\n      <td>07f132c6a9069001f2beb40701530000</td>\n      <td>5178</td>\n      <td>Frank Young</td>\n      <td>Frank Young (5178)</td>\n      <td>8 Hours</td>\n      <td>8 Hours on 10/17/2023</td>\n      <td>10/17/2023</td>\n      <td>8.00</td>\n      <td>Tuesday</td>\n      <td>Bi-Weekly Salary</td>\n      <td>...</td>\n      <td>88572bc8f2d81000d2ff785656e20000</td>\n      <td>8.00</td>\n      <td>2023-10-17</td>\n      <td>Time</td>\n      <td>7a55a775b63b4b9b8a5b3722fc1e4556</td>\n      <td>Hours</td>\n      <td>c4dacbd56bca4a9a8950e8d3ed21bbdb</td>\n      <td>Hours</td>\n      <td>True</td>\n      <td>0.00</td>\n    </tr>\n    <tr>\n      <th>2</th>\n      <td>07f132c6a9069001f2c135643ccd0000</td>\n      <td>5178</td>\n      <td>Frank Young</td>\n      <td>Frank Young (5178)</td>\n      <td>8 Hours</td>\n      <td>8 Hours on 10/18/2023</td>\n      <td>10/18/2023</td>\n      <td>8.00</td>\n      <td>Wednesday</td>\n      <td>Bi-Weekly Salary</td>\n      <td>...</td>\n      <td>88572bc8f2d81000d2ff785656e20000</td>\n      <td>8.00</td>\n      <td>2023-10-18</td>\n      <td>Time</td>\n      <td>7a55a775b63b4b9b8a5b3722fc1e4556</td>\n      <td>Hours</td>\n      <td>c4dacbd56bca4a9a8950e8d3ed21bbdb</td>\n      <td>Hours</td>\n      <td>True</td>\n      <td>0.00</td>\n    </tr>\n    <tr>\n      <th>3</th>\n      <td>07f132c6a9069001f2c387709ccf0000</td>\n      <td>5178</td>\n      <td>Frank Young</td>\n      <td>Frank Young (5178)</td>\n      <td>8 Hours</td>\n      <td>8 Hours on 10/19/2023</td>\n      <td>10/19/2023</td>\n      <td>8.00</td>\n      <td>Thursday</td>\n      <td>Bi-Weekly Salary</td>\n      <td>...</td>\n      <td>88572bc8f2d81000d2ff785656e20000</td>\n      <td>8.00</td>\n      <td>2023-10-19</td>\n      <td>Time</td>\n      <td>7a55a775b63b4b9b8a5b3722fc1e4556</td>\n      <td>Hours</td>\n      <td>c4dacbd56bca4a9a8950e8d3ed21bbdb</td>\n      <td>Hours</td>\n      <td>True</td>\n      <td>0.00</td>\n    </tr>\n    <tr>\n      <th>4</th>\n      <td>07f132c6a9069001f2c69db2ab220000</td>\n      <td>5178</td>\n      <td>Frank Young</td>\n      <td>Frank Young (5178)</td>\n      <td>8 Hours</td>\n      <td>8 Hours on 10/20/2023</td>\n      <td>10/20/2023</td>\n      <td>8.00</td>\n      <td>Friday</td>\n      <td>Bi-Weekly Salary</td>\n      <td>...</td>\n      <td>88572bc8f2d81000d2ff785656e20000</td>\n      <td>8.00</td>\n      <td>2023-10-20</td>\n      <td>Time</td>\n      <td>7a55a775b63b4b9b8a5b3722fc1e4556</td>\n      <td>Hours</td>\n      <td>c4dacbd56bca4a9a8950e8d3ed21bbdb</td>\n      <td>Hours</td>\n      <td>True</td>\n      <td>0.00</td>\n    </tr>\n    <tr>\n      <th>...</th>\n      <td>...</td>\n      <td>...</td>\n      <td>...</td>\n      <td>...</td>\n      <td>...</td>\n      <td>...</td>\n      <td>...</td>\n      <td>...</td>\n      <td>...</td>\n      <td>...</td>\n      <td>...</td>\n      <td>...</td>\n      <td>...</td>\n      <td>...</td>\n      <td>...</td>\n      <td>...</td>\n      <td>...</td>\n      <td>...</td>\n      <td>...</td>\n      <td>...</td>\n      <td>...</td>\n    </tr>\n    <tr>\n      <th>76557</th>\n      <td>07f132c6a9069000cd4715fc58590001</td>\n      <td>6585</td>\n      <td>Wayne Stevenson</td>\n      <td>Wayne Stevenson (6585)</td>\n      <td>5.5 Hours</td>\n      <td>5.5 Hours on 09/27/2023</td>\n      <td>n 09/27/2023</td>\n      <td>5.50</td>\n      <td>Wednesday</td>\n      <td>Weekly Hourly</td>\n      <td>...</td>\n      <td>4a99fa1f113e100129b621416cf90001</td>\n      <td>5.50</td>\n      <td>2023-09-27</td>\n      <td>Time</td>\n      <td>7a55a775b63b4b9b8a5b3722fc1e4556</td>\n      <td>Hours</td>\n      <td>c4dacbd56bca4a9a8950e8d3ed21bbdb</td>\n      <td>Hours</td>\n      <td>True</td>\n      <td>5.50</td>\n    </tr>\n    <tr>\n      <th>76558</th>\n      <td>07f132c6a9069000cd471695eeb60000</td>\n      <td>6585</td>\n      <td>Wayne Stevenson</td>\n      <td>Wayne Stevenson (6585)</td>\n      <td>5.75 Hours</td>\n      <td>5.75 Hours on 09/26/2023</td>\n      <td>on 09/26/2023</td>\n      <td>5.75</td>\n      <td>Tuesday</td>\n      <td>Weekly Hourly</td>\n      <td>...</td>\n      <td>4a99fa1f113e100129b621416cf90001</td>\n      <td>5.75</td>\n      <td>2023-09-26</td>\n      <td>Time</td>\n      <td>7a55a775b63b4b9b8a5b3722fc1e4556</td>\n      <td>Hours</td>\n      <td>c4dacbd56bca4a9a8950e8d3ed21bbdb</td>\n      <td>Hours</td>\n      <td>True</td>\n      <td>5.75</td>\n    </tr>\n    <tr>\n      <th>76559</th>\n      <td>07f132c6a9069000cd471695eeb60001</td>\n      <td>6585</td>\n      <td>Wayne Stevenson</td>\n      <td>Wayne Stevenson (6585)</td>\n      <td>5.5 Hours</td>\n      <td>5.5 Hours on 09/28/2023</td>\n      <td>n 09/28/2023</td>\n      <td>5.50</td>\n      <td>Thursday</td>\n      <td>Weekly Hourly</td>\n      <td>...</td>\n      <td>4a99fa1f113e100129b621416cf90001</td>\n      <td>5.50</td>\n      <td>2023-09-28</td>\n      <td>Time</td>\n      <td>7a55a775b63b4b9b8a5b3722fc1e4556</td>\n      <td>Hours</td>\n      <td>c4dacbd56bca4a9a8950e8d3ed21bbdb</td>\n      <td>Hours</td>\n      <td>True</td>\n      <td>5.50</td>\n    </tr>\n    <tr>\n      <th>76560</th>\n      <td>07f132c6a9069000cdc0b0922eca0000</td>\n      <td>14718</td>\n      <td>Keandra Adams</td>\n      <td>Keandra Adams (14718)</td>\n      <td>2 Hours</td>\n      <td>2 Hours on 09/29/2023</td>\n      <td>09/29/2023</td>\n      <td>2.00</td>\n      <td>Friday</td>\n      <td>Bi-Weekly Salary</td>\n      <td>...</td>\n      <td>88572bc8f2d81000d2d23d22c2a00001</td>\n      <td>2.00</td>\n      <td>2023-09-29</td>\n      <td>Time</td>\n      <td>7a55a775b63b4b9b8a5b3722fc1e4556</td>\n      <td>Hours</td>\n      <td>c4dacbd56bca4a9a8950e8d3ed21bbdb</td>\n      <td>Hours</td>\n      <td>True</td>\n      <td>2.00</td>\n    </tr>\n    <tr>\n      <th>76561</th>\n      <td>07f132c6a9069000cdd78e7332de0000</td>\n      <td>14718</td>\n      <td>Keandra Adams</td>\n      <td>Keandra Adams (14718)</td>\n      <td>1.5 Hours</td>\n      <td>1.5 Hours on 09/29/2023</td>\n      <td>n 09/29/2023</td>\n      <td>1.50</td>\n      <td>Friday</td>\n      <td>Bi-Weekly Salary</td>\n      <td>...</td>\n      <td>88572bc8f2d81000d2d5c1acfe6e0001</td>\n      <td>1.50</td>\n      <td>2023-09-29</td>\n      <td>Time</td>\n      <td>7a55a775b63b4b9b8a5b3722fc1e4556</td>\n      <td>Hours</td>\n      <td>c4dacbd56bca4a9a8950e8d3ed21bbdb</td>\n      <td>Hours</td>\n      <td>True</td>\n      <td>1.50</td>\n    </tr>\n  </tbody>\n</table>\n<p>76562 rows × 338 columns</p>\n</div>"
          },
          "metadata": {}
        }
      ],
      "execution_count": 116,
      "metadata": {
        "jupyter": {
          "source_hidden": false,
          "outputs_hidden": false
        },
        "nteract": {
          "transient": {
            "deleting": false
          }
        },
        "gather": {
          "logged": 1697640885501
        }
      }
    },
    {
      "cell_type": "code",
      "source": [
        "wd_pr_df.loc[wd_pr_df['Employee_FullName'].str.contains('Kenneth Bowles')]"
      ],
      "outputs": [
        {
          "output_type": "execute_result",
          "execution_count": 130,
          "data": {
            "text/plain": "                              workdayID EmployeeID Employee_FullName  \\\n19606  1abc577aeaea9000c45ba00374ad0000      15033   Kenneth Bowles    \n45056  babe2cdd23cd9000b541f31099f60000      15033   Kenneth Bowles    \n45057  babe2cdd23cd9000b541f3aac2800000      15033   Kenneth Bowles    \n45058  babe2cdd23cd9000b541f44487da0000      15033   Kenneth Bowles    \n65255  7c8f1553b8899000be0b3bcb9b9d0000      15033   Kenneth Bowles    \n65256  7c8f1553b8899000be0b3c65d4410000      15033   Kenneth Bowles    \n65257  7c8f1553b8899000be0b3cffca2f0000      15033   Kenneth Bowles    \n65258  7c8f1553b8899000be0b3d99bea80000      15033   Kenneth Bowles    \n65259  7c8f1553b8899000be0b3e33fc950000      15033   Kenneth Bowles    \n65401  dcd88da845b59000bdf2ae109ec20000      15033   Kenneth Bowles    \n\n                                   Workers  \\\n19606  Kenneth Bowles (Terminated) (15033)   \n45056  Kenneth Bowles (Terminated) (15033)   \n45057  Kenneth Bowles (Terminated) (15033)   \n45058  Kenneth Bowles (Terminated) (15033)   \n65255  Kenneth Bowles (Terminated) (15033)   \n65256  Kenneth Bowles (Terminated) (15033)   \n65257  Kenneth Bowles (Terminated) (15033)   \n65258  Kenneth Bowles (Terminated) (15033)   \n65259  Kenneth Bowles (Terminated) (15033)   \n65401  Kenneth Bowles (Terminated) (15033)   \n\n      Employee_BillTransaction_Descriptor billableTransaction.descriptor  \\\n19606                            5 Hours           5 Hours on 10/10/2023   \n45056                         7.25 Hours        7.25 Hours on 09/26/2023   \n45057                           10 Hours          10 Hours on 09/27/2023   \n45058                           10 Hours          10 Hours on 09/28/2023   \n65255                           10 Hours          10 Hours on 10/03/2023   \n65256                           10 Hours          10 Hours on 10/04/2023   \n65257                         10.5 Hours        10.5 Hours on 10/05/2023   \n65258                          9.5 Hours         9.5 Hours on 10/06/2023   \n65259                            2 Hours           2 Hours on 10/06/2023   \n65401                                 2                 2  on 10/06/2023   \n\n      Employee_BillTransactionDate  amount dayOfTheWeek FrequencySalary  ...  \\\n19606                   10/10/2023    5.00      Tuesday            None  ...   \n45056                on 09/26/2023    7.25      Tuesday            None  ...   \n45057                   09/27/2023   10.00    Wednesday            None  ...   \n45058                   09/28/2023   10.00     Thursday            None  ...   \n65255                   10/03/2023   10.00      Tuesday            None  ...   \n65256                   10/04/2023   10.00    Wednesday            None  ...   \n65257                on 10/05/2023   10.50     Thursday            None  ...   \n65258                 n 10/06/2023    7.50       Friday            None  ...   \n65259                   10/06/2023    2.00       Friday            None  ...   \n65401                        /2023    2.00       Friday            None  ...   \n\n                           timeType1.id totalHoursTimeTracking  \\\n19606  88572bc8f2d81000d2fc0169f9600000                   5.00   \n45056  88572bc8f2d81000d2fc0169f9600000                   7.25   \n45057  88572bc8f2d81000d2fc0169f9600000                  10.00   \n45058  88572bc8f2d81000d2fc0169f9600000                  10.00   \n65255  88572bc8f2d81000d2fc0169f9600000                  10.00   \n65256  88572bc8f2d81000d2fc0169f9600000                  10.00   \n65257  88572bc8f2d81000d2fc0169f9600000                  10.50   \n65258  88572bc8f2d81000d2fc0169f9600000                   7.50   \n65259  88572bc8f2d81000d2fc0169f9600000                   2.00   \n65401  88572bc8f2d81000d2fc0169f9600000                   2.00   \n\n      transactionDate2 transactionSource.descriptor  \\\n19606       2023-10-10                         Time   \n45056       2023-09-26                         Time   \n45057       2023-09-27                         Time   \n45058       2023-09-28                         Time   \n65255       2023-10-03                         Time   \n65256       2023-10-04                         Time   \n65257       2023-10-05                         Time   \n65258       2023-10-06                         Time   \n65259       2023-10-06                         Time   \n65401       2023-10-06                         Time   \n\n                   transactionSource.id unit.descriptor  \\\n19606  7a55a775b63b4b9b8a5b3722fc1e4556           Hours   \n45056  7a55a775b63b4b9b8a5b3722fc1e4556           Hours   \n45057  7a55a775b63b4b9b8a5b3722fc1e4556           Hours   \n45058  7a55a775b63b4b9b8a5b3722fc1e4556           Hours   \n65255  7a55a775b63b4b9b8a5b3722fc1e4556           Hours   \n65256  7a55a775b63b4b9b8a5b3722fc1e4556           Hours   \n65257  7a55a775b63b4b9b8a5b3722fc1e4556           Hours   \n65258  7a55a775b63b4b9b8a5b3722fc1e4556           Hours   \n65259  7a55a775b63b4b9b8a5b3722fc1e4556           Hours   \n65401  7a55a775b63b4b9b8a5b3722fc1e4556            None   \n\n                                unit.id  unit1 unitOfTimeIsHours  \\\n19606  c4dacbd56bca4a9a8950e8d3ed21bbdb  Hours              True   \n45056  c4dacbd56bca4a9a8950e8d3ed21bbdb  Hours              True   \n45057  c4dacbd56bca4a9a8950e8d3ed21bbdb  Hours              True   \n45058  c4dacbd56bca4a9a8950e8d3ed21bbdb  Hours              True   \n65255  c4dacbd56bca4a9a8950e8d3ed21bbdb  Hours              True   \n65256  c4dacbd56bca4a9a8950e8d3ed21bbdb  Hours              True   \n65257  c4dacbd56bca4a9a8950e8d3ed21bbdb  Hours              True   \n65258  c4dacbd56bca4a9a8950e8d3ed21bbdb  Hours              True   \n65259  c4dacbd56bca4a9a8950e8d3ed21bbdb  Hours              True   \n65401                              None   None             False   \n\n      unroundedDuration  \n19606               0.0  \n45056               0.0  \n45057               0.0  \n45058               0.0  \n65255               0.0  \n65256               0.0  \n65257               0.0  \n65258               0.0  \n65259               0.0  \n65401               0.0  \n\n[10 rows x 338 columns]",
            "text/html": "<div>\n<style scoped>\n    .dataframe tbody tr th:only-of-type {\n        vertical-align: middle;\n    }\n\n    .dataframe tbody tr th {\n        vertical-align: top;\n    }\n\n    .dataframe thead th {\n        text-align: right;\n    }\n</style>\n<table border=\"1\" class=\"dataframe\">\n  <thead>\n    <tr style=\"text-align: right;\">\n      <th></th>\n      <th>workdayID</th>\n      <th>EmployeeID</th>\n      <th>Employee_FullName</th>\n      <th>Workers</th>\n      <th>Employee_BillTransaction_Descriptor</th>\n      <th>billableTransaction.descriptor</th>\n      <th>Employee_BillTransactionDate</th>\n      <th>amount</th>\n      <th>dayOfTheWeek</th>\n      <th>FrequencySalary</th>\n      <th>...</th>\n      <th>timeType1.id</th>\n      <th>totalHoursTimeTracking</th>\n      <th>transactionDate2</th>\n      <th>transactionSource.descriptor</th>\n      <th>transactionSource.id</th>\n      <th>unit.descriptor</th>\n      <th>unit.id</th>\n      <th>unit1</th>\n      <th>unitOfTimeIsHours</th>\n      <th>unroundedDuration</th>\n    </tr>\n  </thead>\n  <tbody>\n    <tr>\n      <th>19606</th>\n      <td>1abc577aeaea9000c45ba00374ad0000</td>\n      <td>15033</td>\n      <td>Kenneth Bowles</td>\n      <td>Kenneth Bowles (Terminated) (15033)</td>\n      <td>5 Hours</td>\n      <td>5 Hours on 10/10/2023</td>\n      <td>10/10/2023</td>\n      <td>5.00</td>\n      <td>Tuesday</td>\n      <td>None</td>\n      <td>...</td>\n      <td>88572bc8f2d81000d2fc0169f9600000</td>\n      <td>5.00</td>\n      <td>2023-10-10</td>\n      <td>Time</td>\n      <td>7a55a775b63b4b9b8a5b3722fc1e4556</td>\n      <td>Hours</td>\n      <td>c4dacbd56bca4a9a8950e8d3ed21bbdb</td>\n      <td>Hours</td>\n      <td>True</td>\n      <td>0.0</td>\n    </tr>\n    <tr>\n      <th>45056</th>\n      <td>babe2cdd23cd9000b541f31099f60000</td>\n      <td>15033</td>\n      <td>Kenneth Bowles</td>\n      <td>Kenneth Bowles (Terminated) (15033)</td>\n      <td>7.25 Hours</td>\n      <td>7.25 Hours on 09/26/2023</td>\n      <td>on 09/26/2023</td>\n      <td>7.25</td>\n      <td>Tuesday</td>\n      <td>None</td>\n      <td>...</td>\n      <td>88572bc8f2d81000d2fc0169f9600000</td>\n      <td>7.25</td>\n      <td>2023-09-26</td>\n      <td>Time</td>\n      <td>7a55a775b63b4b9b8a5b3722fc1e4556</td>\n      <td>Hours</td>\n      <td>c4dacbd56bca4a9a8950e8d3ed21bbdb</td>\n      <td>Hours</td>\n      <td>True</td>\n      <td>0.0</td>\n    </tr>\n    <tr>\n      <th>45057</th>\n      <td>babe2cdd23cd9000b541f3aac2800000</td>\n      <td>15033</td>\n      <td>Kenneth Bowles</td>\n      <td>Kenneth Bowles (Terminated) (15033)</td>\n      <td>10 Hours</td>\n      <td>10 Hours on 09/27/2023</td>\n      <td>09/27/2023</td>\n      <td>10.00</td>\n      <td>Wednesday</td>\n      <td>None</td>\n      <td>...</td>\n      <td>88572bc8f2d81000d2fc0169f9600000</td>\n      <td>10.00</td>\n      <td>2023-09-27</td>\n      <td>Time</td>\n      <td>7a55a775b63b4b9b8a5b3722fc1e4556</td>\n      <td>Hours</td>\n      <td>c4dacbd56bca4a9a8950e8d3ed21bbdb</td>\n      <td>Hours</td>\n      <td>True</td>\n      <td>0.0</td>\n    </tr>\n    <tr>\n      <th>45058</th>\n      <td>babe2cdd23cd9000b541f44487da0000</td>\n      <td>15033</td>\n      <td>Kenneth Bowles</td>\n      <td>Kenneth Bowles (Terminated) (15033)</td>\n      <td>10 Hours</td>\n      <td>10 Hours on 09/28/2023</td>\n      <td>09/28/2023</td>\n      <td>10.00</td>\n      <td>Thursday</td>\n      <td>None</td>\n      <td>...</td>\n      <td>88572bc8f2d81000d2fc0169f9600000</td>\n      <td>10.00</td>\n      <td>2023-09-28</td>\n      <td>Time</td>\n      <td>7a55a775b63b4b9b8a5b3722fc1e4556</td>\n      <td>Hours</td>\n      <td>c4dacbd56bca4a9a8950e8d3ed21bbdb</td>\n      <td>Hours</td>\n      <td>True</td>\n      <td>0.0</td>\n    </tr>\n    <tr>\n      <th>65255</th>\n      <td>7c8f1553b8899000be0b3bcb9b9d0000</td>\n      <td>15033</td>\n      <td>Kenneth Bowles</td>\n      <td>Kenneth Bowles (Terminated) (15033)</td>\n      <td>10 Hours</td>\n      <td>10 Hours on 10/03/2023</td>\n      <td>10/03/2023</td>\n      <td>10.00</td>\n      <td>Tuesday</td>\n      <td>None</td>\n      <td>...</td>\n      <td>88572bc8f2d81000d2fc0169f9600000</td>\n      <td>10.00</td>\n      <td>2023-10-03</td>\n      <td>Time</td>\n      <td>7a55a775b63b4b9b8a5b3722fc1e4556</td>\n      <td>Hours</td>\n      <td>c4dacbd56bca4a9a8950e8d3ed21bbdb</td>\n      <td>Hours</td>\n      <td>True</td>\n      <td>0.0</td>\n    </tr>\n    <tr>\n      <th>65256</th>\n      <td>7c8f1553b8899000be0b3c65d4410000</td>\n      <td>15033</td>\n      <td>Kenneth Bowles</td>\n      <td>Kenneth Bowles (Terminated) (15033)</td>\n      <td>10 Hours</td>\n      <td>10 Hours on 10/04/2023</td>\n      <td>10/04/2023</td>\n      <td>10.00</td>\n      <td>Wednesday</td>\n      <td>None</td>\n      <td>...</td>\n      <td>88572bc8f2d81000d2fc0169f9600000</td>\n      <td>10.00</td>\n      <td>2023-10-04</td>\n      <td>Time</td>\n      <td>7a55a775b63b4b9b8a5b3722fc1e4556</td>\n      <td>Hours</td>\n      <td>c4dacbd56bca4a9a8950e8d3ed21bbdb</td>\n      <td>Hours</td>\n      <td>True</td>\n      <td>0.0</td>\n    </tr>\n    <tr>\n      <th>65257</th>\n      <td>7c8f1553b8899000be0b3cffca2f0000</td>\n      <td>15033</td>\n      <td>Kenneth Bowles</td>\n      <td>Kenneth Bowles (Terminated) (15033)</td>\n      <td>10.5 Hours</td>\n      <td>10.5 Hours on 10/05/2023</td>\n      <td>on 10/05/2023</td>\n      <td>10.50</td>\n      <td>Thursday</td>\n      <td>None</td>\n      <td>...</td>\n      <td>88572bc8f2d81000d2fc0169f9600000</td>\n      <td>10.50</td>\n      <td>2023-10-05</td>\n      <td>Time</td>\n      <td>7a55a775b63b4b9b8a5b3722fc1e4556</td>\n      <td>Hours</td>\n      <td>c4dacbd56bca4a9a8950e8d3ed21bbdb</td>\n      <td>Hours</td>\n      <td>True</td>\n      <td>0.0</td>\n    </tr>\n    <tr>\n      <th>65258</th>\n      <td>7c8f1553b8899000be0b3d99bea80000</td>\n      <td>15033</td>\n      <td>Kenneth Bowles</td>\n      <td>Kenneth Bowles (Terminated) (15033)</td>\n      <td>9.5 Hours</td>\n      <td>9.5 Hours on 10/06/2023</td>\n      <td>n 10/06/2023</td>\n      <td>7.50</td>\n      <td>Friday</td>\n      <td>None</td>\n      <td>...</td>\n      <td>88572bc8f2d81000d2fc0169f9600000</td>\n      <td>7.50</td>\n      <td>2023-10-06</td>\n      <td>Time</td>\n      <td>7a55a775b63b4b9b8a5b3722fc1e4556</td>\n      <td>Hours</td>\n      <td>c4dacbd56bca4a9a8950e8d3ed21bbdb</td>\n      <td>Hours</td>\n      <td>True</td>\n      <td>0.0</td>\n    </tr>\n    <tr>\n      <th>65259</th>\n      <td>7c8f1553b8899000be0b3e33fc950000</td>\n      <td>15033</td>\n      <td>Kenneth Bowles</td>\n      <td>Kenneth Bowles (Terminated) (15033)</td>\n      <td>2 Hours</td>\n      <td>2 Hours on 10/06/2023</td>\n      <td>10/06/2023</td>\n      <td>2.00</td>\n      <td>Friday</td>\n      <td>None</td>\n      <td>...</td>\n      <td>88572bc8f2d81000d2fc0169f9600000</td>\n      <td>2.00</td>\n      <td>2023-10-06</td>\n      <td>Time</td>\n      <td>7a55a775b63b4b9b8a5b3722fc1e4556</td>\n      <td>Hours</td>\n      <td>c4dacbd56bca4a9a8950e8d3ed21bbdb</td>\n      <td>Hours</td>\n      <td>True</td>\n      <td>0.0</td>\n    </tr>\n    <tr>\n      <th>65401</th>\n      <td>dcd88da845b59000bdf2ae109ec20000</td>\n      <td>15033</td>\n      <td>Kenneth Bowles</td>\n      <td>Kenneth Bowles (Terminated) (15033)</td>\n      <td>2</td>\n      <td>2  on 10/06/2023</td>\n      <td>/2023</td>\n      <td>2.00</td>\n      <td>Friday</td>\n      <td>None</td>\n      <td>...</td>\n      <td>88572bc8f2d81000d2fc0169f9600000</td>\n      <td>2.00</td>\n      <td>2023-10-06</td>\n      <td>Time</td>\n      <td>7a55a775b63b4b9b8a5b3722fc1e4556</td>\n      <td>None</td>\n      <td>None</td>\n      <td>None</td>\n      <td>False</td>\n      <td>0.0</td>\n    </tr>\n  </tbody>\n</table>\n<p>10 rows × 338 columns</p>\n</div>"
          },
          "metadata": {}
        }
      ],
      "execution_count": 130,
      "metadata": {
        "jupyter": {
          "source_hidden": false,
          "outputs_hidden": false
        },
        "nteract": {
          "transient": {
            "deleting": false
          }
        },
        "gather": {
          "logged": 1697641245019
        }
      }
    },
    {
      "cell_type": "code",
      "source": [
        "#.replace('(Terminated)' , '')\n",
        "\n",
        "wd_pr_df.loc[wd_pr_df['EEID']=='Terminated','EmployeeID'].unique()"
      ],
      "outputs": [
        {
          "output_type": "execute_result",
          "execution_count": 127,
          "data": {
            "text/plain": "array(['14987', '16322', '20351', '20343', '14829', '16162', '16165',\n       '16187', '16200', '16138', '-', '15505', '15962', '9145', '16120',\n       '16171', '16172', '16174', '8994', '16255', '15762', '16318',\n       '16316', '16249', '6102', '16312', '15855', '16305', '16304',\n       '16302', '16298', '13408', '14707', '5733', '16019', '6024',\n       '16023', '15612', '15705', '15954', '15613', '15800', '6868',\n       '15086', '15176', '14855', '15469', '15458', '15468', '15456',\n       '5105', '16193', '15034', '14653', '7629', '7864', '15792',\n       '12899', '12968', '13609', '15983', '16074', '16329', '16346',\n       '15454', '16363', '15949', '13732', '15590', '15640', '11128',\n       '12897', '15255', '16357', '11632', '7546', '14705', '20406',\n       '15742', '7249', '7417', '7435', '14711', '15854', '15851',\n       '14112', '14221', '14236', '14343', '14514', '14905', '14921',\n       '14952', '14972', '15523', '15536', '5365', '20316', '13279',\n       '13716', '20547', '12388', '11741', '15419', '20337', '9389',\n       '7835', '16166', '12867', '16347', '11143', '20489', '4153',\n       '9874', '16356', '13541', '16351', '16030', '15033', '1055',\n       '20619', '8950', '8398', '15315', '16264', '14968', '13371',\n       '6937', '20208', '7479', '9368', '15986', '15990', '15997',\n       '16111', '16240', '7263', '20306', '15348', '15303', '15298',\n       '15307', '15369', '14938', '20209', '15046', '15532', '15529',\n       '15436', '15232', '16011', '16013', '16263', '16265', '16291',\n       '15378', '15462', '9596', '15428', '15422', '16089', '13645',\n       '11648', '11184', '2719', '15165', '15739', '15783', '15138',\n       '15440', '16324', '20173', '20500', '6531', '14999', '6589',\n       '15379', '20285', '14625', '5834', '20156', '14722', '16016',\n       '16290', '20190', '16289', '7743', '15564', '10510', '4380',\n       '15735', '16059', '20140', '6423', '7544', '16151', '16124',\n       '15342', '4195', '9274', '16014', '15244', '4028', '20447',\n       '15956', '20290', '11278'], dtype=object)"
          },
          "metadata": {}
        }
      ],
      "execution_count": 127,
      "metadata": {
        "jupyter": {
          "source_hidden": false,
          "outputs_hidden": false
        },
        "nteract": {
          "transient": {
            "deleting": false
          }
        },
        "gather": {
          "logged": 1697641057834
        }
      }
    },
    {
      "cell_type": "code",
      "source": [
        "wd_pr_df = wd_pr_df_dev.copy()"
      ],
      "outputs": [],
      "execution_count": 129,
      "metadata": {
        "jupyter": {
          "source_hidden": false,
          "outputs_hidden": false
        },
        "nteract": {
          "transient": {
            "deleting": false
          }
        },
        "gather": {
          "logged": 1697641199963
        }
      }
    },
    {
      "cell_type": "code",
      "source": [
        "wd_pr_df['Workers'] = wd_pr_df['Workers'].str.replace('(Terminated)' , '')\n",
        "wd_pr_df['EEID'] = wd_pr_df['Workers'].str.split('(').str[1]\n",
        "wd_pr_df['EEID'] = wd_pr_df['EEID'].str.split(')').str[0]"
      ],
      "outputs": [],
      "execution_count": 139,
      "metadata": {
        "jupyter": {
          "source_hidden": false,
          "outputs_hidden": false
        },
        "nteract": {
          "transient": {
            "deleting": false
          }
        },
        "gather": {
          "logged": 1697641397202
        }
      }
    },
    {
      "cell_type": "code",
      "source": [
        "#also check EEID 15033\n",
        "wd_pr_df.loc[wd_pr_df['Employee_FullName'].str.contains('Kenneth Bowles'),'EEID']"
      ],
      "outputs": [
        {
          "output_type": "execute_result",
          "execution_count": 141,
          "data": {
            "text/plain": "19606    15033\n45056    15033\n45057    15033\n45058    15033\n65255    15033\n65256    15033\n65257    15033\n65258    15033\n65259    15033\n65401    15033\nName: EEID, dtype: object"
          },
          "metadata": {}
        }
      ],
      "execution_count": 141,
      "metadata": {
        "jupyter": {
          "source_hidden": false,
          "outputs_hidden": false
        },
        "nteract": {
          "transient": {
            "deleting": false
          }
        },
        "gather": {
          "logged": 1697641402403
        }
      }
    },
    {
      "cell_type": "code",
      "source": [],
      "outputs": [],
      "execution_count": null,
      "metadata": {
        "jupyter": {
          "source_hidden": false,
          "outputs_hidden": false
        },
        "nteract": {
          "transient": {
            "deleting": false
          }
        }
      }
    }
  ],
  "metadata": {
    "kernelspec": {
      "name": "python310-sdkv2",
      "language": "python",
      "display_name": "Python 3.10 - SDK v2"
    },
    "language_info": {
      "name": "python",
      "version": "3.10.11",
      "mimetype": "text/x-python",
      "codemirror_mode": {
        "name": "ipython",
        "version": 3
      },
      "pygments_lexer": "ipython3",
      "nbconvert_exporter": "python",
      "file_extension": ".py"
    },
    "microsoft": {
      "ms_spell_check": {
        "ms_spell_check_language": "en"
      },
      "host": {
        "AzureML": {
          "notebookHasBeenCompleted": true
        }
      }
    },
    "kernel_info": {
      "name": "python310-sdkv2"
    },
    "nteract": {
      "version": "nteract-front-end@1.0.0"
    }
  },
  "nbformat": 4,
  "nbformat_minor": 2
}