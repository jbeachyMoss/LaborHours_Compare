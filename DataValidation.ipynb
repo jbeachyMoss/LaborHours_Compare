{
  "cells": [
    {
      "cell_type": "code",
      "source": [
        "# azureml-core of version 1.0.72 or higher is required\n",
        "# azureml-dataprep[pandas] of version 1.1.34 or higher is required\n",
        "from azureml.core import Workspace, Dataset\n",
        "import pandas as pd\n",
        "from datetime import date, datetime, timedelta\n",
        "import numpy as np\n",
        "from azure.storage.blob import BlobServiceClient\n",
        "\n",
        "subscription_id = '96599b9b-0d9b-4577-9163-418d2c6cd411'\n",
        "resource_group = 'rg-datasci-ml-dev-001'\n",
        "workspace_name = 'ml-moss-dev-001'\n",
        "\n",
        "workspace = Workspace(subscription_id, resource_group, workspace_name)\n",
        "\n",
        "dataset_hourly_compare_cmic = Dataset.get_by_name(workspace, name='Hourly_Employee_Time_prod')\n",
        "cmic_pr_df_dev = dataset_hourly_compare_cmic.to_pandas_dataframe()\n",
        "\n",
        "dataset_hourly_compare_wd = Dataset.get_by_name(workspace, name='WD_Hourly_Employee_Time_prod')\n",
        "wd_pr_df_dev = dataset_hourly_compare_wd.to_pandas_dataframe()\n",
        "\n",
        "tcp_dataset = Dataset.get_by_name(workspace, name='WorkSegments_Timesheet_prod')\n",
        "tcp_df_dev = tcp_dataset.to_pandas_dataframe()\n",
        "\n",
        "jcjob_dataset = Dataset.get_by_name(workspace, name='JCJOB_TABLE_TN_prod')\n",
        "jcjob_df = jcjob_dataset.to_pandas_dataframe()"
      ],
      "outputs": [
        {
          "output_type": "stream",
          "name": "stderr",
          "text": "Message: rslex failed, falling back to clex.\nPayload: {\"pid\": 5434, \"source\": \"azureml.dataprep\", \"version\": \"4.11.3\", \"trace\": \"azureml|data|tabular_dataset.py, line 169 in function <lambda>.\\nazureml|data|dataset_error_handling.py, line 107 in function _try_execute.\\nazureml|data|tabular_dataset.py, line 169 in function to_pandas_dataframe.\", \"subscription\": \"\", \"run_id\": \"\", \"resource_group\": \"\", \"workspace_name\": \"\", \"experiment_id\": \"\", \"location\": \"\", \"rslex_version\": \"2.18.3\"}\n"
        }
      ],
      "execution_count": 67,
      "metadata": {
        "gather": {
          "logged": 1697637986918
        }
      }
    },
    {
      "cell_type": "code",
      "source": [
        "##########################\n",
        "\n",
        "week_ending = '2023-10-14'\n",
        "\n",
        "##########################\n",
        "\n",
        "date = datetime.strptime(week_ending, \"%Y-%m-%d\")\n",
        "start_date = date - timedelta(days = 6)\n",
        "end_date = date"
      ],
      "outputs": [],
      "execution_count": 68,
      "metadata": {
        "jupyter": {
          "source_hidden": false,
          "outputs_hidden": false
        },
        "nteract": {
          "transient": {
            "deleting": false
          }
        },
        "gather": {
          "logged": 1697638045468
        }
      }
    },
    {
      "cell_type": "code",
      "source": [
        "tcp_df = tcp_df_dev.copy()"
      ],
      "outputs": [],
      "execution_count": 69,
      "metadata": {
        "jupyter": {
          "source_hidden": false,
          "outputs_hidden": false
        },
        "nteract": {
          "transient": {
            "deleting": false
          }
        },
        "gather": {
          "logged": 1697638046376
        }
      }
    },
    {
      "cell_type": "code",
      "source": [
        "###TCP Data Manipulation\n",
        "#Filter: Solar Jobs only \n",
        "tcp_df = tcp_df.loc[tcp_df['Job_Code'].str.startswith('710')]\n",
        "#Filter: Only Keeping Labor Hourly\n",
        "tcp_df = tcp_df.loc[tcp_df['Task'].isin(['LH','LHA'])]\n",
        "#Filter: Only keeping Moss Labor Hourly - excluding subs\n",
        "tcp_df = tcp_df.loc[tcp_df['Department']=='710']\n",
        "#Creating a total hours column\n",
        "tcp_df['total_hours'] = tcp_df['Regular_Hours'] + tcp_df['Overtime_Hours']\n",
        "#Renaming Relevant Columns\n",
        "tcp_df = tcp_df.rename({'Employee_Number':'EEID','Job_Code':'Job','Activity':'Sub_Job','total_hours':'Hours'},axis='columns')\n",
        "tcp_cols_keep = ['EEID' , 'Date' , 'Job' , 'Sub_Job' , 'Hours']\n",
        "tcp_df_comp = tcp_df.loc[:,tcp_cols_keep]"
      ],
      "outputs": [],
      "execution_count": 70,
      "metadata": {
        "jupyter": {
          "source_hidden": false,
          "outputs_hidden": false
        },
        "nteract": {
          "transient": {
            "deleting": false
          }
        },
        "gather": {
          "logged": 1697638049165
        }
      }
    },
    {
      "cell_type": "code",
      "source": [
        "wd_pr_df = wd_pr_df_dev.copy()"
      ],
      "outputs": [],
      "execution_count": 110,
      "metadata": {
        "jupyter": {
          "source_hidden": false,
          "outputs_hidden": false
        },
        "nteract": {
          "transient": {
            "deleting": false
          }
        },
        "gather": {
          "logged": 1697639003959
        }
      }
    },
    {
      "cell_type": "code",
      "source": [
        "#Workday Data Manipulation\n",
        "#Drop Null values if the employee does not have a job/sub job assignment\n",
        "wd_pr_df = wd_pr_df.loc[~wd_pr_df['billableProject.descriptor'].isna()]\n",
        "#Filter: Solar Jobs Only\n",
        "wd_pr_df = wd_pr_df.loc[wd_pr_df['billableProject.descriptor'].str.startswith('710')]\n",
        "#Extracting Employee ID (EEID) from 'Workers' column\n",
        "wd_pr_df['EEID'] = wd_pr_df['Workers'].str.split('(').str[1]\n",
        "wd_pr_df['EEID'] = wd_pr_df['EEID'].str.split(')').str[0]\n",
        "#This isolates the 2 digit sub job, also accomodates the sub jobs that have a letter in them like Claims (C) and Warranty (W)\n",
        "wd_pr_df['cf_INTLRVCalculatedProjectFromTimeBlock.descriptor'] = wd_pr_df['cf_INTLRVCalculatedProjectFromTimeBlock.descriptor'].str.replace('C' , '.C')\n",
        "wd_pr_df['cf_INTLRVCalculatedProjectFromTimeBlock.descriptor'] = wd_pr_df['cf_INTLRVCalculatedProjectFromTimeBlock.descriptor'].str.replace('W' , '.W')\n",
        "wd_pr_df['sub_job'] = wd_pr_df['cf_INTLRVCalculatedProjectFromTimeBlock.descriptor'].str.split('.').str[1]\n",
        "wd_pr_df['sub_job'] = wd_pr_df['sub_job'].str.split(' ').str[0]\n",
        "#Leaves behind Job ONLY\n",
        "wd_pr_df['job'] = wd_pr_df.loc[:,'cf_INTLRVCalculatedProjectFromTimeBlock.descriptor'].str[0:7]\n",
        "#Renaming Relevant Columns\n",
        "wd_pr_df = wd_pr_df.rename({'calculatedDate':'Date','job':'Job','sub_job':'Sub_Job','amount':'Hours'},axis='columns')\n",
        "wd_cols_keep = ['EEID' , 'Date' , 'Job' , 'Sub_Job' , 'Hours']\n",
        "wd_pr_df_comp = wd_pr_df.loc[:,wd_cols_keep]\n",
        "#excluding these employees from Workday because they will not be present in the TCP data\n",
        "wd_eeid_exclude = ['6423','6525','9633','9647','9686','11780','13401','13757','14452','14523','14587','14594','15312','15358','15681','15912']\n",
        "wd_pr_df_comp = wd_pr_df_comp.loc[~wd_pr_df_comp['EEID'].isin(wd_eeid_exclude)]"
      ],
      "outputs": [],
      "execution_count": 111,
      "metadata": {
        "jupyter": {
          "source_hidden": false,
          "outputs_hidden": false
        },
        "nteract": {
          "transient": {
            "deleting": false
          }
        },
        "gather": {
          "logged": 1697639005468
        }
      }
    },
    {
      "cell_type": "code",
      "source": [
        "cmic_pr_df = cmic_pr_df_dev.copy()"
      ],
      "outputs": [],
      "execution_count": 18,
      "metadata": {
        "jupyter": {
          "source_hidden": false,
          "outputs_hidden": false
        },
        "nteract": {
          "transient": {
            "deleting": false
          }
        },
        "gather": {
          "logged": 1697636251292
        }
      }
    },
    {
      "cell_type": "code",
      "source": [
        "#CMiC Data Manipulation\n",
        "#Re-casting this column as a Date data type\n",
        "cmic_pr_df[\"Date\"] = pd.to_datetime(cmic_pr_df[\"Date\"])\n",
        "#Filter: Only Keeping Labor Hourly\n",
        "cmic_pr_df = cmic_pr_df.loc[cmic_pr_df['Task'].isin(['LH','LHA'])]\n",
        "#Renaming Relevant Columns\n",
        "cmic_pr_df = cmic_pr_df.rename({'Employee Number':'EEID','Job Code':'Job','Sub Job Code':'Sub_Job','Regular Hours':'Hours'},axis='columns')\n",
        "cmic_cols_keep = ['EEID' , 'Date' , 'Job' , 'Sub_Job' , 'Hours']\n",
        "cmic_pr_df_comp = cmic_pr_df.loc[:,cmic_cols_keep]"
      ],
      "outputs": [],
      "execution_count": 19,
      "metadata": {
        "jupyter": {
          "source_hidden": false,
          "outputs_hidden": false
        },
        "nteract": {
          "transient": {
            "deleting": false
          }
        },
        "gather": {
          "logged": 1697636252291
        }
      }
    },
    {
      "cell_type": "code",
      "source": [
        "#Date Filters\n",
        "tcp_filter = (tcp_df_comp['Date']>=start_date)&(tcp_df_comp['Date']<=end_date)\n",
        "cmic_filter = (cmic_pr_df_comp['Date']>=start_date)&(cmic_pr_df_comp['Date']<=end_date)\n",
        "wd_filter = (wd_pr_df_comp['Date']>=start_date)&(wd_pr_df_comp['Date']<=end_date)"
      ],
      "outputs": [],
      "execution_count": 36,
      "metadata": {
        "jupyter": {
          "source_hidden": false,
          "outputs_hidden": false
        },
        "nteract": {
          "transient": {
            "deleting": false
          }
        },
        "gather": {
          "logged": 1697636726728
        }
      }
    },
    {
      "cell_type": "markdown",
      "source": [
        "#### Grouping the Data by Different Levels"
      ],
      "metadata": {
        "nteract": {
          "transient": {
            "deleting": false
          }
        }
      }
    },
    {
      "cell_type": "code",
      "source": [
        "#Grouping by Job\n",
        "tcp_grouped_job = tcp_df_comp.loc[tcp_filter].groupby(['Job']).agg(TotalHours_TCP = pd.NamedAgg(column='Hours',aggfunc='sum'))\n",
        "tcp_grouped_job = tcp_grouped_job.reset_index()\n",
        "cmic_grouped_job = cmic_pr_df_comp.loc[cmic_filter].groupby(['Job']).agg(TotalHours_CMiC = pd.NamedAgg(column='Hours',aggfunc='sum'))\n",
        "cmic_grouped_job = cmic_grouped_job.reset_index()\n",
        "wd_grouped_job = wd_pr_df_comp.loc[wd_filter].groupby(['Job']).agg(TotalHours_WD = pd.NamedAgg(column='Hours',aggfunc='sum'))\n",
        "wd_grouped_job = wd_grouped_job.reset_index()"
      ],
      "outputs": [],
      "execution_count": 183,
      "metadata": {
        "jupyter": {
          "source_hidden": false,
          "outputs_hidden": false
        },
        "nteract": {
          "transient": {
            "deleting": false
          }
        },
        "gather": {
          "logged": 1697561382389
        }
      }
    },
    {
      "cell_type": "code",
      "source": [
        "#Grouping by Job, Sub Job\n",
        "tcp_grouped_subjob = tcp_df_comp.loc[tcp_filter].groupby(['Job','Sub_Job']).agg(TotalHours_TCP = pd.NamedAgg(column='Hours',aggfunc='sum'))\n",
        "tcp_grouped_subjob = tcp_grouped_subjob.reset_index()\n",
        "cmic_grouped_subjob = cmic_pr_df_comp.loc[cmic_filter].groupby(['Job','Sub_Job']).agg(TotalHours_CMiC = pd.NamedAgg(column='Hours',aggfunc='sum'))\n",
        "cmic_grouped_subjob = cmic_grouped_subjob.reset_index()\n",
        "wd_grouped_subjob = wd_pr_df_comp.loc[wd_filter].groupby(['Job','Sub_Job']).agg(TotalHours_WD = pd.NamedAgg(column='Hours',aggfunc='sum'))\n",
        "wd_grouped_subjob = wd_grouped_subjob.reset_index()"
      ],
      "outputs": [],
      "execution_count": 184,
      "metadata": {
        "jupyter": {
          "source_hidden": false,
          "outputs_hidden": false
        },
        "nteract": {
          "transient": {
            "deleting": false
          }
        },
        "gather": {
          "logged": 1697561384381
        }
      }
    },
    {
      "cell_type": "code",
      "source": [
        "#Grouping by Job, Sub Job, EEID\n",
        "tcp_grouped_ee = tcp_df_comp.loc[tcp_filter].groupby(['EEID']).agg(TotalHours_TCP = pd.NamedAgg(column='Hours',aggfunc='sum'))\n",
        "tcp_grouped_ee = tcp_grouped_ee.reset_index()\n",
        "cmic_grouped_ee = cmic_pr_df_comp.loc[cmic_filter].groupby(['EEID']).agg(TotalHours_CMiC = pd.NamedAgg(column='Hours',aggfunc='sum'))\n",
        "cmic_grouped_ee = cmic_grouped_ee.reset_index()\n",
        "wd_grouped_ee = wd_pr_df_comp.loc[wd_filter].groupby(['EEID']).agg(TotalHours_WD = pd.NamedAgg(column='Hours',aggfunc='sum'))\n",
        "wd_grouped_ee = wd_grouped_ee.reset_index()"
      ],
      "outputs": [],
      "execution_count": 185,
      "metadata": {
        "jupyter": {
          "source_hidden": false,
          "outputs_hidden": false
        },
        "nteract": {
          "transient": {
            "deleting": false
          }
        },
        "gather": {
          "logged": 1697561386382
        }
      }
    },
    {
      "cell_type": "markdown",
      "source": [
        "#### Unique Column Creation for the Joins"
      ],
      "metadata": {
        "nteract": {
          "transient": {
            "deleting": false
          }
        }
      }
    },
    {
      "cell_type": "code",
      "source": [
        "#Unique Columns to Join On for Sub Job Comparison\n",
        "tcp_grouped_subjob['unique'] = tcp_grouped_subjob[['Job','Sub_Job']].apply(lambda x: ' - '.join(str(value) for value in x), axis=1)\n",
        "cmic_grouped_subjob['unique'] = cmic_grouped_subjob[['Job','Sub_Job']].apply(lambda x: ' - '.join(str(value) for value in x), axis=1)\n",
        "wd_grouped_subjob['unique'] = wd_grouped_subjob[['Job','Sub_Job']].apply(lambda x: ' - '.join(str(value) for value in x), axis=1)"
      ],
      "outputs": [],
      "execution_count": 186,
      "metadata": {
        "jupyter": {
          "source_hidden": false,
          "outputs_hidden": false
        },
        "nteract": {
          "transient": {
            "deleting": false
          }
        },
        "gather": {
          "logged": 1697561388382
        }
      }
    },
    {
      "cell_type": "markdown",
      "source": [
        "#### TCP vs. Workday Comparison"
      ],
      "metadata": {
        "nteract": {
          "transient": {
            "deleting": false
          }
        }
      }
    },
    {
      "cell_type": "code",
      "source": [
        "#TCP v. WD Job\n",
        "tcp_v_wd_job = tcp_grouped_job.merge(wd_grouped_job , how = 'left' , on = 'Job' , suffixes = ['_TCP','_WD'])\n",
        "#NaN Hours will be filled with 0\n",
        "tcp_v_wd_job['TotalHours_WD'] = tcp_v_wd_job['TotalHours_WD'].fillna(0)\n",
        "tcp_v_wd_job['TotalHours_TCP'] = tcp_v_wd_job['TotalHours_TCP'].fillna(0)\n",
        "tcp_v_wd_job['Hours_Variance (TCP - WD)'] = tcp_v_wd_job['TotalHours_TCP'] - tcp_v_wd_job['TotalHours_WD']\n",
        "tcp_v_wd_job = tcp_v_wd_job.sort_values(['Job'  , 'Hours_Variance (TCP - WD)'] , ascending=[False,False])"
      ],
      "outputs": [],
      "execution_count": 187,
      "metadata": {
        "jupyter": {
          "source_hidden": false,
          "outputs_hidden": false
        },
        "nteract": {
          "transient": {
            "deleting": false
          }
        },
        "gather": {
          "logged": 1697561389622
        }
      }
    },
    {
      "cell_type": "code",
      "source": [
        "#TCP v. WD Job, Sub Job\n",
        "tcp_v_wd_subjob = tcp_grouped_subjob.merge(wd_grouped_subjob , how = 'left' , on = 'unique' , suffixes = ['_TCP','_WD']).drop(columns =['unique'])\n",
        "#NaN Hours will be filled with 0\n",
        "tcp_v_wd_subjob['TotalHours_WD'] = tcp_v_wd_subjob['TotalHours_WD'].fillna(0)\n",
        "tcp_v_wd_subjob['TotalHours_TCP'] = tcp_v_wd_subjob['TotalHours_TCP'].fillna(0)\n",
        "tcp_v_wd_subjob['Hours_Variance (TCP - WD)'] = tcp_v_wd_subjob['TotalHours_TCP'] - tcp_v_wd_subjob['TotalHours_WD']\n",
        "tcp_v_wd_subjob = tcp_v_wd_subjob.sort_values(['Job_TCP' , 'Sub_Job_TCP' , 'Hours_Variance (TCP - WD)'] , ascending=[False,True,False])"
      ],
      "outputs": [],
      "execution_count": 188,
      "metadata": {
        "jupyter": {
          "source_hidden": false,
          "outputs_hidden": false
        },
        "nteract": {
          "transient": {
            "deleting": false
          }
        },
        "gather": {
          "logged": 1697561390392
        }
      }
    },
    {
      "cell_type": "code",
      "source": [
        "#TCP v. WD Job, Sub Job, EEID\n",
        "### Commented out for EEID Comparison Only - uncomment out to compare EEID by Job and Sub Job\n",
        "#tcp_v_wd_ee = tcp_grouped_ee.merge(wd_grouped_ee , how = 'outer' , on = 'unique' , suffixes = ['_TCP','_WD']).drop(columns =['unique'])\n",
        "tcp_v_wd_ee = tcp_grouped_ee.merge(wd_grouped_ee , how = 'left' , on = 'EEID' , suffixes = ['_TCP','_WD'])\n",
        "#NaN Hours will be filled with 0\n",
        "tcp_v_wd_ee['TotalHours_WD'] = tcp_v_wd_ee['TotalHours_WD'].fillna(0)\n",
        "tcp_v_wd_ee['TotalHours_TCP'] = tcp_v_wd_ee['TotalHours_TCP'].fillna(0)\n",
        "tcp_v_wd_ee['Hours_Variance (TCP - WD)'] = tcp_v_wd_ee['TotalHours_TCP'] - tcp_v_wd_ee['TotalHours_WD']\n",
        "tcp_v_wd_ee = tcp_v_wd_ee.sort_values('Hours_Variance (TCP - WD)' , ascending=False, key=abs)\n",
        "#Removing Variances that are 0 - excluding EEIDs that match\n",
        "tcp_v_wd_ee = tcp_v_wd_ee.loc[tcp_v_wd_ee['Hours_Variance (TCP - WD)'] != 0.0]"
      ],
      "outputs": [],
      "execution_count": 189,
      "metadata": {
        "jupyter": {
          "source_hidden": false,
          "outputs_hidden": false
        },
        "nteract": {
          "transient": {
            "deleting": false
          }
        },
        "gather": {
          "logged": 1697561391409
        }
      }
    },
    {
      "cell_type": "markdown",
      "source": [
        "#### TCP vs. CMiC Comparison"
      ],
      "metadata": {
        "nteract": {
          "transient": {
            "deleting": false
          }
        }
      }
    },
    {
      "cell_type": "code",
      "source": [
        "#TCP v CMiC Job\n",
        "tcp_v_cmic_job = tcp_grouped_job.merge(cmic_grouped_job , how = 'outer' , on = 'Job' , suffixes = ['','_CMiC'])\n",
        "#NaN Hours will be filled with 0\n",
        "tcp_v_cmic_job['TotalHours_CMiC'] = tcp_v_cmic_job['TotalHours_CMiC'].fillna(0)\n",
        "tcp_v_cmic_job['TotalHours_TCP'] = tcp_v_cmic_job['TotalHours_TCP'].fillna(0)\n",
        "tcp_v_cmic_job['Hours_Variance (TCP - CMiC)'] = tcp_v_cmic_job['TotalHours_TCP'] - tcp_v_cmic_job['TotalHours_CMiC']\n",
        "tcp_v_cmic_job = tcp_v_cmic_job.sort_values(['Job' , 'Hours_Variance (TCP - CMiC)'], ascending=[False, False])"
      ],
      "outputs": [],
      "execution_count": 190,
      "metadata": {
        "jupyter": {
          "source_hidden": false,
          "outputs_hidden": false
        },
        "nteract": {
          "transient": {
            "deleting": false
          }
        },
        "gather": {
          "logged": 1697561393396
        }
      }
    },
    {
      "cell_type": "code",
      "source": [
        "#TCP v CMiC Job, Sub Job\n",
        "tcp_v_cmic_subjob = tcp_grouped_subjob.merge(cmic_grouped_subjob , how = 'outer' , on = 'unique' , suffixes = ['','_CMiC']).drop(columns =['unique'])\n",
        "#NaN Hours will be filled with 0\n",
        "tcp_v_cmic_subjob['TotalHours_CMiC'] = tcp_v_cmic_subjob['TotalHours_CMiC'].fillna(0)\n",
        "tcp_v_cmic_subjob['TotalHours_TCP'] = tcp_v_cmic_subjob['TotalHours_TCP'].fillna(0)\n",
        "tcp_v_cmic_subjob['Hours_Variance (TCP - CMiC)'] = tcp_v_cmic_subjob['TotalHours_TCP'] - tcp_v_cmic_subjob['TotalHours_CMiC']\n",
        "tcp_v_cmic_subjob = tcp_v_cmic_subjob.sort_values(['Job' , 'Sub_Job', 'Hours_Variance (TCP - CMiC)'], ascending=[False, True, False])"
      ],
      "outputs": [],
      "execution_count": 191,
      "metadata": {
        "jupyter": {
          "source_hidden": false,
          "outputs_hidden": false
        },
        "nteract": {
          "transient": {
            "deleting": false
          }
        },
        "gather": {
          "logged": 1697561396393
        }
      }
    },
    {
      "cell_type": "code",
      "source": [
        "#TCP v CMiC Job, Sub Job, EEID\n",
        "### Commented out for EEID Comparison Only - uncomment out to compare EEID by Job and Sub Job\n",
        "#tcp_v_cmic_ee = tcp_grouped_ee.merge(cmic_grouped_ee , how = 'outer' , on = 'unique' , suffixes = ['','_CMiC']).drop(columns =['unique'])\n",
        "tcp_v_cmic_ee = tcp_grouped_ee.merge(cmic_grouped_ee , how = 'outer' , on = 'EEID' , suffixes = ['','_CMiC'])\n",
        "#NaN Hours will be filled with 0\n",
        "tcp_v_cmic_ee['TotalHours_CMiC'] = tcp_v_cmic_ee['TotalHours_CMiC'].fillna(0)\n",
        "tcp_v_cmic_ee['TotalHours_TCP'] = tcp_v_cmic_ee['TotalHours_TCP'].fillna(0)\n",
        "tcp_v_cmic_ee['Hours_Variance (TCP - CMiC)'] = tcp_v_cmic_ee['TotalHours_TCP'] - tcp_v_cmic_ee['TotalHours_CMiC']\n",
        "tcp_v_cmic_ee = tcp_v_cmic_ee.sort_values('Hours_Variance (TCP - CMiC)', ascending=False, key=abs)\n",
        "#Filter down to relevant columns only"
      ],
      "outputs": [],
      "execution_count": 192,
      "metadata": {
        "jupyter": {
          "source_hidden": false,
          "outputs_hidden": false
        },
        "nteract": {
          "transient": {
            "deleting": false
          }
        },
        "gather": {
          "logged": 1697561397389
        }
      }
    },
    {
      "cell_type": "markdown",
      "source": [
        "#### Workday vs. CMiC Comparison"
      ],
      "metadata": {
        "nteract": {
          "transient": {
            "deleting": false
          }
        }
      }
    },
    {
      "cell_type": "code",
      "source": [
        "#WD v. CMiC EEID\n",
        "wd_v_cmic_job = wd_grouped_job.merge(cmic_grouped_job , how = 'outer' , on = 'Job' , suffixes = ['_WD','_CMiC'])\n",
        "#NaN Hours will be filled with 0\n",
        "wd_v_cmic_job['TotalHours_CMiC'] = wd_v_cmic_job['TotalHours_CMiC'].fillna(0)\n",
        "wd_v_cmic_job['TotalHours_WD'] = wd_v_cmic_job['TotalHours_WD'].fillna(0)\n",
        "wd_v_cmic_job['Hours_Variance (WD - CMiC)'] = wd_v_cmic_job['TotalHours_WD'] - wd_v_cmic_job['TotalHours_CMiC']\n",
        "wd_v_cmic_job = wd_v_cmic_job.sort_values(['Job' , 'Hours_Variance (WD - CMiC)'], ascending=[False,False])"
      ],
      "outputs": [],
      "execution_count": 193,
      "metadata": {
        "jupyter": {
          "source_hidden": false,
          "outputs_hidden": false
        },
        "nteract": {
          "transient": {
            "deleting": false
          }
        },
        "gather": {
          "logged": 1697561398384
        }
      }
    },
    {
      "cell_type": "code",
      "source": [
        "#WD v. CMiC Job, Sub Job\n",
        "wd_v_cmic_subjob = wd_grouped_subjob.merge(cmic_grouped_subjob , how = 'outer' , on = 'unique' , suffixes = ['_WD','_CMiC']).drop(columns =['unique'])\n",
        "#NaN Hours will be filled with 0\n",
        "wd_v_cmic_subjob['TotalHours_CMiC'] = wd_v_cmic_subjob['TotalHours_CMiC'].fillna(0)\n",
        "wd_v_cmic_subjob['TotalHours_WD'] = wd_v_cmic_subjob['TotalHours_WD'].fillna(0)\n",
        "wd_v_cmic_subjob['Hours_Variance (WD - CMiC)'] = wd_v_cmic_subjob['TotalHours_WD'] - wd_v_cmic_subjob['TotalHours_CMiC']\n",
        "wd_v_cmic_subjob = wd_v_cmic_subjob.sort_values(['Job_WD' , 'Sub_Job_WD' , 'Hours_Variance (WD - CMiC)'], ascending=[False,True,False])"
      ],
      "outputs": [],
      "execution_count": 194,
      "metadata": {
        "jupyter": {
          "source_hidden": false,
          "outputs_hidden": false
        },
        "nteract": {
          "transient": {
            "deleting": false
          }
        },
        "gather": {
          "logged": 1697561399389
        }
      }
    },
    {
      "cell_type": "code",
      "source": [
        "#WD v. CMiC Job, Sub Job, EEID\n",
        "### Commented out for EEID Comparison Only - uncomment out to compare EEID by Job and Sub Job\n",
        "#wd_v_cmic_ee = wd_grouped_ee.merge(cmic_grouped_ee , how = 'outer' , on = 'unique' , suffixes = ['_WD','_CMiC']).drop(columns =['unique'])\n",
        "wd_v_cmic_ee = wd_grouped_ee.merge(cmic_grouped_ee , how = 'outer' , on = 'EEID' , suffixes = ['_WD','_CMiC'])\n",
        "#NaN Hours will be filled with 0\n",
        "wd_v_cmic_ee['TotalHours_CMiC'] = wd_v_cmic_ee['TotalHours_CMiC'].fillna(0)\n",
        "wd_v_cmic_ee['TotalHours_WD'] = wd_v_cmic_ee['TotalHours_WD'].fillna(0)\n",
        "wd_v_cmic_ee['Hours_Variance (WD - CMiC)'] = wd_v_cmic_ee['TotalHours_WD'] - wd_v_cmic_ee['TotalHours_CMiC']\n",
        "wd_v_cmic_ee = wd_v_cmic_ee.sort_values('Hours_Variance (WD - CMiC)', ascending=False , key=abs)\n",
        "#Filter down to relevant columns only"
      ],
      "outputs": [],
      "execution_count": 195,
      "metadata": {
        "jupyter": {
          "source_hidden": false,
          "outputs_hidden": false
        },
        "nteract": {
          "transient": {
            "deleting": false
          }
        },
        "gather": {
          "logged": 1697561400398
        }
      }
    },
    {
      "cell_type": "code",
      "source": [
        "file_path = os.getcwd() + '/excel_output'\n",
        "file_path"
      ],
      "outputs": [
        {
          "output_type": "execute_result",
          "execution_count": 196,
          "data": {
            "text/plain": "'/mnt/batch/tasks/shared/LS_root/mounts/clusters/jbeachy2/code/Users/JBeachy/Project_DataDomain/Payroll/git_LaborHours_Compare/excel_output'"
          },
          "metadata": {}
        }
      ],
      "execution_count": 196,
      "metadata": {
        "jupyter": {
          "source_hidden": false,
          "outputs_hidden": false
        },
        "nteract": {
          "transient": {
            "deleting": false
          }
        },
        "gather": {
          "logged": 1697561401419
        }
      }
    },
    {
      "cell_type": "code",
      "source": [
        "#File Path in AMLS\n",
        "file_name = f'Hours_Comparison_WeekEnding_{week_ending}'\n",
        "#Writing to AMLS File Directory\n",
        "with pd.ExcelWriter(f'{file_path}/{file_name}.xlsx') as writer:\n",
        "    tcp_v_wd_job.to_excel(writer , sheet_name = 'TCPvWD_Hours_byJob' , index = False)\n",
        "    tcp_v_wd_subjob.to_excel(writer , sheet_name = 'TCPvWD_Hours_bySubJob' , index = False)\n",
        "    tcp_v_wd_ee.to_excel(writer , sheet_name = 'TCPvWD_Hours_byEE' , index = False)\n",
        "    tcp_v_cmic_job.to_excel(writer , sheet_name = 'TCPvCMiC_Hours_byJob' , index = False)\n",
        "    tcp_v_cmic_subjob.to_excel(writer , sheet_name = 'TCPvCMiC_Hours_bySubJob' , index = False)\n",
        "    tcp_v_cmic_ee.to_excel(writer , sheet_name = 'TCPvCMiC_Hours_byEE' , index = False)\n",
        "    wd_v_cmic_job.to_excel(writer , sheet_name = 'WDvCMiC_Hours_byJob' , index = False)\n",
        "    wd_v_cmic_subjob.to_excel(writer , sheet_name = 'WDvCMiC_Hours_bySubJob' , index = False)\n",
        "    wd_v_cmic_ee.to_excel(writer , sheet_name = 'WDvCMiC_Hours_byEE' , index = False)"
      ],
      "outputs": [],
      "execution_count": 197,
      "metadata": {
        "jupyter": {
          "source_hidden": false,
          "outputs_hidden": false
        },
        "nteract": {
          "transient": {
            "deleting": false
          }
        },
        "gather": {
          "logged": 1697561403329
        }
      }
    },
    {
      "cell_type": "code",
      "source": [
        "#Blob Storage Info\n",
        "storage_account_key = 'u46QXBaayH/rWljcqPTWZTNgFdGHo9zH4I0OLWgDi4oa2inkpjVwTbp74C+ISDC2oWtNlrcr69Ec+ASt5wV1PA=='\n",
        "storage_account_name = 'mossdatalakesource'\n",
        "connection_string = 'DefaultEndpointsProtocol=https;AccountName=mossdatalakesource;AccountKey=u46QXBaayH/rWljcqPTWZTNgFdGHo9zH4I0OLWgDi4oa2inkpjVwTbp74C+ISDC2oWtNlrcr69Ec+ASt5wV1PA==;EndpointSuffix=core.windows.net'\n",
        "container_name = 'cmic'\n",
        "#Defininng Blob Storage Uplpoad#\n",
        "def uploadtoblobstorage(file_path,file_name):\n",
        "    blob_service_client = BlobServiceClient.from_connection_string(connection_string)\n",
        "    blob_client = blob_service_client.get_blob_client(container = container_name , blob = file_name)\n",
        "\n",
        "    with open(file_path , 'rb') as data:\n",
        "        blob_client.upload_blob(data)\n",
        "    print(f'Uploaded {file_name}.')"
      ],
      "outputs": [],
      "execution_count": 198,
      "metadata": {
        "jupyter": {
          "source_hidden": false,
          "outputs_hidden": false
        },
        "nteract": {
          "transient": {
            "deleting": false
          }
        },
        "gather": {
          "logged": 1697561404418
        }
      }
    },
    {
      "cell_type": "code",
      "source": [
        "file_name_exp = f'{file_name}.xlsx'\n",
        "uploadtoblobstorage(f'{file_path}/{file_name}.xlsx', file_name_exp)"
      ],
      "outputs": [
        {
          "output_type": "stream",
          "name": "stdout",
          "text": "Uploaded Hours_Comparison_WeekEnding_2023-10-14.xlsx.\n"
        }
      ],
      "execution_count": 199,
      "metadata": {
        "jupyter": {
          "source_hidden": false,
          "outputs_hidden": false
        },
        "nteract": {
          "transient": {
            "deleting": false
          }
        },
        "gather": {
          "logged": 1697561406471
        }
      }
    },
    {
      "cell_type": "markdown",
      "source": [
        "#### Run Statistics "
      ],
      "metadata": {
        "nteract": {
          "transient": {
            "deleting": false
          }
        }
      }
    },
    {
      "cell_type": "code",
      "source": [
        "#### TCP vs. Workday Stats\n",
        "today = date.today()\n",
        "today_timechange = today - timedelta(hours=4)\n",
        "today_for_text = today_timechange.strftime(\"%m-%d-%Y %H:%M:%S\")\n",
        "print(\"TCP vs. Workday\")\n",
        "print(\"Count of EEIDs that are showing Zero Hours Worked in Workday: \" , len(tcp_v_wd_ee.loc[tcp_v_wd_ee['TotalHours_WD'] == 0]))\n",
        "print(\"Count of EEIDs that are showing Zero Hours Worked in TCP: \" , len(tcp_v_wd_ee.loc[tcp_v_wd_ee['TotalHours_TCP'] == 0]))\n",
        "print(\"Count of EEIDs with a variance less than 10 hours(ABS), not including 0: \", len(tcp_v_wd_ee.loc[(tcp_v_wd_ee['Hours_Variance (TCP - WD)']< 10)&(tcp_v_wd_ee['Hours_Variance (TCP - WD)'] >-10)&(tcp_v_wd_ee['Hours_Variance (TCP - WD)'] != 0)]))\n",
        "print(\"Count of EEIDs with no variance in Hours Worked: \" , len(tcp_v_wd_ee.loc[tcp_v_wd_ee['Hours_Variance (TCP - WD)'] == 0]))\n",
        "print(\"Count of EEIDs with variance greater than or equal to 10(ABS): \",len(tcp_v_wd_ee.loc[(tcp_v_wd_ee['Hours_Variance (TCP - WD)']>=10)|(tcp_v_wd_ee['Hours_Variance (TCP - WD)']<=-10)]))\n",
        "print(f\"Ran on {today_for_text} for Week Ending {week_ending}\")"
      ],
      "outputs": [
        {
          "output_type": "stream",
          "name": "stdout",
          "text": "TCP vs. Workday\nCount of EEIDs that are showing Zero Hours Worked in Workday:  76\nCount of EEIDs that are showing Zero Hours Worked in TCP:  0\nCount of EEIDs with a variance less than 10 hours(ABS), not including 0:  5\nCount of EEIDs with no variance in Hours Worked:  0\nCount of EEIDs with variance greater than or equal to 10(ABS):  72\nRan on 10-17-2023 12:50:08 for Week Ending 2023-10-14\n"
        }
      ],
      "execution_count": 200,
      "metadata": {
        "jupyter": {
          "source_hidden": false,
          "outputs_hidden": false
        },
        "nteract": {
          "transient": {
            "deleting": false
          }
        },
        "gather": {
          "logged": 1697561409388
        }
      }
    },
    {
      "cell_type": "code",
      "source": [
        "tcp_df_dev.loc[(tcp_df_dev['Employee_Number']=='20763')&tcp_filter].sort_values('Date',ascending = True)"
      ],
      "outputs": [
        {
          "output_type": "execute_result",
          "execution_count": 209,
          "data": {
            "text/plain": "Empty DataFrame\nColumns: [WorkSegments_Timesheet_ID, Employee_Number, First_Name, Last_Name, Date, Job_Code, Activity, Phase_Code, Task, Regular_Hours, Overtime_Hours, Pay_Rate, Employee_Classification, Department, FileName, Created_Date]\nIndex: []",
            "text/html": "<div>\n<style scoped>\n    .dataframe tbody tr th:only-of-type {\n        vertical-align: middle;\n    }\n\n    .dataframe tbody tr th {\n        vertical-align: top;\n    }\n\n    .dataframe thead th {\n        text-align: right;\n    }\n</style>\n<table border=\"1\" class=\"dataframe\">\n  <thead>\n    <tr style=\"text-align: right;\">\n      <th></th>\n      <th>WorkSegments_Timesheet_ID</th>\n      <th>Employee_Number</th>\n      <th>First_Name</th>\n      <th>Last_Name</th>\n      <th>Date</th>\n      <th>Job_Code</th>\n      <th>Activity</th>\n      <th>Phase_Code</th>\n      <th>Task</th>\n      <th>Regular_Hours</th>\n      <th>Overtime_Hours</th>\n      <th>Pay_Rate</th>\n      <th>Employee_Classification</th>\n      <th>Department</th>\n      <th>FileName</th>\n      <th>Created_Date</th>\n    </tr>\n  </thead>\n  <tbody>\n  </tbody>\n</table>\n</div>"
          },
          "metadata": {}
        }
      ],
      "execution_count": 209,
      "metadata": {
        "jupyter": {
          "source_hidden": false,
          "outputs_hidden": false
        },
        "nteract": {
          "transient": {
            "deleting": false
          }
        },
        "gather": {
          "logged": 1697563300527
        }
      }
    },
    {
      "cell_type": "code",
      "source": [
        "#Date Filters\n",
        "tcp_filter = (tcp_df_comp['Date']>=start_date)&(tcp_df_comp['Date']<=end_date)\n",
        "cmic_filter = (cmic_pr_df_comp['Date']>=start_date)&(cmic_pr_df_comp['Date']<=end_date)\n",
        "wd_filter = (wd_pr_df_comp['Date']>=start_date)&(wd_pr_df_comp['Date']<=end_date)"
      ],
      "outputs": [],
      "execution_count": 106,
      "metadata": {
        "jupyter": {
          "source_hidden": false,
          "outputs_hidden": false
        },
        "nteract": {
          "transient": {
            "deleting": false
          }
        },
        "gather": {
          "logged": 1697638902780
        }
      }
    },
    {
      "cell_type": "code",
      "source": [
        "#['EEID','Date','Job','Sub_Job','Hours']\n",
        "wd_eeid = list(wd_pr_df_comp.loc[wd_filter,'EEID'].unique())\n",
        "tcp_eeid = list(tcp_df.loc[tcp_filter,'EEID'].unique())"
      ],
      "outputs": [],
      "execution_count": 107,
      "metadata": {
        "jupyter": {
          "source_hidden": false,
          "outputs_hidden": false
        },
        "nteract": {
          "transient": {
            "deleting": false
          }
        },
        "gather": {
          "logged": 1697638903477
        }
      }
    },
    {
      "cell_type": "code",
      "source": [
        "eeid_intcp_not_wd = list(set(tcp_eeid) - set(wd_eeid))\n",
        "len(eeid_intcp_not_wd)"
      ],
      "outputs": [
        {
          "output_type": "execute_result",
          "execution_count": 108,
          "data": {
            "text/plain": "34"
          },
          "metadata": {}
        }
      ],
      "execution_count": 108,
      "metadata": {
        "jupyter": {
          "source_hidden": false,
          "outputs_hidden": false
        },
        "nteract": {
          "transient": {
            "deleting": false
          }
        },
        "gather": {
          "logged": 1697638904342
        }
      }
    },
    {
      "cell_type": "code",
      "source": [
        "for x in eeid_intcp_not_wd:\n",
        "    print(x)"
      ],
      "outputs": [
        {
          "output_type": "stream",
          "name": "stdout",
          "text": "6937\n16200\n14705\n5792\n15564\n15033\n15962\n5243000043\n14987\n7811\n16187\n11143\n5962\n11089\n15990\n15454\n16138\n16324\n13279\n15762\n16030\n16165\n16180\n12968\n15369\n14829\n5105\n20500\n13732\n20619\n5243000015\n5869\n16162\n20306\n"
        }
      ],
      "execution_count": 109,
      "metadata": {
        "jupyter": {
          "source_hidden": false,
          "outputs_hidden": false
        },
        "nteract": {
          "transient": {
            "deleting": false
          }
        },
        "gather": {
          "logged": 1697638905842
        }
      }
    },
    {
      "cell_type": "code",
      "source": [
        "wd_eeid_explore = wd_pr_df_dev.copy()"
      ],
      "outputs": [],
      "execution_count": 86,
      "metadata": {
        "jupyter": {
          "source_hidden": false,
          "outputs_hidden": false
        },
        "nteract": {
          "transient": {
            "deleting": false
          }
        },
        "gather": {
          "logged": 1697638247547
        }
      }
    },
    {
      "cell_type": "code",
      "source": [
        "wd_eeid_explore['EEID'] = wd_eeid_explore['Workers'].str.split('(').str[1]\n",
        "wd_eeid_explore['EEID'] = wd_eeid_explore['EEID'].str.split(')').str[0]"
      ],
      "outputs": [],
      "execution_count": 87,
      "metadata": {
        "jupyter": {
          "source_hidden": false,
          "outputs_hidden": false
        },
        "nteract": {
          "transient": {
            "deleting": false
          }
        },
        "gather": {
          "logged": 1697638248923
        }
      }
    },
    {
      "cell_type": "code",
      "source": [
        "wd_pr_df_comp.loc[wd_pr_df_comp['EEID'] == '4082']"
      ],
      "outputs": [
        {
          "output_type": "execute_result",
          "execution_count": 105,
          "data": {
            "text/plain": "       EEID       Date      Job Sub_Job  Hours\n43021  4082 2023-10-02  7102023      15   10.0\n43022  4082 2023-10-03  7102023      15   10.0\n43023  4082 2023-10-04  7102023      15   10.0\n43024  4082 2023-10-05  7102023      15   10.0\n50602  4082 2023-10-09  7102023      20   10.0\n50603  4082 2023-10-10  7102023      15   10.0\n50604  4082 2023-10-11  7102023      20   10.0\n50605  4082 2023-10-12  7102023      15   10.0\n51896  4082 2023-10-09  7102023      20   10.0\n51897  4082 2023-10-10  7102023      15   10.0\n51898  4082 2023-10-11  7102023      20   10.0\n51899  4082 2023-10-12  7102023      15   10.0\n75424  4082 2023-09-25  7102023      10   10.0\n75425  4082 2023-09-26  7102023      15   10.0\n75426  4082 2023-09-27  7102023      15    8.5\n75427  4082 2023-09-28  7102023      15   10.0\n75428  4082 2023-09-29  7102023      15    8.0",
            "text/html": "<div>\n<style scoped>\n    .dataframe tbody tr th:only-of-type {\n        vertical-align: middle;\n    }\n\n    .dataframe tbody tr th {\n        vertical-align: top;\n    }\n\n    .dataframe thead th {\n        text-align: right;\n    }\n</style>\n<table border=\"1\" class=\"dataframe\">\n  <thead>\n    <tr style=\"text-align: right;\">\n      <th></th>\n      <th>EEID</th>\n      <th>Date</th>\n      <th>Job</th>\n      <th>Sub_Job</th>\n      <th>Hours</th>\n    </tr>\n  </thead>\n  <tbody>\n    <tr>\n      <th>43021</th>\n      <td>4082</td>\n      <td>2023-10-02</td>\n      <td>7102023</td>\n      <td>15</td>\n      <td>10.0</td>\n    </tr>\n    <tr>\n      <th>43022</th>\n      <td>4082</td>\n      <td>2023-10-03</td>\n      <td>7102023</td>\n      <td>15</td>\n      <td>10.0</td>\n    </tr>\n    <tr>\n      <th>43023</th>\n      <td>4082</td>\n      <td>2023-10-04</td>\n      <td>7102023</td>\n      <td>15</td>\n      <td>10.0</td>\n    </tr>\n    <tr>\n      <th>43024</th>\n      <td>4082</td>\n      <td>2023-10-05</td>\n      <td>7102023</td>\n      <td>15</td>\n      <td>10.0</td>\n    </tr>\n    <tr>\n      <th>50602</th>\n      <td>4082</td>\n      <td>2023-10-09</td>\n      <td>7102023</td>\n      <td>20</td>\n      <td>10.0</td>\n    </tr>\n    <tr>\n      <th>50603</th>\n      <td>4082</td>\n      <td>2023-10-10</td>\n      <td>7102023</td>\n      <td>15</td>\n      <td>10.0</td>\n    </tr>\n    <tr>\n      <th>50604</th>\n      <td>4082</td>\n      <td>2023-10-11</td>\n      <td>7102023</td>\n      <td>20</td>\n      <td>10.0</td>\n    </tr>\n    <tr>\n      <th>50605</th>\n      <td>4082</td>\n      <td>2023-10-12</td>\n      <td>7102023</td>\n      <td>15</td>\n      <td>10.0</td>\n    </tr>\n    <tr>\n      <th>51896</th>\n      <td>4082</td>\n      <td>2023-10-09</td>\n      <td>7102023</td>\n      <td>20</td>\n      <td>10.0</td>\n    </tr>\n    <tr>\n      <th>51897</th>\n      <td>4082</td>\n      <td>2023-10-10</td>\n      <td>7102023</td>\n      <td>15</td>\n      <td>10.0</td>\n    </tr>\n    <tr>\n      <th>51898</th>\n      <td>4082</td>\n      <td>2023-10-11</td>\n      <td>7102023</td>\n      <td>20</td>\n      <td>10.0</td>\n    </tr>\n    <tr>\n      <th>51899</th>\n      <td>4082</td>\n      <td>2023-10-12</td>\n      <td>7102023</td>\n      <td>15</td>\n      <td>10.0</td>\n    </tr>\n    <tr>\n      <th>75424</th>\n      <td>4082</td>\n      <td>2023-09-25</td>\n      <td>7102023</td>\n      <td>10</td>\n      <td>10.0</td>\n    </tr>\n    <tr>\n      <th>75425</th>\n      <td>4082</td>\n      <td>2023-09-26</td>\n      <td>7102023</td>\n      <td>15</td>\n      <td>10.0</td>\n    </tr>\n    <tr>\n      <th>75426</th>\n      <td>4082</td>\n      <td>2023-09-27</td>\n      <td>7102023</td>\n      <td>15</td>\n      <td>8.5</td>\n    </tr>\n    <tr>\n      <th>75427</th>\n      <td>4082</td>\n      <td>2023-09-28</td>\n      <td>7102023</td>\n      <td>15</td>\n      <td>10.0</td>\n    </tr>\n    <tr>\n      <th>75428</th>\n      <td>4082</td>\n      <td>2023-09-29</td>\n      <td>7102023</td>\n      <td>15</td>\n      <td>8.0</td>\n    </tr>\n  </tbody>\n</table>\n</div>"
          },
          "metadata": {}
        }
      ],
      "execution_count": 105,
      "metadata": {
        "jupyter": {
          "source_hidden": false,
          "outputs_hidden": false
        },
        "nteract": {
          "transient": {
            "deleting": false
          }
        },
        "gather": {
          "logged": 1697638864304
        }
      }
    },
    {
      "cell_type": "code",
      "source": [
        "#payrollStatusForCalculatedTimeBlock\n",
        "wd_pr_df_dev['billableProject.descriptor'].unique()"
      ],
      "outputs": [
        {
          "output_type": "execute_result",
          "execution_count": 114,
          "data": {
            "text/plain": "array(['ZZ101 Div 101 O/H Corp - Accounting',\n       '7102216.10 LSBP - Driver 1 and 2 (Drive Piles)',\n       \"7102235.51 FPL - Nature Trail (Lump Sum GC's)\",\n       '7102329.52 FRP - Gilchrist (Engineering)',\n       '7102230.52 FPL - Pecan Tree (Engineering)',\n       '7102236.52 FPL - Wild Quail (Engineering)',\n       '7102301.52 NERS - West Memphis Solar Energy Center (Engineering)',\n       \"7102231.51 FPL - Sambucus (Lump Sum GC's)\",\n       \"D302201.00 Collins Park - Artist Workforce Housing (GR's)\",\n       \"D302101.00 Five Park, Miami Beach (GR's)\",\n       \"7102233.51 FPL - Fourmile Creek (Lump Sum GC's)\",\n       '7102233.15 FPL - Fourmile Creek (Racking System)',\n       '7102233.10 FPL - Fourmile Creek (Drive Piles)',\n       '7102226.10 FPL - Terrill Creek (Drive Piles)',\n       '7102115.25 Longroad - Foxhound Solar (Electricity)',\n       '9230710.14 Solar - GC Operations 2023',\n       \"1412201.50 Ameresco - Kupono Solar (GC's)\",\n       'ZZ106 Div 106 O/H Corp - Marketing',\n       \"7202201.50 Workday (DTT) (GC's)\",\n       \"1112007.50 Pasco County Jail Expansion (GC's)\",\n       'D302305.80 Cipriani Residences Miami (Precon)',\n       '7102236.15 FPL - Wild Quail (Racking System)',\n       \"D302110.50 29N Development Project (GC's)\",\n       'ZZ301 Div 301 Overhead - Salaries',\n       'P230299 Nassau Office Building - PRECON',\n       'D302313.80 710 Edge Preconstruction (Precon)',\n       'P230323 One Island Drive',\n       '7102229.15 FPL - Pineapple (Racking System)',\n       '7102219.10 Swift Current - Harvest Gold (Drive Piles)',\n       '7102115.10 Longroad - Foxhound Solar (Drive Piles)',\n       '7102115.15 Longroad - Foxhound Solar (Racking System)',\n       '7102326.21 FPL - Long Creek (Mechanical OH & P)',\n       '7102322.21 FPL - Swallowtail (Mechanical OH & P)',\n       'ZZ114 Div 114 O/H Corp - Talent Acquisition',\n       '7102221.10 NEER - Decatur Solar (Drive Piles)',\n       '7102108.25 NEER - Waco Solar (Electricity)',\n       'ZZ105 Div 105 O/H Corp - IT',\n       '7102317.21 FPL - Holopaw (Mechanical OH & P)',\n       '7102302.21 NEER - Hickerson (Mechanical OH & P)',\n       '7102120.25 NEER - Sonoran (Electricity)',\n       '7102226.15 FPL - Terrill Creek (Racking System)',\n       '7102226.25 FPL - Terrill Creek (Electricity)',\n       '7102115.00 Longroad - Foxhound Solar (COW)',\n       '2002016.00 Belmont Village Coral Gables (Directs)',\n       \"2002016.50 Belmont Village Coral Gables (GC's)\",\n       '7102216.15 LSBP - Driver 1 and 2 (Racking System)',\n       '7102216.20 LSBP - Driver 1 and 2 (PV Install)',\n       '7102231.10 FPL - Sambucus (Drive Piles)',\n       '7102231.15 FPL - Sambucus (Racking System)',\n       '7102231.25 FPL - Sambucus (Electricity)',\n       '7102108.20 NEER - Waco Solar (PV Install)',\n       '7102108.15 NEER - Waco Solar (Racking System)',\n       \"7102108.51 NEER - Waco Solar (Lump Sum GC's)\",\n       \"1412301.50 AES Waiawa Phase 2 Solar (GC's)\",\n       \"B302101.50 River Lofts (GC's)\",\n       \"D302002.50 Elemi at Grove Village (GC's)\",\n       'ZZ722 Div 722 - Solar Accounting',\n       \"D302201.50 Collins Park - Artist Workforce Housing (GC's)\",\n       \"D372202.51 FIU East Loop Road Realignment (GC's)\",\n       \"D302106.50 Formula One at Hard Rock Stadium - Miami Gardens (GC's)\",\n       \"B302109.50 New IL Building - Westlake Tower (GC's)\",\n       \"7102236.51 FPL - Wild Quail (Lump Sum GC's)\",\n       'D302212.80 Allure North Miami - Preconstruction (Precon)',\n       'P230232 Project Ignite - Innovation Center & Med Ed',\n       '7102321.21 FPL - Redlands (Mechanical OH & P)',\n       '7102311.21 FPL - Georges Lake (Mechanical OH &P)',\n       '7102308.21 FPL - Kayak (Mechanical OH & P)',\n       '7102320.21 FPL - Fox Tail (Mechanical OH & P)',\n       '7102325.21 FPL - Green Pasture (Mechanical OH & P)',\n       \"7102226.51 FPL - Terrill Creek (Lump Sum GC's)\",\n       '7102230.25 FPL - Pecan Tree (Electricity)',\n       '7102230.15 FPL - Pecan Tree (Racking System)',\n       'ZZ713 Div 710 - Solar Engineering',\n       'B302316.80 Terminal 5  - PreCon  (Precon Actual Costs)', None,\n       '7102226.00 FPL - Terrill Creek (COW)',\n       \"7102226.50 FPL - Terrill Creek (GC's)\",\n       '7102226.05 FPL - Terrill Creek (Mowing)',\n       '7102115.05 Longroad - Foxhound Solar (Mowing)',\n       '7102231.05 FPL - Sambucus (Mowing)',\n       'N302125W01 (W) Aura Delray Beach - Warranty',\n       \"N302128.50 575 Rosemary (GC's)\",\n       \"1302201.50 CPQH CapEx CY-22 (GC's)\",\n       'D302322.80 M Tower - Preconstruction (Precon)',\n       'D302213W01 (W) Formula One Phase 2 - Warranty',\n       'N302119W01 (W) 1625 Ocean - Warranty',\n       'N302116W01 (W) The Grand - Warranty',\n       '5001801W02 (W) Alina Residences - Warranty',\n       '7102233.25 FPL - Fourmile Creek (Electricity)',\n       \"7102219.51 Swift Current - Harvest Gold (Lump Sum GC's)\",\n       '7102231.00 FPL - Sambucus (COW)',\n       '7102110.25 NEER - Big Cypress Solar (Electricity)',\n       '7102301.25 NERS - West Memphis Solar Energy Center (Electricity)',\n       '7102216.25 LSBP - Driver 1 and 2 (Electricity)',\n       '2002016C01 (C) Belmont Village Coral Gables - Beek SDI Claim',\n       \"7102115.51 Longroad - Foxhound Solar (Lump Sum GC's)\",\n       '7102236.25 FPL - Wild Quail (Electricity)',\n       '7102236.10 FPL - Wild Quail (Drive Piles)',\n       '7102122W01 (W) Duke - High Springs Warranty',\n       \"7102103.51 NEER - Neptune Solar (Lump Sum GC's)\",\n       '7102216.05 LSBP - Driver 1 and 2 (Mowing)',\n       \"7102216.51 LSBP - Driver 1 and 2 (Lump Sum GC's)\",\n       '7102115.20 Longroad - Foxhound Solar (PV Install)',\n       'ZZ716 Div 710 - Solar Electrical',\n       \"7102216.50 LSBP - Driver 1 and 2 (GC's)\",\n       \"N302311.50 The Boca Raton - Harborside Renovations (GC's)\",\n       'ZZ102 Div 102 O/H Corp - Corporate Main',\n       '7102307.52 FPL - Mitchell Creek (Engineering)',\n       'P230324 NEER - Yaupon',\n       \"B372302.50 Fort Lauderdale Police Headquarters (GC's)\",\n       'ZZ300 Div 300 Overhead - Salaries',\n       'N302113.01 Forte Residences (COW)',\n       'D302201.80 Collins Park - Artist Workforce Housing (Precon)',\n       'ZZ717 Div 710 - Solar Electrical',\n       'Collins Park - Artist Workforce Housing (Directs)',\n       \"D302213.50 Formula One Phase 2 (GC's)\",\n       '7102221.25 NEER - Decatur Solar (Electricity)',\n       '7102236.20 FPL - Wild Quail (PV Install)',\n       '1742003.51 Sunset Palms Middle School 17-PP - Boynton Beach (Salary)',\n       '1112110.50 101 North Meridian (GCs)', 'P230293 NEER - Fisher',\n       '9230300.00 South Florida 2023',\n       'N372304.80 A.D. Henderson University School K-8 Phase 2 - Precon (PCon)',\n       'ZZ712 Div 710 - Solar Estimating',\n       'The Boca Raton - Harborside Renovations (Mizner Lawn)',\n       'ZZ721 Div 721 - Solar Data',\n       '7102225.25 FPL - Prairie Creek (Electricity)',\n       '7102234.25 FPL - Hawthorne Creek (Electricity)',\n       \"7102225.51 FPL - Prairie Creek (Lump Sum GC's)\",\n       \"N302128.00 575 Rosemary (GR's)\",\n       \"N302125.50 Aura Delray Beach (GC's)\",\n       '1112110.10 101 Meridian - Precon & Design',\n       \"1742003.00 Sunset Palms Middle School 17-PP Boynton Beach (GR's)\",\n       '7102029.00 NEER - Searcy Solar (COW)',\n       'ZZ720 Div 720 - Solar Technology (Digital Transformation)',\n       '7102120 NEER - Sonoran',\n       'ZZ225 Div 225 - CM Building Technologies (BIM)',\n       '7102020.15 FPL - Willow Solar(Racking System)',\n       '7102018.10 FPL - Orange Blossom Solar (Drive Piles)',\n       \"7102230.51 FPL - Pecan Tree (Lump Sum GC's)\",\n       '7102115.21 Longroad - Foxhound Solar (Mechanical OH & P)',\n       '7102120.24 NEER - Sonoran (Electrical OH & P)',\n       '7102220.24 NEER - Washington County (Electrical OH&P)',\n       '7102115.24 Longroad - Foxhound Solar (Electrical OH & P)',\n       '7102225.20 FPL - Prairie Creek (PV Install)',\n       '7101904C01 (C) Duke - Debary Solar Claim',\n       '7102228.20 FPL - Silver Palm (PV Install)',\n       '7102228.15 FPL - Silver Palm (Racking System)',\n       '7102228.25 FPL - Silver Palm (Electricity)',\n       \"7102228.51 FPL - Silver Palm (Lump Sum GC's)\",\n       '7102102.25 NEER - Thunder Wolf Solar (Electricity)',\n       '7102103.25 NEER - Neptune Solar (Electricity)',\n       '7102227.25 FPL - White Tail (Electricity)',\n       '7102229.25 FPL - Pineapple (Electricity)',\n       \"7102229.51 FPL - Pineapple (Lump Sum GC's)\",\n       \"7102224.51 FPL - Ibis (Lump Sum GC's)\",\n       \"7102110.51 NEER - Big Cypress Solar (Lump Sum GC's)\",\n       \"7102232.51 FPL - Three Creeks (Lump Sum GC's)\",\n       'P220264 464 Fern Street Apartments Mixed Use - WPB - Flushed',\n       \"7102234.51 FPL - Hawthorne Creek (Lump Sum GC's)\",\n       '7102330.53 Duke - Sundance (Preconstruction)',\n       '7102219.20 Swift Current - Harvest Gold (PV Install)',\n       'B220001 575 Rosemary Apartments - N302128',\n       \"1202206.50 Urby-Dallas - Phase II (GC's)\",\n       \"7102136.51 FPL - Cypress Pond (Lump Sum GC's)\",\n       '7102120.20 NEER - Sonoran (PV Install)',\n       '7102228.05 FPL - Silver Palm (Mowing)',\n       '7102132.24 NEER - Bell Ridge Solar (Electrical OH & P)',\n       'P220394 Port Everglades Bulkhead Replacement - Phase 1',\n       '7102235.21 FPL - Nature Trail (Mechanical OH & P)',\n       'ZZ715 Div 710 - Solar Mechanical',\n       '7102221.24 NEER - Decatur Solar (Electrical OH&P)',\n       'ZZ104 Div 104 O/H Corp - HR', 'ZZ221 Div 221 - CM Accounting',\n       '7102221.15 NEER - Decatur Solar (Racking System)',\n       '7102327.53 FPL - Hog Bay (Preconstruction)',\n       \"1202208.50 Avilla Boat Club (GC's)\",\n       '7102227.10 FPL - White Tail (Drive Piles)',\n       '7102227.15 FPL - White Tail (Racking System)',\n       'ZZ240 Div 240 - CM Scheduling',\n       'ZZ1401 Div 1400 Overhead - Salaries',\n       'P230285 UTD Track and Field',\n       \"1112108.50 St Regis Longboat Key Resort (GC's)\",\n       \"1712201.50 Alanik Hotel (GC's)\", 'P230183 Gas Worx Ybor Block E3',\n       '7102228.24 FPL - Silver Palm (Electrical OH & P)',\n       '7102236.24 FPL - Wild Quail (Electrical OH & P)',\n       '7102110.24 NEER - Big Cypress Solar (Electrical OH & P)',\n       '7102233.24 FPL - Fourmile Creek (Electrical OH & P)',\n       '7102227.24 FPL - White Tail (Electrical OH & P)',\n       '7102216.24 LSBP - Driver 1 and 2 (Electrical OH & P)',\n       '7102229.24 FPL - Pineapple (Electrical OH & P)',\n       '7102232.24 FPL - Three Creeks (Electrical OH & P)',\n       '7102230.24 FPL - Pecan Tree (Electrical OH & P)',\n       '7102224.24 FPL - Ibis (Electrical OH & P)',\n       '7102234.24 FPL - Hawthorne Creek (Electrical OH & P)',\n       '7102225.24 FPL - Prairie Creek (Electrical OH & P)',\n       '7102235.24 FPL - Nature Trail (Electrical OH & P)',\n       '7102231.24 FPL - Sambucus (Electrical OH & P)',\n       '7102226.24 FPL - Terrill Creek (Electrical OH & P)',\n       \"1701703.50 Port Everglades Southport Turning Notch Expansion (GC's)\",\n       'D302110.75 29N Development Project (Offsite Personnel)',\n       'B372201.80 City of Hollywood - New Police Headquarters (Precon)',\n       \"N302113.50 Forte Residences (GC's - Allowance)\",\n       \"B302315.50 1380 and 1381 S Ocean Condominium Projects (GC's)\",\n       '1202005.75 Watterscape (CCIP Offsite Admin Staff)',\n       'P200386 Miami Airport Hotel - P3',\n       '1202005.50 Watterscape (General Conditions)',\n       \"B302319.50 Andrews and Cypress Office Consolidation (GC's)\",\n       '7102301.15 NERS - West Memphis Solar Energy Center (Racking System)',\n       '1112202W01 (W) Amalie Arena Ice Plant Replacement - Warranty',\n       'ZZ230 Div 230 - CM Warranty',\n       'B302109.51 New IL Building - Westlake Tower (Safety/Schedule-IT All)',\n       \"N302117.50 Phase II - Alina Residences (GC's)\",\n       '1111910W01 (W) JW Marriott Clearwater Beach - Warranty',\n       'D302101.75 Five Park, Miami Beach (CCIP-Offsite)',\n       '7102219.25 Swift Current - Harvest Gold (Electricity)',\n       \"N302119.50 1625 Ocean Condominiums (GC's)\",\n       \"7102122.51 Duke - High Springs Solar (Lump Sum GC's)\",\n       '7102205.25 CMS - Newport (Electricity)',\n       '7102205.00 CMS - Newport (COW)',\n       'ZZ1203 Div 1203 - Commercial - Overhead - Salaries',\n       '7102311.52 FPL - Georges Lake (Engineering)',\n       '7102316.52 FPL - Big Water (Engineering)',\n       \"N302000.50 Boca Raton Regional Hospital - MOB & Garage (GC's)\",\n       \"7102120.51 NEER - Sonoran (Lump Sum GC's)\",\n       \"7102221.51 NEER - Decatur Solar (Lump Sum GC's)\",\n       \"7102301.51 NERS - West Memphis Solar Energy Center (Lump Sum GC's)\",\n       '7102312.52 FPL - Buttonwood (Engineering)',\n       '7102310.52 FPL - Cedar Trail (Engineering)',\n       '7102326.52 FPL - Long Creek (Engineering)',\n       \"7102121.51 Plus Power - Kapolei Energy Storage (Lump Sum GC's)\",\n       \"7102201.51 AES - West Oahu (Lump Sum GC's)\",\n       \"7102220.51 NEER - Washington County (Lump Sum GC's)\",\n       \"7102205.51 CMS - Newport (Lump Sum GC's)\",\n       \"7102227.51 FPL - White Tail (Lump Sum GC's)\",\n       'ZZ714 Div 710 - Solar GC Operations', 'ZZ710 Div 710 - Solar',\n       '7102220.25 NEER - Washington County (Electricity)',\n       'ZZ250 Div 250 - CM Safety', '9231110.00 Mid-Florida 2023',\n       'ZZ801 Div 801 Overhead - Non CCIP',\n       'ZZ255 Div 255 - CM Risk - CCIP Group',\n       'D302101.50 Five Park, Miami Beach (General Conditions)',\n       'B372302.75 Fort Lauderdale Police Headquarters (Offsite Personnel)',\n       \"N302116.50 The Grand (GC's)\", '7102120.00 NEER - Sonoran (COW)',\n       '7102229 FPL - Pineapple',\n       '7102224.15 FPL - Ibis (Racking System)',\n       'ZZ1110 Div 1110 Overhead - Salaries',\n       'N302101W01 (W) The Bohemian - Warranty',\n       'N302218.80 TBR Phase II - Beach Club Preconstruction (Precon)',\n       'N302000W01 (W) Boca Raton Regional Hospital - MOB & Garage Project - Warranty',\n       '7102219.15 Swift Current - Harvest Gold (Racking System)',\n       '7102224.25 FPL - Ibis (Electricity)',\n       '7102229.20 FPL - Pineapple (PV Install)',\n       'ZZ245 Div 245 - CM Legal', 'D302126.80 Riverside Wharf (PreCon)',\n       \"7102023.20 174 PG - Ho'ohana Solar (PV Install)\",\n       'B302206.80 317 N Federal Hwy - Phase I (Precon)',\n       '1701704.51 Terminal 25 Expansion Port Everglades, Fl (Lump Sum)',\n       '7102235.15 FPL - Nature Trail (Racking System)',\n       '7102232.15 FPL - Three Creeks (Racking System)',\n       '7102227.20 FPL - White Tail (PV Install)',\n       '7102108.24 NEER - Waco Solar (Electrical OH & P)',\n       '7102230.20 FPL - Pecan Tree (PV Install)',\n       '7102235.20 FPL - Nature Trail (PV Install)',\n       'B302109.75 New IL Building - Westlake Tower (CCIP Offsite Admin)',\n       'ZZ235 Div 235 - CM ERP',\n       '7102301.24 NERS - West Memphis Solar Energy Center (Electrical OH & P)',\n       \"7102115.50 Longroad - Foxhound Solar (GC's)\",\n       'B230015 Terminal 5 at Ft. Lauderdale-Hollywood Int. Airport-B302316',\n       'B220014 Pasco County Jail Expansion - 1112007',\n       'B210013 Five Park, Miami Beach - D302101',\n       '7102225.10 FPL - Prairie Creek (Drive Piles)',\n       '7102228.10 FPL - Silver Palm (Drive Piles)',\n       '7102219.05 Swift Current - Harvest Gold (Mowing)',\n       '7102227.05 FPL - White Tail (Mowing)',\n       \"1402204.50 Wailuku Apartments (GC's)\",\n       '2001504C13 (C) 2200 Ft Lauderdale Auberge - General 558 Claims',\n       '4001507C07 (C) Riva - 558 Claim',\n       \"D302310.50 Elemi at Grove Village (CONSTRUCTION) (GC's)\",\n       'ZZ1200 Div 1200 Overhead - Salaries',\n       \"B302318.50 The District - Phase I (GC's)\",\n       '1111804W01 (W) Ritz-Carlton Residence (Warranty Project)',\n       'ZZ1410 Div 1410 - Hawaii Solar',\n       '7102224.21 FPL - Ibis (Mechanical OH & P)',\n       '7102233.21 FPL - Fourmile Creek (Mechanical OH & P)',\n       '7102216.21 LSBP - Driver 1 and 2 (Mechanical OH & P)',\n       '7102221.21 NEER - Decatur Solar (Mechanical OH&P)',\n       '7102219.21 Swift Current - Harvest Gold (Mechanical OH & P)',\n       '7102232.21 FPL - Three Creeks (Mechanical OH & P)',\n       '7102236.21 FPL - Wild Quail (Mechanical OH & P)',\n       '7102301.21 NERS - West Memphis Solar Energy Center (Mechanical OH & P)',\n       '7102227.21 FPL - White Tail (Mechanical OH & P)',\n       '7102229.21 FPL - Pineapple (Mechanical OH & P)',\n       '7102231.21 FPL - Sambucus (Mechanical OH & P)',\n       '7102230.21 FPL - Pecan Tree (Mechanical OH & P)',\n       '7102226.21 FPL - Terrill Creek (Mechanical OH & P)',\n       '7102234.21 FPL - Hawthorne Creek (Mechanical OH & P)',\n       '7102228.21 FPL - Silver Palm (Mechanical OH & P)',\n       '7102228.52 FPL - Silver Palm (Engineering)',\n       'P230162 NEER - Indicatives (2023)',\n       '7102216.52 LSBP - Driver 1 and 2 (Engineering)',\n       'P230176 LSBP - Jones City 1',\n       '7102323.52 FPL - Thomas Creek (Engineering)',\n       '7102302.52 NEER - Hickerson (Engineering)',\n       '7102313.52 FPL - Honeybell (Engineering)',\n       '7102324.52 FPL - Tenmile Creek (Engineering)',\n       '7102322.52 FPL - Swallowtail (Engineering)',\n       '7102121.28 Plus Power - Kapolei Energy Storage',\n       \"1112202.50 Amalie Arena Ice Plant Replacement (GC's)\",\n       '1701703.52 Port Everglades Southport Turning Notch Expansion (Lump Sum)',\n       'D302306.80 Belmont Village Aventura (Precon)', 'P230300 Tower 36',\n       '7102219.00 Swift Current - Harvest Gold (COW)',\n       '1222302.50 Tobias Place',\n       'ZZ1202 Div 1202 - Stick - Overhead - Salaries',\n       '7102328.54 NEER - Flat Fork (Early Works)',\n       'D302127.80 The Perrigan - 5333 Collins (PreCon)',\n       \"7102231.50 FPL - Sambucus (GC's)\",\n       'P230253 Cypress Creek @ Montfort Drive',\n       '9231400.00 Hawaii - Commercial 2023',\n       '7102308.52 FPL - Kayak (Engineering)',\n       '7102234.15 FPL - Hawthorne Creek (Racking System)',\n       'P220043 Hale Makana O Piikea Ph.2',\n       '7102128W01 (W) FPL - Blackwater River Warranty',\n       '7102234.10 FPL - Hawthorne Creek (Drive Piles)',\n       \"1202203.50 The Villas at Fiori (GC's)\",\n       '2002013.70 (C) Brickell Heights - 558 (Claim)',\n       '7102225.15 FPL - Prairie Creek (Racking System)',\n       '7102303.54 NEER - Amite Solar (Early Works)',\n       '1712201.75 Alanik Hotel (Offsite Personnel)',\n       'P230306 Jetstar Commerce Park', 'P210427 One Tampa',\n       'P220061 Allen City Center MF',\n       '1202202.75 Timberlake Villas (Offsite Personnel)',\n       '7102327.52 FPL - Hog Bay (Engineering)',\n       '7102314.52 FPL - Hendry Isles (Engineering)',\n       '7102110.52 NEER - Big Cypress Solar (Engineering)',\n       '7102317.52 FPL - Holopaw (Engineering)',\n       '7102225.52 FPL - Prairie Creek (Engineering)',\n       '7102318.52 FPL - Speckled Perch (Engineering)',\n       '7102226.52 FPL - Terrill Creek (Engineering)',\n       '7102319.52 FPL - Fawn (Engineering)',\n       '7102229.52 FPL - Pineapple (Engineering)',\n       '7102320.52 FPL - Fox Tail (Engineering)',\n       '7102235.52 FPL - Nature Trail (Engineering)',\n       '7102321.52 FPL - Redlands (Engineering)',\n       '7102325.52 FPL - Green Pasture (Engineering)',\n       '7102235.25 FPL - Nature Trail (Electricity)',\n       '7102309.52 FPL - Norton Creek (Engineering)',\n       \"1202207.50 Skyline Ranch Homes (GC's)\",\n       '9231202.00 Dallas - Woodframe 2023',\n       'ZZ711 Div 710 - Solar Safety', 'P230255 1401 Brickell Avenue',\n       'B302214.80 1380 Ocean Boulevard (Precon)',\n       '7102232.25 FPL - Three Creeks (Electricity)', 'P230279 The Bays',\n       '7102234.00 FPL - Hawthorne Creek (COW)',\n       '7102234.05 FPL - Hawthorne Creek (Mowing)',\n       '7102219.52 Swift Current - Harvest Gold (Engineering)',\n       'P200380 Na Hale Makoa  (Kamakoa Nui)',\n       \"D302309.50 5333 Collins – Early Works (GC's)\",\n       'P230252 Sai Ocean Front Residences',\n       'ZZ1400 Div 1400 Overhead - Salaries',\n       '1202207.75 Skyline Ranch Homes (Offsite Personnel)',\n       'P220372 Cityline', '7102329.53 FRP - Gilchrist (Preconstruction)',\n       \"1202202.50 Timberlake Villas (GC's)\",\n       'P230317 Texas A&M Commerce',\n       '7102233.00 FPL - Fourmile Creek (COW)',\n       '7102234.20 FPL - Hawthorne Creek (PV Install)',\n       '7102232.05 FPL - Three Creeks (Mowing)',\n       '7102232.10 FPL - Three Creeks (Drive Piles)',\n       '7102232.00 FPL - Three Creeks (COW)',\n       '7102229.05 FPL - Pineapple (Mowing)',\n       '7102330.52 Duke - Sundance (Engineering)',\n       '7102305.52 NEER - Green River (Engineering)',\n       '1202302.80 Cityline (Preconstruction)',\n       'ZZ1201 Div 1201 - Precon - Overhead - Salaries',\n       '7102303.52 NEER - Amite Solar (Engineering)',\n       'B220004 29N Development Project - D302110',\n       '7102304.52 NEER - Sebree (Engineering)',\n       'B230008 1380 Ocean Boulevard - B302214',\n       \"N302125.00 Aura Delray Beach (GR's)\",\n       '7102233.20 FPL - Fourmile Creek (PV Install)',\n       '7102221.00 NEER - Decatur Solar (COW)',\n       'N302301.80 Green Cay Life Plan Village, Inc (Precon)',\n       \"1202206.00 Urby-Dallas - Phase II (GR's)\",\n       \"D302110.00 29N Development Project (GR's)\",\n       '7102110.20 NEER - Big Cypress Solar (PV Install)',\n       '7102205.24 CMS - Newport (Electrical OH & P)',\n       '7102301.10 NERS - West Memphis Solar Energy Center (Drive Piles)',\n       '9231203.00 Dallas - Commercial 2023',\n       '7102230.10 FPL - Pecan Tree (Drive Piles)',\n       \"7102230.50 FPL - Pecan Tree (GC's)\",\n       '7102233.52 FPL - Fourmile Creek (Engineering)',\n       '7102108.21 NEER - Waco Solar (Mechanical OH & P)',\n       '7102224.05 FPL - Ibis (Mowing)',\n       '7102224.20 FPL - Ibis (PV Install)', 'P230211 Mowata',\n       '7102304.53 NEER - Sebree (Preconstruction)',\n       '7102221.05 NEER - Decatur Solar (Mowing)',\n       '7102220.10 NEER - Washington County (Drive Piles)',\n       '7102220.15 NEER - Washington County (Racking System)',\n       \"7102224.50 FPL - Ibis (GC's)\", 'P230341 Alba',\n       'D302321.80 Civica Ph II - Mulit-family (Precon)',\n       '7102235.10 FPL - Nature Trail (Drive Piles)',\n       \"7102023.51 174 PG - Ho'ohana Solar (Lump Sum GC's)\",\n       \"7102132.51 NEER - Bell Ridge Solar (Lump Sum GC's)\",\n       '7102235.00 FPL - Nature Trail (COW)',\n       '7102321.53 FPL - Redlands (Preconstruction)',\n       '7102224.52 FPL - Ibis (Engineering)',\n       '7102109.52 NEER - West Memphis I (Engineering)',\n       'B200024 Fort Lauderdale Police Station - P190101',\n       '1112303.80 1515 Westshore (Preconstruction)',\n       \"D302123.50 Miami Dolphins - Medical Office Building (GC's)\",\n       \"2001903.50 Temple Beth AM (GC's)\",\n       'ZZ112 Div 112 O/H Corp - IT Security',\n       'P220008 NEER - Estimating Indicatives',\n       '7102314.21 FPL - Hendry Isles (Mechanical OH & P)',\n       '7102324.21 FPL - Tenmile Creek (Mechanical OH & P)',\n       '7102132.25 NEER - Bell Ridge Solar (Electricity)',\n       '7102328.52 NEER - Flat Fork (Engineering)',\n       '7102220.52 NEER - Washington County (Engineering)',\n       '7102232.52 FPL - Three Creeks (Engineering)',\n       '7102205.05 CMS - Newport (Mowing)',\n       '7102208.05 NEER - Washington County Due Dilligence (Mowing)',\n       '7102208.15 NEER - Washington County Due Dilligence (Racking System)',\n       'D302201.75 Collins Park - Artist Workforce Housing (Offsite Personnel)',\n       '7102208.24 NEER - Washington County Due Dilligence (Electrical OH & P)',\n       '7102220.05 NEER - Washington County (Mowing)',\n       'ZZ719 Div 719 - Solar HR & Training',\n       '7102323.53 FPL - Thomas Creek (Preconstruction)',\n       '7102324.53 FPL - Tenmile Creek (Preconstruction)',\n       '7102221.52 NEER - Decatur Solar (Engineering)',\n       '7102225.00 FPL - Prairie Creek (COW)',\n       \"7102208.51 NEER - Washington County Due Dilligence (Lump Sum GC's)\",\n       '7102220.00 NEER - Washington County (COW)',\n       \"N302117.00 Phase II - Alina Residences (GR's)\",\n       '2001409.00 C746 Housing Merrick/Ibis (COW)',\n       '7102013W01 (W) FPL - Sabal Palm Solar - Warranty',\n       '2001806W01 (W) 57 Ocean - Warranty',\n       '5201806.50 (C) Harbourside Jupiter - 558 Claim',\n       '5001906W01 (W) Boca Resorts Renovations Phase 1 - Warranty',\n       'ZZ724 Div 724 - Solar Apprenticehip', 'B210014 Forte - N302113',\n       \"D302208.50 VOX Miami Ph. II (GC's)\",\n       \"1202004.50 Urby-Dallas (GC's)\",\n       '7102132.00 NEER - Bell Ridge Solar (COW)',\n       '2002008.70 (C) Hyde Midtown - 558 Claim',\n       '2001913.50 (W) Auberge - Warranty',\n       \"1202104.50 Avilla Towne Center (GC's)\",\n       '7102021W01 (W) NEER - Cool Springs Warranty',\n       'B200026 St. Regis Mixed Use - P200324', 'P230307 Caroline',\n       'P230187 Avilla Railhead', 'P230315 Stoneleigh P',\n       'P230287 Harwood 15',\n       '7102219.24 Swift Current - Harvest Gold (Electrical OH & P)',\n       'P230267 West Grove', '9230710.11 Solar - Safety 2023',\n       '7102103.24 NEER - Neptune Solar (Electrical OH & P)',\n       '7102220.21 NEER - Washington County (Mechanical OH&P)',\n       '7102225.21 FPL - Prairie Creek (Mechanical OH & P)',\n       '7102209.24 NEER - Decatur Solar Due Dilligence (Electrical OH & P)',\n       'P220243 Sherman Gateway', '1112110.00 101 North Meridian',\n       'D302123W01 (W) Miami Dolphins - Medical Office Building - Warranty',\n       '7102229.10 FPL - Pineapple (Drive Piles)',\n       'B230017 5333 Collins – Early Works-D302309',\n       'B220006 Urby Dallas Hi-Line Phase 2 - 1202206',\n       'P230215 NEER - Kaufman', 'B230007 Broward Plaza - Phase 1',\n       '7102110.21 NEER - Big Cypress Solar (Mechanical OH & P)',\n       '7102132.21 NEER - Bell Ridge Solar (Mechanical OH & P)',\n       '7102132.52 NEER - Bell Ridge Solar (Engineering)',\n       '7102224.10 FPL - Ibis (Drive Piles)',\n       '7102305.54 NEER - Green River (Early Works)',\n       '7102304.54 NEER - Sebree (Early Works)',\n       '7102329.54 FRP - Gilchrist (Early Works)',\n       'P220380 NEER - Erthos Compadres',\n       '7102312.53 FPL - Buttonwood (Preconstruction)',\n       'B230016 Cipriani Residences Miami-D302305',\n       '7102319.53 FPL - Fawn (Preconstruction)',\n       '7102110.15 NEER - Big Cypress Solar (Racking System)',\n       'D302108W01 (W) Civica Ph I - Office Reno - Warranty',\n       '7102316.53 FPL - Big Water (Preconstruction)',\n       'P230218 NEER - Stafford',\n       \"7102304.51 NEER - Sebree (Lump Sum GC's)\",\n       \"7102305.51 NEER - Green River (Lump Sum GC's)\",\n       '5002002W01 (W) John Knox Village - Pavilion & CEP - Warranty',\n       '7102110.05 NEER - Big Cypress Solar (Mowing)',\n       '4001909.00 (W) Riva, a Condominium (Warranty Reimb)',\n       'ZZ1111 Div 1110 Overhead - Salaries',\n       'B302312.80 El-Ad Plaza Precon (Preconstruction)',\n       'ZZ718 Div 718 - Solar Early Works',\n       'B210012 Alina Condominium - Phase 2 - P190018',\n       'B220009 Alanik Hotel - 1712201',\n       '7102228.27 FPL - Silver Palm (Additional MV Run)',\n       '4001708C04 (C) Adagio Claim - 558 (Whole Building)',\n       '2001503C03 (C) 3401 Midtown - Riser A/C Pipe Burst Unit 1001 Claim',\n       'P230046 Lakeside Village Parking Garage',\n       '2001417C06 (C) 801 SMA - SLS Lux - 558 Claim',\n       \"7102023.10 174 PG - Ho'ohana Solar (Drive Piles)\",\n       '7102314.24 FPL - Hendry Isles (Electrical OH & P)',\n       '7102309.24 FPL - Norton Creek (Electrical OH & P)',\n       \"7102110.50 NEER - Big Cypress Solar (GC's)\",\n       '7102110.00 NEER - Big Cypress Solar (COW)',\n       \"7102135.51 FPL - Saw Palmetto (Lump Sum GC's)\",\n       '7102330.54 Duke - Sundance (Early Works)',\n       'D302208.80 VOX Miami Ph. II (Precon)',\n       '6001402C01 (C) PCJ - 558 Claim', '7102216 LSBP - Driver',\n       '7102231.20 FPL - Sambucus (PV Install)',\n       '7102309.53 FPL - Norton Creek (Preconstruction)',\n       '7102201.15 AES - West Oahu (Racking System)',\n       \"7102023.15 174 PG - Ho'ohana Solar (Racking System)\",\n       '7102225.05 FPL - Prairie Creek (Mowing)',\n       'D302307.80 710 Edge (Precon) DO NOT USE',\n       '1111804C07 (C) Ritz-Carlton Residences - 558 Claim - Water Intrusion',\n       '7102110 NEER - Big Cypress Solar',\n       '2001903W01 (W) Temple Beth AM - Warranty',\n       'P120002 Providence-SALARY ONLY (Corp)',\n       '2001907W01 (W) Monaco Yacht Club - Warranty',\n       '1412201.28 Ameresco - Kupono Solar (Mechanical Removal)',\n       '1412201.00 Ameresco - Kupono Solar (COW)',\n       '1412301.10 AES Waiawa Phase 2 Solar (Drive Piles)',\n       \"B302109.00 New IL Building - Westlake Tower (GR's)\",\n       \"7102314.51 FPL - Hendry Isles (Lump Sum GC's)\",\n       '7102301.05 NERS - West Memphis Solar Energy Center (Mowing)',\n       '7102206.25 NEER - Sonoran BESS (Electricity)',\n       \"B372302.00 Fort Lauderdale Police Headquarters (GR's)\",\n       \"7102329.51 FRP - Gilchrist (Lump Sum GC's)\",\n       '1112109W01 (W) Amalie Arena Central Plant Replacement - Warranty',\n       '2001808W01 (W) Vox Miami - Warranty',\n       'P230159 Little River Mixed Use - PRECON',\n       'N302219.80 PBA Business School (Precon)',\n       '7102223.25 NEER - Saint BESS (Electricity)',\n       '1202205.50 The Hockaday School Athletic Facilities - General Conditions',\n       '7102315.54 NEER - Forgeview (Early Works)',\n       '2001903.49 Temple Beth AM (COVID-19)', 'Bishop Arts',\n       '7102115.52 Longroad - Foxhound Solar (Engineering)',\n       'P230131 City of Miami Administration Building',\n       '7102303.80 NEER - Amite Solar (Precon)',\n       '2002016.03 Belmont Village ACLF Coral Gables (Baptist Healthy Living)',\n       \"D302108.00 Civica Ph I - Office Reno (GR's)\",\n       'P230319 City of Frisco City Hall',\n       \"5001901.00 Plantation Pointe (GR's)\",\n       '7102122.24 Duke - High Springs Solar (Electrical OH & P)',\n       \"D302216.50 TBR Beach Club Model Rooms (GC's)\",\n       '2002016.04 Belmont Village ACLF Coral Gables (Pinecrest Therapy)',\n       'ZZ370 Div 370 Overhead - Salaries',\n       '7102103.52 NEER - Neptune Solar (Engineering)',\n       '7102201.25 AES - West Oahu (Electricity)',\n       'SDPBC West Acreage Area ES 15-A',\n       '7102205.52 CMS - Newport (Engineering)',\n       '2002007.70 (C) The Harbour - 558 Claim',\n       '7102218.25 NEER - Washington Switchyard (Electricity)',\n       \"1401904.50 Atherton Resid Life Innovation & Entr Ctr (GC's)\",\n       '7102103.00 NEER - Neptune Solar (COW)',\n       '7102219.80 Swift Current - Harvest Gold (Precon)', 'NEER - Diver',\n       'P230257 Luxe at Lewisville',\n       \"7102227.52 FPL - White Tail (Lump Sum GC's)\",\n       '7102231.52 FPL - Sambucus (Engineering)',\n       'P230216 NEER - Compadre',\n       '7102109.25 NEER - West Memphis I (Electricity)',\n       '7102322.54 FPL - Swallowtail (Early Works)',\n       '7102323.54 FPL - Thomas Creek (Early Works)',\n       '1402204.00 Wailuku Apartments (Directs)',\n       '7102301.00 NERS - West Memphis Solar Energy Center (COW)',\n       '7102312.54 FPL - Buttonwood (Early Works)',\n       '7102201.05 AES - West Oahu (Mowing)',\n       '7102314.00 FPL - Hendry Isles (COW)',\n       'P120001 Sand Bob (Payroll ONLY-CORP)',\n       \"7102120.50 NEER - Sonoran (GC's)\",\n       '7102314.80 FPL - Hendry Isles (Precon)',\n       '7102307.80 FPL - Mitchell Creek (Precon)',\n       '1222303.80 Harbor Residential (Precon)',\n       '7102305.53 NEER - Green River (Preconstruction)',\n       'FPL - Hendry Isles (ST25)',\n       '7102318.21 FPL - Speckled Perch (Mechanical OH & P)',\n       '7102319.21 FPL - Fawn (Mechanical OH & P)',\n       '7102330.21 Duke - Sundance (Mechanical OH & P)',\n       '7102305.21 NEER - Green River (Mechanical OH & P)',\n       '7102307.21 FPL - Mitchell Creek (Mechanical OH & P)',\n       '7102310.21 FPL - Cedar Trail (Mechanical OH & P)',\n       '7102312.21 FPL - Buttonwood (Mechanical OH & P)',\n       '7102313.21 FPL - Honeybell (Mechanical OH & P)',\n       '7102316.21 FPL - Big Water (Mechanical OH & P)',\n       '7102323.21 FPL - Thomas Creek (Mechanical OH & P)',\n       '7102327.21 FPL - Hog Bay (Mechanical OH & P)',\n       '7102303.21 NEER - Amite Solar (Mechanical OH & P)',\n       '7102329.21 FRP - Gilchrist',\n       '7102304.21 NEER - Sebree (Mechanical OH & P)',\n       'N302125.80 Aura Delray Beach (Precon)',\n       '5001801W03 (W) Alina Residences - 558 Warranty',\n       '7102122.52 Duke - High Springs Solar (Engineering)',\n       '7102327.80 FPL - Hog Bay (Precon)',\n       '7102326.80 FPL - Long Creek (Precon)',\n       '7102234.52 FPL - Hawthorne Creek (Engineering)',\n       '7102108.52 NEER - Waco Solar (Engineering)',\n       \"7102109.51 NEER - West Memphis I (Lump Sum GC's)\",\n       \"7102102.51 NEER - Thunder Wolf Solar (Lump Sum GC's)\",\n       'D302122.80 Wynwood - Parcel C (Precon)',\n       '7102307.53 FPL - Mitchell Creek (Preconstruction)',\n       '7102314.53 FPL - Hendry Isles (Preconstruction)',\n       'P230239 NoRA Hotel',\n       '7102132.05 NEER - Bell Ridge Solar (Mowing)',\n       '7102302.54 NEER - Hickerson (Early Works)',\n       'D372202.91 FIU East Loop Road Realignment (Fee)',\n       '7102316.24 FPL - Big Water (Electrical OH & P)',\n       '7102319.24 FPL - Fawn (Electrical OH & P)',\n       \"7102315.51 NEER - Forgeview (Lump Sum GC's)\",\n       \"7102010.51 Clearway - Waiawa (Lump Sum GC's)\",\n       \"7102303.51 NEER - Amite Solar (Lump Sum GC's)\",\n       \"7102310.51 FPL - Cedar Trail (Lump Sum GC's)\",\n       '1412201.51 Ameresco - Kupono Solar (Lump Sum GCs)',\n       '7102109.21 NEER - West Memphis I (Mechanical OH & P)',\n       '1112302.80 Water Street Tampa Phase II - Block 2 (Precon)',\n       '7102321.05 FPL - Redlands (Civil Self Perform)',\n       '7102317.54 FPL - Holopaw (Early Works)',\n       '7102303.53 NEER - Amite Solar (Preconstruction)',\n       'P230165 Kahului Civic Center Housing',\n       '2001912.80 Virgin Hotel Miami - 1040 South Miami, LLC (Precon)',\n       '7102306.52 NEER - St. Landry (Engineering)',\n       '7102315.52 NEER - Forgeview (Engineering)',\n       '2001806C06 (C) 57 Ocean - 558 Claim',\n       '7102317.24 FPL - Holopaw (Electrical OH & P)',\n       '7102327.24 FPL - Hog Bay (Electrical OH & P)',\n       '7102326.24 FPL - Long Creek (Electrical OH & P)',\n       '7102324.24 FPL - Tenmile Creek (Electrical OH & P)',\n       '7102323.24 FPL - Thomas Creek (Electrical OH & P)',\n       '7102037W01 (W) FPL - Grove Warranty',\n       '1701703.90 Port Everglades Southport Turning Notch Expansion (Fee)',\n       '1742002W01 (W) Boca Elementary - 05-C - Warranty',\n       '7102102.21 NEER - Thunder Wolf Solar (Mechanical OH &P)',\n       \"7102113.51 Duke - Hardeetown Solar (Lump Sum GC's)\",\n       '7102209.25 NEER - Decatur Solar Due Dilligence (Electricity)',\n       '7102029W01 (W) NEER - Searcy Solar - Warranty',\n       '7102309.80 FPL - Norton Creek (Precon)',\n       '7102308.80 FPL - Kayak (Precon)',\n       '7102310.80 FPL - Cedar Trail (Precon)',\n       '7102311.80 FPL - Georges Lake (Precon)',\n       '7102316.80 FPL - Big Water (Precon)',\n       '7102318.80 FPL - Speckled Perch (Precon)',\n       '7102319.80 FPL - Fawn (Precon)',\n       '7102320.80 FPL - Fox Tail (Precon)',\n       '7102324.80 FPL - Tenmile Creek (Precon)',\n       '7102312.80 FPL - Buttonwood (Precon)',\n       '7102313.80 FPL - Honeybell (Precon)',\n       '7102317.80 FPL - Holopaw (Precon)',\n       '7102321.80 FPL - Redlands (Precon)',\n       '7102322.80 FPL - Swallowtail (Precon)',\n       '7102323.80 FPL - Thomas Creek (Precon)',\n       '7102325.80 FPL - Green Pasture (Precon)',\n       \"N302104.50 AD Henderson University School K-8 (GC's)\",\n       '7102236.00 FPL - Wild Quail (COW)',\n       \"7102221.50 NEER - Decatur Solar (GC's)\",\n       'FPL - Pecan Tree (ST24)', '1111905W01 (W) Block H-1 - Warranty',\n       '7102227.00 FPL - White Tail (COW)',\n       '7101904W07 (W) Duke -Debary Solar',\n       '7102206.24 NEER - Sonoran BESS (Electrical OH & P)',\n       '1112108.75 St Regis Longboat Key Resort (Offsite Personnel)',\n       '7102228.53 FPL - Silver Palm (Preconstruction)',\n       'Urby-Dallas - Phase II (Directs)',\n       'Skyline Ranch Homes (Vertical)',\n       'Avilla Boat Club (Site Improvements)',\n       'The Villas at Fiori (Fee)', 'Timberlake Villas (Directs)',\n       '7102223.24 NEER - Saint BESS (Electrical OH & P)',\n       '7102102.52 NEER - Thunder Wolf Solar (Engineering)',\n       '7102226.20 FPL - Terrill Creek (PV Install)',\n       'D302304.80 Residence 23 (Precon)'], dtype=object)"
          },
          "metadata": {}
        }
      ],
      "execution_count": 114,
      "metadata": {
        "jupyter": {
          "source_hidden": false,
          "outputs_hidden": false
        },
        "nteract": {
          "transient": {
            "deleting": false
          }
        },
        "gather": {
          "logged": 1697640495555
        }
      }
    },
    {
      "cell_type": "code",
      "source": [],
      "outputs": [],
      "execution_count": null,
      "metadata": {
        "jupyter": {
          "source_hidden": false,
          "outputs_hidden": false
        },
        "nteract": {
          "transient": {
            "deleting": false
          }
        }
      }
    }
  ],
  "metadata": {
    "kernelspec": {
      "name": "python310-sdkv2",
      "language": "python",
      "display_name": "Python 3.10 - SDK v2"
    },
    "language_info": {
      "name": "python",
      "version": "3.10.11",
      "mimetype": "text/x-python",
      "codemirror_mode": {
        "name": "ipython",
        "version": 3
      },
      "pygments_lexer": "ipython3",
      "nbconvert_exporter": "python",
      "file_extension": ".py"
    },
    "microsoft": {
      "ms_spell_check": {
        "ms_spell_check_language": "en"
      },
      "host": {
        "AzureML": {
          "notebookHasBeenCompleted": true
        }
      }
    },
    "kernel_info": {
      "name": "python310-sdkv2"
    },
    "nteract": {
      "version": "nteract-front-end@1.0.0"
    }
  },
  "nbformat": 4,
  "nbformat_minor": 2
}