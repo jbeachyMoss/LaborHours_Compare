{
  "cells": [
    {
      "cell_type": "code",
      "source": [
        "# azureml-core of version 1.0.72 or higher is required\n",
        "# azureml-dataprep[pandas] of version 1.1.34 or higher is required\n",
        "from azureml.core import Workspace, Dataset\n",
        "import pandas as pd\n",
        "from datetime import date, datetime, timedelta\n",
        "import numpy as np\n",
        "from azure.storage.blob import BlobServiceClient\n",
        "import jupytext\n",
        "\n",
        "subscription_id = '96599b9b-0d9b-4577-9163-418d2c6cd411'\n",
        "resource_group = 'rg-datasci-ml-dev-001'\n",
        "workspace_name = 'ml-moss-dev-001'\n",
        "\n",
        "workspace = Workspace(subscription_id, resource_group, workspace_name)\n",
        "\n",
        "dataset_hourly_compare_cmic = Dataset.get_by_name(workspace, name='Hourly_Employee_Time_prod')\n",
        "cmic_pr_df_dev = dataset_hourly_compare_cmic.to_pandas_dataframe()\n",
        "\n",
        "dataset_hourly_compare_wd = Dataset.get_by_name(workspace, name='WD_Hourly_Employee_Time_prod')\n",
        "wd_pr_df_dev = dataset_hourly_compare_wd.to_pandas_dataframe()\n",
        "\n",
        "tcp_dataset = Dataset.get_by_name(workspace, name='WorkSegments_Timesheet_prod')\n",
        "tcp_df_dev = tcp_dataset.to_pandas_dataframe()\n",
        "\n",
        "jcjob_dataset = Dataset.get_by_name(workspace, name='JCJOB_TABLE_TN_prod')\n",
        "jcjob_df = jcjob_dataset.to_pandas_dataframe()"
      ],
      "outputs": [],
      "execution_count": 1,
      "metadata": {
        "gather": {
          "logged": 1698325655786
        }
      }
    },
    {
      "cell_type": "code",
      "source": [
        "##########################\n",
        "\n",
        "week_ending = '2023-10-21'\n",
        "\n",
        "##########################\n",
        "\n",
        "date = datetime.strptime(week_ending, \"%Y-%m-%d\")\n",
        "start_date = date - timedelta(days = 6)\n",
        "end_date = date"
      ],
      "outputs": [],
      "execution_count": 28,
      "metadata": {
        "jupyter": {
          "source_hidden": false,
          "outputs_hidden": false
        },
        "nteract": {
          "transient": {
            "deleting": false
          }
        },
        "gather": {
          "logged": 1698325832284
        }
      }
    },
    {
      "cell_type": "code",
      "source": [
        "tcp_df = tcp_df_dev.copy()"
      ],
      "outputs": [],
      "execution_count": 70,
      "metadata": {
        "jupyter": {
          "source_hidden": false,
          "outputs_hidden": false
        },
        "nteract": {
          "transient": {
            "deleting": false
          }
        },
        "gather": {
          "logged": 1698327479916
        }
      }
    },
    {
      "cell_type": "code",
      "source": [
        "###TCP Data Manipulation\n",
        "#Filter: Solar Jobs only \n",
        "#tcp_df = tcp_df.loc[tcp_df['Job_Code'].str.startswith('710')]\n",
        "#Filter: Only Keeping Labor Hourly\n",
        "tcp_df = tcp_df.loc[tcp_df['Task'].isin(['LH','LHA'])]\n",
        "#Filter: Only keeping Moss Labor Hourly - excluding subs\n",
        "tcp_df = tcp_df.loc[tcp_df['Department']=='710']\n",
        "#Creating a total hours column\n",
        "tcp_df['total_hours'] = tcp_df['Regular_Hours'] + tcp_df['Overtime_Hours']\n",
        "#Renaming Relevant Columns\n",
        "tcp_df = tcp_df.rename({'Employee_Number':'EEID','Job_Code':'Job','Activity':'Sub_Job','total_hours':'Hours'},axis='columns')\n",
        "tcp_cols_keep = ['EEID' , 'Date' , 'Job' , 'Sub_Job' , 'Hours']\n",
        "tcp_df_comp = tcp_df.loc[:,tcp_cols_keep]"
      ],
      "outputs": [],
      "execution_count": 71,
      "metadata": {
        "jupyter": {
          "source_hidden": false,
          "outputs_hidden": false
        },
        "nteract": {
          "transient": {
            "deleting": false
          }
        },
        "gather": {
          "logged": 1698327481217
        }
      }
    },
    {
      "cell_type": "code",
      "source": [
        "wd_pr_df = wd_pr_df_dev.copy()"
      ],
      "outputs": [],
      "execution_count": 73,
      "metadata": {
        "jupyter": {
          "source_hidden": false,
          "outputs_hidden": false
        },
        "nteract": {
          "transient": {
            "deleting": false
          }
        },
        "gather": {
          "logged": 1698327500742
        }
      }
    },
    {
      "cell_type": "code",
      "source": [
        "#Workday Data Manipulation\n",
        "#DUPLICATE FILTER - from WQL Query for Reported time Blocks for a Worker\n",
        "wql_filter = (wd_pr_df['timeEntryCode.id1'].notna())&(wd_pr_df['historicalStatus']!='94e8c24204d1406897f2758bd5e306d1')&(wd_pr_df['isDeleted']==False)\n",
        "wd_pr_df = wd_pr_df.loc[wql_filter]\n",
        "#Drop Null values if the employee does not have a job/sub job assignment\n",
        "wd_pr_df = wd_pr_df.loc[~wd_pr_df['billableProject.descriptor'].isna()]\n",
        "#Filter: Solar Jobs Only\n",
        "wd_pr_df = wd_pr_df.loc[wd_pr_df['billableProject.descriptor'].str.startswith('710')]\n",
        "#Extracting Employee ID (EEID) from 'Workers' column: This column also designates employees as Terminated so the substring '(Terminated)' is being removed for a clean creation of EEID from Workers\n",
        "wd_pr_df['Workers'] = wd_pr_df['Workers'].str.replace('(Terminated)' , '')\n",
        "wd_pr_df['EEID'] = wd_pr_df['Workers'].str.split('(').str[1]\n",
        "wd_pr_df['EEID'] = wd_pr_df['EEID'].str.split(')').str[0]\n",
        "#This isolates the 2 digit sub job, also accomodates the sub jobs that have a letter in them like Claims (C) and Warranty (W)\n",
        "wd_pr_df['billableProject.descriptor'] = wd_pr_df['billableProject.descriptor'].str.replace('C' , '.C')\n",
        "wd_pr_df['billableProject.descriptor'] = wd_pr_df['billableProject.descriptor'].str.replace('W' , '.W')\n",
        "wd_pr_df['sub_job'] = wd_pr_df['billableProject.descriptor'].str.split('.').str[1]\n",
        "wd_pr_df['sub_job'] = wd_pr_df['sub_job'].str.split(' ').str[0]\n",
        "#Leaves behind Job ONLY\n",
        "wd_pr_df['job'] = wd_pr_df.loc[:,'billableProject.descriptor'].str[0:7]\n",
        "#Renaming Relevant Columns\n",
        "wd_pr_df = wd_pr_df.rename({'calculatedDate':'Date','job':'Job','sub_job':'Sub_Job','amount':'Hours'},axis='columns')\n",
        "wd_cols_keep = ['EEID' , 'Date' , 'Job' , 'Sub_Job' , 'Hours']\n",
        "wd_pr_df_comp = wd_pr_df.loc[:,wd_cols_keep]\n",
        "#excluding these employees from Workday because they will not be present in the TCP data\n",
        "wd_eeid_exclude = ['6423','6525','9633','9647','9686','11780','13401','13757','14452','14523','14587','14594','15312','15358','15681','15912']\n",
        "wd_pr_df_comp = wd_pr_df_comp.loc[~wd_pr_df_comp['EEID'].isin(wd_eeid_exclude)]"
      ],
      "outputs": [],
      "execution_count": 74,
      "metadata": {
        "jupyter": {
          "source_hidden": false,
          "outputs_hidden": false
        },
        "nteract": {
          "transient": {
            "deleting": false
          }
        },
        "gather": {
          "logged": 1698327504236
        }
      }
    },
    {
      "cell_type": "code",
      "source": [
        "cmic_pr_df = cmic_pr_df_dev.copy()"
      ],
      "outputs": [],
      "execution_count": 75,
      "metadata": {
        "jupyter": {
          "source_hidden": false,
          "outputs_hidden": false
        },
        "nteract": {
          "transient": {
            "deleting": false
          }
        },
        "gather": {
          "logged": 1698327505423
        }
      }
    },
    {
      "cell_type": "code",
      "source": [
        "#CMiC Data Manipulation\n",
        "#Re-casting this column as a Date data type\n",
        "cmic_pr_df[\"Date\"] = pd.to_datetime(cmic_pr_df[\"Date\"])\n",
        "#Filter: Only Keeping Labor Hourly\n",
        "cmic_pr_df = cmic_pr_df.loc[cmic_pr_df['Task'].isin(['LH','LHA'])]\n",
        "#Renaming Relevant Columns\n",
        "cmic_pr_df = cmic_pr_df.rename({'Employee Number':'EEID','Job Code':'Job','Sub Job Code':'Sub_Job','Regular Hours':'Hours'},axis='columns')\n",
        "cmic_cols_keep = ['EEID' , 'Date' , 'Job' , 'Sub_Job' , 'Hours']\n",
        "cmic_pr_df_comp = cmic_pr_df.loc[:,cmic_cols_keep]"
      ],
      "outputs": [],
      "execution_count": 76,
      "metadata": {
        "jupyter": {
          "source_hidden": false,
          "outputs_hidden": false
        },
        "nteract": {
          "transient": {
            "deleting": false
          }
        },
        "gather": {
          "logged": 1698327506218
        }
      }
    },
    {
      "cell_type": "code",
      "source": [
        "#Date Filters\n",
        "tcp_filter = (tcp_df_comp['Date']>=start_date)&(tcp_df_comp['Date']<=end_date)\n",
        "cmic_filter = (cmic_pr_df_comp['Date']>=start_date)&(cmic_pr_df_comp['Date']<=end_date)\n",
        "wd_filter = (wd_pr_df_comp['Date']>=start_date)&(wd_pr_df_comp['Date']<=end_date)"
      ],
      "outputs": [],
      "execution_count": 77,
      "metadata": {
        "jupyter": {
          "source_hidden": false,
          "outputs_hidden": false
        },
        "nteract": {
          "transient": {
            "deleting": false
          }
        },
        "gather": {
          "logged": 1698327506386
        }
      }
    },
    {
      "cell_type": "markdown",
      "source": [
        "#### Grouping the Data by Different Levels"
      ],
      "metadata": {
        "nteract": {
          "transient": {
            "deleting": false
          }
        }
      }
    },
    {
      "cell_type": "code",
      "source": [
        "#Grouping by Job\n",
        "tcp_grouped_job = tcp_df_comp.loc[tcp_filter].groupby(['Job']).agg(TotalHours_TCP = pd.NamedAgg(column='Hours',aggfunc='sum'))\n",
        "tcp_grouped_job = tcp_grouped_job.reset_index()\n",
        "cmic_grouped_job = cmic_pr_df_comp.loc[cmic_filter].groupby(['Job']).agg(TotalHours_CMiC = pd.NamedAgg(column='Hours',aggfunc='sum'))\n",
        "cmic_grouped_job = cmic_grouped_job.reset_index()\n",
        "wd_grouped_job = wd_pr_df_comp.loc[wd_filter].groupby(['Job']).agg(TotalHours_WD = pd.NamedAgg(column='Hours',aggfunc='sum'))\n",
        "wd_grouped_job = wd_grouped_job.reset_index()"
      ],
      "outputs": [],
      "execution_count": 78,
      "metadata": {
        "jupyter": {
          "source_hidden": false,
          "outputs_hidden": false
        },
        "nteract": {
          "transient": {
            "deleting": false
          }
        },
        "gather": {
          "logged": 1698327506692
        }
      }
    },
    {
      "cell_type": "code",
      "source": [
        "#Grouping by Job, Sub Job\n",
        "tcp_grouped_subjob = tcp_df_comp.loc[tcp_filter].groupby(['Job','Sub_Job']).agg(TotalHours_TCP = pd.NamedAgg(column='Hours',aggfunc='sum'))\n",
        "tcp_grouped_subjob = tcp_grouped_subjob.reset_index()\n",
        "cmic_grouped_subjob = cmic_pr_df_comp.loc[cmic_filter].groupby(['Job','Sub_Job']).agg(TotalHours_CMiC = pd.NamedAgg(column='Hours',aggfunc='sum'))\n",
        "cmic_grouped_subjob = cmic_grouped_subjob.reset_index()\n",
        "wd_grouped_subjob = wd_pr_df_comp.loc[wd_filter].groupby(['Job','Sub_Job']).agg(TotalHours_WD = pd.NamedAgg(column='Hours',aggfunc='sum'))\n",
        "wd_grouped_subjob = wd_grouped_subjob.reset_index()"
      ],
      "outputs": [],
      "execution_count": 79,
      "metadata": {
        "jupyter": {
          "source_hidden": false,
          "outputs_hidden": false
        },
        "nteract": {
          "transient": {
            "deleting": false
          }
        },
        "gather": {
          "logged": 1698327507333
        }
      }
    },
    {
      "cell_type": "code",
      "source": [
        "#Grouping by Job, Sub Job, EEID\n",
        "tcp_grouped_ee = tcp_df_comp.loc[tcp_filter].groupby(['EEID']).agg(TotalHours_TCP = pd.NamedAgg(column='Hours',aggfunc='sum'))\n",
        "tcp_grouped_ee = tcp_grouped_ee.reset_index()\n",
        "cmic_grouped_ee = cmic_pr_df_comp.loc[cmic_filter].groupby(['EEID']).agg(TotalHours_CMiC = pd.NamedAgg(column='Hours',aggfunc='sum'))\n",
        "cmic_grouped_ee = cmic_grouped_ee.reset_index()\n",
        "wd_grouped_ee = wd_pr_df_comp.loc[wd_filter].groupby(['EEID']).agg(TotalHours_WD = pd.NamedAgg(column='Hours',aggfunc='sum'))\n",
        "wd_grouped_ee = wd_grouped_ee.reset_index()"
      ],
      "outputs": [],
      "execution_count": 80,
      "metadata": {
        "jupyter": {
          "source_hidden": false,
          "outputs_hidden": false
        },
        "nteract": {
          "transient": {
            "deleting": false
          }
        },
        "gather": {
          "logged": 1698327507501
        }
      }
    },
    {
      "cell_type": "markdown",
      "source": [
        "#### Unique Column Creation for the Joins"
      ],
      "metadata": {
        "nteract": {
          "transient": {
            "deleting": false
          }
        }
      }
    },
    {
      "cell_type": "code",
      "source": [
        "#Unique Columns to Join On for Sub Job Comparison\n",
        "tcp_grouped_subjob['unique'] = tcp_grouped_subjob[['Job','Sub_Job']].apply(lambda x: ' - '.join(str(value) for value in x), axis=1)\n",
        "cmic_grouped_subjob['unique'] = cmic_grouped_subjob[['Job','Sub_Job']].apply(lambda x: ' - '.join(str(value) for value in x), axis=1)\n",
        "wd_grouped_subjob['unique'] = wd_grouped_subjob[['Job','Sub_Job']].apply(lambda x: ' - '.join(str(value) for value in x), axis=1)"
      ],
      "outputs": [],
      "execution_count": 81,
      "metadata": {
        "jupyter": {
          "source_hidden": false,
          "outputs_hidden": false
        },
        "nteract": {
          "transient": {
            "deleting": false
          }
        },
        "gather": {
          "logged": 1698327508332
        }
      }
    },
    {
      "cell_type": "markdown",
      "source": [
        "#### TCP vs. Workday Comparison"
      ],
      "metadata": {
        "nteract": {
          "transient": {
            "deleting": false
          }
        }
      }
    },
    {
      "cell_type": "code",
      "source": [
        "#TCP v. WD Job\n",
        "tcp_v_wd_job = tcp_grouped_job.merge(wd_grouped_job , how = 'left' , on = 'Job' , suffixes = ['_TCP','_WD'])\n",
        "#NaN Hours will be filled with 0\n",
        "tcp_v_wd_job['TotalHours_WD'] = tcp_v_wd_job['TotalHours_WD'].fillna(0)\n",
        "tcp_v_wd_job['TotalHours_TCP'] = tcp_v_wd_job['TotalHours_TCP'].fillna(0)\n",
        "tcp_v_wd_job['Hours_Variance (TCP - WD)'] = tcp_v_wd_job['TotalHours_TCP'] - tcp_v_wd_job['TotalHours_WD']\n",
        "tcp_v_wd_job = tcp_v_wd_job.sort_values(['Job'  , 'Hours_Variance (TCP - WD)'] , ascending=[False,False])"
      ],
      "outputs": [],
      "execution_count": 82,
      "metadata": {
        "jupyter": {
          "source_hidden": false,
          "outputs_hidden": false
        },
        "nteract": {
          "transient": {
            "deleting": false
          }
        },
        "gather": {
          "logged": 1698327508698
        }
      }
    },
    {
      "cell_type": "code",
      "source": [
        "#TCP v. WD Job, Sub Job\n",
        "tcp_v_wd_subjob = tcp_grouped_subjob.merge(wd_grouped_subjob , how = 'left' , on = 'unique' , suffixes = ['_TCP','_WD']).drop(columns =['unique'])\n",
        "#NaN Hours will be filled with 0\n",
        "tcp_v_wd_subjob['TotalHours_WD'] = tcp_v_wd_subjob['TotalHours_WD'].fillna(0)\n",
        "tcp_v_wd_subjob['TotalHours_TCP'] = tcp_v_wd_subjob['TotalHours_TCP'].fillna(0)\n",
        "tcp_v_wd_subjob['Hours_Variance (TCP - WD)'] = tcp_v_wd_subjob['TotalHours_TCP'] - tcp_v_wd_subjob['TotalHours_WD']\n",
        "tcp_v_wd_subjob = tcp_v_wd_subjob.sort_values(['Job_TCP' , 'Sub_Job_TCP' , 'Hours_Variance (TCP - WD)'] , ascending=[False,True,False])"
      ],
      "outputs": [],
      "execution_count": 83,
      "metadata": {
        "jupyter": {
          "source_hidden": false,
          "outputs_hidden": false
        },
        "nteract": {
          "transient": {
            "deleting": false
          }
        },
        "gather": {
          "logged": 1698327509380
        }
      }
    },
    {
      "cell_type": "code",
      "source": [
        "#TCP v. WD Job, Sub Job, EEID\n",
        "### Commented out for EEID Comparison Only - uncomment out to compare EEID by Job and Sub Job\n",
        "#tcp_v_wd_ee = tcp_grouped_ee.merge(wd_grouped_ee , how = 'outer' , on = 'unique' , suffixes = ['_TCP','_WD']).drop(columns =['unique'])\n",
        "tcp_v_wd_ee = tcp_grouped_ee.merge(wd_grouped_ee , how = 'left' , on = 'EEID' , suffixes = ['_TCP','_WD'])\n",
        "#NaN Hours will be filled with 0\n",
        "tcp_v_wd_ee['TotalHours_WD'] = tcp_v_wd_ee['TotalHours_WD'].fillna(0)\n",
        "tcp_v_wd_ee['TotalHours_TCP'] = tcp_v_wd_ee['TotalHours_TCP'].fillna(0)\n",
        "tcp_v_wd_ee['Hours_Variance (TCP - WD)'] = tcp_v_wd_ee['TotalHours_TCP'] - tcp_v_wd_ee['TotalHours_WD']\n",
        "tcp_v_wd_ee = tcp_v_wd_ee.sort_values('Hours_Variance (TCP - WD)' , ascending=False, key=abs)\n",
        "#Removing Variances that are 0 - excluding EEIDs that match\n",
        "tcp_v_wd_ee_xl = tcp_v_wd_ee.loc[tcp_v_wd_ee['Hours_Variance (TCP - WD)'] != 0.0]"
      ],
      "outputs": [],
      "execution_count": 84,
      "metadata": {
        "jupyter": {
          "source_hidden": false,
          "outputs_hidden": false
        },
        "nteract": {
          "transient": {
            "deleting": false
          }
        },
        "gather": {
          "logged": 1698327509561
        }
      }
    },
    {
      "cell_type": "markdown",
      "source": [
        "#### TCP vs. CMiC Comparison"
      ],
      "metadata": {
        "nteract": {
          "transient": {
            "deleting": false
          }
        }
      }
    },
    {
      "cell_type": "code",
      "source": [
        "#TCP v CMiC Job\n",
        "tcp_v_cmic_job = tcp_grouped_job.merge(cmic_grouped_job , how = 'outer' , on = 'Job' , suffixes = ['','_CMiC'])\n",
        "#NaN Hours will be filled with 0\n",
        "tcp_v_cmic_job['TotalHours_CMiC'] = tcp_v_cmic_job['TotalHours_CMiC'].fillna(0)\n",
        "tcp_v_cmic_job['TotalHours_TCP'] = tcp_v_cmic_job['TotalHours_TCP'].fillna(0)\n",
        "tcp_v_cmic_job['Hours_Variance (TCP - CMiC)'] = tcp_v_cmic_job['TotalHours_TCP'] - tcp_v_cmic_job['TotalHours_CMiC']\n",
        "tcp_v_cmic_job = tcp_v_cmic_job.sort_values(['Job' , 'Hours_Variance (TCP - CMiC)'], ascending=[False, False])"
      ],
      "outputs": [],
      "execution_count": 85,
      "metadata": {
        "jupyter": {
          "source_hidden": false,
          "outputs_hidden": false
        },
        "nteract": {
          "transient": {
            "deleting": false
          }
        },
        "gather": {
          "logged": 1698327510414
        }
      }
    },
    {
      "cell_type": "code",
      "source": [
        "#TCP v CMiC Job, Sub Job\n",
        "tcp_v_cmic_subjob = tcp_grouped_subjob.merge(cmic_grouped_subjob , how = 'outer' , on = 'unique' , suffixes = ['','_CMiC']).drop(columns =['unique'])\n",
        "#NaN Hours will be filled with 0\n",
        "tcp_v_cmic_subjob['TotalHours_CMiC'] = tcp_v_cmic_subjob['TotalHours_CMiC'].fillna(0)\n",
        "tcp_v_cmic_subjob['TotalHours_TCP'] = tcp_v_cmic_subjob['TotalHours_TCP'].fillna(0)\n",
        "tcp_v_cmic_subjob['Hours_Variance (TCP - CMiC)'] = tcp_v_cmic_subjob['TotalHours_TCP'] - tcp_v_cmic_subjob['TotalHours_CMiC']\n",
        "tcp_v_cmic_subjob = tcp_v_cmic_subjob.sort_values(['Job' , 'Sub_Job', 'Hours_Variance (TCP - CMiC)'], ascending=[False, True, False])"
      ],
      "outputs": [],
      "execution_count": 86,
      "metadata": {
        "jupyter": {
          "source_hidden": false,
          "outputs_hidden": false
        },
        "nteract": {
          "transient": {
            "deleting": false
          }
        },
        "gather": {
          "logged": 1698327510885
        }
      }
    },
    {
      "cell_type": "code",
      "source": [
        "#TCP v CMiC Job, Sub Job, EEID\n",
        "### Commented out for EEID Comparison Only - uncomment out to compare EEID by Job and Sub Job\n",
        "#tcp_v_cmic_ee = tcp_grouped_ee.merge(cmic_grouped_ee , how = 'outer' , on = 'unique' , suffixes = ['','_CMiC']).drop(columns =['unique'])\n",
        "tcp_v_cmic_ee = tcp_grouped_ee.merge(cmic_grouped_ee , how = 'outer' , on = 'EEID' , suffixes = ['','_CMiC'])\n",
        "#NaN Hours will be filled with 0\n",
        "tcp_v_cmic_ee['TotalHours_CMiC'] = tcp_v_cmic_ee['TotalHours_CMiC'].fillna(0)\n",
        "tcp_v_cmic_ee['TotalHours_TCP'] = tcp_v_cmic_ee['TotalHours_TCP'].fillna(0)\n",
        "tcp_v_cmic_ee['Hours_Variance (TCP - CMiC)'] = tcp_v_cmic_ee['TotalHours_TCP'] - tcp_v_cmic_ee['TotalHours_CMiC']\n",
        "tcp_v_cmic_ee = tcp_v_cmic_ee.sort_values('Hours_Variance (TCP - CMiC)', ascending=False, key=abs)\n",
        "#Filter down to relevant columns only"
      ],
      "outputs": [],
      "execution_count": 87,
      "metadata": {
        "jupyter": {
          "source_hidden": false,
          "outputs_hidden": false
        },
        "nteract": {
          "transient": {
            "deleting": false
          }
        },
        "gather": {
          "logged": 1698327511533
        }
      }
    },
    {
      "cell_type": "markdown",
      "source": [
        "#### Workday vs. CMiC Comparison"
      ],
      "metadata": {
        "nteract": {
          "transient": {
            "deleting": false
          }
        }
      }
    },
    {
      "cell_type": "code",
      "source": [
        "#WD v. CMiC EEID\n",
        "wd_v_cmic_job = wd_grouped_job.merge(cmic_grouped_job , how = 'outer' , on = 'Job' , suffixes = ['_WD','_CMiC'])\n",
        "#NaN Hours will be filled with 0\n",
        "wd_v_cmic_job['TotalHours_CMiC'] = wd_v_cmic_job['TotalHours_CMiC'].fillna(0)\n",
        "wd_v_cmic_job['TotalHours_WD'] = wd_v_cmic_job['TotalHours_WD'].fillna(0)\n",
        "wd_v_cmic_job['Hours_Variance (WD - CMiC)'] = wd_v_cmic_job['TotalHours_WD'] - wd_v_cmic_job['TotalHours_CMiC']\n",
        "wd_v_cmic_job = wd_v_cmic_job.sort_values(['Job' , 'Hours_Variance (WD - CMiC)'], ascending=[False,False])"
      ],
      "outputs": [],
      "execution_count": 88,
      "metadata": {
        "jupyter": {
          "source_hidden": false,
          "outputs_hidden": false
        },
        "nteract": {
          "transient": {
            "deleting": false
          }
        },
        "gather": {
          "logged": 1698327512329
        }
      }
    },
    {
      "cell_type": "code",
      "source": [
        "#WD v. CMiC Job, Sub Job\n",
        "wd_v_cmic_subjob = wd_grouped_subjob.merge(cmic_grouped_subjob , how = 'outer' , on = 'unique' , suffixes = ['_WD','_CMiC']).drop(columns =['unique'])\n",
        "#NaN Hours will be filled with 0\n",
        "wd_v_cmic_subjob['TotalHours_CMiC'] = wd_v_cmic_subjob['TotalHours_CMiC'].fillna(0)\n",
        "wd_v_cmic_subjob['TotalHours_WD'] = wd_v_cmic_subjob['TotalHours_WD'].fillna(0)\n",
        "wd_v_cmic_subjob['Hours_Variance (WD - CMiC)'] = wd_v_cmic_subjob['TotalHours_WD'] - wd_v_cmic_subjob['TotalHours_CMiC']\n",
        "wd_v_cmic_subjob = wd_v_cmic_subjob.sort_values(['Job_WD' , 'Sub_Job_WD' , 'Hours_Variance (WD - CMiC)'], ascending=[False,True,False])"
      ],
      "outputs": [],
      "execution_count": 89,
      "metadata": {
        "jupyter": {
          "source_hidden": false,
          "outputs_hidden": false
        },
        "nteract": {
          "transient": {
            "deleting": false
          }
        },
        "gather": {
          "logged": 1698327512764
        }
      }
    },
    {
      "cell_type": "code",
      "source": [
        "#WD v. CMiC Job, Sub Job, EEID\n",
        "### Commented out for EEID Comparison Only - uncomment out to compare EEID by Job and Sub Job\n",
        "#wd_v_cmic_ee = wd_grouped_ee.merge(cmic_grouped_ee , how = 'outer' , on = 'unique' , suffixes = ['_WD','_CMiC']).drop(columns =['unique'])\n",
        "wd_v_cmic_ee = wd_grouped_ee.merge(cmic_grouped_ee , how = 'outer' , on = 'EEID' , suffixes = ['_WD','_CMiC'])\n",
        "#NaN Hours will be filled with 0\n",
        "wd_v_cmic_ee['TotalHours_CMiC'] = wd_v_cmic_ee['TotalHours_CMiC'].fillna(0)\n",
        "wd_v_cmic_ee['TotalHours_WD'] = wd_v_cmic_ee['TotalHours_WD'].fillna(0)\n",
        "wd_v_cmic_ee['Hours_Variance (WD - CMiC)'] = wd_v_cmic_ee['TotalHours_WD'] - wd_v_cmic_ee['TotalHours_CMiC']\n",
        "wd_v_cmic_ee = wd_v_cmic_ee.sort_values('Hours_Variance (WD - CMiC)', ascending=False , key=abs)\n",
        "#Filter down to relevant columns only"
      ],
      "outputs": [],
      "execution_count": 90,
      "metadata": {
        "jupyter": {
          "source_hidden": false,
          "outputs_hidden": false
        },
        "nteract": {
          "transient": {
            "deleting": false
          }
        },
        "gather": {
          "logged": 1698327513291
        }
      }
    },
    {
      "cell_type": "code",
      "source": [
        "file_path = os.getcwd() + '/excel_output'\n",
        "file_path"
      ],
      "outputs": [
        {
          "output_type": "execute_result",
          "execution_count": 49,
          "data": {
            "text/plain": "'/mnt/batch/tasks/shared/LS_root/mounts/clusters/jbeachy2/code/Users/JBeachy/Project_DataDomain/Payroll/git_LaborHours_Compare/excel_output'"
          },
          "metadata": {}
        }
      ],
      "execution_count": 49,
      "metadata": {
        "jupyter": {
          "source_hidden": false,
          "outputs_hidden": false
        },
        "nteract": {
          "transient": {
            "deleting": false
          }
        },
        "gather": {
          "logged": 1698325845738
        }
      }
    },
    {
      "cell_type": "code",
      "source": [
        "#File Path in AMLS\n",
        "file_name = f'Hours_Comparison_WeekEnding_{week_ending}'\n",
        "#Writing to AMLS File Directory\n",
        "with pd.ExcelWriter(f'{file_path}/{file_name}.xlsx') as writer:\n",
        "    tcp_v_wd_job.to_excel(writer , sheet_name = 'TCPvWD_Hours_byJob' , index = False)\n",
        "    tcp_v_wd_subjob.to_excel(writer , sheet_name = 'TCPvWD_Hours_bySubJob' , index = False)\n",
        "    tcp_v_wd_ee_xl.to_excel(writer , sheet_name = 'TCPvWD_Hours_byEE' , index = False)\n",
        "    tcp_v_cmic_job.to_excel(writer , sheet_name = 'TCPvCMiC_Hours_byJob' , index = False)\n",
        "    tcp_v_cmic_subjob.to_excel(writer , sheet_name = 'TCPvCMiC_Hours_bySubJob' , index = False)\n",
        "    tcp_v_cmic_ee.to_excel(writer , sheet_name = 'TCPvCMiC_Hours_byEE' , index = False)\n",
        "    wd_v_cmic_job.to_excel(writer , sheet_name = 'WDvCMiC_Hours_byJob' , index = False)\n",
        "    wd_v_cmic_subjob.to_excel(writer , sheet_name = 'WDvCMiC_Hours_bySubJob' , index = False)\n",
        "    wd_v_cmic_ee.to_excel(writer , sheet_name = 'WDvCMiC_Hours_byEE' , index = False)"
      ],
      "outputs": [],
      "execution_count": 50,
      "metadata": {
        "jupyter": {
          "source_hidden": false,
          "outputs_hidden": false
        },
        "nteract": {
          "transient": {
            "deleting": false
          }
        },
        "gather": {
          "logged": 1698325846469
        }
      }
    },
    {
      "cell_type": "code",
      "source": [
        "#Blob Storage Info\n",
        "storage_account_key = 'u46QXBaayH/rWljcqPTWZTNgFdGHo9zH4I0OLWgDi4oa2inkpjVwTbp74C+ISDC2oWtNlrcr69Ec+ASt5wV1PA=='\n",
        "storage_account_name = 'mossdatalakesource'\n",
        "connection_string = 'DefaultEndpointsProtocol=https;AccountName=mossdatalakesource;AccountKey=u46QXBaayH/rWljcqPTWZTNgFdGHo9zH4I0OLWgDi4oa2inkpjVwTbp74C+ISDC2oWtNlrcr69Ec+ASt5wV1PA==;EndpointSuffix=core.windows.net'\n",
        "container_name = 'cmic'\n",
        "#Defininng Blob Storage Uplpoad#\n",
        "def uploadtoblobstorage(file_path,file_name):\n",
        "    blob_service_client = BlobServiceClient.from_connection_string(connection_string)\n",
        "    blob_client = blob_service_client.get_blob_client(container = container_name , blob = file_name)\n",
        "\n",
        "    with open(file_path , 'rb') as data:\n",
        "        blob_client.upload_blob(data)\n",
        "    print(f'Uploaded {file_name}.')"
      ],
      "outputs": [],
      "execution_count": 25,
      "metadata": {
        "jupyter": {
          "source_hidden": false,
          "outputs_hidden": false
        },
        "nteract": {
          "transient": {
            "deleting": false
          }
        },
        "gather": {
          "logged": 1698325726719
        }
      }
    },
    {
      "cell_type": "code",
      "source": [
        "file_name_exp = f'{file_name}.xlsx'\n",
        "uploadtoblobstorage(f'{file_path}/{file_name}.xlsx', file_name_exp)"
      ],
      "outputs": [
        {
          "output_type": "stream",
          "name": "stdout",
          "text": "Uploaded Hours_Comparison_WeekEnding_2023-10-21.xlsx.\n"
        }
      ],
      "execution_count": 26,
      "metadata": {
        "jupyter": {
          "source_hidden": false,
          "outputs_hidden": false
        },
        "nteract": {
          "transient": {
            "deleting": false
          }
        },
        "gather": {
          "logged": 1698325726896
        }
      }
    },
    {
      "cell_type": "markdown",
      "source": [
        "#### Run Statistics "
      ],
      "metadata": {
        "nteract": {
          "transient": {
            "deleting": false
          }
        }
      }
    },
    {
      "cell_type": "code",
      "source": [
        "#### TCP vs. Workday Stats\n",
        "today = date.today()\n",
        "today_timechange = today - timedelta(hours=4)\n",
        "today_for_text = today_timechange.strftime(\"%m-%d-%Y %H:%M:%S\")\n",
        "print(\"TCP vs. Workday\")\n",
        "print(\"Count of EEIDs that are showing Zero Hours Worked in Workday: \" , len(tcp_v_wd_ee.loc[tcp_v_wd_ee['TotalHours_WD'] == 0]))\n",
        "print(\"Count of EEIDs that are showing Zero Hours Worked in TCP: \" , len(tcp_v_wd_ee.loc[tcp_v_wd_ee['TotalHours_TCP'] == 0]))\n",
        "print(\"Count of EEIDs with a variance less than 10 hours(ABS), not including 0: \", len(tcp_v_wd_ee.loc[(tcp_v_wd_ee['Hours_Variance (TCP - WD)']< 10)&(tcp_v_wd_ee['Hours_Variance (TCP - WD)'] >-10)&(tcp_v_wd_ee['Hours_Variance (TCP - WD)'] != 0)]))\n",
        "print(\"Count of EEIDs with no variance in Hours Worked: \" , len(tcp_v_wd_ee.loc[tcp_v_wd_ee['Hours_Variance (TCP - WD)'] == 0]))\n",
        "print(\"Count of EEIDs with variance greater than or equal to 10(ABS): \",len(tcp_v_wd_ee.loc[(tcp_v_wd_ee['Hours_Variance (TCP - WD)']>=10)|(tcp_v_wd_ee['Hours_Variance (TCP - WD)']<=-10)]))\n",
        "print(f\"Ran on {today_for_text} for Week Ending {week_ending}\")"
      ],
      "outputs": [
        {
          "output_type": "stream",
          "name": "stdout",
          "text": "TCP vs. Workday\nCount of EEIDs that are showing Zero Hours Worked in Workday:  54\nCount of EEIDs that are showing Zero Hours Worked in TCP:  0\nCount of EEIDs with a variance less than 10 hours(ABS), not including 0:  663\nCount of EEIDs with no variance in Hours Worked:  2027\nCount of EEIDs with variance greater than or equal to 10(ABS):  66\nRan on 10-26-2023 09:09:32 for Week Ending 2023-10-21\n"
        }
      ],
      "execution_count": 27,
      "metadata": {
        "jupyter": {
          "source_hidden": false,
          "outputs_hidden": false
        },
        "nteract": {
          "transient": {
            "deleting": false
          }
        },
        "gather": {
          "logged": 1698325781244
        }
      }
    },
    {
      "cell_type": "code",
      "source": [
        "#['timeEntryCode.id1'].notna())&(wd_pr_df['historicalStatus']!='94e8c24204d1406897f2758bd5e306d1')&(wd_pr_df['isDeleted']==False\n",
        "wd_pr_df_dev.loc[wd_pr_df_dev['Workers'].str.contains('14527') , ['EmployeeID' , 'Workers', 'billableProject.descriptor' , 'billableTransaction.descriptor' , 'timeEntryCode.id1' , 'historicalStatus' , 'isDeleted']]"
      ],
      "outputs": [
        {
          "output_type": "execute_result",
          "execution_count": 123,
          "data": {
            "text/plain": "       EmployeeID             Workers  \\\n18589       14527  Byron Pang (14527)   \n18590       14527  Byron Pang (14527)   \n18591       14527  Byron Pang (14527)   \n18592       14527  Byron Pang (14527)   \n35262       14527  Byron Pang (14527)   \n35263       14527  Byron Pang (14527)   \n35264       14527  Byron Pang (14527)   \n35265       14527  Byron Pang (14527)   \n35266       14527  Byron Pang (14527)   \n50544       14527  Byron Pang (14527)   \n50545       14527  Byron Pang (14527)   \n50546       14527  Byron Pang (14527)   \n50547       14527  Byron Pang (14527)   \n50548       14527  Byron Pang (14527)   \n51638       14527  Byron Pang (14527)   \n51639       14527  Byron Pang (14527)   \n51640       14527  Byron Pang (14527)   \n51641       14527  Byron Pang (14527)   \n51642       14527  Byron Pang (14527)   \n53240       14527  Byron Pang (14527)   \n106854      14527  Byron Pang (14527)   \n106855      14527  Byron Pang (14527)   \n106856      14527  Byron Pang (14527)   \n106857      14527  Byron Pang (14527)   \n106858      14527  Byron Pang (14527)   \n\n                               billableProject.descriptor  \\\n18589            1412201.00 Ameresco - Kupono Solar (COW)   \n18590            1412201.00 Ameresco - Kupono Solar (COW)   \n18591            1412201.00 Ameresco - Kupono Solar (COW)   \n18592            1412201.00 Ameresco - Kupono Solar (COW)   \n35262            1412201.00 Ameresco - Kupono Solar (COW)   \n35263            1412201.00 Ameresco - Kupono Solar (COW)   \n35264            1412201.00 Ameresco - Kupono Solar (COW)   \n35265            1412201.00 Ameresco - Kupono Solar (COW)   \n35266            1412201.00 Ameresco - Kupono Solar (COW)   \n50544            1412201.00 Ameresco - Kupono Solar (COW)   \n50545            1412201.00 Ameresco - Kupono Solar (COW)   \n50546            1412201.00 Ameresco - Kupono Solar (COW)   \n50547   1412201.28 Ameresco - Kupono Solar (Mechanical...   \n50548            1412201.00 Ameresco - Kupono Solar (COW)   \n51638            1412201.00 Ameresco - Kupono Solar (COW)   \n51639            1412201.00 Ameresco - Kupono Solar (COW)   \n51640            1412201.00 Ameresco - Kupono Solar (COW)   \n51641   1412201.28 Ameresco - Kupono Solar (Mechanical...   \n51642            1412201.00 Ameresco - Kupono Solar (COW)   \n53240   1412201.28 Ameresco - Kupono Solar (Mechanical...   \n106854           1412201.00 Ameresco - Kupono Solar (COW)   \n106855           1412201.00 Ameresco - Kupono Solar (COW)   \n106856           1412201.00 Ameresco - Kupono Solar (COW)   \n106857           1412201.00 Ameresco - Kupono Solar (COW)   \n106858           1412201.00 Ameresco - Kupono Solar (COW)   \n\n       billableTransaction.descriptor                 timeEntryCode.id1  \\\n18589          10 Hours on 10/02/2023  77c9ae7eb96b1001b5ebf29ffdea0000   \n18590          10 Hours on 10/03/2023  77c9ae7eb96b1001b5ebf29ffdea0000   \n18591          10 Hours on 10/04/2023  77c9ae7eb96b1001b5ebf29ffdea0000   \n18592          10 Hours on 10/05/2023  77c9ae7eb96b1001b5ebf29ffdea0000   \n35262          10 Hours on 09/25/2023  77c9ae7eb96b1001b5ebf29ffdea0000   \n35263          10 Hours on 09/26/2023  77c9ae7eb96b1001b5ebf29ffdea0000   \n35264          10 Hours on 09/27/2023  77c9ae7eb96b1001b5ebf29ffdea0000   \n35265          10 Hours on 09/28/2023  77c9ae7eb96b1001b5ebf29ffdea0000   \n35266           8 Hours on 09/29/2023  77c9ae7eb96b1001b5ebf29ffdea0000   \n50544          10 Hours on 10/09/2023  77c9ae7eb96b1001b5ebf29ffdea0000   \n50545          10 Hours on 10/10/2023  77c9ae7eb96b1001b5ebf29ffdea0000   \n50546          10 Hours on 10/11/2023  77c9ae7eb96b1001b5ebf29ffdea0000   \n50547          10 Hours on 10/12/2023  77c9ae7eb96b1001b5ebf29ffdea0000   \n50548           8 Hours on 10/13/2023  77c9ae7eb96b1001b5ebf29ffdea0000   \n51638          10 Hours on 10/09/2023  77c9ae7eb96b1001b5ebf29ffdea0000   \n51639          10 Hours on 10/10/2023  77c9ae7eb96b1001b5ebf29ffdea0000   \n51640          10 Hours on 10/11/2023  77c9ae7eb96b1001b5ebf29ffdea0000   \n51641          10 Hours on 10/12/2023  77c9ae7eb96b1001b5ebf29ffdea0000   \n51642           8 Hours on 10/13/2023  77c9ae7eb96b1001b5ebf29ffdea0000   \n53240           8 Hours on 10/14/2023  77c9ae7eb96b1001b5ebf29ffdea0000   \n106854         10 Hours on 10/16/2023  77c9ae7eb96b1001b5ebf29ffdea0000   \n106855         10 Hours on 10/17/2023  77c9ae7eb96b1001b5ebf29ffdea0000   \n106856         10 Hours on 10/18/2023  77c9ae7eb96b1001b5ebf29ffdea0000   \n106857         10 Hours on 10/19/2023  77c9ae7eb96b1001b5ebf29ffdea0000   \n106858          8 Hours on 10/20/2023  77c9ae7eb96b1001b5ebf29ffdea0000   \n\n       historicalStatus  isDeleted  \n18589              None      False  \n18590              None      False  \n18591              None      False  \n18592              None      False  \n35262              None      False  \n35263              None      False  \n35264              None      False  \n35265              None      False  \n35266              None      False  \n50544              None       True  \n50545              None       True  \n50546              None       True  \n50547              None       True  \n50548              None       True  \n51638              None      False  \n51639              None      False  \n51640              None      False  \n51641              None      False  \n51642              None      False  \n53240              None      False  \n106854             None      False  \n106855             None      False  \n106856             None      False  \n106857             None      False  \n106858             None      False  ",
            "text/html": "<div>\n<style scoped>\n    .dataframe tbody tr th:only-of-type {\n        vertical-align: middle;\n    }\n\n    .dataframe tbody tr th {\n        vertical-align: top;\n    }\n\n    .dataframe thead th {\n        text-align: right;\n    }\n</style>\n<table border=\"1\" class=\"dataframe\">\n  <thead>\n    <tr style=\"text-align: right;\">\n      <th></th>\n      <th>EmployeeID</th>\n      <th>Workers</th>\n      <th>billableProject.descriptor</th>\n      <th>billableTransaction.descriptor</th>\n      <th>timeEntryCode.id1</th>\n      <th>historicalStatus</th>\n      <th>isDeleted</th>\n    </tr>\n  </thead>\n  <tbody>\n    <tr>\n      <th>18589</th>\n      <td>14527</td>\n      <td>Byron Pang (14527)</td>\n      <td>1412201.00 Ameresco - Kupono Solar (COW)</td>\n      <td>10 Hours on 10/02/2023</td>\n      <td>77c9ae7eb96b1001b5ebf29ffdea0000</td>\n      <td>None</td>\n      <td>False</td>\n    </tr>\n    <tr>\n      <th>18590</th>\n      <td>14527</td>\n      <td>Byron Pang (14527)</td>\n      <td>1412201.00 Ameresco - Kupono Solar (COW)</td>\n      <td>10 Hours on 10/03/2023</td>\n      <td>77c9ae7eb96b1001b5ebf29ffdea0000</td>\n      <td>None</td>\n      <td>False</td>\n    </tr>\n    <tr>\n      <th>18591</th>\n      <td>14527</td>\n      <td>Byron Pang (14527)</td>\n      <td>1412201.00 Ameresco - Kupono Solar (COW)</td>\n      <td>10 Hours on 10/04/2023</td>\n      <td>77c9ae7eb96b1001b5ebf29ffdea0000</td>\n      <td>None</td>\n      <td>False</td>\n    </tr>\n    <tr>\n      <th>18592</th>\n      <td>14527</td>\n      <td>Byron Pang (14527)</td>\n      <td>1412201.00 Ameresco - Kupono Solar (COW)</td>\n      <td>10 Hours on 10/05/2023</td>\n      <td>77c9ae7eb96b1001b5ebf29ffdea0000</td>\n      <td>None</td>\n      <td>False</td>\n    </tr>\n    <tr>\n      <th>35262</th>\n      <td>14527</td>\n      <td>Byron Pang (14527)</td>\n      <td>1412201.00 Ameresco - Kupono Solar (COW)</td>\n      <td>10 Hours on 09/25/2023</td>\n      <td>77c9ae7eb96b1001b5ebf29ffdea0000</td>\n      <td>None</td>\n      <td>False</td>\n    </tr>\n    <tr>\n      <th>35263</th>\n      <td>14527</td>\n      <td>Byron Pang (14527)</td>\n      <td>1412201.00 Ameresco - Kupono Solar (COW)</td>\n      <td>10 Hours on 09/26/2023</td>\n      <td>77c9ae7eb96b1001b5ebf29ffdea0000</td>\n      <td>None</td>\n      <td>False</td>\n    </tr>\n    <tr>\n      <th>35264</th>\n      <td>14527</td>\n      <td>Byron Pang (14527)</td>\n      <td>1412201.00 Ameresco - Kupono Solar (COW)</td>\n      <td>10 Hours on 09/27/2023</td>\n      <td>77c9ae7eb96b1001b5ebf29ffdea0000</td>\n      <td>None</td>\n      <td>False</td>\n    </tr>\n    <tr>\n      <th>35265</th>\n      <td>14527</td>\n      <td>Byron Pang (14527)</td>\n      <td>1412201.00 Ameresco - Kupono Solar (COW)</td>\n      <td>10 Hours on 09/28/2023</td>\n      <td>77c9ae7eb96b1001b5ebf29ffdea0000</td>\n      <td>None</td>\n      <td>False</td>\n    </tr>\n    <tr>\n      <th>35266</th>\n      <td>14527</td>\n      <td>Byron Pang (14527)</td>\n      <td>1412201.00 Ameresco - Kupono Solar (COW)</td>\n      <td>8 Hours on 09/29/2023</td>\n      <td>77c9ae7eb96b1001b5ebf29ffdea0000</td>\n      <td>None</td>\n      <td>False</td>\n    </tr>\n    <tr>\n      <th>50544</th>\n      <td>14527</td>\n      <td>Byron Pang (14527)</td>\n      <td>1412201.00 Ameresco - Kupono Solar (COW)</td>\n      <td>10 Hours on 10/09/2023</td>\n      <td>77c9ae7eb96b1001b5ebf29ffdea0000</td>\n      <td>None</td>\n      <td>True</td>\n    </tr>\n    <tr>\n      <th>50545</th>\n      <td>14527</td>\n      <td>Byron Pang (14527)</td>\n      <td>1412201.00 Ameresco - Kupono Solar (COW)</td>\n      <td>10 Hours on 10/10/2023</td>\n      <td>77c9ae7eb96b1001b5ebf29ffdea0000</td>\n      <td>None</td>\n      <td>True</td>\n    </tr>\n    <tr>\n      <th>50546</th>\n      <td>14527</td>\n      <td>Byron Pang (14527)</td>\n      <td>1412201.00 Ameresco - Kupono Solar (COW)</td>\n      <td>10 Hours on 10/11/2023</td>\n      <td>77c9ae7eb96b1001b5ebf29ffdea0000</td>\n      <td>None</td>\n      <td>True</td>\n    </tr>\n    <tr>\n      <th>50547</th>\n      <td>14527</td>\n      <td>Byron Pang (14527)</td>\n      <td>1412201.28 Ameresco - Kupono Solar (Mechanical...</td>\n      <td>10 Hours on 10/12/2023</td>\n      <td>77c9ae7eb96b1001b5ebf29ffdea0000</td>\n      <td>None</td>\n      <td>True</td>\n    </tr>\n    <tr>\n      <th>50548</th>\n      <td>14527</td>\n      <td>Byron Pang (14527)</td>\n      <td>1412201.00 Ameresco - Kupono Solar (COW)</td>\n      <td>8 Hours on 10/13/2023</td>\n      <td>77c9ae7eb96b1001b5ebf29ffdea0000</td>\n      <td>None</td>\n      <td>True</td>\n    </tr>\n    <tr>\n      <th>51638</th>\n      <td>14527</td>\n      <td>Byron Pang (14527)</td>\n      <td>1412201.00 Ameresco - Kupono Solar (COW)</td>\n      <td>10 Hours on 10/09/2023</td>\n      <td>77c9ae7eb96b1001b5ebf29ffdea0000</td>\n      <td>None</td>\n      <td>False</td>\n    </tr>\n    <tr>\n      <th>51639</th>\n      <td>14527</td>\n      <td>Byron Pang (14527)</td>\n      <td>1412201.00 Ameresco - Kupono Solar (COW)</td>\n      <td>10 Hours on 10/10/2023</td>\n      <td>77c9ae7eb96b1001b5ebf29ffdea0000</td>\n      <td>None</td>\n      <td>False</td>\n    </tr>\n    <tr>\n      <th>51640</th>\n      <td>14527</td>\n      <td>Byron Pang (14527)</td>\n      <td>1412201.00 Ameresco - Kupono Solar (COW)</td>\n      <td>10 Hours on 10/11/2023</td>\n      <td>77c9ae7eb96b1001b5ebf29ffdea0000</td>\n      <td>None</td>\n      <td>False</td>\n    </tr>\n    <tr>\n      <th>51641</th>\n      <td>14527</td>\n      <td>Byron Pang (14527)</td>\n      <td>1412201.28 Ameresco - Kupono Solar (Mechanical...</td>\n      <td>10 Hours on 10/12/2023</td>\n      <td>77c9ae7eb96b1001b5ebf29ffdea0000</td>\n      <td>None</td>\n      <td>False</td>\n    </tr>\n    <tr>\n      <th>51642</th>\n      <td>14527</td>\n      <td>Byron Pang (14527)</td>\n      <td>1412201.00 Ameresco - Kupono Solar (COW)</td>\n      <td>8 Hours on 10/13/2023</td>\n      <td>77c9ae7eb96b1001b5ebf29ffdea0000</td>\n      <td>None</td>\n      <td>False</td>\n    </tr>\n    <tr>\n      <th>53240</th>\n      <td>14527</td>\n      <td>Byron Pang (14527)</td>\n      <td>1412201.28 Ameresco - Kupono Solar (Mechanical...</td>\n      <td>8 Hours on 10/14/2023</td>\n      <td>77c9ae7eb96b1001b5ebf29ffdea0000</td>\n      <td>None</td>\n      <td>False</td>\n    </tr>\n    <tr>\n      <th>106854</th>\n      <td>14527</td>\n      <td>Byron Pang (14527)</td>\n      <td>1412201.00 Ameresco - Kupono Solar (COW)</td>\n      <td>10 Hours on 10/16/2023</td>\n      <td>77c9ae7eb96b1001b5ebf29ffdea0000</td>\n      <td>None</td>\n      <td>False</td>\n    </tr>\n    <tr>\n      <th>106855</th>\n      <td>14527</td>\n      <td>Byron Pang (14527)</td>\n      <td>1412201.00 Ameresco - Kupono Solar (COW)</td>\n      <td>10 Hours on 10/17/2023</td>\n      <td>77c9ae7eb96b1001b5ebf29ffdea0000</td>\n      <td>None</td>\n      <td>False</td>\n    </tr>\n    <tr>\n      <th>106856</th>\n      <td>14527</td>\n      <td>Byron Pang (14527)</td>\n      <td>1412201.00 Ameresco - Kupono Solar (COW)</td>\n      <td>10 Hours on 10/18/2023</td>\n      <td>77c9ae7eb96b1001b5ebf29ffdea0000</td>\n      <td>None</td>\n      <td>False</td>\n    </tr>\n    <tr>\n      <th>106857</th>\n      <td>14527</td>\n      <td>Byron Pang (14527)</td>\n      <td>1412201.00 Ameresco - Kupono Solar (COW)</td>\n      <td>10 Hours on 10/19/2023</td>\n      <td>77c9ae7eb96b1001b5ebf29ffdea0000</td>\n      <td>None</td>\n      <td>False</td>\n    </tr>\n    <tr>\n      <th>106858</th>\n      <td>14527</td>\n      <td>Byron Pang (14527)</td>\n      <td>1412201.00 Ameresco - Kupono Solar (COW)</td>\n      <td>8 Hours on 10/20/2023</td>\n      <td>77c9ae7eb96b1001b5ebf29ffdea0000</td>\n      <td>None</td>\n      <td>False</td>\n    </tr>\n  </tbody>\n</table>\n</div>"
          },
          "metadata": {}
        }
      ],
      "execution_count": 123,
      "metadata": {
        "jupyter": {
          "source_hidden": false,
          "outputs_hidden": false
        },
        "nteract": {
          "transient": {
            "deleting": false
          }
        },
        "gather": {
          "logged": 1698333610593
        }
      }
    },
    {
      "cell_type": "code",
      "source": [
        "wd_pr_df.loc[wd_pr_df['Workers'].str.contains('14527') , ['EmployeeID' , 'Workers', 'billableProject.descriptor' , 'billableTransaction.descriptor' , 'timeEntryCode.id1' , 'historicalStatus' , 'isDeleted']]"
      ],
      "outputs": [
        {
          "output_type": "execute_result",
          "execution_count": 125,
          "data": {
            "text/plain": "Empty DataFrame\nColumns: [EmployeeID, Workers, billableProject.descriptor, billableTransaction.descriptor, timeEntryCode.id1, historicalStatus, isDeleted]\nIndex: []",
            "text/html": "<div>\n<style scoped>\n    .dataframe tbody tr th:only-of-type {\n        vertical-align: middle;\n    }\n\n    .dataframe tbody tr th {\n        vertical-align: top;\n    }\n\n    .dataframe thead th {\n        text-align: right;\n    }\n</style>\n<table border=\"1\" class=\"dataframe\">\n  <thead>\n    <tr style=\"text-align: right;\">\n      <th></th>\n      <th>EmployeeID</th>\n      <th>Workers</th>\n      <th>billableProject.descriptor</th>\n      <th>billableTransaction.descriptor</th>\n      <th>timeEntryCode.id1</th>\n      <th>historicalStatus</th>\n      <th>isDeleted</th>\n    </tr>\n  </thead>\n  <tbody>\n  </tbody>\n</table>\n</div>"
          },
          "metadata": {}
        }
      ],
      "execution_count": 125,
      "metadata": {
        "jupyter": {
          "source_hidden": false,
          "outputs_hidden": false
        },
        "nteract": {
          "transient": {
            "deleting": false
          }
        },
        "gather": {
          "logged": 1698333807576
        }
      }
    },
    {
      "cell_type": "code",
      "source": [
        "#Look up above EEID in final Workday DF, why is he not incldued?\n",
        "wd_grouped_ee.loc[wd_grouped_ee['EEID']=='14527']"
      ],
      "outputs": [
        {
          "output_type": "execute_result",
          "execution_count": 124,
          "data": {
            "text/plain": "Empty DataFrame\nColumns: [EEID, TotalHours_WD]\nIndex: []",
            "text/html": "<div>\n<style scoped>\n    .dataframe tbody tr th:only-of-type {\n        vertical-align: middle;\n    }\n\n    .dataframe tbody tr th {\n        vertical-align: top;\n    }\n\n    .dataframe thead th {\n        text-align: right;\n    }\n</style>\n<table border=\"1\" class=\"dataframe\">\n  <thead>\n    <tr style=\"text-align: right;\">\n      <th></th>\n      <th>EEID</th>\n      <th>TotalHours_WD</th>\n    </tr>\n  </thead>\n  <tbody>\n  </tbody>\n</table>\n</div>"
          },
          "metadata": {}
        }
      ],
      "execution_count": 124,
      "metadata": {
        "jupyter": {
          "source_hidden": false,
          "outputs_hidden": false
        },
        "nteract": {
          "transient": {
            "deleting": false
          }
        },
        "gather": {
          "logged": 1698333716494
        }
      }
    },
    {
      "cell_type": "code",
      "source": [
        "wd_pr_df_comp.loc[wd_pr_df_comp['EEID']=='20761']"
      ],
      "outputs": [
        {
          "output_type": "execute_result",
          "execution_count": 92,
          "data": {
            "text/plain": "        EEID       Date      Job Sub_Job  Hours\n63449  20761 2023-10-10  7102023      10    2.0\n63450  20761 2023-10-11  7102023      10   10.0\n63451  20761 2023-10-12  7102023      10   10.0",
            "text/html": "<div>\n<style scoped>\n    .dataframe tbody tr th:only-of-type {\n        vertical-align: middle;\n    }\n\n    .dataframe tbody tr th {\n        vertical-align: top;\n    }\n\n    .dataframe thead th {\n        text-align: right;\n    }\n</style>\n<table border=\"1\" class=\"dataframe\">\n  <thead>\n    <tr style=\"text-align: right;\">\n      <th></th>\n      <th>EEID</th>\n      <th>Date</th>\n      <th>Job</th>\n      <th>Sub_Job</th>\n      <th>Hours</th>\n    </tr>\n  </thead>\n  <tbody>\n    <tr>\n      <th>63449</th>\n      <td>20761</td>\n      <td>2023-10-10</td>\n      <td>7102023</td>\n      <td>10</td>\n      <td>2.0</td>\n    </tr>\n    <tr>\n      <th>63450</th>\n      <td>20761</td>\n      <td>2023-10-11</td>\n      <td>7102023</td>\n      <td>10</td>\n      <td>10.0</td>\n    </tr>\n    <tr>\n      <th>63451</th>\n      <td>20761</td>\n      <td>2023-10-12</td>\n      <td>7102023</td>\n      <td>10</td>\n      <td>10.0</td>\n    </tr>\n  </tbody>\n</table>\n</div>"
          },
          "metadata": {}
        }
      ],
      "execution_count": 92,
      "metadata": {
        "jupyter": {
          "source_hidden": false,
          "outputs_hidden": false
        },
        "nteract": {
          "transient": {
            "deleting": false
          }
        },
        "gather": {
          "logged": 1698327521309
        }
      }
    },
    {
      "cell_type": "code",
      "source": [
        "wd_pr_df_dev.loc[wd_pr_df_dev['Workers'].str.contains('3943') , ['EmployeeID' , 'Workers', 'billableProject.descriptor' , 'billableTransaction.descriptor' , 'timeEntryCode.id1' , 'historicalStatus' , 'isDeleted']]"
      ],
      "outputs": [
        {
          "output_type": "execute_result",
          "execution_count": 93,
          "data": {
            "text/plain": "      EmployeeID                  Workers  \\\n38598       3943  Urbano Sefuentes (3943)   \n38599       3943  Urbano Sefuentes (3943)   \n38608       3943  Urbano Sefuentes (3943)   \n38609       3943  Urbano Sefuentes (3943)   \n61127       3943  Urbano Sefuentes (3943)   \n61128       3943  Urbano Sefuentes (3943)   \n63336       3943  Urbano Sefuentes (3943)   \n63337       3943  Urbano Sefuentes (3943)   \n63338       3943  Urbano Sefuentes (3943)   \n63339       3943  Urbano Sefuentes (3943)   \n63466       3943  Urbano Sefuentes (3943)   \n63467       3943  Urbano Sefuentes (3943)   \n63468       3943  Urbano Sefuentes (3943)   \n63469       3943  Urbano Sefuentes (3943)   \n65295       3943  Urbano Sefuentes (3943)   \n\n                             billableProject.descriptor  \\\n38598  7102023.10 174 PG - Ho'ohana Solar (Drive Piles)   \n38599  7102023.10 174 PG - Ho'ohana Solar (Drive Piles)   \n38608  7102023.10 174 PG - Ho'ohana Solar (Drive Piles)   \n38609  7102023.10 174 PG - Ho'ohana Solar (Drive Piles)   \n61127  7102023.10 174 PG - Ho'ohana Solar (Drive Piles)   \n61128  7102023.10 174 PG - Ho'ohana Solar (Drive Piles)   \n63336       7102201.15 AES - West Oahu (Racking System)   \n63337       7102201.15 AES - West Oahu (Racking System)   \n63338       7102201.15 AES - West Oahu (Racking System)   \n63339       7102201.15 AES - West Oahu (Racking System)   \n63466       7102201.15 AES - West Oahu (Racking System)   \n63467       7102201.15 AES - West Oahu (Racking System)   \n63468       7102201.15 AES - West Oahu (Racking System)   \n63469       7102201.15 AES - West Oahu (Racking System)   \n65295       7102201.15 AES - West Oahu (Racking System)   \n\n      billableTransaction.descriptor                 timeEntryCode.id1  \\\n38598         10 Hours on 09/25/2023  77c9ae7eb96b1001b5ebf29ffdea0000   \n38599         10 Hours on 09/26/2023  77c9ae7eb96b1001b5ebf29ffdea0000   \n38608         10 Hours on 09/27/2023  77c9ae7eb96b1001b5ebf29ffdea0000   \n38609         10 Hours on 09/28/2023  77c9ae7eb96b1001b5ebf29ffdea0000   \n61127         10 Hours on 10/02/2023  77c9ae7eb96b1001b5ebf29ffdea0000   \n61128         10 Hours on 10/03/2023  77c9ae7eb96b1001b5ebf29ffdea0000   \n63336         10 Hours on 10/09/2023  77c9ae7eb96b1001b5ebf29ffdea0000   \n63337         10 Hours on 10/10/2023  77c9ae7eb96b1001b5ebf29ffdea0000   \n63338         10 Hours on 10/11/2023  77c9ae7eb96b1001b5ebf29ffdea0000   \n63339         10 Hours on 10/12/2023  77c9ae7eb96b1001b5ebf29ffdea0000   \n63466         10 Hours on 10/09/2023  77c9ae7eb96b1001b5ebf29ffdea0000   \n63467         10 Hours on 10/10/2023  77c9ae7eb96b1001b5ebf29ffdea0000   \n63468         10 Hours on 10/11/2023  77c9ae7eb96b1001b5ebf29ffdea0000   \n63469         10 Hours on 10/12/2023  77c9ae7eb96b1001b5ebf29ffdea0000   \n65295         10 Hours on 10/14/2023  77c9ae7eb96b1001b5ebf29ffdea0000   \n\n      historicalStatus  isDeleted  \n38598             None      False  \n38599             None      False  \n38608             None      False  \n38609             None      False  \n61127             None      False  \n61128             None      False  \n63336             None       True  \n63337             None       True  \n63338             None       True  \n63339             None       True  \n63466             None      False  \n63467             None      False  \n63468             None      False  \n63469             None      False  \n65295             None      False  ",
            "text/html": "<div>\n<style scoped>\n    .dataframe tbody tr th:only-of-type {\n        vertical-align: middle;\n    }\n\n    .dataframe tbody tr th {\n        vertical-align: top;\n    }\n\n    .dataframe thead th {\n        text-align: right;\n    }\n</style>\n<table border=\"1\" class=\"dataframe\">\n  <thead>\n    <tr style=\"text-align: right;\">\n      <th></th>\n      <th>EmployeeID</th>\n      <th>Workers</th>\n      <th>billableProject.descriptor</th>\n      <th>billableTransaction.descriptor</th>\n      <th>timeEntryCode.id1</th>\n      <th>historicalStatus</th>\n      <th>isDeleted</th>\n    </tr>\n  </thead>\n  <tbody>\n    <tr>\n      <th>38598</th>\n      <td>3943</td>\n      <td>Urbano Sefuentes (3943)</td>\n      <td>7102023.10 174 PG - Ho'ohana Solar (Drive Piles)</td>\n      <td>10 Hours on 09/25/2023</td>\n      <td>77c9ae7eb96b1001b5ebf29ffdea0000</td>\n      <td>None</td>\n      <td>False</td>\n    </tr>\n    <tr>\n      <th>38599</th>\n      <td>3943</td>\n      <td>Urbano Sefuentes (3943)</td>\n      <td>7102023.10 174 PG - Ho'ohana Solar (Drive Piles)</td>\n      <td>10 Hours on 09/26/2023</td>\n      <td>77c9ae7eb96b1001b5ebf29ffdea0000</td>\n      <td>None</td>\n      <td>False</td>\n    </tr>\n    <tr>\n      <th>38608</th>\n      <td>3943</td>\n      <td>Urbano Sefuentes (3943)</td>\n      <td>7102023.10 174 PG - Ho'ohana Solar (Drive Piles)</td>\n      <td>10 Hours on 09/27/2023</td>\n      <td>77c9ae7eb96b1001b5ebf29ffdea0000</td>\n      <td>None</td>\n      <td>False</td>\n    </tr>\n    <tr>\n      <th>38609</th>\n      <td>3943</td>\n      <td>Urbano Sefuentes (3943)</td>\n      <td>7102023.10 174 PG - Ho'ohana Solar (Drive Piles)</td>\n      <td>10 Hours on 09/28/2023</td>\n      <td>77c9ae7eb96b1001b5ebf29ffdea0000</td>\n      <td>None</td>\n      <td>False</td>\n    </tr>\n    <tr>\n      <th>61127</th>\n      <td>3943</td>\n      <td>Urbano Sefuentes (3943)</td>\n      <td>7102023.10 174 PG - Ho'ohana Solar (Drive Piles)</td>\n      <td>10 Hours on 10/02/2023</td>\n      <td>77c9ae7eb96b1001b5ebf29ffdea0000</td>\n      <td>None</td>\n      <td>False</td>\n    </tr>\n    <tr>\n      <th>61128</th>\n      <td>3943</td>\n      <td>Urbano Sefuentes (3943)</td>\n      <td>7102023.10 174 PG - Ho'ohana Solar (Drive Piles)</td>\n      <td>10 Hours on 10/03/2023</td>\n      <td>77c9ae7eb96b1001b5ebf29ffdea0000</td>\n      <td>None</td>\n      <td>False</td>\n    </tr>\n    <tr>\n      <th>63336</th>\n      <td>3943</td>\n      <td>Urbano Sefuentes (3943)</td>\n      <td>7102201.15 AES - West Oahu (Racking System)</td>\n      <td>10 Hours on 10/09/2023</td>\n      <td>77c9ae7eb96b1001b5ebf29ffdea0000</td>\n      <td>None</td>\n      <td>True</td>\n    </tr>\n    <tr>\n      <th>63337</th>\n      <td>3943</td>\n      <td>Urbano Sefuentes (3943)</td>\n      <td>7102201.15 AES - West Oahu (Racking System)</td>\n      <td>10 Hours on 10/10/2023</td>\n      <td>77c9ae7eb96b1001b5ebf29ffdea0000</td>\n      <td>None</td>\n      <td>True</td>\n    </tr>\n    <tr>\n      <th>63338</th>\n      <td>3943</td>\n      <td>Urbano Sefuentes (3943)</td>\n      <td>7102201.15 AES - West Oahu (Racking System)</td>\n      <td>10 Hours on 10/11/2023</td>\n      <td>77c9ae7eb96b1001b5ebf29ffdea0000</td>\n      <td>None</td>\n      <td>True</td>\n    </tr>\n    <tr>\n      <th>63339</th>\n      <td>3943</td>\n      <td>Urbano Sefuentes (3943)</td>\n      <td>7102201.15 AES - West Oahu (Racking System)</td>\n      <td>10 Hours on 10/12/2023</td>\n      <td>77c9ae7eb96b1001b5ebf29ffdea0000</td>\n      <td>None</td>\n      <td>True</td>\n    </tr>\n    <tr>\n      <th>63466</th>\n      <td>3943</td>\n      <td>Urbano Sefuentes (3943)</td>\n      <td>7102201.15 AES - West Oahu (Racking System)</td>\n      <td>10 Hours on 10/09/2023</td>\n      <td>77c9ae7eb96b1001b5ebf29ffdea0000</td>\n      <td>None</td>\n      <td>False</td>\n    </tr>\n    <tr>\n      <th>63467</th>\n      <td>3943</td>\n      <td>Urbano Sefuentes (3943)</td>\n      <td>7102201.15 AES - West Oahu (Racking System)</td>\n      <td>10 Hours on 10/10/2023</td>\n      <td>77c9ae7eb96b1001b5ebf29ffdea0000</td>\n      <td>None</td>\n      <td>False</td>\n    </tr>\n    <tr>\n      <th>63468</th>\n      <td>3943</td>\n      <td>Urbano Sefuentes (3943)</td>\n      <td>7102201.15 AES - West Oahu (Racking System)</td>\n      <td>10 Hours on 10/11/2023</td>\n      <td>77c9ae7eb96b1001b5ebf29ffdea0000</td>\n      <td>None</td>\n      <td>False</td>\n    </tr>\n    <tr>\n      <th>63469</th>\n      <td>3943</td>\n      <td>Urbano Sefuentes (3943)</td>\n      <td>7102201.15 AES - West Oahu (Racking System)</td>\n      <td>10 Hours on 10/12/2023</td>\n      <td>77c9ae7eb96b1001b5ebf29ffdea0000</td>\n      <td>None</td>\n      <td>False</td>\n    </tr>\n    <tr>\n      <th>65295</th>\n      <td>3943</td>\n      <td>Urbano Sefuentes (3943)</td>\n      <td>7102201.15 AES - West Oahu (Racking System)</td>\n      <td>10 Hours on 10/14/2023</td>\n      <td>77c9ae7eb96b1001b5ebf29ffdea0000</td>\n      <td>None</td>\n      <td>False</td>\n    </tr>\n  </tbody>\n</table>\n</div>"
          },
          "metadata": {}
        }
      ],
      "execution_count": 93,
      "metadata": {
        "jupyter": {
          "source_hidden": false,
          "outputs_hidden": false
        },
        "nteract": {
          "transient": {
            "deleting": false
          }
        },
        "gather": {
          "logged": 1698327522571
        }
      }
    },
    {
      "cell_type": "code",
      "source": [
        "tcp_v_wd_ee.loc[tcp_v_wd_ee['EEID']=='3426']"
      ],
      "outputs": [
        {
          "output_type": "execute_result",
          "execution_count": 94,
          "data": {
            "text/plain": "      EEID  TotalHours_TCP  TotalHours_WD  Hours_Variance (TCP - WD)\n2200  3426            39.5            0.0                       39.5",
            "text/html": "<div>\n<style scoped>\n    .dataframe tbody tr th:only-of-type {\n        vertical-align: middle;\n    }\n\n    .dataframe tbody tr th {\n        vertical-align: top;\n    }\n\n    .dataframe thead th {\n        text-align: right;\n    }\n</style>\n<table border=\"1\" class=\"dataframe\">\n  <thead>\n    <tr style=\"text-align: right;\">\n      <th></th>\n      <th>EEID</th>\n      <th>TotalHours_TCP</th>\n      <th>TotalHours_WD</th>\n      <th>Hours_Variance (TCP - WD)</th>\n    </tr>\n  </thead>\n  <tbody>\n    <tr>\n      <th>2200</th>\n      <td>3426</td>\n      <td>39.5</td>\n      <td>0.0</td>\n      <td>39.5</td>\n    </tr>\n  </tbody>\n</table>\n</div>"
          },
          "metadata": {}
        }
      ],
      "execution_count": 94,
      "metadata": {
        "jupyter": {
          "source_hidden": false,
          "outputs_hidden": false
        },
        "nteract": {
          "transient": {
            "deleting": false
          }
        },
        "gather": {
          "logged": 1698327525780
        }
      }
    },
    {
      "cell_type": "code",
      "source": [
        "wd_pr_df_dev.loc[wd_pr_df_dev['Workers'].str.contains('3426')]"
      ],
      "outputs": [
        {
          "output_type": "execute_result",
          "execution_count": 65,
          "data": {
            "text/plain": "                              workdayID EmployeeID      Employee_FullName  \\\n38630  e70ba2f2f4839000ca26f7f1c7fa0000          -  Justin Goines-Patcho    \n38631  e70ba2f2f4839000ca26f88b97920000          -  Justin Goines-Patcho    \n38648  e70ba2f2f4839000ca26f92582860000          -  Justin Goines-Patcho    \n38649  e70ba2f2f4839000ca26f9c091480000          -  Justin Goines-Patcho    \n61141  7c8f1553b88990011947dfa19b9b0000          -  Justin Goines-Patcho    \n61142  7c8f1553b88990011947e03b944f0000          -  Justin Goines-Patcho    \n63352  dcd88da845b59002168f60ac1bdb0000          -  Justin Goines-Patcho    \n63353  dcd88da845b59002168f6146035b0000          -  Justin Goines-Patcho    \n63354  dcd88da845b59002168f627a2a4e0000          -  Justin Goines-Patcho    \n63355  dcd88da845b59002168f63143ef80000          -  Justin Goines-Patcho    \n63482  7c8f1553b8899002172e2b50073d0000          -  Justin Goines-Patcho    \n63483  7c8f1553b8899002172e2be9b1860000          -  Justin Goines-Patcho    \n63484  7c8f1553b8899002172e2c8372270000          -  Justin Goines-Patcho    \n63485  7c8f1553b8899002172e2d1d0a450000          -  Justin Goines-Patcho    \n\n                           Workers Employee_BillTransaction_Descriptor  \\\n38630  Justin Goines-Patcho (3426)                           10 Hours    \n38631  Justin Goines-Patcho (3426)                           10 Hours    \n38648  Justin Goines-Patcho (3426)                           10 Hours    \n38649  Justin Goines-Patcho (3426)                           10 Hours    \n61141  Justin Goines-Patcho (3426)                           10 Hours    \n61142  Justin Goines-Patcho (3426)                           10 Hours    \n63352  Justin Goines-Patcho (3426)                           10 Hours    \n63353  Justin Goines-Patcho (3426)                           10 Hours    \n63354  Justin Goines-Patcho (3426)                           10 Hours    \n63355  Justin Goines-Patcho (3426)                           10 Hours    \n63482  Justin Goines-Patcho (3426)                           10 Hours    \n63483  Justin Goines-Patcho (3426)                           10 Hours    \n63484  Justin Goines-Patcho (3426)                           10 Hours    \n63485  Justin Goines-Patcho (3426)                           10 Hours    \n\n      billableTransaction.descriptor Employee_BillTransactionDate  amount  \\\n38630         10 Hours on 09/25/2023                   09/25/2023    10.0   \n38631         10 Hours on 09/26/2023                   09/26/2023    10.0   \n38648         10 Hours on 09/27/2023                   09/27/2023    10.0   \n38649         10 Hours on 09/28/2023                   09/28/2023    10.0   \n61141         10 Hours on 10/02/2023                   10/02/2023    10.0   \n61142         10 Hours on 10/03/2023                   10/03/2023    10.0   \n63352         10 Hours on 10/09/2023                   10/09/2023    10.0   \n63353         10 Hours on 10/10/2023                   10/10/2023    10.0   \n63354         10 Hours on 10/11/2023                   10/11/2023    10.0   \n63355         10 Hours on 10/12/2023                   10/12/2023    10.0   \n63482         10 Hours on 10/09/2023                   10/09/2023    10.0   \n63483         10 Hours on 10/10/2023                   10/10/2023    10.0   \n63484         10 Hours on 10/11/2023                   10/11/2023    10.0   \n63485         10 Hours on 10/12/2023                   10/12/2023    10.0   \n\n      dayOfTheWeek FrequencySalary  ... workerType.descriptor workerType.id  \\\n38630       Monday   Weekly Unions  ...                  None          None   \n38631      Tuesday   Weekly Unions  ...                  None          None   \n38648    Wednesday   Weekly Unions  ...                  None          None   \n38649     Thursday   Weekly Unions  ...                  None          None   \n61141       Monday   Weekly Unions  ...                  None          None   \n61142      Tuesday   Weekly Unions  ...                  None          None   \n63352       Monday   Weekly Unions  ...                  None          None   \n63353      Tuesday   Weekly Unions  ...                  None          None   \n63354    Wednesday   Weekly Unions  ...                  None          None   \n63355     Thursday   Weekly Unions  ...                  None          None   \n63482       Monday   Weekly Unions  ...                  None          None   \n63483      Tuesday   Weekly Unions  ...                  None          None   \n63484    Wednesday   Weekly Unions  ...                  None          None   \n63485     Thursday   Weekly Unions  ...                  None          None   \n\n                                               worktags1  \\\n38630  [{\"descriptor\":\"Calculation: Regular\",\"id\":\"36...   \n38631  [{\"descriptor\":\"Calculation: Regular\",\"id\":\"36...   \n38648  [{\"descriptor\":\"Calculation: Regular\",\"id\":\"36...   \n38649  [{\"descriptor\":\"Calculation: Regular\",\"id\":\"36...   \n61141  [{\"descriptor\":\"Calculation: Regular\",\"id\":\"36...   \n61142  [{\"descriptor\":\"Calculation: Regular\",\"id\":\"36...   \n63352  [{\"descriptor\":\"Calculation: Regular\",\"id\":\"36...   \n63353  [{\"descriptor\":\"Calculation: Regular\",\"id\":\"36...   \n63354  [{\"descriptor\":\"Calculation: Regular\",\"id\":\"36...   \n63355  [{\"descriptor\":\"Calculation: Regular\",\"id\":\"36...   \n63482  [{\"descriptor\":\"Calculation: Regular\",\"id\":\"36...   \n63483  [{\"descriptor\":\"Calculation: Regular\",\"id\":\"36...   \n63484  [{\"descriptor\":\"Calculation: Regular\",\"id\":\"36...   \n63485  [{\"descriptor\":\"Calculation: Regular\",\"id\":\"36...   \n\n      worktagsAvailableForCostingAllocation1  \\\n38630                                   None   \n38631                                   None   \n38648                                   None   \n38649                                   None   \n61141                                   None   \n61142                                   None   \n63352                                   None   \n63353                                   None   \n63354                                   None   \n63355                                   None   \n63482                                   None   \n63483                                   None   \n63484                                   None   \n63485                                   None   \n\n      worktagsDontMatchProjectDerivedWorktagRules  \\\n38630                                        None   \n38631                                        None   \n38648                                        None   \n38649                                        None   \n61141                                        None   \n61142                                        None   \n63352                                        None   \n63353                                        None   \n63354                                        None   \n63355                                        None   \n63482                                        None   \n63483                                        None   \n63484                                        None   \n63485                                        None   \n\n                            worktagsExcludingCostCenter1  \\\n38630  [{\"descriptor\":\"Calculation: Regular\",\"id\":\"36...   \n38631  [{\"descriptor\":\"Calculation: Regular\",\"id\":\"36...   \n38648  [{\"descriptor\":\"Calculation: Regular\",\"id\":\"36...   \n38649  [{\"descriptor\":\"Calculation: Regular\",\"id\":\"36...   \n61141  [{\"descriptor\":\"Calculation: Regular\",\"id\":\"36...   \n61142  [{\"descriptor\":\"Calculation: Regular\",\"id\":\"36...   \n63352  [{\"descriptor\":\"Calculation: Regular\",\"id\":\"36...   \n63353  [{\"descriptor\":\"Calculation: Regular\",\"id\":\"36...   \n63354  [{\"descriptor\":\"Calculation: Regular\",\"id\":\"36...   \n63355  [{\"descriptor\":\"Calculation: Regular\",\"id\":\"36...   \n63482  [{\"descriptor\":\"Calculation: Regular\",\"id\":\"36...   \n63483  [{\"descriptor\":\"Calculation: Regular\",\"id\":\"36...   \n63484  [{\"descriptor\":\"Calculation: Regular\",\"id\":\"36...   \n63485  [{\"descriptor\":\"Calculation: Regular\",\"id\":\"36...   \n\n                                           worktagTypes1  \\\n38630  [{\"descriptor\":\"Calculation\",\"id\":\"4bfb6ed9c09...   \n38631  [{\"descriptor\":\"Calculation\",\"id\":\"4bfb6ed9c09...   \n38648  [{\"descriptor\":\"Calculation\",\"id\":\"4bfb6ed9c09...   \n38649  [{\"descriptor\":\"Calculation\",\"id\":\"4bfb6ed9c09...   \n61141  [{\"descriptor\":\"Calculation\",\"id\":\"4bfb6ed9c09...   \n61142  [{\"descriptor\":\"Calculation\",\"id\":\"4bfb6ed9c09...   \n63352  [{\"descriptor\":\"Calculation\",\"id\":\"4bfb6ed9c09...   \n63353  [{\"descriptor\":\"Calculation\",\"id\":\"4bfb6ed9c09...   \n63354  [{\"descriptor\":\"Calculation\",\"id\":\"4bfb6ed9c09...   \n63355  [{\"descriptor\":\"Calculation\",\"id\":\"4bfb6ed9c09...   \n63482  [{\"descriptor\":\"Calculation\",\"id\":\"4bfb6ed9c09...   \n63483  [{\"descriptor\":\"Calculation\",\"id\":\"4bfb6ed9c09...   \n63484  [{\"descriptor\":\"Calculation\",\"id\":\"4bfb6ed9c09...   \n63485  [{\"descriptor\":\"Calculation\",\"id\":\"4bfb6ed9c09...   \n\n      worktagTypesWithInactiveValues historicalStatus zeroRate1  \n38630                           None             None     False  \n38631                           None             None     False  \n38648                           None             None     False  \n38649                           None             None     False  \n61141                           None             None     False  \n61142                           None             None     False  \n63352                           None             None     False  \n63353                           None             None     False  \n63354                           None             None     False  \n63355                           None             None     False  \n63482                           None             None     False  \n63483                           None             None     False  \n63484                           None             None     False  \n63485                           None             None     False  \n\n[14 rows x 414 columns]",
            "text/html": "<div>\n<style scoped>\n    .dataframe tbody tr th:only-of-type {\n        vertical-align: middle;\n    }\n\n    .dataframe tbody tr th {\n        vertical-align: top;\n    }\n\n    .dataframe thead th {\n        text-align: right;\n    }\n</style>\n<table border=\"1\" class=\"dataframe\">\n  <thead>\n    <tr style=\"text-align: right;\">\n      <th></th>\n      <th>workdayID</th>\n      <th>EmployeeID</th>\n      <th>Employee_FullName</th>\n      <th>Workers</th>\n      <th>Employee_BillTransaction_Descriptor</th>\n      <th>billableTransaction.descriptor</th>\n      <th>Employee_BillTransactionDate</th>\n      <th>amount</th>\n      <th>dayOfTheWeek</th>\n      <th>FrequencySalary</th>\n      <th>...</th>\n      <th>workerType.descriptor</th>\n      <th>workerType.id</th>\n      <th>worktags1</th>\n      <th>worktagsAvailableForCostingAllocation1</th>\n      <th>worktagsDontMatchProjectDerivedWorktagRules</th>\n      <th>worktagsExcludingCostCenter1</th>\n      <th>worktagTypes1</th>\n      <th>worktagTypesWithInactiveValues</th>\n      <th>historicalStatus</th>\n      <th>zeroRate1</th>\n    </tr>\n  </thead>\n  <tbody>\n    <tr>\n      <th>38630</th>\n      <td>e70ba2f2f4839000ca26f7f1c7fa0000</td>\n      <td>-</td>\n      <td>Justin Goines-Patcho</td>\n      <td>Justin Goines-Patcho (3426)</td>\n      <td>10 Hours</td>\n      <td>10 Hours on 09/25/2023</td>\n      <td>09/25/2023</td>\n      <td>10.0</td>\n      <td>Monday</td>\n      <td>Weekly Unions</td>\n      <td>...</td>\n      <td>None</td>\n      <td>None</td>\n      <td>[{\"descriptor\":\"Calculation: Regular\",\"id\":\"36...</td>\n      <td>None</td>\n      <td>None</td>\n      <td>[{\"descriptor\":\"Calculation: Regular\",\"id\":\"36...</td>\n      <td>[{\"descriptor\":\"Calculation\",\"id\":\"4bfb6ed9c09...</td>\n      <td>None</td>\n      <td>None</td>\n      <td>False</td>\n    </tr>\n    <tr>\n      <th>38631</th>\n      <td>e70ba2f2f4839000ca26f88b97920000</td>\n      <td>-</td>\n      <td>Justin Goines-Patcho</td>\n      <td>Justin Goines-Patcho (3426)</td>\n      <td>10 Hours</td>\n      <td>10 Hours on 09/26/2023</td>\n      <td>09/26/2023</td>\n      <td>10.0</td>\n      <td>Tuesday</td>\n      <td>Weekly Unions</td>\n      <td>...</td>\n      <td>None</td>\n      <td>None</td>\n      <td>[{\"descriptor\":\"Calculation: Regular\",\"id\":\"36...</td>\n      <td>None</td>\n      <td>None</td>\n      <td>[{\"descriptor\":\"Calculation: Regular\",\"id\":\"36...</td>\n      <td>[{\"descriptor\":\"Calculation\",\"id\":\"4bfb6ed9c09...</td>\n      <td>None</td>\n      <td>None</td>\n      <td>False</td>\n    </tr>\n    <tr>\n      <th>38648</th>\n      <td>e70ba2f2f4839000ca26f92582860000</td>\n      <td>-</td>\n      <td>Justin Goines-Patcho</td>\n      <td>Justin Goines-Patcho (3426)</td>\n      <td>10 Hours</td>\n      <td>10 Hours on 09/27/2023</td>\n      <td>09/27/2023</td>\n      <td>10.0</td>\n      <td>Wednesday</td>\n      <td>Weekly Unions</td>\n      <td>...</td>\n      <td>None</td>\n      <td>None</td>\n      <td>[{\"descriptor\":\"Calculation: Regular\",\"id\":\"36...</td>\n      <td>None</td>\n      <td>None</td>\n      <td>[{\"descriptor\":\"Calculation: Regular\",\"id\":\"36...</td>\n      <td>[{\"descriptor\":\"Calculation\",\"id\":\"4bfb6ed9c09...</td>\n      <td>None</td>\n      <td>None</td>\n      <td>False</td>\n    </tr>\n    <tr>\n      <th>38649</th>\n      <td>e70ba2f2f4839000ca26f9c091480000</td>\n      <td>-</td>\n      <td>Justin Goines-Patcho</td>\n      <td>Justin Goines-Patcho (3426)</td>\n      <td>10 Hours</td>\n      <td>10 Hours on 09/28/2023</td>\n      <td>09/28/2023</td>\n      <td>10.0</td>\n      <td>Thursday</td>\n      <td>Weekly Unions</td>\n      <td>...</td>\n      <td>None</td>\n      <td>None</td>\n      <td>[{\"descriptor\":\"Calculation: Regular\",\"id\":\"36...</td>\n      <td>None</td>\n      <td>None</td>\n      <td>[{\"descriptor\":\"Calculation: Regular\",\"id\":\"36...</td>\n      <td>[{\"descriptor\":\"Calculation\",\"id\":\"4bfb6ed9c09...</td>\n      <td>None</td>\n      <td>None</td>\n      <td>False</td>\n    </tr>\n    <tr>\n      <th>61141</th>\n      <td>7c8f1553b88990011947dfa19b9b0000</td>\n      <td>-</td>\n      <td>Justin Goines-Patcho</td>\n      <td>Justin Goines-Patcho (3426)</td>\n      <td>10 Hours</td>\n      <td>10 Hours on 10/02/2023</td>\n      <td>10/02/2023</td>\n      <td>10.0</td>\n      <td>Monday</td>\n      <td>Weekly Unions</td>\n      <td>...</td>\n      <td>None</td>\n      <td>None</td>\n      <td>[{\"descriptor\":\"Calculation: Regular\",\"id\":\"36...</td>\n      <td>None</td>\n      <td>None</td>\n      <td>[{\"descriptor\":\"Calculation: Regular\",\"id\":\"36...</td>\n      <td>[{\"descriptor\":\"Calculation\",\"id\":\"4bfb6ed9c09...</td>\n      <td>None</td>\n      <td>None</td>\n      <td>False</td>\n    </tr>\n    <tr>\n      <th>61142</th>\n      <td>7c8f1553b88990011947e03b944f0000</td>\n      <td>-</td>\n      <td>Justin Goines-Patcho</td>\n      <td>Justin Goines-Patcho (3426)</td>\n      <td>10 Hours</td>\n      <td>10 Hours on 10/03/2023</td>\n      <td>10/03/2023</td>\n      <td>10.0</td>\n      <td>Tuesday</td>\n      <td>Weekly Unions</td>\n      <td>...</td>\n      <td>None</td>\n      <td>None</td>\n      <td>[{\"descriptor\":\"Calculation: Regular\",\"id\":\"36...</td>\n      <td>None</td>\n      <td>None</td>\n      <td>[{\"descriptor\":\"Calculation: Regular\",\"id\":\"36...</td>\n      <td>[{\"descriptor\":\"Calculation\",\"id\":\"4bfb6ed9c09...</td>\n      <td>None</td>\n      <td>None</td>\n      <td>False</td>\n    </tr>\n    <tr>\n      <th>63352</th>\n      <td>dcd88da845b59002168f60ac1bdb0000</td>\n      <td>-</td>\n      <td>Justin Goines-Patcho</td>\n      <td>Justin Goines-Patcho (3426)</td>\n      <td>10 Hours</td>\n      <td>10 Hours on 10/09/2023</td>\n      <td>10/09/2023</td>\n      <td>10.0</td>\n      <td>Monday</td>\n      <td>Weekly Unions</td>\n      <td>...</td>\n      <td>None</td>\n      <td>None</td>\n      <td>[{\"descriptor\":\"Calculation: Regular\",\"id\":\"36...</td>\n      <td>None</td>\n      <td>None</td>\n      <td>[{\"descriptor\":\"Calculation: Regular\",\"id\":\"36...</td>\n      <td>[{\"descriptor\":\"Calculation\",\"id\":\"4bfb6ed9c09...</td>\n      <td>None</td>\n      <td>None</td>\n      <td>False</td>\n    </tr>\n    <tr>\n      <th>63353</th>\n      <td>dcd88da845b59002168f6146035b0000</td>\n      <td>-</td>\n      <td>Justin Goines-Patcho</td>\n      <td>Justin Goines-Patcho (3426)</td>\n      <td>10 Hours</td>\n      <td>10 Hours on 10/10/2023</td>\n      <td>10/10/2023</td>\n      <td>10.0</td>\n      <td>Tuesday</td>\n      <td>Weekly Unions</td>\n      <td>...</td>\n      <td>None</td>\n      <td>None</td>\n      <td>[{\"descriptor\":\"Calculation: Regular\",\"id\":\"36...</td>\n      <td>None</td>\n      <td>None</td>\n      <td>[{\"descriptor\":\"Calculation: Regular\",\"id\":\"36...</td>\n      <td>[{\"descriptor\":\"Calculation\",\"id\":\"4bfb6ed9c09...</td>\n      <td>None</td>\n      <td>None</td>\n      <td>False</td>\n    </tr>\n    <tr>\n      <th>63354</th>\n      <td>dcd88da845b59002168f627a2a4e0000</td>\n      <td>-</td>\n      <td>Justin Goines-Patcho</td>\n      <td>Justin Goines-Patcho (3426)</td>\n      <td>10 Hours</td>\n      <td>10 Hours on 10/11/2023</td>\n      <td>10/11/2023</td>\n      <td>10.0</td>\n      <td>Wednesday</td>\n      <td>Weekly Unions</td>\n      <td>...</td>\n      <td>None</td>\n      <td>None</td>\n      <td>[{\"descriptor\":\"Calculation: Regular\",\"id\":\"36...</td>\n      <td>None</td>\n      <td>None</td>\n      <td>[{\"descriptor\":\"Calculation: Regular\",\"id\":\"36...</td>\n      <td>[{\"descriptor\":\"Calculation\",\"id\":\"4bfb6ed9c09...</td>\n      <td>None</td>\n      <td>None</td>\n      <td>False</td>\n    </tr>\n    <tr>\n      <th>63355</th>\n      <td>dcd88da845b59002168f63143ef80000</td>\n      <td>-</td>\n      <td>Justin Goines-Patcho</td>\n      <td>Justin Goines-Patcho (3426)</td>\n      <td>10 Hours</td>\n      <td>10 Hours on 10/12/2023</td>\n      <td>10/12/2023</td>\n      <td>10.0</td>\n      <td>Thursday</td>\n      <td>Weekly Unions</td>\n      <td>...</td>\n      <td>None</td>\n      <td>None</td>\n      <td>[{\"descriptor\":\"Calculation: Regular\",\"id\":\"36...</td>\n      <td>None</td>\n      <td>None</td>\n      <td>[{\"descriptor\":\"Calculation: Regular\",\"id\":\"36...</td>\n      <td>[{\"descriptor\":\"Calculation\",\"id\":\"4bfb6ed9c09...</td>\n      <td>None</td>\n      <td>None</td>\n      <td>False</td>\n    </tr>\n    <tr>\n      <th>63482</th>\n      <td>7c8f1553b8899002172e2b50073d0000</td>\n      <td>-</td>\n      <td>Justin Goines-Patcho</td>\n      <td>Justin Goines-Patcho (3426)</td>\n      <td>10 Hours</td>\n      <td>10 Hours on 10/09/2023</td>\n      <td>10/09/2023</td>\n      <td>10.0</td>\n      <td>Monday</td>\n      <td>Weekly Unions</td>\n      <td>...</td>\n      <td>None</td>\n      <td>None</td>\n      <td>[{\"descriptor\":\"Calculation: Regular\",\"id\":\"36...</td>\n      <td>None</td>\n      <td>None</td>\n      <td>[{\"descriptor\":\"Calculation: Regular\",\"id\":\"36...</td>\n      <td>[{\"descriptor\":\"Calculation\",\"id\":\"4bfb6ed9c09...</td>\n      <td>None</td>\n      <td>None</td>\n      <td>False</td>\n    </tr>\n    <tr>\n      <th>63483</th>\n      <td>7c8f1553b8899002172e2be9b1860000</td>\n      <td>-</td>\n      <td>Justin Goines-Patcho</td>\n      <td>Justin Goines-Patcho (3426)</td>\n      <td>10 Hours</td>\n      <td>10 Hours on 10/10/2023</td>\n      <td>10/10/2023</td>\n      <td>10.0</td>\n      <td>Tuesday</td>\n      <td>Weekly Unions</td>\n      <td>...</td>\n      <td>None</td>\n      <td>None</td>\n      <td>[{\"descriptor\":\"Calculation: Regular\",\"id\":\"36...</td>\n      <td>None</td>\n      <td>None</td>\n      <td>[{\"descriptor\":\"Calculation: Regular\",\"id\":\"36...</td>\n      <td>[{\"descriptor\":\"Calculation\",\"id\":\"4bfb6ed9c09...</td>\n      <td>None</td>\n      <td>None</td>\n      <td>False</td>\n    </tr>\n    <tr>\n      <th>63484</th>\n      <td>7c8f1553b8899002172e2c8372270000</td>\n      <td>-</td>\n      <td>Justin Goines-Patcho</td>\n      <td>Justin Goines-Patcho (3426)</td>\n      <td>10 Hours</td>\n      <td>10 Hours on 10/11/2023</td>\n      <td>10/11/2023</td>\n      <td>10.0</td>\n      <td>Wednesday</td>\n      <td>Weekly Unions</td>\n      <td>...</td>\n      <td>None</td>\n      <td>None</td>\n      <td>[{\"descriptor\":\"Calculation: Regular\",\"id\":\"36...</td>\n      <td>None</td>\n      <td>None</td>\n      <td>[{\"descriptor\":\"Calculation: Regular\",\"id\":\"36...</td>\n      <td>[{\"descriptor\":\"Calculation\",\"id\":\"4bfb6ed9c09...</td>\n      <td>None</td>\n      <td>None</td>\n      <td>False</td>\n    </tr>\n    <tr>\n      <th>63485</th>\n      <td>7c8f1553b8899002172e2d1d0a450000</td>\n      <td>-</td>\n      <td>Justin Goines-Patcho</td>\n      <td>Justin Goines-Patcho (3426)</td>\n      <td>10 Hours</td>\n      <td>10 Hours on 10/12/2023</td>\n      <td>10/12/2023</td>\n      <td>10.0</td>\n      <td>Thursday</td>\n      <td>Weekly Unions</td>\n      <td>...</td>\n      <td>None</td>\n      <td>None</td>\n      <td>[{\"descriptor\":\"Calculation: Regular\",\"id\":\"36...</td>\n      <td>None</td>\n      <td>None</td>\n      <td>[{\"descriptor\":\"Calculation: Regular\",\"id\":\"36...</td>\n      <td>[{\"descriptor\":\"Calculation\",\"id\":\"4bfb6ed9c09...</td>\n      <td>None</td>\n      <td>None</td>\n      <td>False</td>\n    </tr>\n  </tbody>\n</table>\n<p>14 rows × 414 columns</p>\n</div>"
          },
          "metadata": {}
        }
      ],
      "execution_count": 65,
      "metadata": {
        "jupyter": {
          "source_hidden": false,
          "outputs_hidden": false
        },
        "nteract": {
          "transient": {
            "deleting": false
          }
        },
        "gather": {
          "logged": 1698327119432
        }
      }
    },
    {
      "cell_type": "code",
      "source": [
        "#Why is this employee getting filtered out?\n",
        "tcp_df_dev.loc[(tcp_df_dev['Employee_Number']=='3426')&(tcp_df_dev['Date']>='2023-10-15')]"
      ],
      "outputs": [
        {
          "output_type": "execute_result",
          "execution_count": 69,
          "data": {
            "text/plain": "        WorkSegments_Timesheet_ID Employee_Number First_Name      Last_Name  \\\n381719                     381720            3426     JUSTIN  GOINES-PATCHO   \n385546                     385547            3426     JUSTIN  GOINES-PATCHO   \n397652                     397653            3426     JUSTIN  GOINES-PATCHO   \n397798                     397799            3426     JUSTIN  GOINES-PATCHO   \n\n             Date Job_Code Activity  Phase_Code Task  Regular_Hours  \\\n381719 2023-10-17  1412201       28  48.3007.00   LH           10.0   \n385546 2023-10-16  1412201       28  48.3007.00   LH           10.0   \n397652 2023-10-19  1412201       28  48.3007.00   LH            9.5   \n397798 2023-10-18  1412201       28  48.3007.00   LH           10.0   \n\n        Overtime_Hours  Pay_Rate Employee_Classification Department  \\\n381719             0.0       0.0                                710   \n385546             0.0       0.0                                710   \n397652             0.0       0.0                                710   \n397798             0.0       0.0                                710   \n\n                                                FileName  \\\n381719  export-WorkSegments-Timesheet Export - Jacob.csv   \n385546  export-WorkSegments-Timesheet Export - Jacob.csv   \n397652  export-WorkSegments-Timesheet Export - Jacob.csv   \n397798  export-WorkSegments-Timesheet Export - Jacob.csv   \n\n                        Created_Date  \n381719 2023-10-26 09:31:26.326666666  \n385546 2023-10-26 09:31:26.326666666  \n397652 2023-10-26 09:31:26.326666666  \n397798 2023-10-26 09:31:26.326666666  ",
            "text/html": "<div>\n<style scoped>\n    .dataframe tbody tr th:only-of-type {\n        vertical-align: middle;\n    }\n\n    .dataframe tbody tr th {\n        vertical-align: top;\n    }\n\n    .dataframe thead th {\n        text-align: right;\n    }\n</style>\n<table border=\"1\" class=\"dataframe\">\n  <thead>\n    <tr style=\"text-align: right;\">\n      <th></th>\n      <th>WorkSegments_Timesheet_ID</th>\n      <th>Employee_Number</th>\n      <th>First_Name</th>\n      <th>Last_Name</th>\n      <th>Date</th>\n      <th>Job_Code</th>\n      <th>Activity</th>\n      <th>Phase_Code</th>\n      <th>Task</th>\n      <th>Regular_Hours</th>\n      <th>Overtime_Hours</th>\n      <th>Pay_Rate</th>\n      <th>Employee_Classification</th>\n      <th>Department</th>\n      <th>FileName</th>\n      <th>Created_Date</th>\n    </tr>\n  </thead>\n  <tbody>\n    <tr>\n      <th>381719</th>\n      <td>381720</td>\n      <td>3426</td>\n      <td>JUSTIN</td>\n      <td>GOINES-PATCHO</td>\n      <td>2023-10-17</td>\n      <td>1412201</td>\n      <td>28</td>\n      <td>48.3007.00</td>\n      <td>LH</td>\n      <td>10.0</td>\n      <td>0.0</td>\n      <td>0.0</td>\n      <td></td>\n      <td>710</td>\n      <td>export-WorkSegments-Timesheet Export - Jacob.csv</td>\n      <td>2023-10-26 09:31:26.326666666</td>\n    </tr>\n    <tr>\n      <th>385546</th>\n      <td>385547</td>\n      <td>3426</td>\n      <td>JUSTIN</td>\n      <td>GOINES-PATCHO</td>\n      <td>2023-10-16</td>\n      <td>1412201</td>\n      <td>28</td>\n      <td>48.3007.00</td>\n      <td>LH</td>\n      <td>10.0</td>\n      <td>0.0</td>\n      <td>0.0</td>\n      <td></td>\n      <td>710</td>\n      <td>export-WorkSegments-Timesheet Export - Jacob.csv</td>\n      <td>2023-10-26 09:31:26.326666666</td>\n    </tr>\n    <tr>\n      <th>397652</th>\n      <td>397653</td>\n      <td>3426</td>\n      <td>JUSTIN</td>\n      <td>GOINES-PATCHO</td>\n      <td>2023-10-19</td>\n      <td>1412201</td>\n      <td>28</td>\n      <td>48.3007.00</td>\n      <td>LH</td>\n      <td>9.5</td>\n      <td>0.0</td>\n      <td>0.0</td>\n      <td></td>\n      <td>710</td>\n      <td>export-WorkSegments-Timesheet Export - Jacob.csv</td>\n      <td>2023-10-26 09:31:26.326666666</td>\n    </tr>\n    <tr>\n      <th>397798</th>\n      <td>397799</td>\n      <td>3426</td>\n      <td>JUSTIN</td>\n      <td>GOINES-PATCHO</td>\n      <td>2023-10-18</td>\n      <td>1412201</td>\n      <td>28</td>\n      <td>48.3007.00</td>\n      <td>LH</td>\n      <td>10.0</td>\n      <td>0.0</td>\n      <td>0.0</td>\n      <td></td>\n      <td>710</td>\n      <td>export-WorkSegments-Timesheet Export - Jacob.csv</td>\n      <td>2023-10-26 09:31:26.326666666</td>\n    </tr>\n  </tbody>\n</table>\n</div>"
          },
          "metadata": {}
        }
      ],
      "execution_count": 69,
      "metadata": {
        "jupyter": {
          "source_hidden": false,
          "outputs_hidden": false
        },
        "nteract": {
          "transient": {
            "deleting": false
          }
        },
        "gather": {
          "logged": 1698327232470
        }
      }
    },
    {
      "cell_type": "code",
      "source": [],
      "outputs": [],
      "execution_count": null,
      "metadata": {
        "jupyter": {
          "source_hidden": false,
          "outputs_hidden": false
        },
        "nteract": {
          "transient": {
            "deleting": false
          }
        }
      }
    }
  ],
  "metadata": {
    "kernelspec": {
      "name": "python310-sdkv2",
      "language": "python",
      "display_name": "Python 3.10 - SDK v2"
    },
    "language_info": {
      "name": "python",
      "version": "3.10.11",
      "mimetype": "text/x-python",
      "codemirror_mode": {
        "name": "ipython",
        "version": 3
      },
      "pygments_lexer": "ipython3",
      "nbconvert_exporter": "python",
      "file_extension": ".py"
    },
    "microsoft": {
      "ms_spell_check": {
        "ms_spell_check_language": "en"
      },
      "host": {
        "AzureML": {
          "notebookHasBeenCompleted": true
        }
      }
    },
    "kernel_info": {
      "name": "python310-sdkv2"
    },
    "nteract": {
      "version": "nteract-front-end@1.0.0"
    }
  },
  "nbformat": 4,
  "nbformat_minor": 2
}