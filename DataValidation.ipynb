{
  "cells": [
    {
      "cell_type": "code",
      "source": [
        "# azureml-core of version 1.0.72 or higher is required\n",
        "# azureml-dataprep[pandas] of version 1.1.34 or higher is required\n",
        "from azureml.core import Workspace, Dataset\n",
        "import pandas as pd\n",
        "from datetime import date, datetime, timedelta\n",
        "import numpy as np\n",
        "from azure.storage.blob import BlobServiceClient\n",
        "\n",
        "subscription_id = '96599b9b-0d9b-4577-9163-418d2c6cd411'\n",
        "resource_group = 'rg-datasci-ml-dev-001'\n",
        "workspace_name = 'ml-moss-dev-001'\n",
        "\n",
        "workspace = Workspace(subscription_id, resource_group, workspace_name)\n",
        "\n",
        "dataset_hourly_compare_cmic = Dataset.get_by_name(workspace, name='Hourly_Employee_Time_prod')\n",
        "cmic_pr_df_dev = dataset_hourly_compare_cmic.to_pandas_dataframe()\n",
        "\n",
        "dataset_hourly_compare_wd = Dataset.get_by_name(workspace, name='WD_Hourly_Employee_Time_prod')\n",
        "wd_pr_df_dev = dataset_hourly_compare_wd.to_pandas_dataframe()\n",
        "\n",
        "tcp_dataset = Dataset.get_by_name(workspace, name='WorkSegments_Timesheet_prod')\n",
        "tcp_df_dev = tcp_dataset.to_pandas_dataframe()\n",
        "\n",
        "jcjob_dataset = Dataset.get_by_name(workspace, name='JCJOB_TABLE_TN_prod')\n",
        "jcjob_df = jcjob_dataset.to_pandas_dataframe()"
      ],
      "outputs": [],
      "execution_count": 79,
      "metadata": {
        "gather": {
          "logged": 1697499912677
        }
      }
    },
    {
      "cell_type": "code",
      "source": [
        "###Step 1\n",
        "#Filter Data Sets\n",
        "#Data Manipulate Data Sets\n",
        "#Narrow down to necessary columns only"
      ],
      "outputs": [],
      "execution_count": 38,
      "metadata": {
        "jupyter": {
          "source_hidden": false,
          "outputs_hidden": false
        },
        "nteract": {
          "transient": {
            "deleting": false
          }
        },
        "gather": {
          "logged": 1697497353752
        }
      }
    },
    {
      "cell_type": "code",
      "source": [
        "##########################\n",
        "\n",
        "week_ending = '2023-10-14'\n",
        "\n",
        "##########################\n",
        "\n",
        "date = datetime.strptime(week_ending, \"%Y-%m-%d\")\n",
        "start_date = date - timedelta(days = 6)\n",
        "end_date = date"
      ],
      "outputs": [],
      "execution_count": 39,
      "metadata": {
        "jupyter": {
          "source_hidden": false,
          "outputs_hidden": false
        },
        "nteract": {
          "transient": {
            "deleting": false
          }
        },
        "gather": {
          "logged": 1697497354216
        }
      }
    },
    {
      "cell_type": "code",
      "source": [
        "tcp_df = tcp_df_dev.copy()"
      ],
      "outputs": [],
      "execution_count": 40,
      "metadata": {
        "jupyter": {
          "source_hidden": false,
          "outputs_hidden": false
        },
        "nteract": {
          "transient": {
            "deleting": false
          }
        },
        "gather": {
          "logged": 1697497355153
        }
      }
    },
    {
      "cell_type": "code",
      "source": [
        "###TCP Data Manipulation\n",
        "#Filter: Solar Jobs only \n",
        "tcp_df = tcp_df.loc[tcp_df['Job_Code'].str.startswith('710')]\n",
        "#Filter: Only Keeping Labor Hourly\n",
        "tcp_df = tcp_df.loc[tcp_df['Task'].isin(['LH','LHA'])]\n",
        "#Creating a total hours column\n",
        "tcp_df['total_hours'] = tcp_df['Regular_Hours'] + tcp_df['Overtime_Hours']\n",
        "#Renaming Relevant Columns\n",
        "tcp_df = tcp_df.rename({'Employee_Number':'EEID','Job_Code':'Job','Activity':'Sub_Job','total_hours':'Hours'},axis='columns')\n",
        "tcp_cols_keep = ['EEID' , 'Date' , 'Job' , 'Sub_Job' , 'Hours']\n",
        "tcp_df_comp = tcp_df.loc[:,tcp_cols_keep]"
      ],
      "outputs": [],
      "execution_count": 41,
      "metadata": {
        "jupyter": {
          "source_hidden": false,
          "outputs_hidden": false
        },
        "nteract": {
          "transient": {
            "deleting": false
          }
        },
        "gather": {
          "logged": 1697497356288
        }
      }
    },
    {
      "cell_type": "code",
      "source": [
        "wd_pr_df = wd_pr_df_dev.copy()"
      ],
      "outputs": [],
      "execution_count": 42,
      "metadata": {
        "jupyter": {
          "source_hidden": false,
          "outputs_hidden": false
        },
        "nteract": {
          "transient": {
            "deleting": false
          }
        },
        "gather": {
          "logged": 1697497357076
        }
      }
    },
    {
      "cell_type": "code",
      "source": [
        "#Workday Data Manipulation\n",
        "#Drop Null values if the employee does not have a job/sub job assignment\n",
        "wd_pr_df = wd_pr_df.loc[~wd_pr_df['cf_INTLRVCalculatedProjectFromTimeBlock.descriptor'].isna()]\n",
        "#Filter: Solar Jobs Only\n",
        "wd_pr_df = wd_pr_df.loc[wd_pr_df['cf_INTLRVCalculatedProjectFromTimeBlock.descriptor'].str.startswith('710')]\n",
        "#This isolates the 2 digit sub job, also accomodates the sub jobs that have a letter in them like Claims (C) and Warranty (W)\n",
        "wd_pr_df['cf_INTLRVCalculatedProjectFromTimeBlock.descriptor'] = wd_pr_df['cf_INTLRVCalculatedProjectFromTimeBlock.descriptor'].str.replace('C' , '.C')\n",
        "wd_pr_df['cf_INTLRVCalculatedProjectFromTimeBlock.descriptor'] = wd_pr_df['cf_INTLRVCalculatedProjectFromTimeBlock.descriptor'].str.replace('W' , '.W')\n",
        "wd_pr_df['sub_job'] = wd_pr_df['cf_INTLRVCalculatedProjectFromTimeBlock.descriptor'].str.split('.').str[1]\n",
        "wd_pr_df['sub_job'] = wd_pr_df['sub_job'].str.split(' ').str[0]\n",
        "#Leaves behind Job ONLY\n",
        "wd_pr_df['job'] = wd_pr_df.loc[:,'cf_INTLRVCalculatedProjectFromTimeBlock.descriptor'].str[0:7]\n",
        "#Renaming Relevant Columns\n",
        "wd_pr_df = wd_pr_df.rename({'EmployeeID':'EEID','calculatedDate':'Date','job':'Job','sub_job':'Sub_Job','amount':'Hours'},axis='columns')\n",
        "wd_cols_keep = ['EEID' , 'Date' , 'Job' , 'Sub_Job' , 'Hours']\n",
        "wd_pr_df_comp = wd_pr_df.loc[:,wd_cols_keep]"
      ],
      "outputs": [],
      "execution_count": 43,
      "metadata": {
        "jupyter": {
          "source_hidden": false,
          "outputs_hidden": false
        },
        "nteract": {
          "transient": {
            "deleting": false
          }
        },
        "gather": {
          "logged": 1697497358310
        }
      }
    },
    {
      "cell_type": "code",
      "source": [
        "wd_pr_df_dev.head(1)"
      ],
      "outputs": [
        {
          "output_type": "execute_result",
          "execution_count": 59,
          "data": {
            "text/plain": "                          workdayID EmployeeID Employee_FullName  \\\n0  1abc577aeaea9000c204fbb36b590000      10569    WILLIAM BROWN    \n\n                 Workers Employee_BillTransaction_Descriptor  \\\n0  WILLIAM BROWN (10569)                           10 Hours    \n\n  billableTransaction.descriptor Employee_BillTransactionDate  amount  \\\n0         10 Hours on 10/12/2023                   10/12/2023    10.0   \n\n  dayOfTheWeek FrequencySalary  ...                      timeType1.id  \\\n0     Thursday   Weekly Hourly  ...  88572bc8f2d81000d2da8beacaec0000   \n\n  totalHoursTimeTracking transactionDate2 transactionSource.descriptor  \\\n0                   10.0       2023-10-12                         Time   \n\n               transactionSource.id unit.descriptor  \\\n0  7a55a775b63b4b9b8a5b3722fc1e4556           Hours   \n\n                            unit.id  unit1 unitOfTimeIsHours unroundedDuration  \n0  c4dacbd56bca4a9a8950e8d3ed21bbdb  Hours              True               0.0  \n\n[1 rows x 338 columns]",
            "text/html": "<div>\n<style scoped>\n    .dataframe tbody tr th:only-of-type {\n        vertical-align: middle;\n    }\n\n    .dataframe tbody tr th {\n        vertical-align: top;\n    }\n\n    .dataframe thead th {\n        text-align: right;\n    }\n</style>\n<table border=\"1\" class=\"dataframe\">\n  <thead>\n    <tr style=\"text-align: right;\">\n      <th></th>\n      <th>workdayID</th>\n      <th>EmployeeID</th>\n      <th>Employee_FullName</th>\n      <th>Workers</th>\n      <th>Employee_BillTransaction_Descriptor</th>\n      <th>billableTransaction.descriptor</th>\n      <th>Employee_BillTransactionDate</th>\n      <th>amount</th>\n      <th>dayOfTheWeek</th>\n      <th>FrequencySalary</th>\n      <th>...</th>\n      <th>timeType1.id</th>\n      <th>totalHoursTimeTracking</th>\n      <th>transactionDate2</th>\n      <th>transactionSource.descriptor</th>\n      <th>transactionSource.id</th>\n      <th>unit.descriptor</th>\n      <th>unit.id</th>\n      <th>unit1</th>\n      <th>unitOfTimeIsHours</th>\n      <th>unroundedDuration</th>\n    </tr>\n  </thead>\n  <tbody>\n    <tr>\n      <th>0</th>\n      <td>1abc577aeaea9000c204fbb36b590000</td>\n      <td>10569</td>\n      <td>WILLIAM BROWN</td>\n      <td>WILLIAM BROWN (10569)</td>\n      <td>10 Hours</td>\n      <td>10 Hours on 10/12/2023</td>\n      <td>10/12/2023</td>\n      <td>10.0</td>\n      <td>Thursday</td>\n      <td>Weekly Hourly</td>\n      <td>...</td>\n      <td>88572bc8f2d81000d2da8beacaec0000</td>\n      <td>10.0</td>\n      <td>2023-10-12</td>\n      <td>Time</td>\n      <td>7a55a775b63b4b9b8a5b3722fc1e4556</td>\n      <td>Hours</td>\n      <td>c4dacbd56bca4a9a8950e8d3ed21bbdb</td>\n      <td>Hours</td>\n      <td>True</td>\n      <td>0.0</td>\n    </tr>\n  </tbody>\n</table>\n<p>1 rows × 338 columns</p>\n</div>"
          },
          "metadata": {}
        }
      ],
      "execution_count": 59,
      "metadata": {
        "jupyter": {
          "source_hidden": false,
          "outputs_hidden": false
        },
        "nteract": {
          "transient": {
            "deleting": false
          }
        },
        "gather": {
          "logged": 1697498085316
        }
      }
    },
    {
      "cell_type": "code",
      "source": [
        "#QC Work for Leanne on 10/16/2023 - Teams Chat\n",
        "### EEID == '12713' showing zero in WD, 61 in TCP\n",
        "#wd_pr_df_dev.loc[(wd_pr_df_dev['EmployeeID'] == '12713')]\n",
        "#wd_pr_df_comp.loc[wd_filter&(wd_pr_df_comp['EEID'] == '12713')]\n",
        "wd_pr_df_dev['id_dev'] = wd_pr_df_dev['Workers'].str.split('(').str[1]\n",
        "wd_pr_df_dev['test_id'] = wd_pr_df_dev['id_dev'].str.split(')').str[0]"
      ],
      "outputs": [],
      "execution_count": 80,
      "metadata": {
        "jupyter": {
          "source_hidden": false,
          "outputs_hidden": false
        },
        "nteract": {
          "transient": {
            "deleting": false
          }
        },
        "gather": {
          "logged": 1697499928634
        }
      }
    },
    {
      "cell_type": "code",
      "source": [
        "#Roberto Hernandez: issue with hours or ID?\n",
        "wd_pr_df_dev.loc[wd_pr_df_dev['Employee_FullName'].str.contains('Roberto Hern')]"
      ],
      "outputs": [
        {
          "output_type": "execute_result",
          "execution_count": 86,
          "data": {
            "text/plain": "                              workdayID EmployeeID   Employee_FullName  \\\n597    1abc577aeaea9000c2873119607f0000      20305  Roberto Hernandez    \n598    1abc577aeaea9000c28731b3b7f10000      20305  Roberto Hernandez    \n599    1abc577aeaea9000c28732e7c0ce0000      20305  Roberto Hernandez    \n600    1abc577aeaea9000c2873381f1c20000      20305  Roberto Hernandez    \n601    1abc577aeaea9000c287341ba89d0000      20305  Roberto Hernandez    \n602    1abc577aeaea9000c28734b564c70000      20305  Roberto Hernandez    \n32657  dcd88da845b59000ca299c94a9950000      20305  Roberto Hernandez    \n32658  dcd88da845b59000ca299d2eb4ab0000      20305  Roberto Hernandez    \n32659  dcd88da845b59000ca299e6433e80000      20305  Roberto Hernandez    \n32660  dcd88da845b59000ca299efead310000      20305  Roberto Hernandez    \n32661  dcd88da845b59000ca299f990cb90000      20305  Roberto Hernandez    \n37699  babe2cdd23cd9000b9dfa1c1eaec0000      20305  Roberto Hernandez    \n37700  babe2cdd23cd9000b9dfa25bd5180000      20305  Roberto Hernandez    \n\n                         Workers Employee_BillTransaction_Descriptor  \\\n597    Roberto Hernandez (20305)                           10 Hours    \n598    Roberto Hernandez (20305)                           10 Hours    \n599    Roberto Hernandez (20305)                           10 Hours    \n600    Roberto Hernandez (20305)                           10 Hours    \n601    Roberto Hernandez (20305)                           10 Hours    \n602    Roberto Hernandez (20305)                           10 Hours    \n32657  Roberto Hernandez (20305)                           10 Hours    \n32658  Roberto Hernandez (20305)                           10 Hours    \n32659  Roberto Hernandez (20305)                           10 Hours    \n32660  Roberto Hernandez (20305)                            2 Hours    \n32661  Roberto Hernandez (20305)                            7 Hours    \n37699  Roberto Hernandez (20305)                           10 Hours    \n37700  Roberto Hernandez (20305)                            9 Hours    \n\n      billableTransaction.descriptor Employee_BillTransactionDate  amount  \\\n597           10 Hours on 10/09/2023                   10/09/2023    10.0   \n598           10 Hours on 10/10/2023                   10/10/2023    10.0   \n599           10 Hours on 10/11/2023                   10/11/2023    10.0   \n600           10 Hours on 10/12/2023                   10/12/2023    10.0   \n601           10 Hours on 10/13/2023                   10/13/2023    10.0   \n602           10 Hours on 10/14/2023                   10/14/2023    10.0   \n32657         10 Hours on 10/02/2023                   10/02/2023    10.0   \n32658         10 Hours on 10/03/2023                   10/03/2023    10.0   \n32659         10 Hours on 10/04/2023                   10/04/2023    10.0   \n32660          2 Hours on 10/05/2023                   10/05/2023     2.0   \n32661          7 Hours on 10/06/2023                   10/06/2023     7.0   \n37699         10 Hours on 09/28/2023                   09/28/2023    10.0   \n37700          9 Hours on 09/29/2023                   09/29/2023     9.0   \n\n      dayOfTheWeek FrequencySalary  ... transactionDate2  \\\n597         Monday   Weekly Hourly  ...       2023-10-09   \n598        Tuesday   Weekly Hourly  ...       2023-10-10   \n599      Wednesday   Weekly Hourly  ...       2023-10-11   \n600       Thursday   Weekly Hourly  ...       2023-10-12   \n601         Friday   Weekly Hourly  ...       2023-10-13   \n602       Saturday   Weekly Hourly  ...       2023-10-14   \n32657       Monday   Weekly Hourly  ...       2023-10-02   \n32658      Tuesday   Weekly Hourly  ...       2023-10-03   \n32659    Wednesday   Weekly Hourly  ...       2023-10-04   \n32660     Thursday   Weekly Hourly  ...       2023-10-05   \n32661       Friday   Weekly Hourly  ...       2023-10-06   \n37699     Thursday   Weekly Hourly  ...       2023-09-28   \n37700       Friday   Weekly Hourly  ...       2023-09-29   \n\n      transactionSource.descriptor              transactionSource.id  \\\n597                           Time  7a55a775b63b4b9b8a5b3722fc1e4556   \n598                           Time  7a55a775b63b4b9b8a5b3722fc1e4556   \n599                           Time  7a55a775b63b4b9b8a5b3722fc1e4556   \n600                           Time  7a55a775b63b4b9b8a5b3722fc1e4556   \n601                           Time  7a55a775b63b4b9b8a5b3722fc1e4556   \n602                           Time  7a55a775b63b4b9b8a5b3722fc1e4556   \n32657                         Time  7a55a775b63b4b9b8a5b3722fc1e4556   \n32658                         Time  7a55a775b63b4b9b8a5b3722fc1e4556   \n32659                         Time  7a55a775b63b4b9b8a5b3722fc1e4556   \n32660                         Time  7a55a775b63b4b9b8a5b3722fc1e4556   \n32661                         Time  7a55a775b63b4b9b8a5b3722fc1e4556   \n37699                         Time  7a55a775b63b4b9b8a5b3722fc1e4556   \n37700                         Time  7a55a775b63b4b9b8a5b3722fc1e4556   \n\n      unit.descriptor                           unit.id  unit1  \\\n597             Hours  c4dacbd56bca4a9a8950e8d3ed21bbdb  Hours   \n598             Hours  c4dacbd56bca4a9a8950e8d3ed21bbdb  Hours   \n599             Hours  c4dacbd56bca4a9a8950e8d3ed21bbdb  Hours   \n600             Hours  c4dacbd56bca4a9a8950e8d3ed21bbdb  Hours   \n601             Hours  c4dacbd56bca4a9a8950e8d3ed21bbdb  Hours   \n602             Hours  c4dacbd56bca4a9a8950e8d3ed21bbdb  Hours   \n32657           Hours  c4dacbd56bca4a9a8950e8d3ed21bbdb  Hours   \n32658           Hours  c4dacbd56bca4a9a8950e8d3ed21bbdb  Hours   \n32659           Hours  c4dacbd56bca4a9a8950e8d3ed21bbdb  Hours   \n32660           Hours  c4dacbd56bca4a9a8950e8d3ed21bbdb  Hours   \n32661           Hours  c4dacbd56bca4a9a8950e8d3ed21bbdb  Hours   \n37699           Hours  c4dacbd56bca4a9a8950e8d3ed21bbdb  Hours   \n37700           Hours  c4dacbd56bca4a9a8950e8d3ed21bbdb  Hours   \n\n      unitOfTimeIsHours unroundedDuration  id_dev test_id  \n597                True               0.0  20305)   20305  \n598                True               0.0  20305)   20305  \n599                True               0.0  20305)   20305  \n600                True               0.0  20305)   20305  \n601                True               0.0  20305)   20305  \n602                True               0.0  20305)   20305  \n32657              True               0.0  20305)   20305  \n32658              True               0.0  20305)   20305  \n32659              True               0.0  20305)   20305  \n32660              True               0.0  20305)   20305  \n32661              True               0.0  20305)   20305  \n37699              True               0.0  20305)   20305  \n37700              True               0.0  20305)   20305  \n\n[13 rows x 340 columns]",
            "text/html": "<div>\n<style scoped>\n    .dataframe tbody tr th:only-of-type {\n        vertical-align: middle;\n    }\n\n    .dataframe tbody tr th {\n        vertical-align: top;\n    }\n\n    .dataframe thead th {\n        text-align: right;\n    }\n</style>\n<table border=\"1\" class=\"dataframe\">\n  <thead>\n    <tr style=\"text-align: right;\">\n      <th></th>\n      <th>workdayID</th>\n      <th>EmployeeID</th>\n      <th>Employee_FullName</th>\n      <th>Workers</th>\n      <th>Employee_BillTransaction_Descriptor</th>\n      <th>billableTransaction.descriptor</th>\n      <th>Employee_BillTransactionDate</th>\n      <th>amount</th>\n      <th>dayOfTheWeek</th>\n      <th>FrequencySalary</th>\n      <th>...</th>\n      <th>transactionDate2</th>\n      <th>transactionSource.descriptor</th>\n      <th>transactionSource.id</th>\n      <th>unit.descriptor</th>\n      <th>unit.id</th>\n      <th>unit1</th>\n      <th>unitOfTimeIsHours</th>\n      <th>unroundedDuration</th>\n      <th>id_dev</th>\n      <th>test_id</th>\n    </tr>\n  </thead>\n  <tbody>\n    <tr>\n      <th>597</th>\n      <td>1abc577aeaea9000c2873119607f0000</td>\n      <td>20305</td>\n      <td>Roberto Hernandez</td>\n      <td>Roberto Hernandez (20305)</td>\n      <td>10 Hours</td>\n      <td>10 Hours on 10/09/2023</td>\n      <td>10/09/2023</td>\n      <td>10.0</td>\n      <td>Monday</td>\n      <td>Weekly Hourly</td>\n      <td>...</td>\n      <td>2023-10-09</td>\n      <td>Time</td>\n      <td>7a55a775b63b4b9b8a5b3722fc1e4556</td>\n      <td>Hours</td>\n      <td>c4dacbd56bca4a9a8950e8d3ed21bbdb</td>\n      <td>Hours</td>\n      <td>True</td>\n      <td>0.0</td>\n      <td>20305)</td>\n      <td>20305</td>\n    </tr>\n    <tr>\n      <th>598</th>\n      <td>1abc577aeaea9000c28731b3b7f10000</td>\n      <td>20305</td>\n      <td>Roberto Hernandez</td>\n      <td>Roberto Hernandez (20305)</td>\n      <td>10 Hours</td>\n      <td>10 Hours on 10/10/2023</td>\n      <td>10/10/2023</td>\n      <td>10.0</td>\n      <td>Tuesday</td>\n      <td>Weekly Hourly</td>\n      <td>...</td>\n      <td>2023-10-10</td>\n      <td>Time</td>\n      <td>7a55a775b63b4b9b8a5b3722fc1e4556</td>\n      <td>Hours</td>\n      <td>c4dacbd56bca4a9a8950e8d3ed21bbdb</td>\n      <td>Hours</td>\n      <td>True</td>\n      <td>0.0</td>\n      <td>20305)</td>\n      <td>20305</td>\n    </tr>\n    <tr>\n      <th>599</th>\n      <td>1abc577aeaea9000c28732e7c0ce0000</td>\n      <td>20305</td>\n      <td>Roberto Hernandez</td>\n      <td>Roberto Hernandez (20305)</td>\n      <td>10 Hours</td>\n      <td>10 Hours on 10/11/2023</td>\n      <td>10/11/2023</td>\n      <td>10.0</td>\n      <td>Wednesday</td>\n      <td>Weekly Hourly</td>\n      <td>...</td>\n      <td>2023-10-11</td>\n      <td>Time</td>\n      <td>7a55a775b63b4b9b8a5b3722fc1e4556</td>\n      <td>Hours</td>\n      <td>c4dacbd56bca4a9a8950e8d3ed21bbdb</td>\n      <td>Hours</td>\n      <td>True</td>\n      <td>0.0</td>\n      <td>20305)</td>\n      <td>20305</td>\n    </tr>\n    <tr>\n      <th>600</th>\n      <td>1abc577aeaea9000c2873381f1c20000</td>\n      <td>20305</td>\n      <td>Roberto Hernandez</td>\n      <td>Roberto Hernandez (20305)</td>\n      <td>10 Hours</td>\n      <td>10 Hours on 10/12/2023</td>\n      <td>10/12/2023</td>\n      <td>10.0</td>\n      <td>Thursday</td>\n      <td>Weekly Hourly</td>\n      <td>...</td>\n      <td>2023-10-12</td>\n      <td>Time</td>\n      <td>7a55a775b63b4b9b8a5b3722fc1e4556</td>\n      <td>Hours</td>\n      <td>c4dacbd56bca4a9a8950e8d3ed21bbdb</td>\n      <td>Hours</td>\n      <td>True</td>\n      <td>0.0</td>\n      <td>20305)</td>\n      <td>20305</td>\n    </tr>\n    <tr>\n      <th>601</th>\n      <td>1abc577aeaea9000c287341ba89d0000</td>\n      <td>20305</td>\n      <td>Roberto Hernandez</td>\n      <td>Roberto Hernandez (20305)</td>\n      <td>10 Hours</td>\n      <td>10 Hours on 10/13/2023</td>\n      <td>10/13/2023</td>\n      <td>10.0</td>\n      <td>Friday</td>\n      <td>Weekly Hourly</td>\n      <td>...</td>\n      <td>2023-10-13</td>\n      <td>Time</td>\n      <td>7a55a775b63b4b9b8a5b3722fc1e4556</td>\n      <td>Hours</td>\n      <td>c4dacbd56bca4a9a8950e8d3ed21bbdb</td>\n      <td>Hours</td>\n      <td>True</td>\n      <td>0.0</td>\n      <td>20305)</td>\n      <td>20305</td>\n    </tr>\n    <tr>\n      <th>602</th>\n      <td>1abc577aeaea9000c28734b564c70000</td>\n      <td>20305</td>\n      <td>Roberto Hernandez</td>\n      <td>Roberto Hernandez (20305)</td>\n      <td>10 Hours</td>\n      <td>10 Hours on 10/14/2023</td>\n      <td>10/14/2023</td>\n      <td>10.0</td>\n      <td>Saturday</td>\n      <td>Weekly Hourly</td>\n      <td>...</td>\n      <td>2023-10-14</td>\n      <td>Time</td>\n      <td>7a55a775b63b4b9b8a5b3722fc1e4556</td>\n      <td>Hours</td>\n      <td>c4dacbd56bca4a9a8950e8d3ed21bbdb</td>\n      <td>Hours</td>\n      <td>True</td>\n      <td>0.0</td>\n      <td>20305)</td>\n      <td>20305</td>\n    </tr>\n    <tr>\n      <th>32657</th>\n      <td>dcd88da845b59000ca299c94a9950000</td>\n      <td>20305</td>\n      <td>Roberto Hernandez</td>\n      <td>Roberto Hernandez (20305)</td>\n      <td>10 Hours</td>\n      <td>10 Hours on 10/02/2023</td>\n      <td>10/02/2023</td>\n      <td>10.0</td>\n      <td>Monday</td>\n      <td>Weekly Hourly</td>\n      <td>...</td>\n      <td>2023-10-02</td>\n      <td>Time</td>\n      <td>7a55a775b63b4b9b8a5b3722fc1e4556</td>\n      <td>Hours</td>\n      <td>c4dacbd56bca4a9a8950e8d3ed21bbdb</td>\n      <td>Hours</td>\n      <td>True</td>\n      <td>0.0</td>\n      <td>20305)</td>\n      <td>20305</td>\n    </tr>\n    <tr>\n      <th>32658</th>\n      <td>dcd88da845b59000ca299d2eb4ab0000</td>\n      <td>20305</td>\n      <td>Roberto Hernandez</td>\n      <td>Roberto Hernandez (20305)</td>\n      <td>10 Hours</td>\n      <td>10 Hours on 10/03/2023</td>\n      <td>10/03/2023</td>\n      <td>10.0</td>\n      <td>Tuesday</td>\n      <td>Weekly Hourly</td>\n      <td>...</td>\n      <td>2023-10-03</td>\n      <td>Time</td>\n      <td>7a55a775b63b4b9b8a5b3722fc1e4556</td>\n      <td>Hours</td>\n      <td>c4dacbd56bca4a9a8950e8d3ed21bbdb</td>\n      <td>Hours</td>\n      <td>True</td>\n      <td>0.0</td>\n      <td>20305)</td>\n      <td>20305</td>\n    </tr>\n    <tr>\n      <th>32659</th>\n      <td>dcd88da845b59000ca299e6433e80000</td>\n      <td>20305</td>\n      <td>Roberto Hernandez</td>\n      <td>Roberto Hernandez (20305)</td>\n      <td>10 Hours</td>\n      <td>10 Hours on 10/04/2023</td>\n      <td>10/04/2023</td>\n      <td>10.0</td>\n      <td>Wednesday</td>\n      <td>Weekly Hourly</td>\n      <td>...</td>\n      <td>2023-10-04</td>\n      <td>Time</td>\n      <td>7a55a775b63b4b9b8a5b3722fc1e4556</td>\n      <td>Hours</td>\n      <td>c4dacbd56bca4a9a8950e8d3ed21bbdb</td>\n      <td>Hours</td>\n      <td>True</td>\n      <td>0.0</td>\n      <td>20305)</td>\n      <td>20305</td>\n    </tr>\n    <tr>\n      <th>32660</th>\n      <td>dcd88da845b59000ca299efead310000</td>\n      <td>20305</td>\n      <td>Roberto Hernandez</td>\n      <td>Roberto Hernandez (20305)</td>\n      <td>2 Hours</td>\n      <td>2 Hours on 10/05/2023</td>\n      <td>10/05/2023</td>\n      <td>2.0</td>\n      <td>Thursday</td>\n      <td>Weekly Hourly</td>\n      <td>...</td>\n      <td>2023-10-05</td>\n      <td>Time</td>\n      <td>7a55a775b63b4b9b8a5b3722fc1e4556</td>\n      <td>Hours</td>\n      <td>c4dacbd56bca4a9a8950e8d3ed21bbdb</td>\n      <td>Hours</td>\n      <td>True</td>\n      <td>0.0</td>\n      <td>20305)</td>\n      <td>20305</td>\n    </tr>\n    <tr>\n      <th>32661</th>\n      <td>dcd88da845b59000ca299f990cb90000</td>\n      <td>20305</td>\n      <td>Roberto Hernandez</td>\n      <td>Roberto Hernandez (20305)</td>\n      <td>7 Hours</td>\n      <td>7 Hours on 10/06/2023</td>\n      <td>10/06/2023</td>\n      <td>7.0</td>\n      <td>Friday</td>\n      <td>Weekly Hourly</td>\n      <td>...</td>\n      <td>2023-10-06</td>\n      <td>Time</td>\n      <td>7a55a775b63b4b9b8a5b3722fc1e4556</td>\n      <td>Hours</td>\n      <td>c4dacbd56bca4a9a8950e8d3ed21bbdb</td>\n      <td>Hours</td>\n      <td>True</td>\n      <td>0.0</td>\n      <td>20305)</td>\n      <td>20305</td>\n    </tr>\n    <tr>\n      <th>37699</th>\n      <td>babe2cdd23cd9000b9dfa1c1eaec0000</td>\n      <td>20305</td>\n      <td>Roberto Hernandez</td>\n      <td>Roberto Hernandez (20305)</td>\n      <td>10 Hours</td>\n      <td>10 Hours on 09/28/2023</td>\n      <td>09/28/2023</td>\n      <td>10.0</td>\n      <td>Thursday</td>\n      <td>Weekly Hourly</td>\n      <td>...</td>\n      <td>2023-09-28</td>\n      <td>Time</td>\n      <td>7a55a775b63b4b9b8a5b3722fc1e4556</td>\n      <td>Hours</td>\n      <td>c4dacbd56bca4a9a8950e8d3ed21bbdb</td>\n      <td>Hours</td>\n      <td>True</td>\n      <td>0.0</td>\n      <td>20305)</td>\n      <td>20305</td>\n    </tr>\n    <tr>\n      <th>37700</th>\n      <td>babe2cdd23cd9000b9dfa25bd5180000</td>\n      <td>20305</td>\n      <td>Roberto Hernandez</td>\n      <td>Roberto Hernandez (20305)</td>\n      <td>9 Hours</td>\n      <td>9 Hours on 09/29/2023</td>\n      <td>09/29/2023</td>\n      <td>9.0</td>\n      <td>Friday</td>\n      <td>Weekly Hourly</td>\n      <td>...</td>\n      <td>2023-09-29</td>\n      <td>Time</td>\n      <td>7a55a775b63b4b9b8a5b3722fc1e4556</td>\n      <td>Hours</td>\n      <td>c4dacbd56bca4a9a8950e8d3ed21bbdb</td>\n      <td>Hours</td>\n      <td>True</td>\n      <td>0.0</td>\n      <td>20305)</td>\n      <td>20305</td>\n    </tr>\n  </tbody>\n</table>\n<p>13 rows × 340 columns</p>\n</div>"
          },
          "metadata": {}
        }
      ],
      "execution_count": 86,
      "metadata": {
        "jupyter": {
          "source_hidden": false,
          "outputs_hidden": false
        },
        "nteract": {
          "transient": {
            "deleting": false
          }
        },
        "gather": {
          "logged": 1697500080256
        }
      }
    },
    {
      "cell_type": "code",
      "source": [
        "for x in list(wd_pr_df_dev['test_id'].unique()):\n",
        "    print(x)"
      ],
      "outputs": [
        {
          "output_type": "stream",
          "name": "stdout",
          "text": "10569\n10670\n11114\n11115\n11139\n11892\n12492\n12583\n13577\n13750\n14379\n14432\n14437\n14449\n20161\n20162\n20218\n20235\n20370\n20468\n20420\n20438\n20626\n20632\n20637\n20638\n20717\n20724\n7407\n8027\n12213\n12230\n15081\n15357\n5217\n9044\n20703\n20706\n20707\n20708\n20709\n20711\n20712\n5874\n5895\n5896\n6049\n6114\n6573\n6595\n14018\n6015\n6796\n6858\n7007\n7091\n7100\n7116\n7181\n7206\n7287\n7433\n7804\n7875\n8029\n16299\n16283\n16293\n20336\n20339\n20355\n20271\n20414\n20413\n20431\n20465\n20506\n20515\n20502\n20504\n20505\n20519\n20689\n20694\n20697\n20698\n20700\n5441\n6992\n8624\n9970\n10428\n10386\n10547\n10625\n10640\n10896\n11290\n11682\n11650\n11653\n11931\n12045\n12076\n12332\n12404\n12476\n12503\n12526\n15784\n14031\n10729\n15667\n10588\n8727\n15314\n15838\n8752\n14164\n14377\n5452\n10417\n16243\n5218\n7117\n12886\n12808\n13491\n12497\n15649\n4260\n7245\n8745\n8160\n7366\n8722\n8276\n6570\n6578\n7125\n8339\n7505\n8730\n8341\n7430\n8949\n8997\n9008\n9088\n9509\n16281\n16282\n16284\n16285\n20305\n20301\n20303\n20346\n20357\n9749\n9790\n9912\n10044\n10142\n10147\n10175\n10164\n10332\n10568\n10658\n10916\n10911\n8916\n8917\n8968\n10027\n11379\n11622\n14643\n14698\n14782\n14796\n14969\n14986\n14174\n14627\n14645\n14694\n14697\n14751\n9290\n13841\n14187\n14752\n14755\n14826\n14829\n15880\n15026\n7097\n15995\n16049\n16051\n16207\n16214\n16217\n16309\n16078\n16115\n16044\n16047\n20154\n20155\n16050\n4700\n5845\n16134\n16149\n5925\n16053\n15367\n16116\n10847\n15366\n15487\n16185\n15453\n11434\n11422\n15449\n16150\n15447\n15431\n15430\n11703\n15493\n15598\n15596\n13818\n13883\n13878\n13884\n13892\n13998\n13999\n14132\n14142\n14176\n14154\n14201\n14202\n11763\n15923\n5533\n5559\n5596\n5864\n5948\n5988\n6680\n8715\n8541\n8542\n14868\n14869\n14953\n14951\n14957\n14958\n14962\n15020\n15048\n15114\n15118\n15201\n15193\n15213\n15275\n15299\n15383\n12804\n15391\n15400\n15402\n13012\n15441\n13112\n15517\n13395\n15526\n13772\n15650\n13933\n14144\n15051\n15064\n15198\n15202\n15203\n15296\n15301\n15319\n15438\n5980\n6256\n8611\n14862\n15010\n6385\n6503\n6887\n15083\n7000\n7187\n15095\n15100\n15121\n8000\n15162\n6824\n9840\n15143\n6572\n9907\n10682\n14220\n5589\n7826\n7879\n15648\n15630\n9116\n14847\n14923\n15842\n15845\n14911\n14927\n15848\n15068\n15846\n15858\n15080\n15944\n15055\n15960\n15071\n15984\n15987\n15082\n15223\n16001\n15243\n9688\n9894\n4362\n12346\n12393\n12511\n1510\n12654\n12974\n14689\n13021\n14025\n9771\n10265\n10578\n11270\n11360\n11416\n11513\n11662\n11690\n12009\n12538\n12592\n12878\n12884\n12883\n13252\n13254\n13362\n13629\n13705\n13930\n13970\n14131\n14511\n14519\n14595\n14614\n14714\n14726\n14729\n14736\n13181\n13241\n14764\n13540\n14768\n14771\n14789\n14845\n4290\n14849\n14859\n4293\n5172\n14954\n5211\n15589\n16114\n7350\n20696\n15733\n20174\n20333\n14521\n5256\n9094\n15699\n5258\n20270\n4418\n6627\n10072\n10252\n11319\n11825\n11878\n12480\n12505\n13098\n13289\n15098\n15671\n15677\n15694\n15837\n15917\n15916\n15920\n15930\n15934\n16064\n16069\n16072\n16071\n16075\n16087\n16090\n16167\n16153\n16168\n16176\n16189\n16221\n20143\n12044\n7471\n12212\n16158\n16159\n16184\n16236\n16237\n16238\n16239\n16242\n16259\n16257\n16262\n11204\n11449\n15241\n11991\n15302\n12092\n15304\n15331\n12215\n15396\n15385\n12222\n15486\n13938\n14261\n15363\n15025\n15152\n15356\n14244\n14256\n14271\n14328\n14350\n14354\n14364\n14541\n14658\n14738\n15992\n15679\n16122\n16119\n16098\n16097\n16100\n16101\n16104\n16112\n16152\n14216\n15156\n15168\n15171\n15190\n15386\n15470\n15558\n15573\n15576\n15607\n20172\n15355\n15354\n20177\n20178\n15352\n20283\n15350\n15375\n20284\n6081\n15368\n20287\n20496\n15370\n20499\n20539\n8025\n6682\n20541\n5385\n15040\n9020\n15065\n5118\n15653\n6210\n6756\n15665\n6871\n15737\n9089\n9101\n6941\n15057\n15823\n15825\n9256\n9352\n15076\n7142\n15942\n15946\n8299\n15109\n6600\n7808\n7771\n6625\n6659\n8321\n15129\n20279\n6684\n15177\n20483\n20485\n6710\n7750\n10006\n20484\n20480\n20542\n20607\n20549\n15183\n15261\n20608\n20692\n20713\n8170\n10144\n10223\n20693\n20695\n7594\n7276\n8417\n14297\n15349\n15254\n8764\n8694\n14873\n8828\n14895\n14897\n15408\n9192\n9459\n15432\n9905\n14991\n14994\n10017\n10036\n15499\n15388\n15309\n15413\n15533\n15528\n11056\n15698\n15700\n12334\n12997\n13620\n13619\n13639\n14013\n14145\n7343\n14431\n14520\n13465\n13537\n14558\n14621\n13528\n13529\n13452\n20245\n20248\n14622\n14647\n20268\n14676\n14688\n20400\n14691\n13962\n14049\n14692\n14779\n14780\n14111\n14867\n2526\n4126\n20411\n16121\n4144\n16128\n20478\n20527\n16142\n15565\n15571\n15749\n15887\n15914\n15708\n15712\n15915\n15918\n15964\n15685\n15989\n16008\n16015\n16043\n16110\n16108\n5993\n6022\n6195\n6158\n16230\n16235\n6218\n6232\n16231\n16331\n20523\n20525\n20524\n20600\n20595\n20597\n20598\n20599\n20602\n20601\n20603\n20609\n20683\n20730\n7075\n7770\n8422\n8436\n6641\n6674\n16342\n16338\n6667\n6719\n20168\n20318\n6841\n6934\n7185\n20211\n20241\n7567\n5297\n5301\n4266\n5422\n20556\n16145\n16177\n16182\n20215\n20213\n20557\n20631\n20221\n20223\n20224\n20229\n20226\n20263\n20444\n20449\n20452\n20454\n20493\n20498\n20528\n20605\n20611\n20606\n20613\n20663\n20680\n20243\n20214\n20242\n8964\n12325\n8087\n20151\n20152\n20153\n20378\n20472\n20562\n20567\n20570\n20571\n20572\n20577\n20578\n20568\n20569\n20573\n20576\n20580\n20582\n20581\n20585\n11934\n12412\n12485\n12661\n12896\n13058\n13095\n20244\n20247\n13174\n13255\n7701\n20265\n4175\n4258\n2793\n7954\n8479\n8245\n8104\n8363\n7124\n8482\n7741\n8737\n8563\n8553\n8610\n8526\n8823\n8821\n8773\n8854\n9243\n11110\n14479\n20325\n15184\n14097\n16234\n9188\n10685\n15050\n10743\n11997\n14959\n14446\n20141\n6629\n5171\n7728\n5261\n5299\n7256\n5335\n5347\n7231\n7413\n7576\n7798\n5464\n5623\n7944\n7765\n6477\n6470\n15814\n15826\n15875\n16191\n16226\n16287\n14956\n9042\n8965\n9058\n9219\n9347\n9438\n9556\n9879\n9955\n10154\n10076\n10115\n10150\n10178\n10264\n10267\n10485\n10512\n10706\n10745\n10751\n10747\n10739\n10737\n10100\n10229\n10489\n10699\n11242\n11463\n11966\n12072\n12134\n12161\n12570\n12656\n12877\n13177\n13699\n13846\n13865\n14069\n14088\n14094\n14098\n5197\n5283\n5300\n5329\n10811\n11120\n11309\n11643\n11876\n12307\n12529\n12724\n13066\n13067\n13102\n13140\n13188\n13272\n13538\n13656\n13903\n14147\n14305\n14383\n14381\n14384\n14386\n14388\n14925\n14934\n14940\n14942\n14944\n15015\n15148\n15151\n15161\n15166\n15167\n15209\n15235\n15237\n15371\n15376\n15377\n15472\n15475\n15478\n15512\n7795\n7861\n12502\n20146\n20147\n20148\n9793\n9134\n9378\n14481\n14546\n14556\n14732\n14741\n14983\n14997\n15011\n15052\n15054\n15056\n15049\n15180\n15185\n15186\n15187\n15188\n15189\n16365\n20311\n20310\n14803\n15418\n20312\n20314\n20313\n20315\n15812\n15815\n20323\n20320\n20327\n20365\n20366\n6982\n20184\n15818\n15931\n20186\n20197\n20258\n7973\n15967\n15972\n20255\n20256\n20257\n9190\n9207\n9209\n15896\n15919\n16003\n16007\n15965\n16113\n16136\n16250\n16256\n4217\n14737\n14907\n14909\n15831\n14583\n15899\n16261\n9892\n20166\n20179\n20274\n15300\n15421\n15543\n15549\n15680\n15687\n15692\n15724\n15727\n15778\n15793\n15789\n15601\n20353\n20142\n20367\n9633\n20501\n20260\n8234\n20308\n20332\n16096\n7934\n6307\n5127\n15890\n16199\n16155\n4242\n13879\n16258\n16269\n16268\n16266\n16272\n16277\n16276\n16274\n20144\n20149\n20150\n6940\n7931\n6473\n6889\n7830\n8081\n7247\n7998\n9124\n7737\n7948\n9902\n10065\n7457\n7969\n6141\n6153\n6420\n6744\n6893\n6997\n7823\n8055\n11860\n11964\n12029\n12155\n12468\n12435\n12438\n12586\n12853\n12954\n13293\n13798\n14345\n14491\n14886\n14889\n8106\n15142\n15137\n15330\n15334\n15409\n15501\n15484\n15496\n15609\n15624\n15626\n15634\n15655\n15635\n15652\n15827\n15664\n15833\n15830\n15829\n15840\n15892\n5606\n6100\n20376\n4269\n4927\n5404\n5871\n8535\n8616\n8891\n9005\n6155\n6230\n6388\n6392\n6645\n6676\n6678\n6673\n15214\n16103\n16106\n15584\n15586\n15593\n15709\n15703\n15714\n5741\n13460\n6124\n14828\n15225\n13035\n15074\n9574\n20160\n20586\n20587\n20584\n20767\n20768\n20769\n20770\n20771\n20772\n20773\n20774\n20775\n9576\n20276\n20479\n20488\n20492\n20521\n20522\n20627\n6865\n5846\n14283\n14702\n10141\n10542\n10617\n10693\n10865\n10985\n10834\n11052\n11406\n11386\n11388\n11681\n11750\n11847\n6585\n15731\n15740\n15955\n15978\n16005\n16010\n16077\n16076\n16093\n16117\n16327\n20326\n20328\n8188\n7844\n8747\n9052\n6917\n9113\n9631\n11045\n6769\n11093\n7488\n11793\n11983\n12150\n13159\n14136\n14193\n13130\n14120\n14340\n14535\n14635\n14731\n14757\n14884\n14913\n9424\n14686\n5520\n7338\n9135\n5982\n4218\n5200\n5311\n5467\n5471\n5480\n5523\n5521\n5847\n6064\n15785\n15893\n9910\n10058\n3571\n10177\n10220\n10296\n10233\n10634\n10839\n10931\n10936\n11557\n11572\n11646\n12323\n12318\n8251\n12698\n12691\n12696\n12697\n4306\n9013\n10077\n1451\n15872\n20251\n20252\n20275\n20289\n20321\n20430\n20455\n20458\n20459\n20462\n20490\n20491\n20589\n20593\n20588\n20639\n20635\n7012\n6877\n16036\n16079\n16082\n16091\n16095\n16099\n16131\n12863\n7595\n7098\n8815\n15390\n15465\n15455\n15516\n15701\n15249\n6704\n6803\n6826\n7005\n7258\n7261\n7881\n8034\n15014\n15133\n15280\n15306\n15310\n9038\n10266\n15423\n15452\n15503\n16350\n16368\n14890\n14820\n7087\n14866\n15062\n15112\n15212\n15340\n15346\n15401\n15397\n15444\n15574\n15579\n15585\n15691\n15937\n15935\n15928\n16086\n16222\n16223\n16227\n15924\n15925\n15929\n15959\n16057\n16229\n16233\n16232\n20139\n20302\n20307\n20319\n20335\n20157\n20165\n20217\n20441\n20442\n20620\n20628\n20625\n20630\n20633\n20636\n20657\n5416\n5423\n5643\n5815\n5898\n7050\n8896\n9854\n7403\n10602\n7494\n11621\n11926\n13373\n13591\n14129\n14719\n14720\n16228\n20230\n15682\n15338\n15425\n15427\n15460\n15463\n15466\n15490\n15520\n6216\n6243\n6245\n6406\n6414\n6626\n6712\n6739\n6946\n6991\n6993\n7001\n12174\n12400\n12425\n12427\n12644\n12690\n12693\n12694\n13643\n14932\n15130\n15226\n15227\n15233\n15236\n15239\n15242\n15273\n15324\n15327\n15333\n6876\n20535\n20536\n20537\n20543\n20548\n20699\n20704\n20742\n16341\n7002\n16025\n20345\n16336\n11237\n10400\n7270\n16332\n12783\n12782\n12836\n12862\n11455\n11593\n12143\n14598\n14822\n14894\n16037\n16048\n16301\n16297\n16306\n16339\n16310\n16367\n16323\n20227\n7085\n7127\n7138\n7192\n7193\n7218\n7252\n7253\n7255\n7262\n7501\n20354\n20358\n20359\n20371\n20373\n20374\n20375\n20377\n20380\n20402\n20421\n20422\n20477\n20481\n20531\n7381\n7563\n7579\n7608\n7610\n8046\n8069\n9327\n10366\n11606\n11688\n11678\n11767\n11821\n12160\n12499\n12528\n12512\n12979\n13361\n13472\n13614\n13808\n15399\n8762\n15683\n16163\n16190\n5603\n5702\n5704\n5779\n2759\n5862\n5890\n5915\n5926\n6038\n6098\n6229\n6253\n6276\n6273\n6501\n6923\n12686\n12908\n13018\n13216\n13230\n13266\n13333\n14660\n20138\n15952\n16026\n16030\n15207\n15353\n16157\n16196\n16212\n20180\n9812\n15790\n10069\n15290\n15372\n15403\n15433\n15429\n15519\n15622\n15623\n15594\n15660\n15696\n12755\n12791\n11636\n11774\n12822\n11808\n8129\n11566\n14551\n13345\n13355\n13377\n13420\n13512\n14191\n14597\n8033\n14679\n15097\n20427\n20616\n20624\n20634\n20658\n20734\n13233\n13111\n15816\n15811\n15810\n15769\n15753\n15822\n15853\n15849\n15865\n16002\n16035\n11942\n13050\n13183\n12002\n13261\n13251\n12101\n12109\n13383\n13350\n12279\n13358\n16039\n20231\n20232\n20237\n20238\n20618\n20690\n5444\n5761\n5972\n5968\n6042\n20159\n16080\n5821\n10243\n2658\n10290\n10382\n10563\n10549\n10662\n10794\n10841\n10919\n11065\n11570\n11569\n11687\n11724\n11853\n12003\n12328\n12385\n12383\n12475\n12639\n12673\n14703\n5777\n5899\n14649\n6237\n14706\n6312\n14725\n14745\n16135\n16296\n16335\n16340\n20299\n20329\n20334\n20338\n8554\n5624\n13085\n13105\n13185\n13203\n16213\n20304\n20324\n20167\n15511\n5456\n5459\n5505\n5510\n2783\n5584\n2520\n9874\n7483\n14863\n8466\n20163\n20293\n5767\n20189\n20175\n20194\n20201\n20205\n20207\n20219\n20222\n20225\n20233\n7892\n9536\n9592\n9857\n15250\n10173\n10335\n15566\n15647\n15659\n15684\n15686\n15695\n16004\n16006\n16012\n16020\n10074\n14114\n14117\n14690\n15678\n15894\n6231\n7059\n9262\n10094\n10172\n10174\n10228\n10292\n10793\n10887\n11040\n12767\n12776\n12869\n12874\n13010\n13053\n13078\n13119\n13581\n13524\n13586\n13698\n11182\n13757\n15577\n15563\n15614\n15618\n15617\n15722\n15728\n15738\n15754\n15767\n15775\n15776\n15780\n15730\n15795\n15796\n15802\n15797\n20228\n20286\n20401\n20412\n4708\n4837\n5135\n5187\n5244\n5360\n2623\n2739\n13788\n13796\n14053\n14055\n14275\n14434\n14473\n14636\n14654\n14716\n14912\n14910\n15030\n15037\n15038\n15042\n15043\n15070\n15075\n15106\n15102\n15159\n15199\n15217\n8707\n12640\n11150\n11178\n12641\n11440\n15263\n15291\n15293\n15343\n15335\n15325\n15322\n15323\n15318\n15485\n15471\n11083\n20437\n20435\n20659\n20660\n20661\n20662\n20664\n20666\n20665\n20667\n20668\n20688\n20732\n15948\n15144\n5567\n16188\n11897\n14287\n11841\n15597\n7528\n9477\n10245\n6154\n15216\n14471\n15828\n9250\n16192\n14397\n6401\n6257\n11367\n6132\n6192\n8734\n2578\n14929\n8993\n14914\n9035\n14995\n14992\n9059\n15006\n9064\n15029\n15047\n9069\n15036\n9411\n15087\n9420\n15096\n15147\n9746\n15248\n9968\n15274\n15289\n15572\n12081\n15787\n15798\n15926\n15927\n15932\n15940\n15945\n15947\n15963\n12264\n13543\n12285\n13824\n12314\n12338\n14262\n12635\n14404\n14409\n15474\n15464\n15500\n15502\n15461\n15473\n15522\n15448\n15459\n15488\n15477\n15510\n15553\n15559\n15562\n15583\n15567\n15581\n15897\n15174\n11119\n15904\n14875\n16031\n8409\n16210\n14790\n9408\n8945\n6418\n9475\n6931\n16330\n6764\n7288\n14394\n6664\n15395\n14926\n6179\n15988\n6618\n11148\n15717\n16068\n15883\n5104\n12070\n12108\n12454\n12558\n12888\n13138\n14683\n14998\n8718\n6358\n6747\n14767\n6977\n14766\n14791\n8520\n14851\n14857\n15804\n15807\n15819\n15821\n15900\n15898\n15891\n15885\n15881\n15903\n15902\n15870\n15867\n15869\n15863\n15843\n15911\n15977\n15979\n15974\n16018\n16022\n16029\n14276\n9785\n14282\n7081\n7128\n7129\n7190\n7207\n7232\n7234\n7235\n7236\n7289\n7308\n7327\n12844\n11824\n6446\n6482\n6672\n6751\n6755\n6831\n6937\n6988\n6995\n7079\n14864\n14880\n8849\n14877\n16032\n16123\n16129\n16195\n16201\n16203\n16211\n16218\n16219\n16315\n16311\n16314\n16307\n16308\n16303\n16300\n16295\n16254\n16248\n16251\n16244\n16246\n16245\n16241\n16333\n16328\n16320\n16319\n20342\n20344\n20347\n7904\n7943\n8122\n8266\n8414\n8903\n10519\n11089\n11113\n11127\n11254\n11289\n11323\n11560\n11581\n11666\n11779\n11844\n15320\n7283\n6163\n13951\n12206\n8120\n6574\n12178\n11659\n5935\n16060\n5040\n3068\n10774\n15283\n15360\n16216\n15943\n10380\n5830\n20348\n20349\n20352\n20368\n20204\n20202\n20206\n20212\n9655\n9659\n9666\n9734\n9932\n15803\n15393\n15721\n9236\n8663\n14856\n9998\n9750\n15627\n6302\n12523\n8039\n6156\n6905\n15218\n16204\n6069\n16084\n7284\n13249\n6873\n16313\n16009\n13237\n6637\n14893\n15039\n15090\n15252\n15311\n15326\n15384\n15387\n15645\n15715\n15719\n15134\n15711\n14681\n16360\n20181\n20239\n20261\n20291\n20292\n20317\n20331\n20379\n20381\n20382\n20383\n20386\n20387\n20388\n20389\n20391\n20682\n20684\n20686\n20687\n20714\n20719\n20720\n20721\n20722\n20723\n16083\n15966\n16073\n7764\n7499\n7531\n7716\n7717\n7759\n7772\n7789\n7886\n7898\n12240\n12242\n12372\n12392\n12380\n12507\n12553\n15554\n14436\n15971\n16033\n16034\n16065\n16066\n16208\n16209\n20394\n20395\n20397\n20399\n20408\n20409\n20415\n20416\n20418\n20426\n20428\n20432\n20436\n20475\n20621\n20622\n20623\n20629\n20674\n20675\n20676\n20677\n20679\n12545\n20392\n20393\n9575\n9618\n11020\n11084\n11097\n11135\n15631\n15633\n15636\n15639\n15641\n15651\n15656\n15690\n15716\n15725\n15734\n15743\n15758\n15756\n15766\n15801\n15817\n15913\n16054\n16052\n16070\n4587\n4593\n4635\n4652\n4696\n4864\n16321\n16325\n16326\n16337\n16344\n16353\n14311\n14391\n14392\n14413\n14657\n14659\n14677\n14728\n14769\n14773\n14801\n14825\n14937\n14946\n14949\n14965\n14964\n14971\n15380\n9940\n10193\n10325\n10343\n10362\n10675\n10979\n11010\n11015\n11017\n14974\n15061\n15256\n15272\n15278\n15279\n15267\n15282\n15264\n15294\n15404\n15411\n15414\n15506\n15535\n15539\n15568\n15595\n20403\n9450\n9480\n9500\n9523\n9534\n11145\n11288\n11294\n11335\n11689\n11705\n11715\n12268\n12237\n12239\n4887\n8671\n9050\n9194\n20649\n20650\n20653\n20654\n20655\n20656\n20645\n20646\n20647\n20648\n20651\n20652\n20669\n20671\n20672\n20673\n20685\n20715\n20739\n20738\n20740\n20741\n7965\n15868\n15580\n12710\n12713\n12715\n12731\n12859\n12928\n12932\n13039\n13047\n13556\n13648\n9254\n9261\n9283\n9369\n14587\n7310\n7675\n7405\n15866\n15864\n15939\n15941\n15999\n16220\n16198\n13935\n14180\n14291\n14292\n14306\n20486\n20510\n20511\n20512\n20509\n20517\n20530\n20532\n20533\n20529\n20534\n20640\n20670\n20641\n20642\n20643\n20644\n7867\n7731\n7373\n7631\n7440\n8799\n16352\n16345\n16343\n16349\n16354\n16355\n16358\n16366\n16359\n16361\n16362\n11279\n14348\n14406\n20460\n20461\n20476\n7743\n5999\n6563\n8228\n8655\n8783\n8819\n9472\n9456\n9742\n16094\n16289\n15675\n15599\n11539\n11609\n11754\n16024\n16197\n16202\n16161\n15507\n15530\n15813\n15736\n12353\n15805\n10098\n10326\n10405\n10469\n10829\n11223\n14378\n14648\n15013\n15341\n15435\n15654\n15670\n15809\n15951\n16061\n20136\n20246\n20369\n20445\n20448\n20451\n20443\n20446\n20453\n20538\n15933\n6525\n15582\n15602\n15643\n15746\n15794\n7548\n20297\n20298\n20330\n1061\n15016\n7191\n10371\n14369\n13084\n13089\n4786\n6349\n7549\n15681\n11766\n12706\n15238\n12368\n12907\n13947\n20450\n13901\n14484\n20417\n15781\n15757\n7811\n14740\n15578\n16174\n15122\n15154\n3656\n12196\n12360\n12366\n12396\n16160\n16186\n11995\n12058\n7320\n14743\n14775\n16058\n16055\n16224\n16021\n6024\n6102\n20487\n15850\n15938\n16038\n20171\n20176\n20191\n20196\n15970\n16179\n6611\n6691\n6820\n6902\n6968\n6970\n7131\n7280\n7317\n7411\n11780\n3797\n15317\n15555\n15764\n15774\n15777\n11618\n11978\n11992\n8804\n20280\n6415\n20361\n20405\n6576\n6140\n20198\n20200\n20278\n7436\n7991\n8712\n6606\n15358\n15312\n12419\n12429\n12537\n12647\n12772\n13016\n13443\n13650\n14085\n14368\n15613\n15612\n15820\n16081\n1877\n20410\n20507\n20508\n20513\n20516\n20551\n20553\n6056\n13565\n15088\n15394\n14353\n15587\n15194\n11457\n9686\n14523\n20439\n14026\n15912\n14452\n20470\n20471\n20474\n1807\n3497\n2020\n2538\n14594\n20574\n20575\n20583\n20473\n20565\n20566\n20563\n20564\n16279\n20396\n20398\n15442\n16225\n15492\n20604\n20544\n16348\n15059\n20407\n20612\n20617\n20701\n20702\n20705\n20710\n20726\n20756\n20591\n20592\n20590\n20594\n20614\n20691\n7937\n13728\n14113\n20610\n"
        }
      ],
      "execution_count": 88,
      "metadata": {
        "jupyter": {
          "source_hidden": false,
          "outputs_hidden": false
        },
        "nteract": {
          "transient": {
            "deleting": false
          }
        },
        "gather": {
          "logged": 1697500845189
        }
      }
    },
    {
      "cell_type": "code",
      "source": [
        "tcp_df_comp.loc[tcp_filter&(tcp_df_comp['EEID'] == '12713')]"
      ],
      "outputs": [
        {
          "output_type": "execute_result",
          "execution_count": 52,
          "data": {
            "text/plain": "         EEID       Date      Job Sub_Job  Hours\n184421  12713 2023-10-09  7102120      25   10.5\n188984  12713 2023-10-08  7102120      25    8.5\n188988  12713 2023-10-10  7102120      25   10.5\n189007  12713 2023-10-13  7102120      25   10.5\n216072  12713 2023-10-12  7102120      25   10.5\n217634  12713 2023-10-11  7102120      25   10.5",
            "text/html": "<div>\n<style scoped>\n    .dataframe tbody tr th:only-of-type {\n        vertical-align: middle;\n    }\n\n    .dataframe tbody tr th {\n        vertical-align: top;\n    }\n\n    .dataframe thead th {\n        text-align: right;\n    }\n</style>\n<table border=\"1\" class=\"dataframe\">\n  <thead>\n    <tr style=\"text-align: right;\">\n      <th></th>\n      <th>EEID</th>\n      <th>Date</th>\n      <th>Job</th>\n      <th>Sub_Job</th>\n      <th>Hours</th>\n    </tr>\n  </thead>\n  <tbody>\n    <tr>\n      <th>184421</th>\n      <td>12713</td>\n      <td>2023-10-09</td>\n      <td>7102120</td>\n      <td>25</td>\n      <td>10.5</td>\n    </tr>\n    <tr>\n      <th>188984</th>\n      <td>12713</td>\n      <td>2023-10-08</td>\n      <td>7102120</td>\n      <td>25</td>\n      <td>8.5</td>\n    </tr>\n    <tr>\n      <th>188988</th>\n      <td>12713</td>\n      <td>2023-10-10</td>\n      <td>7102120</td>\n      <td>25</td>\n      <td>10.5</td>\n    </tr>\n    <tr>\n      <th>189007</th>\n      <td>12713</td>\n      <td>2023-10-13</td>\n      <td>7102120</td>\n      <td>25</td>\n      <td>10.5</td>\n    </tr>\n    <tr>\n      <th>216072</th>\n      <td>12713</td>\n      <td>2023-10-12</td>\n      <td>7102120</td>\n      <td>25</td>\n      <td>10.5</td>\n    </tr>\n    <tr>\n      <th>217634</th>\n      <td>12713</td>\n      <td>2023-10-11</td>\n      <td>7102120</td>\n      <td>25</td>\n      <td>10.5</td>\n    </tr>\n  </tbody>\n</table>\n</div>"
          },
          "metadata": {}
        }
      ],
      "execution_count": 52,
      "metadata": {
        "jupyter": {
          "source_hidden": false,
          "outputs_hidden": false
        },
        "nteract": {
          "transient": {
            "deleting": false
          }
        },
        "gather": {
          "logged": 1697497752828
        }
      }
    },
    {
      "cell_type": "code",
      "source": [
        "#QC Work for Leanne on 10/16/2023 - Teams Chat\n",
        "### ['EEID'] == '98050' showing 52 in TCP, \n",
        "wd_pr_df_comp.loc[wd_pr_df_comp['EEID'] == '98050']"
      ],
      "outputs": [
        {
          "output_type": "execute_result",
          "execution_count": 48,
          "data": {
            "text/plain": "Empty DataFrame\nColumns: [EEID, Date, Job, Sub_Job, Hours]\nIndex: []",
            "text/html": "<div>\n<style scoped>\n    .dataframe tbody tr th:only-of-type {\n        vertical-align: middle;\n    }\n\n    .dataframe tbody tr th {\n        vertical-align: top;\n    }\n\n    .dataframe thead th {\n        text-align: right;\n    }\n</style>\n<table border=\"1\" class=\"dataframe\">\n  <thead>\n    <tr style=\"text-align: right;\">\n      <th></th>\n      <th>EEID</th>\n      <th>Date</th>\n      <th>Job</th>\n      <th>Sub_Job</th>\n      <th>Hours</th>\n    </tr>\n  </thead>\n  <tbody>\n  </tbody>\n</table>\n</div>"
          },
          "metadata": {}
        }
      ],
      "execution_count": 48,
      "metadata": {
        "jupyter": {
          "source_hidden": false,
          "outputs_hidden": false
        },
        "nteract": {
          "transient": {
            "deleting": false
          }
        },
        "gather": {
          "logged": 1697497696143
        }
      }
    },
    {
      "cell_type": "code",
      "source": [
        "#QC Work for Leanne on 10/16/2023 - Teams Chat\n",
        "### ['EEID'] == '98050' showing 52 in TCP, \n",
        "tcp_df_comp.loc[(tcp_filter)&(tcp_df_comp['EEID']=='98050')]"
      ],
      "outputs": [
        {
          "output_type": "execute_result",
          "execution_count": 47,
          "data": {
            "text/plain": "         EEID       Date      Job Sub_Job  Hours\n727467  98050 2023-10-09  7102115      10   10.0\n727473  98050 2023-10-14  7102115      10    2.0\n812963  98050 2023-10-12  7102115      10   10.0\n818942  98050 2023-10-10  7102115      10   10.0\n818943  98050 2023-10-13  7102115      10   10.0\n828880  98050 2023-10-11  7102115      10   10.0",
            "text/html": "<div>\n<style scoped>\n    .dataframe tbody tr th:only-of-type {\n        vertical-align: middle;\n    }\n\n    .dataframe tbody tr th {\n        vertical-align: top;\n    }\n\n    .dataframe thead th {\n        text-align: right;\n    }\n</style>\n<table border=\"1\" class=\"dataframe\">\n  <thead>\n    <tr style=\"text-align: right;\">\n      <th></th>\n      <th>EEID</th>\n      <th>Date</th>\n      <th>Job</th>\n      <th>Sub_Job</th>\n      <th>Hours</th>\n    </tr>\n  </thead>\n  <tbody>\n    <tr>\n      <th>727467</th>\n      <td>98050</td>\n      <td>2023-10-09</td>\n      <td>7102115</td>\n      <td>10</td>\n      <td>10.0</td>\n    </tr>\n    <tr>\n      <th>727473</th>\n      <td>98050</td>\n      <td>2023-10-14</td>\n      <td>7102115</td>\n      <td>10</td>\n      <td>2.0</td>\n    </tr>\n    <tr>\n      <th>812963</th>\n      <td>98050</td>\n      <td>2023-10-12</td>\n      <td>7102115</td>\n      <td>10</td>\n      <td>10.0</td>\n    </tr>\n    <tr>\n      <th>818942</th>\n      <td>98050</td>\n      <td>2023-10-10</td>\n      <td>7102115</td>\n      <td>10</td>\n      <td>10.0</td>\n    </tr>\n    <tr>\n      <th>818943</th>\n      <td>98050</td>\n      <td>2023-10-13</td>\n      <td>7102115</td>\n      <td>10</td>\n      <td>10.0</td>\n    </tr>\n    <tr>\n      <th>828880</th>\n      <td>98050</td>\n      <td>2023-10-11</td>\n      <td>7102115</td>\n      <td>10</td>\n      <td>10.0</td>\n    </tr>\n  </tbody>\n</table>\n</div>"
          },
          "metadata": {}
        }
      ],
      "execution_count": 47,
      "metadata": {
        "jupyter": {
          "source_hidden": false,
          "outputs_hidden": false
        },
        "nteract": {
          "transient": {
            "deleting": false
          }
        },
        "gather": {
          "logged": 1697497675682
        }
      }
    },
    {
      "cell_type": "code",
      "source": [
        "#QC Work for Leanne on 10/16/2023 - Teams Chat\n",
        "### ['EEID'] == '10069' showing 44.75 in WD\n",
        "wd_pr_df_comp.loc[wd_filter&(wd_pr_df_comp['EEID']=='10069')] "
      ],
      "outputs": [
        {
          "output_type": "execute_result",
          "execution_count": 63,
          "data": {
            "text/plain": "        EEID       Date      Job Sub_Job  Hours\n9677   10069 2023-10-13  7102216      25   4.75\n12767  10069 2023-10-09  7102216      25   7.75\n12768  10069 2023-10-10  7102216      25   7.50\n12771  10069 2023-10-11  7102216      25  10.50\n12773  10069 2023-10-12  7102216      25   9.00\n12775  10069 2023-10-13  7102216      25   0.50\n12777  10069 2023-10-13  7102216      25   4.75",
            "text/html": "<div>\n<style scoped>\n    .dataframe tbody tr th:only-of-type {\n        vertical-align: middle;\n    }\n\n    .dataframe tbody tr th {\n        vertical-align: top;\n    }\n\n    .dataframe thead th {\n        text-align: right;\n    }\n</style>\n<table border=\"1\" class=\"dataframe\">\n  <thead>\n    <tr style=\"text-align: right;\">\n      <th></th>\n      <th>EEID</th>\n      <th>Date</th>\n      <th>Job</th>\n      <th>Sub_Job</th>\n      <th>Hours</th>\n    </tr>\n  </thead>\n  <tbody>\n    <tr>\n      <th>9677</th>\n      <td>10069</td>\n      <td>2023-10-13</td>\n      <td>7102216</td>\n      <td>25</td>\n      <td>4.75</td>\n    </tr>\n    <tr>\n      <th>12767</th>\n      <td>10069</td>\n      <td>2023-10-09</td>\n      <td>7102216</td>\n      <td>25</td>\n      <td>7.75</td>\n    </tr>\n    <tr>\n      <th>12768</th>\n      <td>10069</td>\n      <td>2023-10-10</td>\n      <td>7102216</td>\n      <td>25</td>\n      <td>7.50</td>\n    </tr>\n    <tr>\n      <th>12771</th>\n      <td>10069</td>\n      <td>2023-10-11</td>\n      <td>7102216</td>\n      <td>25</td>\n      <td>10.50</td>\n    </tr>\n    <tr>\n      <th>12773</th>\n      <td>10069</td>\n      <td>2023-10-12</td>\n      <td>7102216</td>\n      <td>25</td>\n      <td>9.00</td>\n    </tr>\n    <tr>\n      <th>12775</th>\n      <td>10069</td>\n      <td>2023-10-13</td>\n      <td>7102216</td>\n      <td>25</td>\n      <td>0.50</td>\n    </tr>\n    <tr>\n      <th>12777</th>\n      <td>10069</td>\n      <td>2023-10-13</td>\n      <td>7102216</td>\n      <td>25</td>\n      <td>4.75</td>\n    </tr>\n  </tbody>\n</table>\n</div>"
          },
          "metadata": {}
        }
      ],
      "execution_count": 63,
      "metadata": {
        "jupyter": {
          "source_hidden": false,
          "outputs_hidden": false
        },
        "nteract": {
          "transient": {
            "deleting": false
          }
        },
        "gather": {
          "logged": 1697498639176
        }
      }
    },
    {
      "cell_type": "code",
      "source": [],
      "outputs": [],
      "execution_count": null,
      "metadata": {
        "jupyter": {
          "source_hidden": false,
          "outputs_hidden": false
        },
        "nteract": {
          "transient": {
            "deleting": false
          }
        }
      }
    },
    {
      "cell_type": "code",
      "source": [],
      "outputs": [],
      "execution_count": null,
      "metadata": {
        "jupyter": {
          "source_hidden": false,
          "outputs_hidden": false
        },
        "nteract": {
          "transient": {
            "deleting": false
          }
        }
      }
    },
    {
      "cell_type": "code",
      "source": [
        "cmic_pr_df = cmic_pr_df_dev.copy()"
      ],
      "outputs": [],
      "execution_count": 59,
      "metadata": {
        "jupyter": {
          "source_hidden": false,
          "outputs_hidden": false
        },
        "nteract": {
          "transient": {
            "deleting": false
          }
        },
        "gather": {
          "logged": 1697465951061
        }
      }
    },
    {
      "cell_type": "code",
      "source": [
        "#CMiC Data Manipulation\n",
        "#Re-casting this column as a Date data type\n",
        "cmic_pr_df[\"Date\"] = pd.to_datetime(cmic_pr_df[\"Date\"])\n",
        "#Filter: Only Keeping Labor Hourly\n",
        "cmic_pr_df = cmic_pr_df.loc[cmic_pr_df['Task'].isin(['LH','LHA'])]\n",
        "#Renaming Relevant Columns\n",
        "cmic_pr_df = cmic_pr_df.rename({'Employee Number':'EEID','Job Code':'Job','Sub Job Code':'Sub_Job','Regular Hours':'Hours'},axis='columns')\n",
        "cmic_cols_keep = ['EEID' , 'Date' , 'Job' , 'Sub_Job' , 'Hours']\n",
        "cmic_pr_df_comp = cmic_pr_df.loc[:,cmic_cols_keep]"
      ],
      "outputs": [],
      "execution_count": 60,
      "metadata": {
        "jupyter": {
          "source_hidden": false,
          "outputs_hidden": false
        },
        "nteract": {
          "transient": {
            "deleting": false
          }
        },
        "gather": {
          "logged": 1697465952568
        }
      }
    },
    {
      "cell_type": "code",
      "source": [
        "###Step 2\n",
        "#Create filter that works for all 3 data sets\n",
        "#Group by data \n",
        "#join data for comparison (3 joins)(suffixes on columns)(Outer Join)\n",
        "#Missing EEIDs\n",
        "\n",
        "###Step 3\n",
        "#Add Job Names\n",
        "#Job Total Comparisons\n",
        "#Job and Sub Job Total Comparisons\n",
        "#Create separate DFs for missing Jobs/EEIDs paired with subjob - TBD"
      ],
      "outputs": [],
      "execution_count": 61,
      "metadata": {
        "jupyter": {
          "source_hidden": false,
          "outputs_hidden": false
        },
        "nteract": {
          "transient": {
            "deleting": false
          }
        },
        "gather": {
          "logged": 1697465953522
        }
      }
    },
    {
      "cell_type": "code",
      "source": [
        "#Date Filters\n",
        "tcp_filter = (tcp_df_comp['Date']>=start_date)&(tcp_df_comp['Date']<=end_date)\n",
        "cmic_filter = (cmic_pr_df_comp['Date']>=start_date)&(cmic_pr_df_comp['Date']<=end_date)\n",
        "wd_filter = (wd_pr_df_comp['Date']>=start_date)&(wd_pr_df_comp['Date']<=end_date)"
      ],
      "outputs": [],
      "execution_count": 107,
      "metadata": {
        "jupyter": {
          "source_hidden": false,
          "outputs_hidden": false
        },
        "nteract": {
          "transient": {
            "deleting": false
          }
        },
        "gather": {
          "logged": 1697475337289
        }
      }
    },
    {
      "cell_type": "markdown",
      "source": [
        "# FIGURE OUT CMIC DATE FILTER - MAX DATE ISSUE"
      ],
      "metadata": {
        "nteract": {
          "transient": {
            "deleting": false
          }
        }
      }
    },
    {
      "cell_type": "code",
      "source": [
        "#cmic_pr_df_comp.loc[cmic_pr_df_comp['Date']>='2023-09-23']\n",
        "#cmic_pr_df_comp.loc[cmic_filter]\n",
        "#wd_pr_df_comp.loc[wd_pr_df_comp['Date']>='2023-10-01']\n",
        "#wd_pr_df_comp.loc[wd_filter]\n",
        "#tcp_df_comp.loc[tcp_filter]\n",
        "cmic_pr_df_comp.Date.max()"
      ],
      "outputs": [
        {
          "output_type": "execute_result",
          "execution_count": 63,
          "data": {
            "text/plain": "Timestamp('2023-09-29 00:00:00')"
          },
          "metadata": {}
        }
      ],
      "execution_count": 63,
      "metadata": {
        "jupyter": {
          "source_hidden": false,
          "outputs_hidden": false
        },
        "nteract": {
          "transient": {
            "deleting": false
          }
        },
        "gather": {
          "logged": 1697465955560
        }
      }
    },
    {
      "cell_type": "markdown",
      "source": [
        "#### Grouping the Data by Different Levels"
      ],
      "metadata": {
        "nteract": {
          "transient": {
            "deleting": false
          }
        }
      }
    },
    {
      "cell_type": "code",
      "source": [
        "#Grouping by Job\n",
        "tcp_grouped_job = tcp_df_comp.loc[tcp_filter].groupby(['Job']).agg(TotalHours_TCP = pd.NamedAgg(column='Hours',aggfunc='sum'))\n",
        "tcp_grouped_job = tcp_grouped_job.reset_index()\n",
        "cmic_grouped_job = cmic_pr_df_comp.loc[cmic_filter].groupby(['Job']).agg(TotalHours_CMiC = pd.NamedAgg(column='Hours',aggfunc='sum'))\n",
        "cmic_grouped_job = cmic_grouped_job.reset_index()\n",
        "wd_grouped_job = wd_pr_df_comp.loc[wd_filter].groupby(['Job']).agg(TotalHours_WD = pd.NamedAgg(column='Hours',aggfunc='sum'))\n",
        "wd_grouped_job = wd_grouped_job.reset_index()"
      ],
      "outputs": [],
      "execution_count": 64,
      "metadata": {
        "jupyter": {
          "source_hidden": false,
          "outputs_hidden": false
        },
        "nteract": {
          "transient": {
            "deleting": false
          }
        },
        "gather": {
          "logged": 1697465956989
        }
      }
    },
    {
      "cell_type": "code",
      "source": [
        "#Grouping by Job, Sub Job\n",
        "tcp_grouped_subjob = tcp_df_comp.loc[tcp_filter].groupby(['Job','Sub_Job']).agg(TotalHours_TCP = pd.NamedAgg(column='Hours',aggfunc='sum'))\n",
        "tcp_grouped_subjob = tcp_grouped_subjob.reset_index()\n",
        "cmic_grouped_subjob = cmic_pr_df_comp.loc[cmic_filter].groupby(['Job','Sub_Job']).agg(TotalHours_CMiC = pd.NamedAgg(column='Hours',aggfunc='sum'))\n",
        "cmic_grouped_subjob = cmic_grouped_subjob.reset_index()\n",
        "wd_grouped_subjob = wd_pr_df_comp.loc[wd_filter].groupby(['Job','Sub_Job']).agg(TotalHours_WD = pd.NamedAgg(column='Hours',aggfunc='sum'))\n",
        "wd_grouped_subjob = wd_grouped_subjob.reset_index()"
      ],
      "outputs": [],
      "execution_count": 65,
      "metadata": {
        "jupyter": {
          "source_hidden": false,
          "outputs_hidden": false
        },
        "nteract": {
          "transient": {
            "deleting": false
          }
        },
        "gather": {
          "logged": 1697465957854
        }
      }
    },
    {
      "cell_type": "code",
      "source": [
        "#Grouping by Job, Sub Job, EEID\n",
        "### Commented out for EEID Comparison Only - uncomment out to compare EEID by Job and Sub Job\n",
        "#tcp_grouped_ee = tcp_df_comp.loc[tcp_filter].groupby(['Job','Sub_Job','EEID']).agg(TotalHours_TCP = pd.NamedAgg(column='Hours',aggfunc='sum'))\n",
        "tcp_grouped_ee = tcp_df_comp.loc[tcp_filter].groupby(['EEID']).agg(TotalHours_TCP = pd.NamedAgg(column='Hours',aggfunc='sum'))\n",
        "tcp_grouped_ee = tcp_grouped_ee.reset_index()\n",
        "### Commented out for EEID Comparison Only - uncomment out to compare EEID by Job and Sub Job\n",
        "#cmic_grouped_ee = cmic_pr_df_comp.loc[cmic_filter].groupby(['Job','Sub_Job','EEID']).agg(TotalHours_CMiC = pd.NamedAgg(column='Hours',aggfunc='sum'))\n",
        "cmic_grouped_ee = cmic_pr_df_comp.loc[cmic_filter].groupby(['EEID']).agg(TotalHours_CMiC = pd.NamedAgg(column='Hours',aggfunc='sum'))\n",
        "cmic_grouped_ee = cmic_grouped_ee.reset_index()\n",
        "### Commented out for EEID Comparison Only - uncomment out to compare EEID by Job and Sub Job\n",
        "#wd_grouped_ee = wd_pr_df_comp.loc[wd_filter].groupby(['Job','Sub_Job','EEID']).agg(TotalHours_WD = pd.NamedAgg(column='Hours',aggfunc='sum'))\n",
        "wd_grouped_ee = wd_pr_df_comp.loc[wd_filter].groupby(['EEID']).agg(TotalHours_WD = pd.NamedAgg(column='Hours',aggfunc='sum'))\n",
        "wd_grouped_ee = wd_grouped_ee.reset_index()"
      ],
      "outputs": [],
      "execution_count": 66,
      "metadata": {
        "jupyter": {
          "source_hidden": false,
          "outputs_hidden": false
        },
        "nteract": {
          "transient": {
            "deleting": false
          }
        },
        "gather": {
          "logged": 1697465958502
        }
      }
    },
    {
      "cell_type": "markdown",
      "source": [
        "#### Unique Column Creation for the Joins"
      ],
      "metadata": {
        "nteract": {
          "transient": {
            "deleting": false
          }
        }
      }
    },
    {
      "cell_type": "code",
      "source": [
        "#Unique Columns to Join On for Sub Job Comparison\n",
        "tcp_grouped_subjob['unique'] = tcp_grouped_subjob[['Job','Sub_Job']].apply(lambda x: ' - '.join(str(value) for value in x), axis=1)\n",
        "cmic_grouped_subjob['unique'] = cmic_grouped_subjob[['Job','Sub_Job']].apply(lambda x: ' - '.join(str(value) for value in x), axis=1)\n",
        "wd_grouped_subjob['unique'] = wd_grouped_subjob[['Job','Sub_Job']].apply(lambda x: ' - '.join(str(value) for value in x), axis=1)"
      ],
      "outputs": [],
      "execution_count": 67,
      "metadata": {
        "jupyter": {
          "source_hidden": false,
          "outputs_hidden": false
        },
        "nteract": {
          "transient": {
            "deleting": false
          }
        },
        "gather": {
          "logged": 1697465959664
        }
      }
    },
    {
      "cell_type": "code",
      "source": [
        "#Unique Columns to Join On for EEID Comparison\n",
        "### Commented out for EEID Comparison Only - uncomment out to compare EEID by Job and Sub Job\n",
        "#tcp_grouped_ee['unique'] = tcp_grouped_ee[['EEID','Job','Sub_Job']].apply(lambda x: ' - '.join(str(value) for value in x), axis=1)\n",
        "#cmic_grouped_ee['unique'] = cmic_grouped_ee[['EEID','Job','Sub_Job']].apply(lambda x: ' - '.join(str(value) for value in x), axis=1)\n",
        "#wd_grouped_ee['unique'] = wd_grouped_ee[['EEID','Job','Sub_Job']].apply(lambda x: ' - '.join(str(value) for value in x), axis=1)"
      ],
      "outputs": [],
      "execution_count": 68,
      "metadata": {
        "jupyter": {
          "source_hidden": false,
          "outputs_hidden": false
        },
        "nteract": {
          "transient": {
            "deleting": false
          }
        },
        "gather": {
          "logged": 1697465960296
        }
      }
    },
    {
      "cell_type": "markdown",
      "source": [
        "#### TCP vs. Workday Comparison"
      ],
      "metadata": {
        "nteract": {
          "transient": {
            "deleting": false
          }
        }
      }
    },
    {
      "cell_type": "code",
      "source": [
        "#TCP v. WD Job\n",
        "tcp_v_wd_job = tcp_grouped_job.merge(wd_grouped_job , how = 'outer' , on = 'Job' , suffixes = ['_TCP','_WD'])\n",
        "#NaN Hours will be filled with 0\n",
        "tcp_v_wd_job['TotalHours_WD'] = tcp_v_wd_job['TotalHours_WD'].fillna(0)\n",
        "tcp_v_wd_job['TotalHours_TCP'] = tcp_v_wd_job['TotalHours_TCP'].fillna(0)\n",
        "tcp_v_wd_job['Hours_Variance (TCP - WD)'] = tcp_v_wd_job['TotalHours_TCP'] - tcp_v_wd_job['TotalHours_WD']\n",
        "tcp_v_wd_job = tcp_v_wd_job.sort_values(['Job'  , 'Hours_Variance (TCP - WD)'] , ascending=[False,False])"
      ],
      "outputs": [],
      "execution_count": 70,
      "metadata": {
        "jupyter": {
          "source_hidden": false,
          "outputs_hidden": false
        },
        "nteract": {
          "transient": {
            "deleting": false
          }
        },
        "gather": {
          "logged": 1697465970678
        }
      }
    },
    {
      "cell_type": "code",
      "source": [
        "#TCP v. WD Job, Sub Job\n",
        "tcp_v_wd_subjob = tcp_grouped_subjob.merge(wd_grouped_subjob , how = 'outer' , on = 'unique' , suffixes = ['_TCP','_WD']).drop(columns =['unique'])\n",
        "#NaN Hours will be filled with 0\n",
        "tcp_v_wd_subjob['TotalHours_WD'] = tcp_v_wd_subjob['TotalHours_WD'].fillna(0)\n",
        "tcp_v_wd_subjob['TotalHours_TCP'] = tcp_v_wd_subjob['TotalHours_TCP'].fillna(0)\n",
        "tcp_v_wd_subjob['Hours_Variance (TCP - WD)'] = tcp_v_wd_subjob['TotalHours_TCP'] - tcp_v_wd_subjob['TotalHours_WD']\n",
        "tcp_v_wd_subjob = tcp_v_wd_subjob.sort_values(['Job_TCP' , 'Sub_Job_TCP' , 'Hours_Variance (TCP - WD)'] , ascending=[False,True,False])"
      ],
      "outputs": [],
      "execution_count": 71,
      "metadata": {
        "jupyter": {
          "source_hidden": false,
          "outputs_hidden": false
        },
        "nteract": {
          "transient": {
            "deleting": false
          }
        },
        "gather": {
          "logged": 1697465972361
        }
      }
    },
    {
      "cell_type": "code",
      "source": [
        "#TCP v. WD Job, Sub Job, EEID\n",
        "### Commented out for EEID Comparison Only - uncomment out to compare EEID by Job and Sub Job\n",
        "#tcp_v_wd_ee = tcp_grouped_ee.merge(wd_grouped_ee , how = 'outer' , on = 'unique' , suffixes = ['_TCP','_WD']).drop(columns =['unique'])\n",
        "tcp_v_wd_ee = tcp_grouped_ee.merge(wd_grouped_ee , how = 'outer' , on = 'EEID' , suffixes = ['_TCP','_WD'])\n",
        "#NaN Hours will be filled with 0\n",
        "tcp_v_wd_ee['TotalHours_WD'] = tcp_v_wd_ee['TotalHours_WD'].fillna(0)\n",
        "tcp_v_wd_ee['TotalHours_TCP'] = tcp_v_wd_ee['TotalHours_TCP'].fillna(0)\n",
        "tcp_v_wd_ee['Hours_Variance (TCP - WD)'] = tcp_v_wd_ee['TotalHours_TCP'] - tcp_v_wd_ee['TotalHours_WD']\n",
        "tcp_v_wd_ee = tcp_v_wd_ee.sort_values('Hours_Variance (TCP - WD)' , ascending=False, key=abs)\n",
        "#Wait for direction from stakeholder\n",
        "\n",
        "#Filter for 0s OR Nulls in columns and create new DF: Missing_In_WD_df, Missing_In_TCP_df \n",
        "#Filter down to relevant columns only\n",
        "#tcp_v_wd_ee = tcp_v_wd_ee.loc[:,['Job_TCP','Sub_Job_TCP','EEID_TCP','TotalHours_TCP','TotalHours_WD','Hours_Variance (TCP - WD)']]\n",
        "#Fill NaNs with Text: \"Job Missing in Workday\" or \"EEID Missing in Workday\""
      ],
      "outputs": [],
      "execution_count": 72,
      "metadata": {
        "jupyter": {
          "source_hidden": false,
          "outputs_hidden": false
        },
        "nteract": {
          "transient": {
            "deleting": false
          }
        },
        "gather": {
          "logged": 1697465973133
        }
      }
    },
    {
      "cell_type": "markdown",
      "source": [
        "#### TCP vs. CMiC Comparison"
      ],
      "metadata": {
        "nteract": {
          "transient": {
            "deleting": false
          }
        }
      }
    },
    {
      "cell_type": "code",
      "source": [
        "#TCP v CMiC Job\n",
        "tcp_v_cmic_job = tcp_grouped_job.merge(cmic_grouped_job , how = 'outer' , on = 'Job' , suffixes = ['','_CMiC'])\n",
        "#NaN Hours will be filled with 0\n",
        "tcp_v_cmic_job['TotalHours_CMiC'] = tcp_v_cmic_job['TotalHours_CMiC'].fillna(0)\n",
        "tcp_v_cmic_job['TotalHours_TCP'] = tcp_v_cmic_job['TotalHours_TCP'].fillna(0)\n",
        "tcp_v_cmic_job['Hours_Variance (TCP - CMiC)'] = tcp_v_cmic_job['TotalHours_TCP'] - tcp_v_cmic_job['TotalHours_CMiC']\n",
        "tcp_v_cmic_job = tcp_v_cmic_job.sort_values(['Job' , 'Hours_Variance (TCP - CMiC)'], ascending=[False, False])"
      ],
      "outputs": [],
      "execution_count": 73,
      "metadata": {
        "jupyter": {
          "source_hidden": false,
          "outputs_hidden": false
        },
        "nteract": {
          "transient": {
            "deleting": false
          }
        },
        "gather": {
          "logged": 1697465974173
        }
      }
    },
    {
      "cell_type": "code",
      "source": [
        "#TCP v CMiC Job, Sub Job\n",
        "tcp_v_cmic_subjob = tcp_grouped_subjob.merge(cmic_grouped_subjob , how = 'outer' , on = 'unique' , suffixes = ['','_CMiC']).drop(columns =['unique'])\n",
        "#NaN Hours will be filled with 0\n",
        "tcp_v_cmic_subjob['TotalHours_CMiC'] = tcp_v_cmic_subjob['TotalHours_CMiC'].fillna(0)\n",
        "tcp_v_cmic_subjob['TotalHours_TCP'] = tcp_v_cmic_subjob['TotalHours_TCP'].fillna(0)\n",
        "tcp_v_cmic_subjob['Hours_Variance (TCP - CMiC)'] = tcp_v_cmic_subjob['TotalHours_TCP'] - tcp_v_cmic_subjob['TotalHours_CMiC']\n",
        "tcp_v_cmic_subjob = tcp_v_cmic_subjob.sort_values(['Job' , 'Sub_Job', 'Hours_Variance (TCP - CMiC)'], ascending=[False, True, False])"
      ],
      "outputs": [],
      "execution_count": 74,
      "metadata": {
        "jupyter": {
          "source_hidden": false,
          "outputs_hidden": false
        },
        "nteract": {
          "transient": {
            "deleting": false
          }
        },
        "gather": {
          "logged": 1697465974853
        }
      }
    },
    {
      "cell_type": "code",
      "source": [
        "#TCP v CMiC Job, Sub Job, EEID\n",
        "### Commented out for EEID Comparison Only - uncomment out to compare EEID by Job and Sub Job\n",
        "#tcp_v_cmic_ee = tcp_grouped_ee.merge(cmic_grouped_ee , how = 'outer' , on = 'unique' , suffixes = ['','_CMiC']).drop(columns =['unique'])\n",
        "tcp_v_cmic_ee = tcp_grouped_ee.merge(cmic_grouped_ee , how = 'outer' , on = 'EEID' , suffixes = ['','_CMiC'])\n",
        "#NaN Hours will be filled with 0\n",
        "tcp_v_cmic_ee['TotalHours_CMiC'] = tcp_v_cmic_ee['TotalHours_CMiC'].fillna(0)\n",
        "tcp_v_cmic_ee['TotalHours_TCP'] = tcp_v_cmic_ee['TotalHours_TCP'].fillna(0)\n",
        "tcp_v_cmic_ee['Hours_Variance (TCP - CMiC)'] = tcp_v_cmic_ee['TotalHours_TCP'] - tcp_v_cmic_ee['TotalHours_CMiC']\n",
        "tcp_v_cmic_ee = tcp_v_cmic_ee.sort_values('Hours_Variance (TCP - CMiC)', ascending=False, key=abs)\n",
        "#Filter down to relevant columns only"
      ],
      "outputs": [],
      "execution_count": 75,
      "metadata": {
        "jupyter": {
          "source_hidden": false,
          "outputs_hidden": false
        },
        "nteract": {
          "transient": {
            "deleting": false
          }
        },
        "gather": {
          "logged": 1697465975522
        }
      }
    },
    {
      "cell_type": "markdown",
      "source": [
        "#### Workday vs. CMiC Comparison"
      ],
      "metadata": {
        "nteract": {
          "transient": {
            "deleting": false
          }
        }
      }
    },
    {
      "cell_type": "code",
      "source": [
        "#WD v. CMiC EEID\n",
        "wd_v_cmic_job = wd_grouped_job.merge(cmic_grouped_job , how = 'outer' , on = 'Job' , suffixes = ['_WD','_CMiC'])\n",
        "#NaN Hours will be filled with 0\n",
        "wd_v_cmic_job['TotalHours_CMiC'] = wd_v_cmic_job['TotalHours_CMiC'].fillna(0)\n",
        "wd_v_cmic_job['TotalHours_WD'] = wd_v_cmic_job['TotalHours_WD'].fillna(0)\n",
        "wd_v_cmic_job['Hours_Variance (WD - CMiC)'] = wd_v_cmic_job['TotalHours_WD'] - wd_v_cmic_job['TotalHours_CMiC']\n",
        "wd_v_cmic_job = wd_v_cmic_job.sort_values(['Job' , 'Hours_Variance (WD - CMiC)'], ascending=[False,False])"
      ],
      "outputs": [],
      "execution_count": 77,
      "metadata": {
        "jupyter": {
          "source_hidden": false,
          "outputs_hidden": false
        },
        "nteract": {
          "transient": {
            "deleting": false
          }
        },
        "gather": {
          "logged": 1697465982338
        }
      }
    },
    {
      "cell_type": "code",
      "source": [
        "#WD v. CMiC Job, Sub Job\n",
        "wd_v_cmic_subjob = wd_grouped_subjob.merge(cmic_grouped_subjob , how = 'outer' , on = 'unique' , suffixes = ['_WD','_CMiC']).drop(columns =['unique'])\n",
        "#NaN Hours will be filled with 0\n",
        "wd_v_cmic_subjob['TotalHours_CMiC'] = wd_v_cmic_subjob['TotalHours_CMiC'].fillna(0)\n",
        "wd_v_cmic_subjob['TotalHours_WD'] = wd_v_cmic_subjob['TotalHours_WD'].fillna(0)\n",
        "wd_v_cmic_subjob['Hours_Variance (WD - CMiC)'] = wd_v_cmic_subjob['TotalHours_WD'] - wd_v_cmic_subjob['TotalHours_CMiC']\n",
        "wd_v_cmic_subjob = wd_v_cmic_subjob.sort_values(['Job_WD' , 'Sub_Job_WD' , 'Hours_Variance (WD - CMiC)'], ascending=[False,True,False])"
      ],
      "outputs": [],
      "execution_count": 78,
      "metadata": {
        "jupyter": {
          "source_hidden": false,
          "outputs_hidden": false
        },
        "nteract": {
          "transient": {
            "deleting": false
          }
        },
        "gather": {
          "logged": 1697465983513
        }
      }
    },
    {
      "cell_type": "code",
      "source": [
        "#WD v. CMiC Job, Sub Job, EEID\n",
        "### Commented out for EEID Comparison Only - uncomment out to compare EEID by Job and Sub Job\n",
        "#wd_v_cmic_ee = wd_grouped_ee.merge(cmic_grouped_ee , how = 'outer' , on = 'unique' , suffixes = ['_WD','_CMiC']).drop(columns =['unique'])\n",
        "wd_v_cmic_ee = wd_grouped_ee.merge(cmic_grouped_ee , how = 'outer' , on = 'EEID' , suffixes = ['_WD','_CMiC'])\n",
        "#NaN Hours will be filled with 0\n",
        "wd_v_cmic_ee['TotalHours_CMiC'] = wd_v_cmic_ee['TotalHours_CMiC'].fillna(0)\n",
        "wd_v_cmic_ee['TotalHours_WD'] = wd_v_cmic_ee['TotalHours_WD'].fillna(0)\n",
        "wd_v_cmic_ee['Hours_Variance (WD - CMiC)'] = wd_v_cmic_ee['TotalHours_WD'] - wd_v_cmic_ee['TotalHours_CMiC']\n",
        "wd_v_cmic_ee = wd_v_cmic_ee.sort_values('Hours_Variance (WD - CMiC)', ascending=False , key=abs)\n",
        "#Filter down to relevant columns only"
      ],
      "outputs": [],
      "execution_count": 79,
      "metadata": {
        "jupyter": {
          "source_hidden": false,
          "outputs_hidden": false
        },
        "nteract": {
          "transient": {
            "deleting": false
          }
        },
        "gather": {
          "logged": 1697465984151
        }
      }
    },
    {
      "cell_type": "code",
      "source": [
        "file_path = os.getcwd() + '/excel_output'\n",
        "file_path"
      ],
      "outputs": [
        {
          "output_type": "execute_result",
          "execution_count": 80,
          "data": {
            "text/plain": "'/mnt/batch/tasks/shared/LS_root/mounts/clusters/jbeachy2/code/Users/JBeachy/Project_DataDomain/Payroll/DataDelivery_Compare/Hours_Comparison/excel_output'"
          },
          "metadata": {}
        }
      ],
      "execution_count": 80,
      "metadata": {
        "jupyter": {
          "source_hidden": false,
          "outputs_hidden": false
        },
        "nteract": {
          "transient": {
            "deleting": false
          }
        },
        "gather": {
          "logged": 1697465984838
        }
      }
    },
    {
      "cell_type": "code",
      "source": [
        "#File Path in AMLS\n",
        "file_name = f'Hours_Comparison_WeekEnding_{week_ending}'\n",
        "#Writing to AMLS File Directory\n",
        "with pd.ExcelWriter(f'{file_path}/{file_name}.xlsx') as writer:\n",
        "    tcp_v_wd_job.to_excel(writer , sheet_name = 'TCPvWD_Hours_byJob' , index = False)\n",
        "    tcp_v_wd_subjob.to_excel(writer , sheet_name = 'TCPvWD_Hours_bySubJob' , index = False)\n",
        "    tcp_v_wd_ee.to_excel(writer , sheet_name = 'TCPvWD_Hours_byEE' , index = False)\n",
        "    tcp_v_cmic_job.to_excel(writer , sheet_name = 'TCPvCMiC_Hours_byJob' , index = False)\n",
        "    tcp_v_cmic_subjob.to_excel(writer , sheet_name = 'TCPvCMiC_Hours_bySubJob' , index = False)\n",
        "    tcp_v_cmic_ee.to_excel(writer , sheet_name = 'TCPvCMiC_Hours_byEE' , index = False)\n",
        "    wd_v_cmic_job.to_excel(writer , sheet_name = 'WDvCMiC_Hours_byJob' , index = False)\n",
        "    wd_v_cmic_subjob.to_excel(writer , sheet_name = 'WDvCMiC_Hours_bySubJob' , index = False)\n",
        "    wd_v_cmic_ee.to_excel(writer , sheet_name = 'WDvCMiC_Hours_byEE' , index = False)"
      ],
      "outputs": [],
      "execution_count": 81,
      "metadata": {
        "jupyter": {
          "source_hidden": false,
          "outputs_hidden": false
        },
        "nteract": {
          "transient": {
            "deleting": false
          }
        },
        "gather": {
          "logged": 1697465986662
        }
      }
    },
    {
      "cell_type": "code",
      "source": [
        "#Blob Storage Info\n",
        "storage_account_key = 'u46QXBaayH/rWljcqPTWZTNgFdGHo9zH4I0OLWgDi4oa2inkpjVwTbp74C+ISDC2oWtNlrcr69Ec+ASt5wV1PA=='\n",
        "storage_account_name = 'mossdatalakesource'\n",
        "connection_string = 'DefaultEndpointsProtocol=https;AccountName=mossdatalakesource;AccountKey=u46QXBaayH/rWljcqPTWZTNgFdGHo9zH4I0OLWgDi4oa2inkpjVwTbp74C+ISDC2oWtNlrcr69Ec+ASt5wV1PA==;EndpointSuffix=core.windows.net'\n",
        "container_name = 'cmic'\n",
        "#Defininng Blob Storage Uplpoad#\n",
        "def uploadtoblobstorage(file_path,file_name):\n",
        "    blob_service_client = BlobServiceClient.from_connection_string(connection_string)\n",
        "    blob_client = blob_service_client.get_blob_client(container = container_name , blob = file_name)\n",
        "\n",
        "    with open(file_path , 'rb') as data:\n",
        "        blob_client.upload_blob(data)\n",
        "    print(f'Uploaded {file_name}.')"
      ],
      "outputs": [],
      "execution_count": 82,
      "metadata": {
        "jupyter": {
          "source_hidden": false,
          "outputs_hidden": false
        },
        "nteract": {
          "transient": {
            "deleting": false
          }
        },
        "gather": {
          "logged": 1697466032310
        }
      }
    },
    {
      "cell_type": "code",
      "source": [
        "file_name_exp = f'{file_name}.xlsx'\n",
        "uploadtoblobstorage(f'{file_path}/{file_name}.xlsx', file_name_exp)"
      ],
      "outputs": [
        {
          "output_type": "stream",
          "name": "stdout",
          "text": "Uploaded Hours_Comparison_WeekEnding_2023-10-14.xlsx.\n"
        }
      ],
      "execution_count": 83,
      "metadata": {
        "jupyter": {
          "source_hidden": false,
          "outputs_hidden": false
        },
        "nteract": {
          "transient": {
            "deleting": false
          }
        },
        "gather": {
          "logged": 1697466034706
        }
      }
    },
    {
      "cell_type": "code",
      "source": [],
      "outputs": [],
      "execution_count": null,
      "metadata": {
        "jupyter": {
          "source_hidden": false,
          "outputs_hidden": false
        },
        "nteract": {
          "transient": {
            "deleting": false
          }
        }
      }
    }
  ],
  "metadata": {
    "kernelspec": {
      "name": "python310-sdkv2",
      "language": "python",
      "display_name": "Python 3.10 - SDK v2"
    },
    "language_info": {
      "name": "python",
      "version": "3.10.11",
      "mimetype": "text/x-python",
      "codemirror_mode": {
        "name": "ipython",
        "version": 3
      },
      "pygments_lexer": "ipython3",
      "nbconvert_exporter": "python",
      "file_extension": ".py"
    },
    "microsoft": {
      "ms_spell_check": {
        "ms_spell_check_language": "en"
      },
      "host": {
        "AzureML": {
          "notebookHasBeenCompleted": true
        }
      }
    },
    "kernel_info": {
      "name": "python310-sdkv2"
    },
    "nteract": {
      "version": "nteract-front-end@1.0.0"
    }
  },
  "nbformat": 4,
  "nbformat_minor": 2
}