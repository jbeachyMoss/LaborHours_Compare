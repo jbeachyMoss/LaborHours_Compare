{
  "cells": [
    {
      "cell_type": "code",
      "source": [
        "# azureml-core of version 1.0.72 or higher is required\n",
        "# azureml-dataprep[pandas] of version 1.1.34 or higher is required\n",
        "from azureml.core import Workspace, Dataset\n",
        "import pandas as pd\n",
        "from datetime import date, datetime, timedelta\n",
        "import numpy as np\n",
        "from azure.storage.blob import BlobServiceClient\n",
        "\n",
        "subscription_id = '96599b9b-0d9b-4577-9163-418d2c6cd411'\n",
        "resource_group = 'rg-datasci-ml-dev-001'\n",
        "workspace_name = 'ml-moss-dev-001'\n",
        "\n",
        "workspace = Workspace(subscription_id, resource_group, workspace_name)\n",
        "\n",
        "dataset_hourly_compare_cmic = Dataset.get_by_name(workspace, name='Hourly_Employee_Time_prod')\n",
        "cmic_pr_df_dev = dataset_hourly_compare_cmic.to_pandas_dataframe()\n",
        "\n",
        "dataset_hourly_compare_wd = Dataset.get_by_name(workspace, name='WD_Hourly_Employee_Time_prod')\n",
        "wd_pr_df_dev = dataset_hourly_compare_wd.to_pandas_dataframe()\n",
        "\n",
        "tcp_dataset = Dataset.get_by_name(workspace, name='WorkSegments_Timesheet_prod')\n",
        "tcp_df_dev = tcp_dataset.to_pandas_dataframe()\n",
        "\n",
        "jcjob_dataset = Dataset.get_by_name(workspace, name='JCJOB_TABLE_TN_prod')\n",
        "jcjob_df = jcjob_dataset.to_pandas_dataframe()"
      ],
      "outputs": [
        {
          "output_type": "stream",
          "name": "stderr",
          "text": "Message: rslex failed, falling back to clex.\nPayload: {\"pid\": 5434, \"source\": \"azureml.dataprep\", \"version\": \"4.11.3\", \"trace\": \"azureml|data|tabular_dataset.py, line 169 in function <lambda>.\\nazureml|data|dataset_error_handling.py, line 107 in function _try_execute.\\nazureml|data|tabular_dataset.py, line 169 in function to_pandas_dataframe.\", \"subscription\": \"\", \"run_id\": \"\", \"resource_group\": \"\", \"workspace_name\": \"\", \"experiment_id\": \"\", \"location\": \"\", \"rslex_version\": \"2.18.3\"}\n"
        }
      ],
      "execution_count": 67,
      "metadata": {
        "gather": {
          "logged": 1697637986918
        }
      }
    },
    {
      "cell_type": "code",
      "source": [
        "##########################\n",
        "\n",
        "week_ending = '2023-10-14'\n",
        "\n",
        "##########################\n",
        "\n",
        "date = datetime.strptime(week_ending, \"%Y-%m-%d\")\n",
        "start_date = date - timedelta(days = 6)\n",
        "end_date = date"
      ],
      "outputs": [],
      "execution_count": 68,
      "metadata": {
        "jupyter": {
          "source_hidden": false,
          "outputs_hidden": false
        },
        "nteract": {
          "transient": {
            "deleting": false
          }
        },
        "gather": {
          "logged": 1697638045468
        }
      }
    },
    {
      "cell_type": "code",
      "source": [
        "tcp_df = tcp_df_dev.copy()"
      ],
      "outputs": [],
      "execution_count": 69,
      "metadata": {
        "jupyter": {
          "source_hidden": false,
          "outputs_hidden": false
        },
        "nteract": {
          "transient": {
            "deleting": false
          }
        },
        "gather": {
          "logged": 1697638046376
        }
      }
    },
    {
      "cell_type": "code",
      "source": [
        "###TCP Data Manipulation\n",
        "#Filter: Solar Jobs only \n",
        "tcp_df = tcp_df.loc[tcp_df['Job_Code'].str.startswith('710')]\n",
        "#Filter: Only Keeping Labor Hourly\n",
        "tcp_df = tcp_df.loc[tcp_df['Task'].isin(['LH','LHA'])]\n",
        "#Filter: Only keeping Moss Labor Hourly - excluding subs\n",
        "tcp_df = tcp_df.loc[tcp_df['Department']=='710']\n",
        "#Creating a total hours column\n",
        "tcp_df['total_hours'] = tcp_df['Regular_Hours'] + tcp_df['Overtime_Hours']\n",
        "#Renaming Relevant Columns\n",
        "tcp_df = tcp_df.rename({'Employee_Number':'EEID','Job_Code':'Job','Activity':'Sub_Job','total_hours':'Hours'},axis='columns')\n",
        "tcp_cols_keep = ['EEID' , 'Date' , 'Job' , 'Sub_Job' , 'Hours']\n",
        "tcp_df_comp = tcp_df.loc[:,tcp_cols_keep]"
      ],
      "outputs": [],
      "execution_count": 70,
      "metadata": {
        "jupyter": {
          "source_hidden": false,
          "outputs_hidden": false
        },
        "nteract": {
          "transient": {
            "deleting": false
          }
        },
        "gather": {
          "logged": 1697638049165
        }
      }
    },
    {
      "cell_type": "code",
      "source": [
        "wd_pr_df = wd_pr_df_dev.copy()"
      ],
      "outputs": [],
      "execution_count": 92,
      "metadata": {
        "jupyter": {
          "source_hidden": false,
          "outputs_hidden": false
        },
        "nteract": {
          "transient": {
            "deleting": false
          }
        },
        "gather": {
          "logged": 1697638493774
        }
      }
    },
    {
      "cell_type": "code",
      "source": [
        "#Workday Data Manipulation\n",
        "#Drop Null values if the employee does not have a job/sub job assignment\n",
        "wd_pr_df = wd_pr_df.loc[~wd_pr_df['cf_INTLRVCalculatedProjectFromTimeBlock.descriptor'].isna()]\n",
        "#Filter: Solar Jobs Only\n",
        "wd_pr_df = wd_pr_df.loc[wd_pr_df['cf_INTLRVCalculatedProjectFromTimeBlock.descriptor'].str.startswith('710')]\n",
        "#Extracting Employee ID (EEID) from 'Workers' column\n",
        "wd_pr_df['EEID'] = wd_pr_df['Workers'].str.split('(').str[1]\n",
        "wd_pr_df['EEID'] = wd_pr_df['EEID'].str.split(')').str[0]\n",
        "#This isolates the 2 digit sub job, also accomodates the sub jobs that have a letter in them like Claims (C) and Warranty (W)\n",
        "wd_pr_df['cf_INTLRVCalculatedProjectFromTimeBlock.descriptor'] = wd_pr_df['cf_INTLRVCalculatedProjectFromTimeBlock.descriptor'].str.replace('C' , '.C')\n",
        "wd_pr_df['cf_INTLRVCalculatedProjectFromTimeBlock.descriptor'] = wd_pr_df['cf_INTLRVCalculatedProjectFromTimeBlock.descriptor'].str.replace('W' , '.W')\n",
        "wd_pr_df['sub_job'] = wd_pr_df['cf_INTLRVCalculatedProjectFromTimeBlock.descriptor'].str.split('.').str[1]\n",
        "wd_pr_df['sub_job'] = wd_pr_df['sub_job'].str.split(' ').str[0]\n",
        "#Leaves behind Job ONLY\n",
        "wd_pr_df['job'] = wd_pr_df.loc[:,'cf_INTLRVCalculatedProjectFromTimeBlock.descriptor'].str[0:7]\n",
        "#Renaming Relevant Columns\n",
        "wd_pr_df = wd_pr_df.rename({'calculatedDate':'Date','job':'Job','sub_job':'Sub_Job','amount':'Hours'},axis='columns')\n",
        "wd_cols_keep = ['EEID' , 'Date' , 'Job' , 'Sub_Job' , 'Hours']\n",
        "wd_pr_df_comp = wd_pr_df.loc[:,wd_cols_keep]\n",
        "#excluding these employees from Workday because they will not be present in the TCP data\n",
        "wd_eeid_exclude = ['6423','6525','9633','9647','9686','11780','13401','13757','14452','14523','14587','14594','15312','15358','15681','15912']\n",
        "wd_pr_df_comp = wd_pr_df_comp.loc[~wd_pr_df_comp['EEID'].isin(wd_eeid_exclude)]"
      ],
      "outputs": [],
      "execution_count": 93,
      "metadata": {
        "jupyter": {
          "source_hidden": false,
          "outputs_hidden": false
        },
        "nteract": {
          "transient": {
            "deleting": false
          }
        },
        "gather": {
          "logged": 1697638496195
        }
      }
    },
    {
      "cell_type": "code",
      "source": [
        "cmic_pr_df = cmic_pr_df_dev.copy()"
      ],
      "outputs": [],
      "execution_count": 18,
      "metadata": {
        "jupyter": {
          "source_hidden": false,
          "outputs_hidden": false
        },
        "nteract": {
          "transient": {
            "deleting": false
          }
        },
        "gather": {
          "logged": 1697636251292
        }
      }
    },
    {
      "cell_type": "code",
      "source": [
        "#CMiC Data Manipulation\n",
        "#Re-casting this column as a Date data type\n",
        "cmic_pr_df[\"Date\"] = pd.to_datetime(cmic_pr_df[\"Date\"])\n",
        "#Filter: Only Keeping Labor Hourly\n",
        "cmic_pr_df = cmic_pr_df.loc[cmic_pr_df['Task'].isin(['LH','LHA'])]\n",
        "#Renaming Relevant Columns\n",
        "cmic_pr_df = cmic_pr_df.rename({'Employee Number':'EEID','Job Code':'Job','Sub Job Code':'Sub_Job','Regular Hours':'Hours'},axis='columns')\n",
        "cmic_cols_keep = ['EEID' , 'Date' , 'Job' , 'Sub_Job' , 'Hours']\n",
        "cmic_pr_df_comp = cmic_pr_df.loc[:,cmic_cols_keep]"
      ],
      "outputs": [],
      "execution_count": 19,
      "metadata": {
        "jupyter": {
          "source_hidden": false,
          "outputs_hidden": false
        },
        "nteract": {
          "transient": {
            "deleting": false
          }
        },
        "gather": {
          "logged": 1697636252291
        }
      }
    },
    {
      "cell_type": "code",
      "source": [
        "#Date Filters\n",
        "tcp_filter = (tcp_df_comp['Date']>=start_date)&(tcp_df_comp['Date']<=end_date)\n",
        "cmic_filter = (cmic_pr_df_comp['Date']>=start_date)&(cmic_pr_df_comp['Date']<=end_date)\n",
        "wd_filter = (wd_pr_df_comp['Date']>=start_date)&(wd_pr_df_comp['Date']<=end_date)"
      ],
      "outputs": [],
      "execution_count": 36,
      "metadata": {
        "jupyter": {
          "source_hidden": false,
          "outputs_hidden": false
        },
        "nteract": {
          "transient": {
            "deleting": false
          }
        },
        "gather": {
          "logged": 1697636726728
        }
      }
    },
    {
      "cell_type": "markdown",
      "source": [
        "#### Grouping the Data by Different Levels"
      ],
      "metadata": {
        "nteract": {
          "transient": {
            "deleting": false
          }
        }
      }
    },
    {
      "cell_type": "code",
      "source": [
        "#Grouping by Job\n",
        "tcp_grouped_job = tcp_df_comp.loc[tcp_filter].groupby(['Job']).agg(TotalHours_TCP = pd.NamedAgg(column='Hours',aggfunc='sum'))\n",
        "tcp_grouped_job = tcp_grouped_job.reset_index()\n",
        "cmic_grouped_job = cmic_pr_df_comp.loc[cmic_filter].groupby(['Job']).agg(TotalHours_CMiC = pd.NamedAgg(column='Hours',aggfunc='sum'))\n",
        "cmic_grouped_job = cmic_grouped_job.reset_index()\n",
        "wd_grouped_job = wd_pr_df_comp.loc[wd_filter].groupby(['Job']).agg(TotalHours_WD = pd.NamedAgg(column='Hours',aggfunc='sum'))\n",
        "wd_grouped_job = wd_grouped_job.reset_index()"
      ],
      "outputs": [],
      "execution_count": 183,
      "metadata": {
        "jupyter": {
          "source_hidden": false,
          "outputs_hidden": false
        },
        "nteract": {
          "transient": {
            "deleting": false
          }
        },
        "gather": {
          "logged": 1697561382389
        }
      }
    },
    {
      "cell_type": "code",
      "source": [
        "#Grouping by Job, Sub Job\n",
        "tcp_grouped_subjob = tcp_df_comp.loc[tcp_filter].groupby(['Job','Sub_Job']).agg(TotalHours_TCP = pd.NamedAgg(column='Hours',aggfunc='sum'))\n",
        "tcp_grouped_subjob = tcp_grouped_subjob.reset_index()\n",
        "cmic_grouped_subjob = cmic_pr_df_comp.loc[cmic_filter].groupby(['Job','Sub_Job']).agg(TotalHours_CMiC = pd.NamedAgg(column='Hours',aggfunc='sum'))\n",
        "cmic_grouped_subjob = cmic_grouped_subjob.reset_index()\n",
        "wd_grouped_subjob = wd_pr_df_comp.loc[wd_filter].groupby(['Job','Sub_Job']).agg(TotalHours_WD = pd.NamedAgg(column='Hours',aggfunc='sum'))\n",
        "wd_grouped_subjob = wd_grouped_subjob.reset_index()"
      ],
      "outputs": [],
      "execution_count": 184,
      "metadata": {
        "jupyter": {
          "source_hidden": false,
          "outputs_hidden": false
        },
        "nteract": {
          "transient": {
            "deleting": false
          }
        },
        "gather": {
          "logged": 1697561384381
        }
      }
    },
    {
      "cell_type": "code",
      "source": [
        "#Grouping by Job, Sub Job, EEID\n",
        "tcp_grouped_ee = tcp_df_comp.loc[tcp_filter].groupby(['EEID']).agg(TotalHours_TCP = pd.NamedAgg(column='Hours',aggfunc='sum'))\n",
        "tcp_grouped_ee = tcp_grouped_ee.reset_index()\n",
        "cmic_grouped_ee = cmic_pr_df_comp.loc[cmic_filter].groupby(['EEID']).agg(TotalHours_CMiC = pd.NamedAgg(column='Hours',aggfunc='sum'))\n",
        "cmic_grouped_ee = cmic_grouped_ee.reset_index()\n",
        "wd_grouped_ee = wd_pr_df_comp.loc[wd_filter].groupby(['EEID']).agg(TotalHours_WD = pd.NamedAgg(column='Hours',aggfunc='sum'))\n",
        "wd_grouped_ee = wd_grouped_ee.reset_index()"
      ],
      "outputs": [],
      "execution_count": 185,
      "metadata": {
        "jupyter": {
          "source_hidden": false,
          "outputs_hidden": false
        },
        "nteract": {
          "transient": {
            "deleting": false
          }
        },
        "gather": {
          "logged": 1697561386382
        }
      }
    },
    {
      "cell_type": "markdown",
      "source": [
        "#### Unique Column Creation for the Joins"
      ],
      "metadata": {
        "nteract": {
          "transient": {
            "deleting": false
          }
        }
      }
    },
    {
      "cell_type": "code",
      "source": [
        "#Unique Columns to Join On for Sub Job Comparison\n",
        "tcp_grouped_subjob['unique'] = tcp_grouped_subjob[['Job','Sub_Job']].apply(lambda x: ' - '.join(str(value) for value in x), axis=1)\n",
        "cmic_grouped_subjob['unique'] = cmic_grouped_subjob[['Job','Sub_Job']].apply(lambda x: ' - '.join(str(value) for value in x), axis=1)\n",
        "wd_grouped_subjob['unique'] = wd_grouped_subjob[['Job','Sub_Job']].apply(lambda x: ' - '.join(str(value) for value in x), axis=1)"
      ],
      "outputs": [],
      "execution_count": 186,
      "metadata": {
        "jupyter": {
          "source_hidden": false,
          "outputs_hidden": false
        },
        "nteract": {
          "transient": {
            "deleting": false
          }
        },
        "gather": {
          "logged": 1697561388382
        }
      }
    },
    {
      "cell_type": "markdown",
      "source": [
        "#### TCP vs. Workday Comparison"
      ],
      "metadata": {
        "nteract": {
          "transient": {
            "deleting": false
          }
        }
      }
    },
    {
      "cell_type": "code",
      "source": [
        "#TCP v. WD Job\n",
        "tcp_v_wd_job = tcp_grouped_job.merge(wd_grouped_job , how = 'outer' , on = 'Job' , suffixes = ['_TCP','_WD'])\n",
        "#NaN Hours will be filled with 0\n",
        "tcp_v_wd_job['TotalHours_WD'] = tcp_v_wd_job['TotalHours_WD'].fillna(0)\n",
        "tcp_v_wd_job['TotalHours_TCP'] = tcp_v_wd_job['TotalHours_TCP'].fillna(0)\n",
        "tcp_v_wd_job['Hours_Variance (TCP - WD)'] = tcp_v_wd_job['TotalHours_TCP'] - tcp_v_wd_job['TotalHours_WD']\n",
        "tcp_v_wd_job = tcp_v_wd_job.sort_values(['Job'  , 'Hours_Variance (TCP - WD)'] , ascending=[False,False])"
      ],
      "outputs": [],
      "execution_count": 187,
      "metadata": {
        "jupyter": {
          "source_hidden": false,
          "outputs_hidden": false
        },
        "nteract": {
          "transient": {
            "deleting": false
          }
        },
        "gather": {
          "logged": 1697561389622
        }
      }
    },
    {
      "cell_type": "code",
      "source": [
        "#TCP v. WD Job, Sub Job\n",
        "tcp_v_wd_subjob = tcp_grouped_subjob.merge(wd_grouped_subjob , how = 'outer' , on = 'unique' , suffixes = ['_TCP','_WD']).drop(columns =['unique'])\n",
        "#NaN Hours will be filled with 0\n",
        "tcp_v_wd_subjob['TotalHours_WD'] = tcp_v_wd_subjob['TotalHours_WD'].fillna(0)\n",
        "tcp_v_wd_subjob['TotalHours_TCP'] = tcp_v_wd_subjob['TotalHours_TCP'].fillna(0)\n",
        "tcp_v_wd_subjob['Hours_Variance (TCP - WD)'] = tcp_v_wd_subjob['TotalHours_TCP'] - tcp_v_wd_subjob['TotalHours_WD']\n",
        "tcp_v_wd_subjob = tcp_v_wd_subjob.sort_values(['Job_TCP' , 'Sub_Job_TCP' , 'Hours_Variance (TCP - WD)'] , ascending=[False,True,False])"
      ],
      "outputs": [],
      "execution_count": 188,
      "metadata": {
        "jupyter": {
          "source_hidden": false,
          "outputs_hidden": false
        },
        "nteract": {
          "transient": {
            "deleting": false
          }
        },
        "gather": {
          "logged": 1697561390392
        }
      }
    },
    {
      "cell_type": "code",
      "source": [
        "#TCP v. WD Job, Sub Job, EEID\n",
        "### Commented out for EEID Comparison Only - uncomment out to compare EEID by Job and Sub Job\n",
        "#tcp_v_wd_ee = tcp_grouped_ee.merge(wd_grouped_ee , how = 'outer' , on = 'unique' , suffixes = ['_TCP','_WD']).drop(columns =['unique'])\n",
        "tcp_v_wd_ee = tcp_grouped_ee.merge(wd_grouped_ee , how = 'outer' , on = 'EEID' , suffixes = ['_TCP','_WD'])\n",
        "#NaN Hours will be filled with 0\n",
        "tcp_v_wd_ee['TotalHours_WD'] = tcp_v_wd_ee['TotalHours_WD'].fillna(0)\n",
        "tcp_v_wd_ee['TotalHours_TCP'] = tcp_v_wd_ee['TotalHours_TCP'].fillna(0)\n",
        "tcp_v_wd_ee['Hours_Variance (TCP - WD)'] = tcp_v_wd_ee['TotalHours_TCP'] - tcp_v_wd_ee['TotalHours_WD']\n",
        "tcp_v_wd_ee = tcp_v_wd_ee.sort_values('Hours_Variance (TCP - WD)' , ascending=False, key=abs)\n",
        "#Removing Variances that are 0 - excluding EEIDs that match\n",
        "tcp_v_wd_ee = tcp_v_wd_ee.loc[tcp_v_wd_ee['Hours_Variance (TCP - WD)'] != 0.0]"
      ],
      "outputs": [],
      "execution_count": 189,
      "metadata": {
        "jupyter": {
          "source_hidden": false,
          "outputs_hidden": false
        },
        "nteract": {
          "transient": {
            "deleting": false
          }
        },
        "gather": {
          "logged": 1697561391409
        }
      }
    },
    {
      "cell_type": "markdown",
      "source": [
        "#### TCP vs. CMiC Comparison"
      ],
      "metadata": {
        "nteract": {
          "transient": {
            "deleting": false
          }
        }
      }
    },
    {
      "cell_type": "code",
      "source": [
        "#TCP v CMiC Job\n",
        "tcp_v_cmic_job = tcp_grouped_job.merge(cmic_grouped_job , how = 'outer' , on = 'Job' , suffixes = ['','_CMiC'])\n",
        "#NaN Hours will be filled with 0\n",
        "tcp_v_cmic_job['TotalHours_CMiC'] = tcp_v_cmic_job['TotalHours_CMiC'].fillna(0)\n",
        "tcp_v_cmic_job['TotalHours_TCP'] = tcp_v_cmic_job['TotalHours_TCP'].fillna(0)\n",
        "tcp_v_cmic_job['Hours_Variance (TCP - CMiC)'] = tcp_v_cmic_job['TotalHours_TCP'] - tcp_v_cmic_job['TotalHours_CMiC']\n",
        "tcp_v_cmic_job = tcp_v_cmic_job.sort_values(['Job' , 'Hours_Variance (TCP - CMiC)'], ascending=[False, False])"
      ],
      "outputs": [],
      "execution_count": 190,
      "metadata": {
        "jupyter": {
          "source_hidden": false,
          "outputs_hidden": false
        },
        "nteract": {
          "transient": {
            "deleting": false
          }
        },
        "gather": {
          "logged": 1697561393396
        }
      }
    },
    {
      "cell_type": "code",
      "source": [
        "#TCP v CMiC Job, Sub Job\n",
        "tcp_v_cmic_subjob = tcp_grouped_subjob.merge(cmic_grouped_subjob , how = 'outer' , on = 'unique' , suffixes = ['','_CMiC']).drop(columns =['unique'])\n",
        "#NaN Hours will be filled with 0\n",
        "tcp_v_cmic_subjob['TotalHours_CMiC'] = tcp_v_cmic_subjob['TotalHours_CMiC'].fillna(0)\n",
        "tcp_v_cmic_subjob['TotalHours_TCP'] = tcp_v_cmic_subjob['TotalHours_TCP'].fillna(0)\n",
        "tcp_v_cmic_subjob['Hours_Variance (TCP - CMiC)'] = tcp_v_cmic_subjob['TotalHours_TCP'] - tcp_v_cmic_subjob['TotalHours_CMiC']\n",
        "tcp_v_cmic_subjob = tcp_v_cmic_subjob.sort_values(['Job' , 'Sub_Job', 'Hours_Variance (TCP - CMiC)'], ascending=[False, True, False])"
      ],
      "outputs": [],
      "execution_count": 191,
      "metadata": {
        "jupyter": {
          "source_hidden": false,
          "outputs_hidden": false
        },
        "nteract": {
          "transient": {
            "deleting": false
          }
        },
        "gather": {
          "logged": 1697561396393
        }
      }
    },
    {
      "cell_type": "code",
      "source": [
        "#TCP v CMiC Job, Sub Job, EEID\n",
        "### Commented out for EEID Comparison Only - uncomment out to compare EEID by Job and Sub Job\n",
        "#tcp_v_cmic_ee = tcp_grouped_ee.merge(cmic_grouped_ee , how = 'outer' , on = 'unique' , suffixes = ['','_CMiC']).drop(columns =['unique'])\n",
        "tcp_v_cmic_ee = tcp_grouped_ee.merge(cmic_grouped_ee , how = 'outer' , on = 'EEID' , suffixes = ['','_CMiC'])\n",
        "#NaN Hours will be filled with 0\n",
        "tcp_v_cmic_ee['TotalHours_CMiC'] = tcp_v_cmic_ee['TotalHours_CMiC'].fillna(0)\n",
        "tcp_v_cmic_ee['TotalHours_TCP'] = tcp_v_cmic_ee['TotalHours_TCP'].fillna(0)\n",
        "tcp_v_cmic_ee['Hours_Variance (TCP - CMiC)'] = tcp_v_cmic_ee['TotalHours_TCP'] - tcp_v_cmic_ee['TotalHours_CMiC']\n",
        "tcp_v_cmic_ee = tcp_v_cmic_ee.sort_values('Hours_Variance (TCP - CMiC)', ascending=False, key=abs)\n",
        "#Filter down to relevant columns only"
      ],
      "outputs": [],
      "execution_count": 192,
      "metadata": {
        "jupyter": {
          "source_hidden": false,
          "outputs_hidden": false
        },
        "nteract": {
          "transient": {
            "deleting": false
          }
        },
        "gather": {
          "logged": 1697561397389
        }
      }
    },
    {
      "cell_type": "markdown",
      "source": [
        "#### Workday vs. CMiC Comparison"
      ],
      "metadata": {
        "nteract": {
          "transient": {
            "deleting": false
          }
        }
      }
    },
    {
      "cell_type": "code",
      "source": [
        "#WD v. CMiC EEID\n",
        "wd_v_cmic_job = wd_grouped_job.merge(cmic_grouped_job , how = 'outer' , on = 'Job' , suffixes = ['_WD','_CMiC'])\n",
        "#NaN Hours will be filled with 0\n",
        "wd_v_cmic_job['TotalHours_CMiC'] = wd_v_cmic_job['TotalHours_CMiC'].fillna(0)\n",
        "wd_v_cmic_job['TotalHours_WD'] = wd_v_cmic_job['TotalHours_WD'].fillna(0)\n",
        "wd_v_cmic_job['Hours_Variance (WD - CMiC)'] = wd_v_cmic_job['TotalHours_WD'] - wd_v_cmic_job['TotalHours_CMiC']\n",
        "wd_v_cmic_job = wd_v_cmic_job.sort_values(['Job' , 'Hours_Variance (WD - CMiC)'], ascending=[False,False])"
      ],
      "outputs": [],
      "execution_count": 193,
      "metadata": {
        "jupyter": {
          "source_hidden": false,
          "outputs_hidden": false
        },
        "nteract": {
          "transient": {
            "deleting": false
          }
        },
        "gather": {
          "logged": 1697561398384
        }
      }
    },
    {
      "cell_type": "code",
      "source": [
        "#WD v. CMiC Job, Sub Job\n",
        "wd_v_cmic_subjob = wd_grouped_subjob.merge(cmic_grouped_subjob , how = 'outer' , on = 'unique' , suffixes = ['_WD','_CMiC']).drop(columns =['unique'])\n",
        "#NaN Hours will be filled with 0\n",
        "wd_v_cmic_subjob['TotalHours_CMiC'] = wd_v_cmic_subjob['TotalHours_CMiC'].fillna(0)\n",
        "wd_v_cmic_subjob['TotalHours_WD'] = wd_v_cmic_subjob['TotalHours_WD'].fillna(0)\n",
        "wd_v_cmic_subjob['Hours_Variance (WD - CMiC)'] = wd_v_cmic_subjob['TotalHours_WD'] - wd_v_cmic_subjob['TotalHours_CMiC']\n",
        "wd_v_cmic_subjob = wd_v_cmic_subjob.sort_values(['Job_WD' , 'Sub_Job_WD' , 'Hours_Variance (WD - CMiC)'], ascending=[False,True,False])"
      ],
      "outputs": [],
      "execution_count": 194,
      "metadata": {
        "jupyter": {
          "source_hidden": false,
          "outputs_hidden": false
        },
        "nteract": {
          "transient": {
            "deleting": false
          }
        },
        "gather": {
          "logged": 1697561399389
        }
      }
    },
    {
      "cell_type": "code",
      "source": [
        "#WD v. CMiC Job, Sub Job, EEID\n",
        "### Commented out for EEID Comparison Only - uncomment out to compare EEID by Job and Sub Job\n",
        "#wd_v_cmic_ee = wd_grouped_ee.merge(cmic_grouped_ee , how = 'outer' , on = 'unique' , suffixes = ['_WD','_CMiC']).drop(columns =['unique'])\n",
        "wd_v_cmic_ee = wd_grouped_ee.merge(cmic_grouped_ee , how = 'outer' , on = 'EEID' , suffixes = ['_WD','_CMiC'])\n",
        "#NaN Hours will be filled with 0\n",
        "wd_v_cmic_ee['TotalHours_CMiC'] = wd_v_cmic_ee['TotalHours_CMiC'].fillna(0)\n",
        "wd_v_cmic_ee['TotalHours_WD'] = wd_v_cmic_ee['TotalHours_WD'].fillna(0)\n",
        "wd_v_cmic_ee['Hours_Variance (WD - CMiC)'] = wd_v_cmic_ee['TotalHours_WD'] - wd_v_cmic_ee['TotalHours_CMiC']\n",
        "wd_v_cmic_ee = wd_v_cmic_ee.sort_values('Hours_Variance (WD - CMiC)', ascending=False , key=abs)\n",
        "#Filter down to relevant columns only"
      ],
      "outputs": [],
      "execution_count": 195,
      "metadata": {
        "jupyter": {
          "source_hidden": false,
          "outputs_hidden": false
        },
        "nteract": {
          "transient": {
            "deleting": false
          }
        },
        "gather": {
          "logged": 1697561400398
        }
      }
    },
    {
      "cell_type": "code",
      "source": [
        "file_path = os.getcwd() + '/excel_output'\n",
        "file_path"
      ],
      "outputs": [
        {
          "output_type": "execute_result",
          "execution_count": 196,
          "data": {
            "text/plain": "'/mnt/batch/tasks/shared/LS_root/mounts/clusters/jbeachy2/code/Users/JBeachy/Project_DataDomain/Payroll/git_LaborHours_Compare/excel_output'"
          },
          "metadata": {}
        }
      ],
      "execution_count": 196,
      "metadata": {
        "jupyter": {
          "source_hidden": false,
          "outputs_hidden": false
        },
        "nteract": {
          "transient": {
            "deleting": false
          }
        },
        "gather": {
          "logged": 1697561401419
        }
      }
    },
    {
      "cell_type": "code",
      "source": [
        "#File Path in AMLS\n",
        "file_name = f'Hours_Comparison_WeekEnding_{week_ending}'\n",
        "#Writing to AMLS File Directory\n",
        "with pd.ExcelWriter(f'{file_path}/{file_name}.xlsx') as writer:\n",
        "    tcp_v_wd_job.to_excel(writer , sheet_name = 'TCPvWD_Hours_byJob' , index = False)\n",
        "    tcp_v_wd_subjob.to_excel(writer , sheet_name = 'TCPvWD_Hours_bySubJob' , index = False)\n",
        "    tcp_v_wd_ee.to_excel(writer , sheet_name = 'TCPvWD_Hours_byEE' , index = False)\n",
        "    tcp_v_cmic_job.to_excel(writer , sheet_name = 'TCPvCMiC_Hours_byJob' , index = False)\n",
        "    tcp_v_cmic_subjob.to_excel(writer , sheet_name = 'TCPvCMiC_Hours_bySubJob' , index = False)\n",
        "    tcp_v_cmic_ee.to_excel(writer , sheet_name = 'TCPvCMiC_Hours_byEE' , index = False)\n",
        "    wd_v_cmic_job.to_excel(writer , sheet_name = 'WDvCMiC_Hours_byJob' , index = False)\n",
        "    wd_v_cmic_subjob.to_excel(writer , sheet_name = 'WDvCMiC_Hours_bySubJob' , index = False)\n",
        "    wd_v_cmic_ee.to_excel(writer , sheet_name = 'WDvCMiC_Hours_byEE' , index = False)"
      ],
      "outputs": [],
      "execution_count": 197,
      "metadata": {
        "jupyter": {
          "source_hidden": false,
          "outputs_hidden": false
        },
        "nteract": {
          "transient": {
            "deleting": false
          }
        },
        "gather": {
          "logged": 1697561403329
        }
      }
    },
    {
      "cell_type": "code",
      "source": [
        "#Blob Storage Info\n",
        "storage_account_key = 'u46QXBaayH/rWljcqPTWZTNgFdGHo9zH4I0OLWgDi4oa2inkpjVwTbp74C+ISDC2oWtNlrcr69Ec+ASt5wV1PA=='\n",
        "storage_account_name = 'mossdatalakesource'\n",
        "connection_string = 'DefaultEndpointsProtocol=https;AccountName=mossdatalakesource;AccountKey=u46QXBaayH/rWljcqPTWZTNgFdGHo9zH4I0OLWgDi4oa2inkpjVwTbp74C+ISDC2oWtNlrcr69Ec+ASt5wV1PA==;EndpointSuffix=core.windows.net'\n",
        "container_name = 'cmic'\n",
        "#Defininng Blob Storage Uplpoad#\n",
        "def uploadtoblobstorage(file_path,file_name):\n",
        "    blob_service_client = BlobServiceClient.from_connection_string(connection_string)\n",
        "    blob_client = blob_service_client.get_blob_client(container = container_name , blob = file_name)\n",
        "\n",
        "    with open(file_path , 'rb') as data:\n",
        "        blob_client.upload_blob(data)\n",
        "    print(f'Uploaded {file_name}.')"
      ],
      "outputs": [],
      "execution_count": 198,
      "metadata": {
        "jupyter": {
          "source_hidden": false,
          "outputs_hidden": false
        },
        "nteract": {
          "transient": {
            "deleting": false
          }
        },
        "gather": {
          "logged": 1697561404418
        }
      }
    },
    {
      "cell_type": "code",
      "source": [
        "file_name_exp = f'{file_name}.xlsx'\n",
        "uploadtoblobstorage(f'{file_path}/{file_name}.xlsx', file_name_exp)"
      ],
      "outputs": [
        {
          "output_type": "stream",
          "name": "stdout",
          "text": "Uploaded Hours_Comparison_WeekEnding_2023-10-14.xlsx.\n"
        }
      ],
      "execution_count": 199,
      "metadata": {
        "jupyter": {
          "source_hidden": false,
          "outputs_hidden": false
        },
        "nteract": {
          "transient": {
            "deleting": false
          }
        },
        "gather": {
          "logged": 1697561406471
        }
      }
    },
    {
      "cell_type": "markdown",
      "source": [
        "#### Run Statistics "
      ],
      "metadata": {
        "nteract": {
          "transient": {
            "deleting": false
          }
        }
      }
    },
    {
      "cell_type": "code",
      "source": [
        "#### TCP vs. Workday Stats\n",
        "today = date.today()\n",
        "today_timechange = today - timedelta(hours=4)\n",
        "today_for_text = today_timechange.strftime(\"%m-%d-%Y %H:%M:%S\")\n",
        "print(\"TCP vs. Workday\")\n",
        "print(\"Count of EEIDs that are showing Zero Hours Worked in Workday: \" , len(tcp_v_wd_ee.loc[tcp_v_wd_ee['TotalHours_WD'] == 0]))\n",
        "print(\"Count of EEIDs that are showing Zero Hours Worked in TCP: \" , len(tcp_v_wd_ee.loc[tcp_v_wd_ee['TotalHours_TCP'] == 0]))\n",
        "print(\"Count of EEIDs with a variance less than 10 hours(ABS), not including 0: \", len(tcp_v_wd_ee.loc[(tcp_v_wd_ee['Hours_Variance (TCP - WD)']< 10)&(tcp_v_wd_ee['Hours_Variance (TCP - WD)'] >-10)&(tcp_v_wd_ee['Hours_Variance (TCP - WD)'] != 0)]))\n",
        "print(\"Count of EEIDs with no variance in Hours Worked: \" , len(tcp_v_wd_ee.loc[tcp_v_wd_ee['Hours_Variance (TCP - WD)'] == 0]))\n",
        "print(\"Count of EEIDs with variance greater than or equal to 10(ABS): \",len(tcp_v_wd_ee.loc[(tcp_v_wd_ee['Hours_Variance (TCP - WD)']>=10)|(tcp_v_wd_ee['Hours_Variance (TCP - WD)']<=-10)]))\n",
        "print(f\"Ran on {today_for_text} for Week Ending {week_ending}\")"
      ],
      "outputs": [
        {
          "output_type": "stream",
          "name": "stdout",
          "text": "TCP vs. Workday\nCount of EEIDs that are showing Zero Hours Worked in Workday:  76\nCount of EEIDs that are showing Zero Hours Worked in TCP:  0\nCount of EEIDs with a variance less than 10 hours(ABS), not including 0:  5\nCount of EEIDs with no variance in Hours Worked:  0\nCount of EEIDs with variance greater than or equal to 10(ABS):  72\nRan on 10-17-2023 12:50:08 for Week Ending 2023-10-14\n"
        }
      ],
      "execution_count": 200,
      "metadata": {
        "jupyter": {
          "source_hidden": false,
          "outputs_hidden": false
        },
        "nteract": {
          "transient": {
            "deleting": false
          }
        },
        "gather": {
          "logged": 1697561409388
        }
      }
    },
    {
      "cell_type": "code",
      "source": [
        "tcp_df_dev.loc[(tcp_df_dev['Employee_Number']=='20763')&tcp_filter].sort_values('Date',ascending = True)"
      ],
      "outputs": [
        {
          "output_type": "execute_result",
          "execution_count": 209,
          "data": {
            "text/plain": "Empty DataFrame\nColumns: [WorkSegments_Timesheet_ID, Employee_Number, First_Name, Last_Name, Date, Job_Code, Activity, Phase_Code, Task, Regular_Hours, Overtime_Hours, Pay_Rate, Employee_Classification, Department, FileName, Created_Date]\nIndex: []",
            "text/html": "<div>\n<style scoped>\n    .dataframe tbody tr th:only-of-type {\n        vertical-align: middle;\n    }\n\n    .dataframe tbody tr th {\n        vertical-align: top;\n    }\n\n    .dataframe thead th {\n        text-align: right;\n    }\n</style>\n<table border=\"1\" class=\"dataframe\">\n  <thead>\n    <tr style=\"text-align: right;\">\n      <th></th>\n      <th>WorkSegments_Timesheet_ID</th>\n      <th>Employee_Number</th>\n      <th>First_Name</th>\n      <th>Last_Name</th>\n      <th>Date</th>\n      <th>Job_Code</th>\n      <th>Activity</th>\n      <th>Phase_Code</th>\n      <th>Task</th>\n      <th>Regular_Hours</th>\n      <th>Overtime_Hours</th>\n      <th>Pay_Rate</th>\n      <th>Employee_Classification</th>\n      <th>Department</th>\n      <th>FileName</th>\n      <th>Created_Date</th>\n    </tr>\n  </thead>\n  <tbody>\n  </tbody>\n</table>\n</div>"
          },
          "metadata": {}
        }
      ],
      "execution_count": 209,
      "metadata": {
        "jupyter": {
          "source_hidden": false,
          "outputs_hidden": false
        },
        "nteract": {
          "transient": {
            "deleting": false
          }
        },
        "gather": {
          "logged": 1697563300527
        }
      }
    },
    {
      "cell_type": "code",
      "source": [
        "#Date Filters\n",
        "tcp_filter = (tcp_df_comp['Date']>=start_date)&(tcp_df_comp['Date']<=end_date)\n",
        "cmic_filter = (cmic_pr_df_comp['Date']>=start_date)&(cmic_pr_df_comp['Date']<=end_date)\n",
        "wd_filter = (wd_pr_df_comp['Date']>=start_date)&(wd_pr_df_comp['Date']<=end_date)"
      ],
      "outputs": [],
      "execution_count": 96,
      "metadata": {
        "jupyter": {
          "source_hidden": false,
          "outputs_hidden": false
        },
        "nteract": {
          "transient": {
            "deleting": false
          }
        },
        "gather": {
          "logged": 1697638604062
        }
      }
    },
    {
      "cell_type": "code",
      "source": [
        "#['EEID','Date','Job','Sub_Job','Hours']\n",
        "wd_eeid = list(wd_pr_df_comp.loc[wd_filter,'EEID'].unique())\n",
        "tcp_eeid = list(tcp_df.loc[tcp_filter,'EEID'].unique())"
      ],
      "outputs": [],
      "execution_count": 97,
      "metadata": {
        "jupyter": {
          "source_hidden": false,
          "outputs_hidden": false
        },
        "nteract": {
          "transient": {
            "deleting": false
          }
        },
        "gather": {
          "logged": 1697638606310
        }
      }
    },
    {
      "cell_type": "code",
      "source": [
        "eeid_intcp_not_wd = list(set(tcp_eeid) - set(wd_eeid))\n",
        "len(eeid_intcp_not_wd)"
      ],
      "outputs": [
        {
          "output_type": "execute_result",
          "execution_count": 98,
          "data": {
            "text/plain": "31"
          },
          "metadata": {}
        }
      ],
      "execution_count": 98,
      "metadata": {
        "jupyter": {
          "source_hidden": false,
          "outputs_hidden": false
        },
        "nteract": {
          "transient": {
            "deleting": false
          }
        },
        "gather": {
          "logged": 1697638607768
        }
      }
    },
    {
      "cell_type": "code",
      "source": [
        "for x in eeid_intcp_not_wd:\n",
        "    print(x)"
      ],
      "outputs": [
        {
          "output_type": "stream",
          "name": "stdout",
          "text": "6937\n16200\n14705\n15564\n15033\n15962\n5243000043\n14987\n7811\n16187\n11143\n15454\n11089\n15990\n16138\n16324\n13279\n15762\n16030\n16165\n16180\n12968\n15369\n14829\n5105\n20500\n13732\n20619\n5243000015\n16162\n20306\n"
        }
      ],
      "execution_count": 99,
      "metadata": {
        "jupyter": {
          "source_hidden": false,
          "outputs_hidden": false
        },
        "nteract": {
          "transient": {
            "deleting": false
          }
        },
        "gather": {
          "logged": 1697638610319
        }
      }
    },
    {
      "cell_type": "code",
      "source": [
        "wd_eeid_explore = wd_pr_df_dev.copy()"
      ],
      "outputs": [],
      "execution_count": 86,
      "metadata": {
        "jupyter": {
          "source_hidden": false,
          "outputs_hidden": false
        },
        "nteract": {
          "transient": {
            "deleting": false
          }
        },
        "gather": {
          "logged": 1697638247547
        }
      }
    },
    {
      "cell_type": "code",
      "source": [
        "wd_eeid_explore['EEID'] = wd_eeid_explore['Workers'].str.split('(').str[1]\n",
        "wd_eeid_explore['EEID'] = wd_eeid_explore['EEID'].str.split(')').str[0]"
      ],
      "outputs": [],
      "execution_count": 87,
      "metadata": {
        "jupyter": {
          "source_hidden": false,
          "outputs_hidden": false
        },
        "nteract": {
          "transient": {
            "deleting": false
          }
        },
        "gather": {
          "logged": 1697638248923
        }
      }
    },
    {
      "cell_type": "code",
      "source": [
        "wd_pr_df.loc[wd_pr_df['EEID'] == '4082']"
      ],
      "outputs": [
        {
          "output_type": "execute_result",
          "execution_count": 100,
          "data": {
            "text/plain": "                              workdayID EmployeeID Employee_FullName  \\\n43021  7c8f1553b88990011947d733e8c20000       4082    Aisoli Vitale    \n43022  7c8f1553b88990011947d86850e10000       4082    Aisoli Vitale    \n43023  7c8f1553b88990011947d9029b6b0000       4082    Aisoli Vitale    \n43024  7c8f1553b88990011947d99d041c0000       4082    Aisoli Vitale    \n50602  7c8f1553b8899002172e24b276f40000       4082    Aisoli Vitale    \n50603  7c8f1553b8899002172e254d60670000       4082    Aisoli Vitale    \n50604  7c8f1553b8899002172e25e719c70000       4082    Aisoli Vitale    \n50605  7c8f1553b8899002172e268098770000       4082    Aisoli Vitale    \n51896  dcd88da845b59002168f57a38a360000       4082    Aisoli Vitale    \n51897  dcd88da845b59002168f583e79ab0000       4082    Aisoli Vitale    \n51898  dcd88da845b59002168f58d85e170000       4082    Aisoli Vitale    \n51899  dcd88da845b59002168f59729f310000       4082    Aisoli Vitale    \n75424  e70ba2f2f4839000ca26f01c511c0000       4082    Aisoli Vitale    \n75425  e70ba2f2f4839000ca26f0b778a70000       4082    Aisoli Vitale    \n75426  e70ba2f2f4839000ca26f15282190000       4082    Aisoli Vitale    \n75427  e70ba2f2f4839000ca26f1ec3af30000       4082    Aisoli Vitale    \n75428  e70ba2f2f4839000ca26f28753f80000       4082    Aisoli Vitale    \n\n                    Workers Employee_BillTransaction_Descriptor  \\\n43021  Aisoli Vitale (4082)                           10 Hours    \n43022  Aisoli Vitale (4082)                           10 Hours    \n43023  Aisoli Vitale (4082)                           10 Hours    \n43024  Aisoli Vitale (4082)                           10 Hours    \n50602  Aisoli Vitale (4082)                           10 Hours    \n50603  Aisoli Vitale (4082)                           10 Hours    \n50604  Aisoli Vitale (4082)                           10 Hours    \n50605  Aisoli Vitale (4082)                           10 Hours    \n51896  Aisoli Vitale (4082)                           10 Hours    \n51897  Aisoli Vitale (4082)                           10 Hours    \n51898  Aisoli Vitale (4082)                           10 Hours    \n51899  Aisoli Vitale (4082)                           10 Hours    \n75424  Aisoli Vitale (4082)                           10 Hours    \n75425  Aisoli Vitale (4082)                           10 Hours    \n75426  Aisoli Vitale (4082)                          8.5 Hours    \n75427  Aisoli Vitale (4082)                           10 Hours    \n75428  Aisoli Vitale (4082)                            8 Hours    \n\n      billableTransaction.descriptor Employee_BillTransactionDate  Hours  \\\n43021         10 Hours on 10/02/2023                   10/02/2023   10.0   \n43022         10 Hours on 10/03/2023                   10/03/2023   10.0   \n43023         10 Hours on 10/04/2023                   10/04/2023   10.0   \n43024         10 Hours on 10/05/2023                   10/05/2023   10.0   \n50602         10 Hours on 10/09/2023                   10/09/2023   10.0   \n50603         10 Hours on 10/10/2023                   10/10/2023   10.0   \n50604         10 Hours on 10/11/2023                   10/11/2023   10.0   \n50605         10 Hours on 10/12/2023                   10/12/2023   10.0   \n51896         10 Hours on 10/09/2023                   10/09/2023   10.0   \n51897         10 Hours on 10/10/2023                   10/10/2023   10.0   \n51898         10 Hours on 10/11/2023                   10/11/2023   10.0   \n51899         10 Hours on 10/12/2023                   10/12/2023   10.0   \n75424         10 Hours on 09/25/2023                   09/25/2023   10.0   \n75425         10 Hours on 09/26/2023                   09/26/2023   10.0   \n75426        8.5 Hours on 09/27/2023                 n 09/27/2023    8.5   \n75427         10 Hours on 09/28/2023                   09/28/2023   10.0   \n75428          8 Hours on 09/29/2023                   09/29/2023    8.0   \n\n      dayOfTheWeek FrequencySalary  ... transactionSource.descriptor  \\\n43021       Monday   Weekly Unions  ...                         Time   \n43022      Tuesday   Weekly Unions  ...                         Time   \n43023    Wednesday   Weekly Unions  ...                         Time   \n43024     Thursday   Weekly Unions  ...                         Time   \n50602       Monday   Weekly Unions  ...                         Time   \n50603      Tuesday   Weekly Unions  ...                         Time   \n50604    Wednesday   Weekly Unions  ...                         Time   \n50605     Thursday   Weekly Unions  ...                         Time   \n51896       Monday   Weekly Unions  ...                         Time   \n51897      Tuesday   Weekly Unions  ...                         Time   \n51898    Wednesday   Weekly Unions  ...                         Time   \n51899     Thursday   Weekly Unions  ...                         Time   \n75424       Monday   Weekly Unions  ...                         Time   \n75425      Tuesday   Weekly Unions  ...                         Time   \n75426    Wednesday   Weekly Unions  ...                         Time   \n75427     Thursday   Weekly Unions  ...                         Time   \n75428       Friday   Weekly Unions  ...                         Time   \n\n                   transactionSource.id unit.descriptor  \\\n43021  7a55a775b63b4b9b8a5b3722fc1e4556           Hours   \n43022  7a55a775b63b4b9b8a5b3722fc1e4556           Hours   \n43023  7a55a775b63b4b9b8a5b3722fc1e4556           Hours   \n43024  7a55a775b63b4b9b8a5b3722fc1e4556           Hours   \n50602  7a55a775b63b4b9b8a5b3722fc1e4556           Hours   \n50603  7a55a775b63b4b9b8a5b3722fc1e4556           Hours   \n50604  7a55a775b63b4b9b8a5b3722fc1e4556           Hours   \n50605  7a55a775b63b4b9b8a5b3722fc1e4556           Hours   \n51896  7a55a775b63b4b9b8a5b3722fc1e4556           Hours   \n51897  7a55a775b63b4b9b8a5b3722fc1e4556           Hours   \n51898  7a55a775b63b4b9b8a5b3722fc1e4556           Hours   \n51899  7a55a775b63b4b9b8a5b3722fc1e4556           Hours   \n75424  7a55a775b63b4b9b8a5b3722fc1e4556           Hours   \n75425  7a55a775b63b4b9b8a5b3722fc1e4556           Hours   \n75426  7a55a775b63b4b9b8a5b3722fc1e4556           Hours   \n75427  7a55a775b63b4b9b8a5b3722fc1e4556           Hours   \n75428  7a55a775b63b4b9b8a5b3722fc1e4556           Hours   \n\n                                unit.id  unit1 unitOfTimeIsHours  \\\n43021  c4dacbd56bca4a9a8950e8d3ed21bbdb  Hours              True   \n43022  c4dacbd56bca4a9a8950e8d3ed21bbdb  Hours              True   \n43023  c4dacbd56bca4a9a8950e8d3ed21bbdb  Hours              True   \n43024  c4dacbd56bca4a9a8950e8d3ed21bbdb  Hours              True   \n50602  c4dacbd56bca4a9a8950e8d3ed21bbdb  Hours              True   \n50603  c4dacbd56bca4a9a8950e8d3ed21bbdb  Hours              True   \n50604  c4dacbd56bca4a9a8950e8d3ed21bbdb  Hours              True   \n50605  c4dacbd56bca4a9a8950e8d3ed21bbdb  Hours              True   \n51896  c4dacbd56bca4a9a8950e8d3ed21bbdb  Hours              True   \n51897  c4dacbd56bca4a9a8950e8d3ed21bbdb  Hours              True   \n51898  c4dacbd56bca4a9a8950e8d3ed21bbdb  Hours              True   \n51899  c4dacbd56bca4a9a8950e8d3ed21bbdb  Hours              True   \n75424  c4dacbd56bca4a9a8950e8d3ed21bbdb  Hours              True   \n75425  c4dacbd56bca4a9a8950e8d3ed21bbdb  Hours              True   \n75426  c4dacbd56bca4a9a8950e8d3ed21bbdb  Hours              True   \n75427  c4dacbd56bca4a9a8950e8d3ed21bbdb  Hours              True   \n75428  c4dacbd56bca4a9a8950e8d3ed21bbdb  Hours              True   \n\n      unroundedDuration  EEID Sub_Job      Job  \n43021               0.0  4082      15  7102023  \n43022               0.0  4082      15  7102023  \n43023               0.0  4082      15  7102023  \n43024               0.0  4082      15  7102023  \n50602               0.0  4082      20  7102023  \n50603               0.0  4082      15  7102023  \n50604               0.0  4082      20  7102023  \n50605               0.0  4082      15  7102023  \n51896               0.0  4082      20  7102023  \n51897               0.0  4082      15  7102023  \n51898               0.0  4082      20  7102023  \n51899               0.0  4082      15  7102023  \n75424               0.0  4082      10  7102023  \n75425               0.0  4082      15  7102023  \n75426               0.0  4082      15  7102023  \n75427               0.0  4082      15  7102023  \n75428               0.0  4082      15  7102023  \n\n[17 rows x 341 columns]",
            "text/html": "<div>\n<style scoped>\n    .dataframe tbody tr th:only-of-type {\n        vertical-align: middle;\n    }\n\n    .dataframe tbody tr th {\n        vertical-align: top;\n    }\n\n    .dataframe thead th {\n        text-align: right;\n    }\n</style>\n<table border=\"1\" class=\"dataframe\">\n  <thead>\n    <tr style=\"text-align: right;\">\n      <th></th>\n      <th>workdayID</th>\n      <th>EmployeeID</th>\n      <th>Employee_FullName</th>\n      <th>Workers</th>\n      <th>Employee_BillTransaction_Descriptor</th>\n      <th>billableTransaction.descriptor</th>\n      <th>Employee_BillTransactionDate</th>\n      <th>Hours</th>\n      <th>dayOfTheWeek</th>\n      <th>FrequencySalary</th>\n      <th>...</th>\n      <th>transactionSource.descriptor</th>\n      <th>transactionSource.id</th>\n      <th>unit.descriptor</th>\n      <th>unit.id</th>\n      <th>unit1</th>\n      <th>unitOfTimeIsHours</th>\n      <th>unroundedDuration</th>\n      <th>EEID</th>\n      <th>Sub_Job</th>\n      <th>Job</th>\n    </tr>\n  </thead>\n  <tbody>\n    <tr>\n      <th>43021</th>\n      <td>7c8f1553b88990011947d733e8c20000</td>\n      <td>4082</td>\n      <td>Aisoli Vitale</td>\n      <td>Aisoli Vitale (4082)</td>\n      <td>10 Hours</td>\n      <td>10 Hours on 10/02/2023</td>\n      <td>10/02/2023</td>\n      <td>10.0</td>\n      <td>Monday</td>\n      <td>Weekly Unions</td>\n      <td>...</td>\n      <td>Time</td>\n      <td>7a55a775b63b4b9b8a5b3722fc1e4556</td>\n      <td>Hours</td>\n      <td>c4dacbd56bca4a9a8950e8d3ed21bbdb</td>\n      <td>Hours</td>\n      <td>True</td>\n      <td>0.0</td>\n      <td>4082</td>\n      <td>15</td>\n      <td>7102023</td>\n    </tr>\n    <tr>\n      <th>43022</th>\n      <td>7c8f1553b88990011947d86850e10000</td>\n      <td>4082</td>\n      <td>Aisoli Vitale</td>\n      <td>Aisoli Vitale (4082)</td>\n      <td>10 Hours</td>\n      <td>10 Hours on 10/03/2023</td>\n      <td>10/03/2023</td>\n      <td>10.0</td>\n      <td>Tuesday</td>\n      <td>Weekly Unions</td>\n      <td>...</td>\n      <td>Time</td>\n      <td>7a55a775b63b4b9b8a5b3722fc1e4556</td>\n      <td>Hours</td>\n      <td>c4dacbd56bca4a9a8950e8d3ed21bbdb</td>\n      <td>Hours</td>\n      <td>True</td>\n      <td>0.0</td>\n      <td>4082</td>\n      <td>15</td>\n      <td>7102023</td>\n    </tr>\n    <tr>\n      <th>43023</th>\n      <td>7c8f1553b88990011947d9029b6b0000</td>\n      <td>4082</td>\n      <td>Aisoli Vitale</td>\n      <td>Aisoli Vitale (4082)</td>\n      <td>10 Hours</td>\n      <td>10 Hours on 10/04/2023</td>\n      <td>10/04/2023</td>\n      <td>10.0</td>\n      <td>Wednesday</td>\n      <td>Weekly Unions</td>\n      <td>...</td>\n      <td>Time</td>\n      <td>7a55a775b63b4b9b8a5b3722fc1e4556</td>\n      <td>Hours</td>\n      <td>c4dacbd56bca4a9a8950e8d3ed21bbdb</td>\n      <td>Hours</td>\n      <td>True</td>\n      <td>0.0</td>\n      <td>4082</td>\n      <td>15</td>\n      <td>7102023</td>\n    </tr>\n    <tr>\n      <th>43024</th>\n      <td>7c8f1553b88990011947d99d041c0000</td>\n      <td>4082</td>\n      <td>Aisoli Vitale</td>\n      <td>Aisoli Vitale (4082)</td>\n      <td>10 Hours</td>\n      <td>10 Hours on 10/05/2023</td>\n      <td>10/05/2023</td>\n      <td>10.0</td>\n      <td>Thursday</td>\n      <td>Weekly Unions</td>\n      <td>...</td>\n      <td>Time</td>\n      <td>7a55a775b63b4b9b8a5b3722fc1e4556</td>\n      <td>Hours</td>\n      <td>c4dacbd56bca4a9a8950e8d3ed21bbdb</td>\n      <td>Hours</td>\n      <td>True</td>\n      <td>0.0</td>\n      <td>4082</td>\n      <td>15</td>\n      <td>7102023</td>\n    </tr>\n    <tr>\n      <th>50602</th>\n      <td>7c8f1553b8899002172e24b276f40000</td>\n      <td>4082</td>\n      <td>Aisoli Vitale</td>\n      <td>Aisoli Vitale (4082)</td>\n      <td>10 Hours</td>\n      <td>10 Hours on 10/09/2023</td>\n      <td>10/09/2023</td>\n      <td>10.0</td>\n      <td>Monday</td>\n      <td>Weekly Unions</td>\n      <td>...</td>\n      <td>Time</td>\n      <td>7a55a775b63b4b9b8a5b3722fc1e4556</td>\n      <td>Hours</td>\n      <td>c4dacbd56bca4a9a8950e8d3ed21bbdb</td>\n      <td>Hours</td>\n      <td>True</td>\n      <td>0.0</td>\n      <td>4082</td>\n      <td>20</td>\n      <td>7102023</td>\n    </tr>\n    <tr>\n      <th>50603</th>\n      <td>7c8f1553b8899002172e254d60670000</td>\n      <td>4082</td>\n      <td>Aisoli Vitale</td>\n      <td>Aisoli Vitale (4082)</td>\n      <td>10 Hours</td>\n      <td>10 Hours on 10/10/2023</td>\n      <td>10/10/2023</td>\n      <td>10.0</td>\n      <td>Tuesday</td>\n      <td>Weekly Unions</td>\n      <td>...</td>\n      <td>Time</td>\n      <td>7a55a775b63b4b9b8a5b3722fc1e4556</td>\n      <td>Hours</td>\n      <td>c4dacbd56bca4a9a8950e8d3ed21bbdb</td>\n      <td>Hours</td>\n      <td>True</td>\n      <td>0.0</td>\n      <td>4082</td>\n      <td>15</td>\n      <td>7102023</td>\n    </tr>\n    <tr>\n      <th>50604</th>\n      <td>7c8f1553b8899002172e25e719c70000</td>\n      <td>4082</td>\n      <td>Aisoli Vitale</td>\n      <td>Aisoli Vitale (4082)</td>\n      <td>10 Hours</td>\n      <td>10 Hours on 10/11/2023</td>\n      <td>10/11/2023</td>\n      <td>10.0</td>\n      <td>Wednesday</td>\n      <td>Weekly Unions</td>\n      <td>...</td>\n      <td>Time</td>\n      <td>7a55a775b63b4b9b8a5b3722fc1e4556</td>\n      <td>Hours</td>\n      <td>c4dacbd56bca4a9a8950e8d3ed21bbdb</td>\n      <td>Hours</td>\n      <td>True</td>\n      <td>0.0</td>\n      <td>4082</td>\n      <td>20</td>\n      <td>7102023</td>\n    </tr>\n    <tr>\n      <th>50605</th>\n      <td>7c8f1553b8899002172e268098770000</td>\n      <td>4082</td>\n      <td>Aisoli Vitale</td>\n      <td>Aisoli Vitale (4082)</td>\n      <td>10 Hours</td>\n      <td>10 Hours on 10/12/2023</td>\n      <td>10/12/2023</td>\n      <td>10.0</td>\n      <td>Thursday</td>\n      <td>Weekly Unions</td>\n      <td>...</td>\n      <td>Time</td>\n      <td>7a55a775b63b4b9b8a5b3722fc1e4556</td>\n      <td>Hours</td>\n      <td>c4dacbd56bca4a9a8950e8d3ed21bbdb</td>\n      <td>Hours</td>\n      <td>True</td>\n      <td>0.0</td>\n      <td>4082</td>\n      <td>15</td>\n      <td>7102023</td>\n    </tr>\n    <tr>\n      <th>51896</th>\n      <td>dcd88da845b59002168f57a38a360000</td>\n      <td>4082</td>\n      <td>Aisoli Vitale</td>\n      <td>Aisoli Vitale (4082)</td>\n      <td>10 Hours</td>\n      <td>10 Hours on 10/09/2023</td>\n      <td>10/09/2023</td>\n      <td>10.0</td>\n      <td>Monday</td>\n      <td>Weekly Unions</td>\n      <td>...</td>\n      <td>Time</td>\n      <td>7a55a775b63b4b9b8a5b3722fc1e4556</td>\n      <td>Hours</td>\n      <td>c4dacbd56bca4a9a8950e8d3ed21bbdb</td>\n      <td>Hours</td>\n      <td>True</td>\n      <td>0.0</td>\n      <td>4082</td>\n      <td>20</td>\n      <td>7102023</td>\n    </tr>\n    <tr>\n      <th>51897</th>\n      <td>dcd88da845b59002168f583e79ab0000</td>\n      <td>4082</td>\n      <td>Aisoli Vitale</td>\n      <td>Aisoli Vitale (4082)</td>\n      <td>10 Hours</td>\n      <td>10 Hours on 10/10/2023</td>\n      <td>10/10/2023</td>\n      <td>10.0</td>\n      <td>Tuesday</td>\n      <td>Weekly Unions</td>\n      <td>...</td>\n      <td>Time</td>\n      <td>7a55a775b63b4b9b8a5b3722fc1e4556</td>\n      <td>Hours</td>\n      <td>c4dacbd56bca4a9a8950e8d3ed21bbdb</td>\n      <td>Hours</td>\n      <td>True</td>\n      <td>0.0</td>\n      <td>4082</td>\n      <td>15</td>\n      <td>7102023</td>\n    </tr>\n    <tr>\n      <th>51898</th>\n      <td>dcd88da845b59002168f58d85e170000</td>\n      <td>4082</td>\n      <td>Aisoli Vitale</td>\n      <td>Aisoli Vitale (4082)</td>\n      <td>10 Hours</td>\n      <td>10 Hours on 10/11/2023</td>\n      <td>10/11/2023</td>\n      <td>10.0</td>\n      <td>Wednesday</td>\n      <td>Weekly Unions</td>\n      <td>...</td>\n      <td>Time</td>\n      <td>7a55a775b63b4b9b8a5b3722fc1e4556</td>\n      <td>Hours</td>\n      <td>c4dacbd56bca4a9a8950e8d3ed21bbdb</td>\n      <td>Hours</td>\n      <td>True</td>\n      <td>0.0</td>\n      <td>4082</td>\n      <td>20</td>\n      <td>7102023</td>\n    </tr>\n    <tr>\n      <th>51899</th>\n      <td>dcd88da845b59002168f59729f310000</td>\n      <td>4082</td>\n      <td>Aisoli Vitale</td>\n      <td>Aisoli Vitale (4082)</td>\n      <td>10 Hours</td>\n      <td>10 Hours on 10/12/2023</td>\n      <td>10/12/2023</td>\n      <td>10.0</td>\n      <td>Thursday</td>\n      <td>Weekly Unions</td>\n      <td>...</td>\n      <td>Time</td>\n      <td>7a55a775b63b4b9b8a5b3722fc1e4556</td>\n      <td>Hours</td>\n      <td>c4dacbd56bca4a9a8950e8d3ed21bbdb</td>\n      <td>Hours</td>\n      <td>True</td>\n      <td>0.0</td>\n      <td>4082</td>\n      <td>15</td>\n      <td>7102023</td>\n    </tr>\n    <tr>\n      <th>75424</th>\n      <td>e70ba2f2f4839000ca26f01c511c0000</td>\n      <td>4082</td>\n      <td>Aisoli Vitale</td>\n      <td>Aisoli Vitale (4082)</td>\n      <td>10 Hours</td>\n      <td>10 Hours on 09/25/2023</td>\n      <td>09/25/2023</td>\n      <td>10.0</td>\n      <td>Monday</td>\n      <td>Weekly Unions</td>\n      <td>...</td>\n      <td>Time</td>\n      <td>7a55a775b63b4b9b8a5b3722fc1e4556</td>\n      <td>Hours</td>\n      <td>c4dacbd56bca4a9a8950e8d3ed21bbdb</td>\n      <td>Hours</td>\n      <td>True</td>\n      <td>0.0</td>\n      <td>4082</td>\n      <td>10</td>\n      <td>7102023</td>\n    </tr>\n    <tr>\n      <th>75425</th>\n      <td>e70ba2f2f4839000ca26f0b778a70000</td>\n      <td>4082</td>\n      <td>Aisoli Vitale</td>\n      <td>Aisoli Vitale (4082)</td>\n      <td>10 Hours</td>\n      <td>10 Hours on 09/26/2023</td>\n      <td>09/26/2023</td>\n      <td>10.0</td>\n      <td>Tuesday</td>\n      <td>Weekly Unions</td>\n      <td>...</td>\n      <td>Time</td>\n      <td>7a55a775b63b4b9b8a5b3722fc1e4556</td>\n      <td>Hours</td>\n      <td>c4dacbd56bca4a9a8950e8d3ed21bbdb</td>\n      <td>Hours</td>\n      <td>True</td>\n      <td>0.0</td>\n      <td>4082</td>\n      <td>15</td>\n      <td>7102023</td>\n    </tr>\n    <tr>\n      <th>75426</th>\n      <td>e70ba2f2f4839000ca26f15282190000</td>\n      <td>4082</td>\n      <td>Aisoli Vitale</td>\n      <td>Aisoli Vitale (4082)</td>\n      <td>8.5 Hours</td>\n      <td>8.5 Hours on 09/27/2023</td>\n      <td>n 09/27/2023</td>\n      <td>8.5</td>\n      <td>Wednesday</td>\n      <td>Weekly Unions</td>\n      <td>...</td>\n      <td>Time</td>\n      <td>7a55a775b63b4b9b8a5b3722fc1e4556</td>\n      <td>Hours</td>\n      <td>c4dacbd56bca4a9a8950e8d3ed21bbdb</td>\n      <td>Hours</td>\n      <td>True</td>\n      <td>0.0</td>\n      <td>4082</td>\n      <td>15</td>\n      <td>7102023</td>\n    </tr>\n    <tr>\n      <th>75427</th>\n      <td>e70ba2f2f4839000ca26f1ec3af30000</td>\n      <td>4082</td>\n      <td>Aisoli Vitale</td>\n      <td>Aisoli Vitale (4082)</td>\n      <td>10 Hours</td>\n      <td>10 Hours on 09/28/2023</td>\n      <td>09/28/2023</td>\n      <td>10.0</td>\n      <td>Thursday</td>\n      <td>Weekly Unions</td>\n      <td>...</td>\n      <td>Time</td>\n      <td>7a55a775b63b4b9b8a5b3722fc1e4556</td>\n      <td>Hours</td>\n      <td>c4dacbd56bca4a9a8950e8d3ed21bbdb</td>\n      <td>Hours</td>\n      <td>True</td>\n      <td>0.0</td>\n      <td>4082</td>\n      <td>15</td>\n      <td>7102023</td>\n    </tr>\n    <tr>\n      <th>75428</th>\n      <td>e70ba2f2f4839000ca26f28753f80000</td>\n      <td>4082</td>\n      <td>Aisoli Vitale</td>\n      <td>Aisoli Vitale (4082)</td>\n      <td>8 Hours</td>\n      <td>8 Hours on 09/29/2023</td>\n      <td>09/29/2023</td>\n      <td>8.0</td>\n      <td>Friday</td>\n      <td>Weekly Unions</td>\n      <td>...</td>\n      <td>Time</td>\n      <td>7a55a775b63b4b9b8a5b3722fc1e4556</td>\n      <td>Hours</td>\n      <td>c4dacbd56bca4a9a8950e8d3ed21bbdb</td>\n      <td>Hours</td>\n      <td>True</td>\n      <td>0.0</td>\n      <td>4082</td>\n      <td>15</td>\n      <td>7102023</td>\n    </tr>\n  </tbody>\n</table>\n<p>17 rows × 341 columns</p>\n</div>"
          },
          "metadata": {}
        }
      ],
      "execution_count": 100,
      "metadata": {
        "jupyter": {
          "source_hidden": false,
          "outputs_hidden": false
        },
        "nteract": {
          "transient": {
            "deleting": false
          }
        },
        "gather": {
          "logged": 1697638642048
        }
      }
    },
    {
      "cell_type": "code",
      "source": [
        "wd_pr_df.FrequencySalary.unique()\n",
        "wd_pr_df.loc[wd_pr_df['FrequencySalary'] != 'Bi-Weekly Salary']"
      ],
      "outputs": [
        {
          "output_type": "execute_result",
          "execution_count": 102,
          "data": {
            "text/plain": "                              workdayID EmployeeID Employee_FullName  \\\n24     07f132c6a9069001f5d7fe0a8b9b0000       3797      Robert Jean    \n25     07f132c6a9069001f5d7feb236e60000       3797      Robert Jean    \n26     07f132c6a9069001f5d7feb236e60001       3797      Robert Jean    \n27     07f132c6a9069001f5d7ff518df60000       3797      Robert Jean    \n28     07f132c6a9069001f5d7ff518df60001       3797      Robert Jean    \n...                                 ...        ...               ...   \n76555  07f132c6a9069000cd4715622eb60002       6585  Wayne Stevenson    \n76556  07f132c6a9069000cd4715fc58590000       6585  Wayne Stevenson    \n76557  07f132c6a9069000cd4715fc58590001       6585  Wayne Stevenson    \n76558  07f132c6a9069000cd471695eeb60000       6585  Wayne Stevenson    \n76559  07f132c6a9069000cd471695eeb60001       6585  Wayne Stevenson    \n\n                      Workers Employee_BillTransaction_Descriptor  \\\n24         Robert Jean (3797)                            4 Hours    \n25         Robert Jean (3797)                          4.5 Hours    \n26         Robert Jean (3797)                            4 Hours    \n27         Robert Jean (3797)                            4 Hours    \n28         Robert Jean (3797)                          4.5 Hours    \n...                       ...                                 ...   \n76555  Wayne Stevenson (6585)                          6.5 Hours    \n76556  Wayne Stevenson (6585)                          6.5 Hours    \n76557  Wayne Stevenson (6585)                          5.5 Hours    \n76558  Wayne Stevenson (6585)                         5.75 Hours    \n76559  Wayne Stevenson (6585)                          5.5 Hours    \n\n      billableTransaction.descriptor Employee_BillTransactionDate  Hours  \\\n24             4 Hours on 10/05/2023                   10/05/2023   4.00   \n25           4.5 Hours on 10/06/2023                 n 10/06/2023   4.50   \n26             4 Hours on 10/02/2023                   10/02/2023   4.00   \n27             4 Hours on 10/03/2023                   10/03/2023   4.00   \n28           4.5 Hours on 10/03/2023                 n 10/03/2023   4.50   \n...                              ...                          ...    ...   \n76555        6.5 Hours on 09/27/2023                 n 09/27/2023   6.50   \n76556        6.5 Hours on 09/26/2023                 n 09/26/2023   6.50   \n76557        5.5 Hours on 09/27/2023                 n 09/27/2023   5.50   \n76558       5.75 Hours on 09/26/2023                on 09/26/2023   5.75   \n76559        5.5 Hours on 09/28/2023                 n 09/28/2023   5.50   \n\n      dayOfTheWeek FrequencySalary  ... transactionSource.descriptor  \\\n24        Thursday   Weekly Hourly  ...                         Time   \n25          Friday   Weekly Hourly  ...                         Time   \n26          Monday   Weekly Hourly  ...                         Time   \n27         Tuesday   Weekly Hourly  ...                         Time   \n28         Tuesday   Weekly Hourly  ...                         Time   \n...            ...             ...  ...                          ...   \n76555    Wednesday   Weekly Hourly  ...                         Time   \n76556      Tuesday   Weekly Hourly  ...                         Time   \n76557    Wednesday   Weekly Hourly  ...                         Time   \n76558      Tuesday   Weekly Hourly  ...                         Time   \n76559     Thursday   Weekly Hourly  ...                         Time   \n\n                   transactionSource.id unit.descriptor  \\\n24     7a55a775b63b4b9b8a5b3722fc1e4556           Hours   \n25     7a55a775b63b4b9b8a5b3722fc1e4556           Hours   \n26     7a55a775b63b4b9b8a5b3722fc1e4556           Hours   \n27     7a55a775b63b4b9b8a5b3722fc1e4556           Hours   \n28     7a55a775b63b4b9b8a5b3722fc1e4556           Hours   \n...                                 ...             ...   \n76555  7a55a775b63b4b9b8a5b3722fc1e4556           Hours   \n76556  7a55a775b63b4b9b8a5b3722fc1e4556           Hours   \n76557  7a55a775b63b4b9b8a5b3722fc1e4556           Hours   \n76558  7a55a775b63b4b9b8a5b3722fc1e4556           Hours   \n76559  7a55a775b63b4b9b8a5b3722fc1e4556           Hours   \n\n                                unit.id  unit1 unitOfTimeIsHours  \\\n24     c4dacbd56bca4a9a8950e8d3ed21bbdb  Hours              True   \n25     c4dacbd56bca4a9a8950e8d3ed21bbdb  Hours              True   \n26     c4dacbd56bca4a9a8950e8d3ed21bbdb  Hours              True   \n27     c4dacbd56bca4a9a8950e8d3ed21bbdb  Hours              True   \n28     c4dacbd56bca4a9a8950e8d3ed21bbdb  Hours              True   \n...                                 ...    ...               ...   \n76555  c4dacbd56bca4a9a8950e8d3ed21bbdb  Hours              True   \n76556  c4dacbd56bca4a9a8950e8d3ed21bbdb  Hours              True   \n76557  c4dacbd56bca4a9a8950e8d3ed21bbdb  Hours              True   \n76558  c4dacbd56bca4a9a8950e8d3ed21bbdb  Hours              True   \n76559  c4dacbd56bca4a9a8950e8d3ed21bbdb  Hours              True   \n\n      unroundedDuration  EEID Sub_Job      Job  \n24                 4.00  3797      00  D302201  \n25                 4.50  3797      00  D302201  \n26                 4.00  3797      00  D302201  \n27                 4.00  3797      00  D302201  \n28                 4.50  3797      00  D302201  \n...                 ...   ...     ...      ...  \n76555              6.50  6585      50  1412301  \n76556              6.50  6585      50  1412301  \n76557              5.50  6585      50  1412301  \n76558              5.75  6585      50  1412301  \n76559              5.50  6585      50  1412301  \n\n[44519 rows x 341 columns]",
            "text/html": "<div>\n<style scoped>\n    .dataframe tbody tr th:only-of-type {\n        vertical-align: middle;\n    }\n\n    .dataframe tbody tr th {\n        vertical-align: top;\n    }\n\n    .dataframe thead th {\n        text-align: right;\n    }\n</style>\n<table border=\"1\" class=\"dataframe\">\n  <thead>\n    <tr style=\"text-align: right;\">\n      <th></th>\n      <th>workdayID</th>\n      <th>EmployeeID</th>\n      <th>Employee_FullName</th>\n      <th>Workers</th>\n      <th>Employee_BillTransaction_Descriptor</th>\n      <th>billableTransaction.descriptor</th>\n      <th>Employee_BillTransactionDate</th>\n      <th>Hours</th>\n      <th>dayOfTheWeek</th>\n      <th>FrequencySalary</th>\n      <th>...</th>\n      <th>transactionSource.descriptor</th>\n      <th>transactionSource.id</th>\n      <th>unit.descriptor</th>\n      <th>unit.id</th>\n      <th>unit1</th>\n      <th>unitOfTimeIsHours</th>\n      <th>unroundedDuration</th>\n      <th>EEID</th>\n      <th>Sub_Job</th>\n      <th>Job</th>\n    </tr>\n  </thead>\n  <tbody>\n    <tr>\n      <th>24</th>\n      <td>07f132c6a9069001f5d7fe0a8b9b0000</td>\n      <td>3797</td>\n      <td>Robert Jean</td>\n      <td>Robert Jean (3797)</td>\n      <td>4 Hours</td>\n      <td>4 Hours on 10/05/2023</td>\n      <td>10/05/2023</td>\n      <td>4.00</td>\n      <td>Thursday</td>\n      <td>Weekly Hourly</td>\n      <td>...</td>\n      <td>Time</td>\n      <td>7a55a775b63b4b9b8a5b3722fc1e4556</td>\n      <td>Hours</td>\n      <td>c4dacbd56bca4a9a8950e8d3ed21bbdb</td>\n      <td>Hours</td>\n      <td>True</td>\n      <td>4.00</td>\n      <td>3797</td>\n      <td>00</td>\n      <td>D302201</td>\n    </tr>\n    <tr>\n      <th>25</th>\n      <td>07f132c6a9069001f5d7feb236e60000</td>\n      <td>3797</td>\n      <td>Robert Jean</td>\n      <td>Robert Jean (3797)</td>\n      <td>4.5 Hours</td>\n      <td>4.5 Hours on 10/06/2023</td>\n      <td>n 10/06/2023</td>\n      <td>4.50</td>\n      <td>Friday</td>\n      <td>Weekly Hourly</td>\n      <td>...</td>\n      <td>Time</td>\n      <td>7a55a775b63b4b9b8a5b3722fc1e4556</td>\n      <td>Hours</td>\n      <td>c4dacbd56bca4a9a8950e8d3ed21bbdb</td>\n      <td>Hours</td>\n      <td>True</td>\n      <td>4.50</td>\n      <td>3797</td>\n      <td>00</td>\n      <td>D302201</td>\n    </tr>\n    <tr>\n      <th>26</th>\n      <td>07f132c6a9069001f5d7feb236e60001</td>\n      <td>3797</td>\n      <td>Robert Jean</td>\n      <td>Robert Jean (3797)</td>\n      <td>4 Hours</td>\n      <td>4 Hours on 10/02/2023</td>\n      <td>10/02/2023</td>\n      <td>4.00</td>\n      <td>Monday</td>\n      <td>Weekly Hourly</td>\n      <td>...</td>\n      <td>Time</td>\n      <td>7a55a775b63b4b9b8a5b3722fc1e4556</td>\n      <td>Hours</td>\n      <td>c4dacbd56bca4a9a8950e8d3ed21bbdb</td>\n      <td>Hours</td>\n      <td>True</td>\n      <td>4.00</td>\n      <td>3797</td>\n      <td>00</td>\n      <td>D302201</td>\n    </tr>\n    <tr>\n      <th>27</th>\n      <td>07f132c6a9069001f5d7ff518df60000</td>\n      <td>3797</td>\n      <td>Robert Jean</td>\n      <td>Robert Jean (3797)</td>\n      <td>4 Hours</td>\n      <td>4 Hours on 10/03/2023</td>\n      <td>10/03/2023</td>\n      <td>4.00</td>\n      <td>Tuesday</td>\n      <td>Weekly Hourly</td>\n      <td>...</td>\n      <td>Time</td>\n      <td>7a55a775b63b4b9b8a5b3722fc1e4556</td>\n      <td>Hours</td>\n      <td>c4dacbd56bca4a9a8950e8d3ed21bbdb</td>\n      <td>Hours</td>\n      <td>True</td>\n      <td>4.00</td>\n      <td>3797</td>\n      <td>00</td>\n      <td>D302201</td>\n    </tr>\n    <tr>\n      <th>28</th>\n      <td>07f132c6a9069001f5d7ff518df60001</td>\n      <td>3797</td>\n      <td>Robert Jean</td>\n      <td>Robert Jean (3797)</td>\n      <td>4.5 Hours</td>\n      <td>4.5 Hours on 10/03/2023</td>\n      <td>n 10/03/2023</td>\n      <td>4.50</td>\n      <td>Tuesday</td>\n      <td>Weekly Hourly</td>\n      <td>...</td>\n      <td>Time</td>\n      <td>7a55a775b63b4b9b8a5b3722fc1e4556</td>\n      <td>Hours</td>\n      <td>c4dacbd56bca4a9a8950e8d3ed21bbdb</td>\n      <td>Hours</td>\n      <td>True</td>\n      <td>4.50</td>\n      <td>3797</td>\n      <td>00</td>\n      <td>D302201</td>\n    </tr>\n    <tr>\n      <th>...</th>\n      <td>...</td>\n      <td>...</td>\n      <td>...</td>\n      <td>...</td>\n      <td>...</td>\n      <td>...</td>\n      <td>...</td>\n      <td>...</td>\n      <td>...</td>\n      <td>...</td>\n      <td>...</td>\n      <td>...</td>\n      <td>...</td>\n      <td>...</td>\n      <td>...</td>\n      <td>...</td>\n      <td>...</td>\n      <td>...</td>\n      <td>...</td>\n      <td>...</td>\n      <td>...</td>\n    </tr>\n    <tr>\n      <th>76555</th>\n      <td>07f132c6a9069000cd4715622eb60002</td>\n      <td>6585</td>\n      <td>Wayne Stevenson</td>\n      <td>Wayne Stevenson (6585)</td>\n      <td>6.5 Hours</td>\n      <td>6.5 Hours on 09/27/2023</td>\n      <td>n 09/27/2023</td>\n      <td>6.50</td>\n      <td>Wednesday</td>\n      <td>Weekly Hourly</td>\n      <td>...</td>\n      <td>Time</td>\n      <td>7a55a775b63b4b9b8a5b3722fc1e4556</td>\n      <td>Hours</td>\n      <td>c4dacbd56bca4a9a8950e8d3ed21bbdb</td>\n      <td>Hours</td>\n      <td>True</td>\n      <td>6.50</td>\n      <td>6585</td>\n      <td>50</td>\n      <td>1412301</td>\n    </tr>\n    <tr>\n      <th>76556</th>\n      <td>07f132c6a9069000cd4715fc58590000</td>\n      <td>6585</td>\n      <td>Wayne Stevenson</td>\n      <td>Wayne Stevenson (6585)</td>\n      <td>6.5 Hours</td>\n      <td>6.5 Hours on 09/26/2023</td>\n      <td>n 09/26/2023</td>\n      <td>6.50</td>\n      <td>Tuesday</td>\n      <td>Weekly Hourly</td>\n      <td>...</td>\n      <td>Time</td>\n      <td>7a55a775b63b4b9b8a5b3722fc1e4556</td>\n      <td>Hours</td>\n      <td>c4dacbd56bca4a9a8950e8d3ed21bbdb</td>\n      <td>Hours</td>\n      <td>True</td>\n      <td>6.50</td>\n      <td>6585</td>\n      <td>50</td>\n      <td>1412301</td>\n    </tr>\n    <tr>\n      <th>76557</th>\n      <td>07f132c6a9069000cd4715fc58590001</td>\n      <td>6585</td>\n      <td>Wayne Stevenson</td>\n      <td>Wayne Stevenson (6585)</td>\n      <td>5.5 Hours</td>\n      <td>5.5 Hours on 09/27/2023</td>\n      <td>n 09/27/2023</td>\n      <td>5.50</td>\n      <td>Wednesday</td>\n      <td>Weekly Hourly</td>\n      <td>...</td>\n      <td>Time</td>\n      <td>7a55a775b63b4b9b8a5b3722fc1e4556</td>\n      <td>Hours</td>\n      <td>c4dacbd56bca4a9a8950e8d3ed21bbdb</td>\n      <td>Hours</td>\n      <td>True</td>\n      <td>5.50</td>\n      <td>6585</td>\n      <td>50</td>\n      <td>1412301</td>\n    </tr>\n    <tr>\n      <th>76558</th>\n      <td>07f132c6a9069000cd471695eeb60000</td>\n      <td>6585</td>\n      <td>Wayne Stevenson</td>\n      <td>Wayne Stevenson (6585)</td>\n      <td>5.75 Hours</td>\n      <td>5.75 Hours on 09/26/2023</td>\n      <td>on 09/26/2023</td>\n      <td>5.75</td>\n      <td>Tuesday</td>\n      <td>Weekly Hourly</td>\n      <td>...</td>\n      <td>Time</td>\n      <td>7a55a775b63b4b9b8a5b3722fc1e4556</td>\n      <td>Hours</td>\n      <td>c4dacbd56bca4a9a8950e8d3ed21bbdb</td>\n      <td>Hours</td>\n      <td>True</td>\n      <td>5.75</td>\n      <td>6585</td>\n      <td>50</td>\n      <td>1412301</td>\n    </tr>\n    <tr>\n      <th>76559</th>\n      <td>07f132c6a9069000cd471695eeb60001</td>\n      <td>6585</td>\n      <td>Wayne Stevenson</td>\n      <td>Wayne Stevenson (6585)</td>\n      <td>5.5 Hours</td>\n      <td>5.5 Hours on 09/28/2023</td>\n      <td>n 09/28/2023</td>\n      <td>5.50</td>\n      <td>Thursday</td>\n      <td>Weekly Hourly</td>\n      <td>...</td>\n      <td>Time</td>\n      <td>7a55a775b63b4b9b8a5b3722fc1e4556</td>\n      <td>Hours</td>\n      <td>c4dacbd56bca4a9a8950e8d3ed21bbdb</td>\n      <td>Hours</td>\n      <td>True</td>\n      <td>5.50</td>\n      <td>6585</td>\n      <td>50</td>\n      <td>1412301</td>\n    </tr>\n  </tbody>\n</table>\n<p>44519 rows × 341 columns</p>\n</div>"
          },
          "metadata": {}
        }
      ],
      "execution_count": 102,
      "metadata": {
        "jupyter": {
          "source_hidden": false,
          "outputs_hidden": false
        },
        "nteract": {
          "transient": {
            "deleting": false
          }
        },
        "gather": {
          "logged": 1697638721944
        }
      }
    },
    {
      "cell_type": "code",
      "source": [],
      "outputs": [],
      "execution_count": null,
      "metadata": {
        "jupyter": {
          "source_hidden": false,
          "outputs_hidden": false
        },
        "nteract": {
          "transient": {
            "deleting": false
          }
        }
      }
    }
  ],
  "metadata": {
    "kernelspec": {
      "name": "python310-sdkv2",
      "language": "python",
      "display_name": "Python 3.10 - SDK v2"
    },
    "language_info": {
      "name": "python",
      "version": "3.10.11",
      "mimetype": "text/x-python",
      "codemirror_mode": {
        "name": "ipython",
        "version": 3
      },
      "pygments_lexer": "ipython3",
      "nbconvert_exporter": "python",
      "file_extension": ".py"
    },
    "microsoft": {
      "ms_spell_check": {
        "ms_spell_check_language": "en"
      },
      "host": {
        "AzureML": {
          "notebookHasBeenCompleted": true
        }
      }
    },
    "kernel_info": {
      "name": "python310-sdkv2"
    },
    "nteract": {
      "version": "nteract-front-end@1.0.0"
    }
  },
  "nbformat": 4,
  "nbformat_minor": 2
}