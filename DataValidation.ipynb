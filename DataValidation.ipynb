{
  "cells": [
    {
      "cell_type": "code",
      "source": [
        "# azureml-core of version 1.0.72 or higher is required\n",
        "# azureml-dataprep[pandas] of version 1.1.34 or higher is required\n",
        "from azureml.core import Workspace, Dataset\n",
        "import pandas as pd\n",
        "from datetime import date, datetime, timedelta\n",
        "import numpy as np\n",
        "from azure.storage.blob import BlobServiceClient\n",
        "\n",
        "subscription_id = '96599b9b-0d9b-4577-9163-418d2c6cd411'\n",
        "resource_group = 'rg-datasci-ml-dev-001'\n",
        "workspace_name = 'ml-moss-dev-001'\n",
        "\n",
        "workspace = Workspace(subscription_id, resource_group, workspace_name)\n",
        "\n",
        "dataset_hourly_compare_cmic = Dataset.get_by_name(workspace, name='Hourly_Employee_Time_prod')\n",
        "cmic_pr_df_dev = dataset_hourly_compare_cmic.to_pandas_dataframe()\n",
        "\n",
        "dataset_hourly_compare_wd = Dataset.get_by_name(workspace, name='WD_Hourly_Employee_Time_prod')\n",
        "wd_pr_df_dev = dataset_hourly_compare_wd.to_pandas_dataframe()\n",
        "\n",
        "tcp_dataset = Dataset.get_by_name(workspace, name='WorkSegments_Timesheet_prod')\n",
        "tcp_df_dev = tcp_dataset.to_pandas_dataframe()\n",
        "\n",
        "jcjob_dataset = Dataset.get_by_name(workspace, name='JCJOB_TABLE_TN_prod')\n",
        "jcjob_df = jcjob_dataset.to_pandas_dataframe()"
      ],
      "outputs": [],
      "execution_count": 141,
      "metadata": {
        "gather": {
          "logged": 1697559606464
        }
      }
    },
    {
      "cell_type": "code",
      "source": [
        "#Filter out EEIDs sent via email - Need list from Ileana\n",
        "#Add EE Name to the excel file\n",
        "\n"
      ],
      "outputs": [],
      "execution_count": null,
      "metadata": {
        "jupyter": {
          "source_hidden": false,
          "outputs_hidden": false
        },
        "nteract": {
          "transient": {
            "deleting": false
          }
        }
      }
    },
    {
      "cell_type": "code",
      "source": [
        "##########################\n",
        "\n",
        "week_ending = '2023-10-14'\n",
        "\n",
        "##########################\n",
        "\n",
        "date = datetime.strptime(week_ending, \"%Y-%m-%d\")\n",
        "start_date = date - timedelta(days = 6)\n",
        "end_date = date"
      ],
      "outputs": [],
      "execution_count": 142,
      "metadata": {
        "jupyter": {
          "source_hidden": false,
          "outputs_hidden": false
        },
        "nteract": {
          "transient": {
            "deleting": false
          }
        },
        "gather": {
          "logged": 1697559618363
        }
      }
    },
    {
      "cell_type": "code",
      "source": [
        "tcp_df = tcp_df_dev.copy()"
      ],
      "outputs": [],
      "execution_count": 163,
      "metadata": {
        "jupyter": {
          "source_hidden": false,
          "outputs_hidden": false
        },
        "nteract": {
          "transient": {
            "deleting": false
          }
        },
        "gather": {
          "logged": 1697560464467
        }
      }
    },
    {
      "cell_type": "code",
      "source": [
        "###TCP Data Manipulation\n",
        "#Filter: Solar Jobs only \n",
        "tcp_df = tcp_df.loc[tcp_df['Job_Code'].str.startswith('710')]\n",
        "#Filter: Only Keeping Labor Hourly\n",
        "tcp_df = tcp_df.loc[tcp_df['Task'].isin(['LH','LHA'])]\n",
        "#Filter: Only keeping Moss Labor Hourly - excluding subs\n",
        "tcp_df = tcp_df.loc[tcp_df['Department']=='710']\n",
        "#Excluding this list of employees because they submit their time directly into Workday\n",
        "tcp_df = tcp_df.loc[tcp_df['Employee_Number'].notin()]\n",
        "#Creating a total hours column\n",
        "tcp_df['total_hours'] = tcp_df['Regular_Hours'] + tcp_df['Overtime_Hours']\n",
        "#Renaming Relevant Columns\n",
        "tcp_df = tcp_df.rename({'Employee_Number':'EEID','Job_Code':'Job','Activity':'Sub_Job','total_hours':'Hours'},axis='columns')\n",
        "tcp_cols_keep = ['EEID' , 'Date' , 'Job' , 'Sub_Job' , 'Hours']\n",
        "tcp_df_comp = tcp_df.loc[:,tcp_cols_keep]"
      ],
      "outputs": [],
      "execution_count": 153,
      "metadata": {
        "jupyter": {
          "source_hidden": false,
          "outputs_hidden": false
        },
        "nteract": {
          "transient": {
            "deleting": false
          }
        },
        "gather": {
          "logged": 1697559733275
        }
      }
    },
    {
      "cell_type": "code",
      "source": [
        "tcp_df"
      ],
      "outputs": [
        {
          "output_type": "execute_result",
          "execution_count": 164,
          "data": {
            "text/plain": "        WorkSegments_Timesheet_ID Employee_Number First_Name   Last_Name  \\\n0                               1           10000    ABRAHAN       SERNA   \n1                               2           10000    ABRAHAN       SERNA   \n2                               3           10000    ABRAHAN       SERNA   \n3                               4           10000    ABRAHAN       SERNA   \n4                               5           10000    ABRAHAN       SERNA   \n...                           ...             ...        ...         ...   \n831718                     831719            9999    ROLANDO  WASHINGTON   \n831719                     831720            9999    ROLANDO  WASHINGTON   \n831720                     831721            9999    ROLANDO  WASHINGTON   \n831721                     831722            9999    ROLANDO  WASHINGTON   \n831722                     831723            9999    ROLANDO  WASHINGTON   \n\n             Date Job_Code Activity  Phase_Code Task  Regular_Hours  \\\n0      2022-06-18  7102106       15  48.9908.00   LH            8.0   \n1      2022-06-08  7102106       15  48.9908.00   LH           10.0   \n2      2022-06-16  7102106       15  48.9908.00   LH           10.0   \n3      2022-06-07  7102106       15  48.9908.00   LH           10.0   \n4      2022-06-20  7102106       15  48.9908.00   LH           10.0   \n...           ...      ...      ...         ...  ...            ...   \n831718 2022-08-20  7102106       25  48.7005.00   LH            8.0   \n831719 2022-09-16  7102106       25  48.7005.00   LH            2.5   \n831720 2022-09-26  7102106       25  48.7005.00   LH           10.0   \n831721 2022-09-29  7102106       25  48.7005.00   LH           10.0   \n831722 2022-10-14  7102106       25  48.7005.00   LH            6.5   \n\n        Overtime_Hours  Pay_Rate Employee_Classification Department  \\\n0                  0.0      18.0                                710   \n1                  0.0      18.0                                710   \n2                  0.0      18.0                                710   \n3                  0.0      18.0                                710   \n4                  0.0      18.0                                710   \n...                ...       ...                     ...        ...   \n831718             0.0      18.5                                710   \n831719             0.0      18.5                                710   \n831720             0.0      18.5                                710   \n831721             0.0      18.5                                710   \n831722             0.0      18.5                                710   \n\n                                                FileName  \\\n0       export-WorkSegments-Timesheet Export - Jacob.csv   \n1       export-WorkSegments-Timesheet Export - Jacob.csv   \n2       export-WorkSegments-Timesheet Export - Jacob.csv   \n3       export-WorkSegments-Timesheet Export - Jacob.csv   \n4       export-WorkSegments-Timesheet Export - Jacob.csv   \n...                                                  ...   \n831718  export-WorkSegments-Timesheet Export - Jacob.csv   \n831719  export-WorkSegments-Timesheet Export - Jacob.csv   \n831720  export-WorkSegments-Timesheet Export - Jacob.csv   \n831721  export-WorkSegments-Timesheet Export - Jacob.csv   \n831722  export-WorkSegments-Timesheet Export - Jacob.csv   \n\n                  Created_Date  \n0      2023-10-17 09:31:20.570  \n1      2023-10-17 09:31:20.570  \n2      2023-10-17 09:31:20.570  \n3      2023-10-17 09:31:20.570  \n4      2023-10-17 09:31:20.570  \n...                        ...  \n831718 2023-10-17 09:31:20.570  \n831719 2023-10-17 09:31:20.570  \n831720 2023-10-17 09:31:20.570  \n831721 2023-10-17 09:31:20.570  \n831722 2023-10-17 09:31:20.570  \n\n[831723 rows x 16 columns]",
            "text/html": "<div>\n<style scoped>\n    .dataframe tbody tr th:only-of-type {\n        vertical-align: middle;\n    }\n\n    .dataframe tbody tr th {\n        vertical-align: top;\n    }\n\n    .dataframe thead th {\n        text-align: right;\n    }\n</style>\n<table border=\"1\" class=\"dataframe\">\n  <thead>\n    <tr style=\"text-align: right;\">\n      <th></th>\n      <th>WorkSegments_Timesheet_ID</th>\n      <th>Employee_Number</th>\n      <th>First_Name</th>\n      <th>Last_Name</th>\n      <th>Date</th>\n      <th>Job_Code</th>\n      <th>Activity</th>\n      <th>Phase_Code</th>\n      <th>Task</th>\n      <th>Regular_Hours</th>\n      <th>Overtime_Hours</th>\n      <th>Pay_Rate</th>\n      <th>Employee_Classification</th>\n      <th>Department</th>\n      <th>FileName</th>\n      <th>Created_Date</th>\n    </tr>\n  </thead>\n  <tbody>\n    <tr>\n      <th>0</th>\n      <td>1</td>\n      <td>10000</td>\n      <td>ABRAHAN</td>\n      <td>SERNA</td>\n      <td>2022-06-18</td>\n      <td>7102106</td>\n      <td>15</td>\n      <td>48.9908.00</td>\n      <td>LH</td>\n      <td>8.0</td>\n      <td>0.0</td>\n      <td>18.0</td>\n      <td></td>\n      <td>710</td>\n      <td>export-WorkSegments-Timesheet Export - Jacob.csv</td>\n      <td>2023-10-17 09:31:20.570</td>\n    </tr>\n    <tr>\n      <th>1</th>\n      <td>2</td>\n      <td>10000</td>\n      <td>ABRAHAN</td>\n      <td>SERNA</td>\n      <td>2022-06-08</td>\n      <td>7102106</td>\n      <td>15</td>\n      <td>48.9908.00</td>\n      <td>LH</td>\n      <td>10.0</td>\n      <td>0.0</td>\n      <td>18.0</td>\n      <td></td>\n      <td>710</td>\n      <td>export-WorkSegments-Timesheet Export - Jacob.csv</td>\n      <td>2023-10-17 09:31:20.570</td>\n    </tr>\n    <tr>\n      <th>2</th>\n      <td>3</td>\n      <td>10000</td>\n      <td>ABRAHAN</td>\n      <td>SERNA</td>\n      <td>2022-06-16</td>\n      <td>7102106</td>\n      <td>15</td>\n      <td>48.9908.00</td>\n      <td>LH</td>\n      <td>10.0</td>\n      <td>0.0</td>\n      <td>18.0</td>\n      <td></td>\n      <td>710</td>\n      <td>export-WorkSegments-Timesheet Export - Jacob.csv</td>\n      <td>2023-10-17 09:31:20.570</td>\n    </tr>\n    <tr>\n      <th>3</th>\n      <td>4</td>\n      <td>10000</td>\n      <td>ABRAHAN</td>\n      <td>SERNA</td>\n      <td>2022-06-07</td>\n      <td>7102106</td>\n      <td>15</td>\n      <td>48.9908.00</td>\n      <td>LH</td>\n      <td>10.0</td>\n      <td>0.0</td>\n      <td>18.0</td>\n      <td></td>\n      <td>710</td>\n      <td>export-WorkSegments-Timesheet Export - Jacob.csv</td>\n      <td>2023-10-17 09:31:20.570</td>\n    </tr>\n    <tr>\n      <th>4</th>\n      <td>5</td>\n      <td>10000</td>\n      <td>ABRAHAN</td>\n      <td>SERNA</td>\n      <td>2022-06-20</td>\n      <td>7102106</td>\n      <td>15</td>\n      <td>48.9908.00</td>\n      <td>LH</td>\n      <td>10.0</td>\n      <td>0.0</td>\n      <td>18.0</td>\n      <td></td>\n      <td>710</td>\n      <td>export-WorkSegments-Timesheet Export - Jacob.csv</td>\n      <td>2023-10-17 09:31:20.570</td>\n    </tr>\n    <tr>\n      <th>...</th>\n      <td>...</td>\n      <td>...</td>\n      <td>...</td>\n      <td>...</td>\n      <td>...</td>\n      <td>...</td>\n      <td>...</td>\n      <td>...</td>\n      <td>...</td>\n      <td>...</td>\n      <td>...</td>\n      <td>...</td>\n      <td>...</td>\n      <td>...</td>\n      <td>...</td>\n      <td>...</td>\n    </tr>\n    <tr>\n      <th>831718</th>\n      <td>831719</td>\n      <td>9999</td>\n      <td>ROLANDO</td>\n      <td>WASHINGTON</td>\n      <td>2022-08-20</td>\n      <td>7102106</td>\n      <td>25</td>\n      <td>48.7005.00</td>\n      <td>LH</td>\n      <td>8.0</td>\n      <td>0.0</td>\n      <td>18.5</td>\n      <td></td>\n      <td>710</td>\n      <td>export-WorkSegments-Timesheet Export - Jacob.csv</td>\n      <td>2023-10-17 09:31:20.570</td>\n    </tr>\n    <tr>\n      <th>831719</th>\n      <td>831720</td>\n      <td>9999</td>\n      <td>ROLANDO</td>\n      <td>WASHINGTON</td>\n      <td>2022-09-16</td>\n      <td>7102106</td>\n      <td>25</td>\n      <td>48.7005.00</td>\n      <td>LH</td>\n      <td>2.5</td>\n      <td>0.0</td>\n      <td>18.5</td>\n      <td></td>\n      <td>710</td>\n      <td>export-WorkSegments-Timesheet Export - Jacob.csv</td>\n      <td>2023-10-17 09:31:20.570</td>\n    </tr>\n    <tr>\n      <th>831720</th>\n      <td>831721</td>\n      <td>9999</td>\n      <td>ROLANDO</td>\n      <td>WASHINGTON</td>\n      <td>2022-09-26</td>\n      <td>7102106</td>\n      <td>25</td>\n      <td>48.7005.00</td>\n      <td>LH</td>\n      <td>10.0</td>\n      <td>0.0</td>\n      <td>18.5</td>\n      <td></td>\n      <td>710</td>\n      <td>export-WorkSegments-Timesheet Export - Jacob.csv</td>\n      <td>2023-10-17 09:31:20.570</td>\n    </tr>\n    <tr>\n      <th>831721</th>\n      <td>831722</td>\n      <td>9999</td>\n      <td>ROLANDO</td>\n      <td>WASHINGTON</td>\n      <td>2022-09-29</td>\n      <td>7102106</td>\n      <td>25</td>\n      <td>48.7005.00</td>\n      <td>LH</td>\n      <td>10.0</td>\n      <td>0.0</td>\n      <td>18.5</td>\n      <td></td>\n      <td>710</td>\n      <td>export-WorkSegments-Timesheet Export - Jacob.csv</td>\n      <td>2023-10-17 09:31:20.570</td>\n    </tr>\n    <tr>\n      <th>831722</th>\n      <td>831723</td>\n      <td>9999</td>\n      <td>ROLANDO</td>\n      <td>WASHINGTON</td>\n      <td>2022-10-14</td>\n      <td>7102106</td>\n      <td>25</td>\n      <td>48.7005.00</td>\n      <td>LH</td>\n      <td>6.5</td>\n      <td>0.0</td>\n      <td>18.5</td>\n      <td></td>\n      <td>710</td>\n      <td>export-WorkSegments-Timesheet Export - Jacob.csv</td>\n      <td>2023-10-17 09:31:20.570</td>\n    </tr>\n  </tbody>\n</table>\n<p>831723 rows × 16 columns</p>\n</div>"
          },
          "metadata": {}
        }
      ],
      "execution_count": 164,
      "metadata": {
        "jupyter": {
          "source_hidden": false,
          "outputs_hidden": false
        },
        "nteract": {
          "transient": {
            "deleting": false
          }
        },
        "gather": {
          "logged": 1697560466465
        }
      }
    },
    {
      "cell_type": "code",
      "source": [
        "wd_pr_df = wd_pr_df_dev.copy()"
      ],
      "outputs": [],
      "execution_count": 14,
      "metadata": {
        "jupyter": {
          "source_hidden": false,
          "outputs_hidden": false
        },
        "nteract": {
          "transient": {
            "deleting": false
          }
        },
        "gather": {
          "logged": 1697547870616
        }
      }
    },
    {
      "cell_type": "code",
      "source": [
        "#Workday Data Manipulation\n",
        "#Drop Null values if the employee does not have a job/sub job assignment\n",
        "wd_pr_df = wd_pr_df.loc[~wd_pr_df['cf_INTLRVCalculatedProjectFromTimeBlock.descriptor'].isna()]\n",
        "#Filter: Solar Jobs Only\n",
        "wd_pr_df = wd_pr_df.loc[wd_pr_df['cf_INTLRVCalculatedProjectFromTimeBlock.descriptor'].str.startswith('710')]\n",
        "#Extracting Employee ID (EEID) from 'Workers' column\n",
        "wd_pr_df['EEID'] = wd_pr_df['Workers'].str.split('(').str[1]\n",
        "wd_pr_df['EEID'] = wd_pr_df['EEID'].str.split(')').str[0]\n",
        "#This isolates the 2 digit sub job, also accomodates the sub jobs that have a letter in them like Claims (C) and Warranty (W)\n",
        "wd_pr_df['cf_INTLRVCalculatedProjectFromTimeBlock.descriptor'] = wd_pr_df['cf_INTLRVCalculatedProjectFromTimeBlock.descriptor'].str.replace('C' , '.C')\n",
        "wd_pr_df['cf_INTLRVCalculatedProjectFromTimeBlock.descriptor'] = wd_pr_df['cf_INTLRVCalculatedProjectFromTimeBlock.descriptor'].str.replace('W' , '.W')\n",
        "wd_pr_df['sub_job'] = wd_pr_df['cf_INTLRVCalculatedProjectFromTimeBlock.descriptor'].str.split('.').str[1]\n",
        "wd_pr_df['sub_job'] = wd_pr_df['sub_job'].str.split(' ').str[0]\n",
        "#Leaves behind Job ONLY\n",
        "wd_pr_df['job'] = wd_pr_df.loc[:,'cf_INTLRVCalculatedProjectFromTimeBlock.descriptor'].str[0:7]\n",
        "#Renaming Relevant Columns\n",
        "wd_pr_df = wd_pr_df.rename({'calculatedDate':'Date','job':'Job','sub_job':'Sub_Job','amount':'Hours'},axis='columns')\n",
        "wd_cols_keep = ['EEID' , 'Date' , 'Job' , 'Sub_Job' , 'Hours']\n",
        "wd_pr_df_comp = wd_pr_df.loc[:,wd_cols_keep]"
      ],
      "outputs": [],
      "execution_count": 15,
      "metadata": {
        "jupyter": {
          "source_hidden": false,
          "outputs_hidden": false
        },
        "nteract": {
          "transient": {
            "deleting": false
          }
        },
        "gather": {
          "logged": 1697547873488
        }
      }
    },
    {
      "cell_type": "code",
      "source": [
        "cmic_pr_df = cmic_pr_df_dev.copy()"
      ],
      "outputs": [],
      "execution_count": 16,
      "metadata": {
        "jupyter": {
          "source_hidden": false,
          "outputs_hidden": false
        },
        "nteract": {
          "transient": {
            "deleting": false
          }
        },
        "gather": {
          "logged": 1697547874344
        }
      }
    },
    {
      "cell_type": "code",
      "source": [
        "#CMiC Data Manipulation\n",
        "#Re-casting this column as a Date data type\n",
        "cmic_pr_df[\"Date\"] = pd.to_datetime(cmic_pr_df[\"Date\"])\n",
        "#Filter: Only Keeping Labor Hourly\n",
        "cmic_pr_df = cmic_pr_df.loc[cmic_pr_df['Task'].isin(['LH','LHA'])]\n",
        "#Renaming Relevant Columns\n",
        "cmic_pr_df = cmic_pr_df.rename({'Employee Number':'EEID','Job Code':'Job','Sub Job Code':'Sub_Job','Regular Hours':'Hours'},axis='columns')\n",
        "cmic_cols_keep = ['EEID' , 'Date' , 'Job' , 'Sub_Job' , 'Hours']\n",
        "cmic_pr_df_comp = cmic_pr_df.loc[:,cmic_cols_keep]"
      ],
      "outputs": [],
      "execution_count": 17,
      "metadata": {
        "jupyter": {
          "source_hidden": false,
          "outputs_hidden": false
        },
        "nteract": {
          "transient": {
            "deleting": false
          }
        },
        "gather": {
          "logged": 1697547876006
        }
      }
    },
    {
      "cell_type": "code",
      "source": [
        "#Date Filters\n",
        "tcp_filter = (tcp_df_comp['Date']>=start_date)&(tcp_df_comp['Date']<=end_date)\n",
        "cmic_filter = (cmic_pr_df_comp['Date']>=start_date)&(cmic_pr_df_comp['Date']<=end_date)\n",
        "wd_filter = (wd_pr_df_comp['Date']>=start_date)&(wd_pr_df_comp['Date']<=end_date)"
      ],
      "outputs": [],
      "execution_count": 18,
      "metadata": {
        "jupyter": {
          "source_hidden": false,
          "outputs_hidden": false
        },
        "nteract": {
          "transient": {
            "deleting": false
          }
        },
        "gather": {
          "logged": 1697547876611
        }
      }
    },
    {
      "cell_type": "markdown",
      "source": [
        "#### Grouping the Data by Different Levels"
      ],
      "metadata": {
        "nteract": {
          "transient": {
            "deleting": false
          }
        }
      }
    },
    {
      "cell_type": "code",
      "source": [
        "#Grouping by Job\n",
        "tcp_grouped_job = tcp_df_comp.loc[tcp_filter].groupby(['Job']).agg(TotalHours_TCP = pd.NamedAgg(column='Hours',aggfunc='sum'))\n",
        "tcp_grouped_job = tcp_grouped_job.reset_index()\n",
        "cmic_grouped_job = cmic_pr_df_comp.loc[cmic_filter].groupby(['Job']).agg(TotalHours_CMiC = pd.NamedAgg(column='Hours',aggfunc='sum'))\n",
        "cmic_grouped_job = cmic_grouped_job.reset_index()\n",
        "wd_grouped_job = wd_pr_df_comp.loc[wd_filter].groupby(['Job']).agg(TotalHours_WD = pd.NamedAgg(column='Hours',aggfunc='sum'))\n",
        "wd_grouped_job = wd_grouped_job.reset_index()"
      ],
      "outputs": [],
      "execution_count": 19,
      "metadata": {
        "jupyter": {
          "source_hidden": false,
          "outputs_hidden": false
        },
        "nteract": {
          "transient": {
            "deleting": false
          }
        },
        "gather": {
          "logged": 1697547879009
        }
      }
    },
    {
      "cell_type": "code",
      "source": [
        "#Grouping by Job, Sub Job\n",
        "tcp_grouped_subjob = tcp_df_comp.loc[tcp_filter].groupby(['Job','Sub_Job']).agg(TotalHours_TCP = pd.NamedAgg(column='Hours',aggfunc='sum'))\n",
        "tcp_grouped_subjob = tcp_grouped_subjob.reset_index()\n",
        "cmic_grouped_subjob = cmic_pr_df_comp.loc[cmic_filter].groupby(['Job','Sub_Job']).agg(TotalHours_CMiC = pd.NamedAgg(column='Hours',aggfunc='sum'))\n",
        "cmic_grouped_subjob = cmic_grouped_subjob.reset_index()\n",
        "wd_grouped_subjob = wd_pr_df_comp.loc[wd_filter].groupby(['Job','Sub_Job']).agg(TotalHours_WD = pd.NamedAgg(column='Hours',aggfunc='sum'))\n",
        "wd_grouped_subjob = wd_grouped_subjob.reset_index()"
      ],
      "outputs": [],
      "execution_count": 20,
      "metadata": {
        "jupyter": {
          "source_hidden": false,
          "outputs_hidden": false
        },
        "nteract": {
          "transient": {
            "deleting": false
          }
        },
        "gather": {
          "logged": 1697547880073
        }
      }
    },
    {
      "cell_type": "code",
      "source": [
        "#Grouping by Job, Sub Job, EEID\n",
        "tcp_grouped_ee = tcp_df_comp.loc[tcp_filter].groupby(['EEID']).agg(TotalHours_TCP = pd.NamedAgg(column='Hours',aggfunc='sum'))\n",
        "tcp_grouped_ee = tcp_grouped_ee.reset_index()\n",
        "cmic_grouped_ee = cmic_pr_df_comp.loc[cmic_filter].groupby(['EEID']).agg(TotalHours_CMiC = pd.NamedAgg(column='Hours',aggfunc='sum'))\n",
        "cmic_grouped_ee = cmic_grouped_ee.reset_index()\n",
        "wd_grouped_ee = wd_pr_df_comp.loc[wd_filter].groupby(['EEID']).agg(TotalHours_WD = pd.NamedAgg(column='Hours',aggfunc='sum'))\n",
        "wd_grouped_ee = wd_grouped_ee.reset_index()"
      ],
      "outputs": [],
      "execution_count": 21,
      "metadata": {
        "jupyter": {
          "source_hidden": false,
          "outputs_hidden": false
        },
        "nteract": {
          "transient": {
            "deleting": false
          }
        },
        "gather": {
          "logged": 1697547881084
        }
      }
    },
    {
      "cell_type": "markdown",
      "source": [
        "#### Unique Column Creation for the Joins"
      ],
      "metadata": {
        "nteract": {
          "transient": {
            "deleting": false
          }
        }
      }
    },
    {
      "cell_type": "code",
      "source": [
        "#Unique Columns to Join On for Sub Job Comparison\n",
        "tcp_grouped_subjob['unique'] = tcp_grouped_subjob[['Job','Sub_Job']].apply(lambda x: ' - '.join(str(value) for value in x), axis=1)\n",
        "cmic_grouped_subjob['unique'] = cmic_grouped_subjob[['Job','Sub_Job']].apply(lambda x: ' - '.join(str(value) for value in x), axis=1)\n",
        "wd_grouped_subjob['unique'] = wd_grouped_subjob[['Job','Sub_Job']].apply(lambda x: ' - '.join(str(value) for value in x), axis=1)"
      ],
      "outputs": [],
      "execution_count": 22,
      "metadata": {
        "jupyter": {
          "source_hidden": false,
          "outputs_hidden": false
        },
        "nteract": {
          "transient": {
            "deleting": false
          }
        },
        "gather": {
          "logged": 1697547882451
        }
      }
    },
    {
      "cell_type": "markdown",
      "source": [
        "#### TCP vs. Workday Comparison"
      ],
      "metadata": {
        "nteract": {
          "transient": {
            "deleting": false
          }
        }
      }
    },
    {
      "cell_type": "code",
      "source": [
        "#TCP v. WD Job\n",
        "tcp_v_wd_job = tcp_grouped_job.merge(wd_grouped_job , how = 'outer' , on = 'Job' , suffixes = ['_TCP','_WD'])\n",
        "#NaN Hours will be filled with 0\n",
        "tcp_v_wd_job['TotalHours_WD'] = tcp_v_wd_job['TotalHours_WD'].fillna(0)\n",
        "tcp_v_wd_job['TotalHours_TCP'] = tcp_v_wd_job['TotalHours_TCP'].fillna(0)\n",
        "tcp_v_wd_job['Hours_Variance (TCP - WD)'] = tcp_v_wd_job['TotalHours_TCP'] - tcp_v_wd_job['TotalHours_WD']\n",
        "tcp_v_wd_job = tcp_v_wd_job.sort_values(['Job'  , 'Hours_Variance (TCP - WD)'] , ascending=[False,False])"
      ],
      "outputs": [],
      "execution_count": 23,
      "metadata": {
        "jupyter": {
          "source_hidden": false,
          "outputs_hidden": false
        },
        "nteract": {
          "transient": {
            "deleting": false
          }
        },
        "gather": {
          "logged": 1697547886412
        }
      }
    },
    {
      "cell_type": "code",
      "source": [
        "#TCP v. WD Job, Sub Job\n",
        "tcp_v_wd_subjob = tcp_grouped_subjob.merge(wd_grouped_subjob , how = 'outer' , on = 'unique' , suffixes = ['_TCP','_WD']).drop(columns =['unique'])\n",
        "#NaN Hours will be filled with 0\n",
        "tcp_v_wd_subjob['TotalHours_WD'] = tcp_v_wd_subjob['TotalHours_WD'].fillna(0)\n",
        "tcp_v_wd_subjob['TotalHours_TCP'] = tcp_v_wd_subjob['TotalHours_TCP'].fillna(0)\n",
        "tcp_v_wd_subjob['Hours_Variance (TCP - WD)'] = tcp_v_wd_subjob['TotalHours_TCP'] - tcp_v_wd_subjob['TotalHours_WD']\n",
        "tcp_v_wd_subjob = tcp_v_wd_subjob.sort_values(['Job_TCP' , 'Sub_Job_TCP' , 'Hours_Variance (TCP - WD)'] , ascending=[False,True,False])"
      ],
      "outputs": [],
      "execution_count": 24,
      "metadata": {
        "jupyter": {
          "source_hidden": false,
          "outputs_hidden": false
        },
        "nteract": {
          "transient": {
            "deleting": false
          }
        },
        "gather": {
          "logged": 1697547887390
        }
      }
    },
    {
      "cell_type": "code",
      "source": [
        "#TCP v. WD Job, Sub Job, EEID\n",
        "### Commented out for EEID Comparison Only - uncomment out to compare EEID by Job and Sub Job\n",
        "#tcp_v_wd_ee = tcp_grouped_ee.merge(wd_grouped_ee , how = 'outer' , on = 'unique' , suffixes = ['_TCP','_WD']).drop(columns =['unique'])\n",
        "tcp_v_wd_ee = tcp_grouped_ee.merge(wd_grouped_ee , how = 'outer' , on = 'EEID' , suffixes = ['_TCP','_WD'])\n",
        "#NaN Hours will be filled with 0\n",
        "tcp_v_wd_ee['TotalHours_WD'] = tcp_v_wd_ee['TotalHours_WD'].fillna(0)\n",
        "tcp_v_wd_ee['TotalHours_TCP'] = tcp_v_wd_ee['TotalHours_TCP'].fillna(0)\n",
        "tcp_v_wd_ee['Hours_Variance (TCP - WD)'] = tcp_v_wd_ee['TotalHours_TCP'] - tcp_v_wd_ee['TotalHours_WD']\n",
        "tcp_v_wd_ee = tcp_v_wd_ee.sort_values('Hours_Variance (TCP - WD)' , ascending=False, key=abs)\n",
        "#Removing Variances that are 0 - excluding EEIDs that match\n",
        "tcp_v_wd_ee = tcp_v_wd_ee.loc[tcp_v_wd_ee['Hours_Variance (TCP - WD)'] != 0.0]"
      ],
      "outputs": [],
      "execution_count": 25,
      "metadata": {
        "jupyter": {
          "source_hidden": false,
          "outputs_hidden": false
        },
        "nteract": {
          "transient": {
            "deleting": false
          }
        },
        "gather": {
          "logged": 1697547888117
        }
      }
    },
    {
      "cell_type": "markdown",
      "source": [
        "#### TCP vs. CMiC Comparison"
      ],
      "metadata": {
        "nteract": {
          "transient": {
            "deleting": false
          }
        }
      }
    },
    {
      "cell_type": "code",
      "source": [
        "#TCP v CMiC Job\n",
        "tcp_v_cmic_job = tcp_grouped_job.merge(cmic_grouped_job , how = 'outer' , on = 'Job' , suffixes = ['','_CMiC'])\n",
        "#NaN Hours will be filled with 0\n",
        "tcp_v_cmic_job['TotalHours_CMiC'] = tcp_v_cmic_job['TotalHours_CMiC'].fillna(0)\n",
        "tcp_v_cmic_job['TotalHours_TCP'] = tcp_v_cmic_job['TotalHours_TCP'].fillna(0)\n",
        "tcp_v_cmic_job['Hours_Variance (TCP - CMiC)'] = tcp_v_cmic_job['TotalHours_TCP'] - tcp_v_cmic_job['TotalHours_CMiC']\n",
        "tcp_v_cmic_job = tcp_v_cmic_job.sort_values(['Job' , 'Hours_Variance (TCP - CMiC)'], ascending=[False, False])"
      ],
      "outputs": [],
      "execution_count": 26,
      "metadata": {
        "jupyter": {
          "source_hidden": false,
          "outputs_hidden": false
        },
        "nteract": {
          "transient": {
            "deleting": false
          }
        },
        "gather": {
          "logged": 1697547889503
        }
      }
    },
    {
      "cell_type": "code",
      "source": [
        "#TCP v CMiC Job, Sub Job\n",
        "tcp_v_cmic_subjob = tcp_grouped_subjob.merge(cmic_grouped_subjob , how = 'outer' , on = 'unique' , suffixes = ['','_CMiC']).drop(columns =['unique'])\n",
        "#NaN Hours will be filled with 0\n",
        "tcp_v_cmic_subjob['TotalHours_CMiC'] = tcp_v_cmic_subjob['TotalHours_CMiC'].fillna(0)\n",
        "tcp_v_cmic_subjob['TotalHours_TCP'] = tcp_v_cmic_subjob['TotalHours_TCP'].fillna(0)\n",
        "tcp_v_cmic_subjob['Hours_Variance (TCP - CMiC)'] = tcp_v_cmic_subjob['TotalHours_TCP'] - tcp_v_cmic_subjob['TotalHours_CMiC']\n",
        "tcp_v_cmic_subjob = tcp_v_cmic_subjob.sort_values(['Job' , 'Sub_Job', 'Hours_Variance (TCP - CMiC)'], ascending=[False, True, False])"
      ],
      "outputs": [],
      "execution_count": 27,
      "metadata": {
        "jupyter": {
          "source_hidden": false,
          "outputs_hidden": false
        },
        "nteract": {
          "transient": {
            "deleting": false
          }
        },
        "gather": {
          "logged": 1697547890426
        }
      }
    },
    {
      "cell_type": "code",
      "source": [
        "#TCP v CMiC Job, Sub Job, EEID\n",
        "### Commented out for EEID Comparison Only - uncomment out to compare EEID by Job and Sub Job\n",
        "#tcp_v_cmic_ee = tcp_grouped_ee.merge(cmic_grouped_ee , how = 'outer' , on = 'unique' , suffixes = ['','_CMiC']).drop(columns =['unique'])\n",
        "tcp_v_cmic_ee = tcp_grouped_ee.merge(cmic_grouped_ee , how = 'outer' , on = 'EEID' , suffixes = ['','_CMiC'])\n",
        "#NaN Hours will be filled with 0\n",
        "tcp_v_cmic_ee['TotalHours_CMiC'] = tcp_v_cmic_ee['TotalHours_CMiC'].fillna(0)\n",
        "tcp_v_cmic_ee['TotalHours_TCP'] = tcp_v_cmic_ee['TotalHours_TCP'].fillna(0)\n",
        "tcp_v_cmic_ee['Hours_Variance (TCP - CMiC)'] = tcp_v_cmic_ee['TotalHours_TCP'] - tcp_v_cmic_ee['TotalHours_CMiC']\n",
        "tcp_v_cmic_ee = tcp_v_cmic_ee.sort_values('Hours_Variance (TCP - CMiC)', ascending=False, key=abs)\n",
        "#Filter down to relevant columns only"
      ],
      "outputs": [],
      "execution_count": 28,
      "metadata": {
        "jupyter": {
          "source_hidden": false,
          "outputs_hidden": false
        },
        "nteract": {
          "transient": {
            "deleting": false
          }
        },
        "gather": {
          "logged": 1697547891096
        }
      }
    },
    {
      "cell_type": "markdown",
      "source": [
        "#### Workday vs. CMiC Comparison"
      ],
      "metadata": {
        "nteract": {
          "transient": {
            "deleting": false
          }
        }
      }
    },
    {
      "cell_type": "code",
      "source": [
        "#WD v. CMiC EEID\n",
        "wd_v_cmic_job = wd_grouped_job.merge(cmic_grouped_job , how = 'outer' , on = 'Job' , suffixes = ['_WD','_CMiC'])\n",
        "#NaN Hours will be filled with 0\n",
        "wd_v_cmic_job['TotalHours_CMiC'] = wd_v_cmic_job['TotalHours_CMiC'].fillna(0)\n",
        "wd_v_cmic_job['TotalHours_WD'] = wd_v_cmic_job['TotalHours_WD'].fillna(0)\n",
        "wd_v_cmic_job['Hours_Variance (WD - CMiC)'] = wd_v_cmic_job['TotalHours_WD'] - wd_v_cmic_job['TotalHours_CMiC']\n",
        "wd_v_cmic_job = wd_v_cmic_job.sort_values(['Job' , 'Hours_Variance (WD - CMiC)'], ascending=[False,False])"
      ],
      "outputs": [],
      "execution_count": 29,
      "metadata": {
        "jupyter": {
          "source_hidden": false,
          "outputs_hidden": false
        },
        "nteract": {
          "transient": {
            "deleting": false
          }
        },
        "gather": {
          "logged": 1697547893080
        }
      }
    },
    {
      "cell_type": "code",
      "source": [
        "#WD v. CMiC Job, Sub Job\n",
        "wd_v_cmic_subjob = wd_grouped_subjob.merge(cmic_grouped_subjob , how = 'outer' , on = 'unique' , suffixes = ['_WD','_CMiC']).drop(columns =['unique'])\n",
        "#NaN Hours will be filled with 0\n",
        "wd_v_cmic_subjob['TotalHours_CMiC'] = wd_v_cmic_subjob['TotalHours_CMiC'].fillna(0)\n",
        "wd_v_cmic_subjob['TotalHours_WD'] = wd_v_cmic_subjob['TotalHours_WD'].fillna(0)\n",
        "wd_v_cmic_subjob['Hours_Variance (WD - CMiC)'] = wd_v_cmic_subjob['TotalHours_WD'] - wd_v_cmic_subjob['TotalHours_CMiC']\n",
        "wd_v_cmic_subjob = wd_v_cmic_subjob.sort_values(['Job_WD' , 'Sub_Job_WD' , 'Hours_Variance (WD - CMiC)'], ascending=[False,True,False])"
      ],
      "outputs": [],
      "execution_count": 30,
      "metadata": {
        "jupyter": {
          "source_hidden": false,
          "outputs_hidden": false
        },
        "nteract": {
          "transient": {
            "deleting": false
          }
        },
        "gather": {
          "logged": 1697547894232
        }
      }
    },
    {
      "cell_type": "code",
      "source": [
        "#WD v. CMiC Job, Sub Job, EEID\n",
        "### Commented out for EEID Comparison Only - uncomment out to compare EEID by Job and Sub Job\n",
        "#wd_v_cmic_ee = wd_grouped_ee.merge(cmic_grouped_ee , how = 'outer' , on = 'unique' , suffixes = ['_WD','_CMiC']).drop(columns =['unique'])\n",
        "wd_v_cmic_ee = wd_grouped_ee.merge(cmic_grouped_ee , how = 'outer' , on = 'EEID' , suffixes = ['_WD','_CMiC'])\n",
        "#NaN Hours will be filled with 0\n",
        "wd_v_cmic_ee['TotalHours_CMiC'] = wd_v_cmic_ee['TotalHours_CMiC'].fillna(0)\n",
        "wd_v_cmic_ee['TotalHours_WD'] = wd_v_cmic_ee['TotalHours_WD'].fillna(0)\n",
        "wd_v_cmic_ee['Hours_Variance (WD - CMiC)'] = wd_v_cmic_ee['TotalHours_WD'] - wd_v_cmic_ee['TotalHours_CMiC']\n",
        "wd_v_cmic_ee = wd_v_cmic_ee.sort_values('Hours_Variance (WD - CMiC)', ascending=False , key=abs)\n",
        "#Filter down to relevant columns only"
      ],
      "outputs": [],
      "execution_count": 31,
      "metadata": {
        "jupyter": {
          "source_hidden": false,
          "outputs_hidden": false
        },
        "nteract": {
          "transient": {
            "deleting": false
          }
        },
        "gather": {
          "logged": 1697547895542
        }
      }
    },
    {
      "cell_type": "code",
      "source": [
        "file_path = os.getcwd() + '/excel_output'\n",
        "file_path"
      ],
      "outputs": [
        {
          "output_type": "execute_result",
          "execution_count": 32,
          "data": {
            "text/plain": "'/mnt/batch/tasks/shared/LS_root/mounts/clusters/jbeachy2/code/Users/JBeachy/Project_DataDomain/Payroll/git_LaborHours_Compare/excel_output'"
          },
          "metadata": {}
        }
      ],
      "execution_count": 32,
      "metadata": {
        "jupyter": {
          "source_hidden": false,
          "outputs_hidden": false
        },
        "nteract": {
          "transient": {
            "deleting": false
          }
        },
        "gather": {
          "logged": 1697548073092
        }
      }
    },
    {
      "cell_type": "code",
      "source": [
        "#File Path in AMLS\n",
        "file_name = f'Hours_Comparison_WeekEnding_{week_ending}'\n",
        "#Writing to AMLS File Directory\n",
        "with pd.ExcelWriter(f'{file_path}/{file_name}.xlsx') as writer:\n",
        "    tcp_v_wd_job.to_excel(writer , sheet_name = 'TCPvWD_Hours_byJob' , index = False)\n",
        "    tcp_v_wd_subjob.to_excel(writer , sheet_name = 'TCPvWD_Hours_bySubJob' , index = False)\n",
        "    tcp_v_wd_ee.to_excel(writer , sheet_name = 'TCPvWD_Hours_byEE' , index = False)\n",
        "    tcp_v_cmic_job.to_excel(writer , sheet_name = 'TCPvCMiC_Hours_byJob' , index = False)\n",
        "    tcp_v_cmic_subjob.to_excel(writer , sheet_name = 'TCPvCMiC_Hours_bySubJob' , index = False)\n",
        "    tcp_v_cmic_ee.to_excel(writer , sheet_name = 'TCPvCMiC_Hours_byEE' , index = False)\n",
        "    wd_v_cmic_job.to_excel(writer , sheet_name = 'WDvCMiC_Hours_byJob' , index = False)\n",
        "    wd_v_cmic_subjob.to_excel(writer , sheet_name = 'WDvCMiC_Hours_bySubJob' , index = False)\n",
        "    wd_v_cmic_ee.to_excel(writer , sheet_name = 'WDvCMiC_Hours_byEE' , index = False)"
      ],
      "outputs": [],
      "execution_count": 33,
      "metadata": {
        "jupyter": {
          "source_hidden": false,
          "outputs_hidden": false
        },
        "nteract": {
          "transient": {
            "deleting": false
          }
        },
        "gather": {
          "logged": 1697548076005
        }
      }
    },
    {
      "cell_type": "code",
      "source": [
        "#Blob Storage Info\n",
        "storage_account_key = 'u46QXBaayH/rWljcqPTWZTNgFdGHo9zH4I0OLWgDi4oa2inkpjVwTbp74C+ISDC2oWtNlrcr69Ec+ASt5wV1PA=='\n",
        "storage_account_name = 'mossdatalakesource'\n",
        "connection_string = 'DefaultEndpointsProtocol=https;AccountName=mossdatalakesource;AccountKey=u46QXBaayH/rWljcqPTWZTNgFdGHo9zH4I0OLWgDi4oa2inkpjVwTbp74C+ISDC2oWtNlrcr69Ec+ASt5wV1PA==;EndpointSuffix=core.windows.net'\n",
        "container_name = 'cmic'\n",
        "#Defininng Blob Storage Uplpoad#\n",
        "def uploadtoblobstorage(file_path,file_name):\n",
        "    blob_service_client = BlobServiceClient.from_connection_string(connection_string)\n",
        "    blob_client = blob_service_client.get_blob_client(container = container_name , blob = file_name)\n",
        "\n",
        "    with open(file_path , 'rb') as data:\n",
        "        blob_client.upload_blob(data)\n",
        "    print(f'Uploaded {file_name}.')"
      ],
      "outputs": [],
      "execution_count": 34,
      "metadata": {
        "jupyter": {
          "source_hidden": false,
          "outputs_hidden": false
        },
        "nteract": {
          "transient": {
            "deleting": false
          }
        },
        "gather": {
          "logged": 1697548078070
        }
      }
    },
    {
      "cell_type": "code",
      "source": [
        "file_name_exp = f'{file_name}.xlsx'\n",
        "uploadtoblobstorage(f'{file_path}/{file_name}.xlsx', file_name_exp)"
      ],
      "outputs": [
        {
          "output_type": "stream",
          "name": "stdout",
          "text": "Uploaded Hours_Comparison_WeekEnding_2023-10-14.xlsx.\n"
        }
      ],
      "execution_count": 35,
      "metadata": {
        "jupyter": {
          "source_hidden": false,
          "outputs_hidden": false
        },
        "nteract": {
          "transient": {
            "deleting": false
          }
        },
        "gather": {
          "logged": 1697548081174
        }
      }
    },
    {
      "cell_type": "markdown",
      "source": [
        "#### Run Statistics "
      ],
      "metadata": {
        "nteract": {
          "transient": {
            "deleting": false
          }
        }
      }
    },
    {
      "cell_type": "code",
      "source": [
        "#### TCP vs. Workday Stats\n",
        "today = date.today()\n",
        "today_timechange = today - timedelta(hours=4)\n",
        "today_for_text = today_timechange.strftime(\"%m-%d-%Y %H:%M:%S\")\n",
        "print(\"TCP vs. Workday\")\n",
        "print(\"Count of EEIDs that are showing Zero Hours Worked in Workday: \" , len(tcp_v_wd_ee.loc[tcp_v_wd_ee['TotalHours_WD'] == 0]))\n",
        "print(\"Count of EEIDs that are showing Zero Hours Worked in TCP: \" , len(tcp_v_wd_ee.loc[tcp_v_wd_ee['TotalHours_TCP'] == 0]))\n",
        "print(\"Count of EEIDs with a variance less than 10 hours(ABS), not including 0: \", len(tcp_v_wd_ee.loc[(tcp_v_wd_ee['Hours_Variance (TCP - WD)']< 10)&(tcp_v_wd_ee['Hours_Variance (TCP - WD)'] >-10)&(tcp_v_wd_ee['Hours_Variance (TCP - WD)'] != 0)]))\n",
        "print(\"Count of EEIDs with no variance in Hours Worked: \" , len(tcp_v_wd_ee.loc[tcp_v_wd_ee['Hours_Variance (TCP - WD)'] == 0]))\n",
        "print(\"Count of EEIDs with variance greater than or equal to 10(ABS): \",len(tcp_v_wd_ee.loc[(tcp_v_wd_ee['Hours_Variance (TCP - WD)']>=10)|(tcp_v_wd_ee['Hours_Variance (TCP - WD)']<=-10)]))\n",
        "print(f\"Ran on {today_for_text} for Week Ending {week_ending}\")"
      ],
      "outputs": [
        {
          "output_type": "stream",
          "name": "stdout",
          "text": "TCP vs. Workday\nCount of EEIDs that are showing Zero Hours Worked in Workday:  254\nCount of EEIDs that are showing Zero Hours Worked in TCP:  13\nCount of EEIDs with a variance less than 10 hours(ABS), not including 0:  6\nCount of EEIDs with no variance in Hours Worked:  2562\nCount of EEIDs with variance greater than or equal to 10(ABS):  258\nRan on 10-17-2023 10:33:33 for Week Ending 2023-10-14\n"
        }
      ],
      "execution_count": 104,
      "metadata": {
        "jupyter": {
          "source_hidden": false,
          "outputs_hidden": false
        },
        "nteract": {
          "transient": {
            "deleting": false
          }
        },
        "gather": {
          "logged": 1697553214573
        }
      }
    }
  ],
  "metadata": {
    "kernelspec": {
      "name": "python310-sdkv2",
      "language": "python",
      "display_name": "Python 3.10 - SDK v2"
    },
    "language_info": {
      "name": "python",
      "version": "3.10.11",
      "mimetype": "text/x-python",
      "codemirror_mode": {
        "name": "ipython",
        "version": 3
      },
      "pygments_lexer": "ipython3",
      "nbconvert_exporter": "python",
      "file_extension": ".py"
    },
    "microsoft": {
      "ms_spell_check": {
        "ms_spell_check_language": "en"
      },
      "host": {
        "AzureML": {
          "notebookHasBeenCompleted": true
        }
      }
    },
    "kernel_info": {
      "name": "python310-sdkv2"
    },
    "nteract": {
      "version": "nteract-front-end@1.0.0"
    }
  },
  "nbformat": 4,
  "nbformat_minor": 2
}